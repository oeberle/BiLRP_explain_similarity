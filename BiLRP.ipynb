{
  "nbformat": 4,
  "nbformat_minor": 0,
  "metadata": {
    "colab": {
      "name": "BiLRP.ipynb",
      "provenance": [],
      "authorship_tag": "ABX9TyMIUU+iwfq1QUO7AX+JcfTh",
      "include_colab_link": true
    },
    "kernelspec": {
      "name": "python3",
      "display_name": "Python 3"
    },
    "language_info": {
      "name": "python"
    },
    "accelerator": "GPU",
    "gpuClass": "standard",
    "widgets": {
      "application/vnd.jupyter.widget-state+json": {
        "b1434887e916480ea2b5a7f20f7dbafe": {
          "model_module": "@jupyter-widgets/controls",
          "model_name": "VBoxModel",
          "model_module_version": "1.5.0",
          "state": {
            "_dom_classes": [
              "widget-interact"
            ],
            "_model_module": "@jupyter-widgets/controls",
            "_model_module_version": "1.5.0",
            "_model_name": "VBoxModel",
            "_view_count": null,
            "_view_module": "@jupyter-widgets/controls",
            "_view_module_version": "1.5.0",
            "_view_name": "VBoxView",
            "box_style": "",
            "children": [
              "IPY_MODEL_7d6bee15e4514260ab77c102b2b8e069",
              "IPY_MODEL_d6d4113de02a4bda895dcdde2ab99a2c"
            ],
            "layout": "IPY_MODEL_91dc64047da84547a337fed86c5f15e2"
          }
        },
        "7d6bee15e4514260ab77c102b2b8e069": {
          "model_module": "@jupyter-widgets/controls",
          "model_name": "DropdownModel",
          "model_module_version": "1.5.0",
          "state": {
            "_dom_classes": [],
            "_model_module": "@jupyter-widgets/controls",
            "_model_module_version": "1.5.0",
            "_model_name": "DropdownModel",
            "_options_labels": [
              "0.jpg",
              "1.jpg"
            ],
            "_view_count": null,
            "_view_module": "@jupyter-widgets/controls",
            "_view_module_version": "1.5.0",
            "_view_name": "DropdownView",
            "description": "ref_image",
            "description_tooltip": null,
            "disabled": false,
            "index": 0,
            "layout": "IPY_MODEL_b93894eb7aea41608eecb7024f006997",
            "style": "IPY_MODEL_11e27bef501640d4890ce33fa04164d4"
          }
        },
        "d6d4113de02a4bda895dcdde2ab99a2c": {
          "model_module": "@jupyter-widgets/output",
          "model_name": "OutputModel",
          "model_module_version": "1.0.0",
          "state": {
            "_dom_classes": [],
            "_model_module": "@jupyter-widgets/output",
            "_model_module_version": "1.0.0",
            "_model_name": "OutputModel",
            "_view_count": null,
            "_view_module": "@jupyter-widgets/output",
            "_view_module_version": "1.0.0",
            "_view_name": "OutputView",
            "layout": "IPY_MODEL_5438e1fc9a094fe6bde3c77e337cab71",
            "msg_id": "",
            "outputs": [
              {
                "output_type": "display_data",
                "data": {
                  "text/plain": "<IPython.core.display.Image object>",
                  "image/jpeg": "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\n"
                },
                "metadata": {}
              },
              {
                "output_type": "display_data",
                "data": {
                  "text/plain": "'0.jpg'",
                  "application/vnd.google.colaboratory.intrinsic+json": {
                    "type": "string"
                  }
                },
                "metadata": {}
              }
            ]
          }
        },
        "91dc64047da84547a337fed86c5f15e2": {
          "model_module": "@jupyter-widgets/base",
          "model_name": "LayoutModel",
          "model_module_version": "1.2.0",
          "state": {
            "_model_module": "@jupyter-widgets/base",
            "_model_module_version": "1.2.0",
            "_model_name": "LayoutModel",
            "_view_count": null,
            "_view_module": "@jupyter-widgets/base",
            "_view_module_version": "1.2.0",
            "_view_name": "LayoutView",
            "align_content": null,
            "align_items": null,
            "align_self": null,
            "border": null,
            "bottom": null,
            "display": null,
            "flex": null,
            "flex_flow": null,
            "grid_area": null,
            "grid_auto_columns": null,
            "grid_auto_flow": null,
            "grid_auto_rows": null,
            "grid_column": null,
            "grid_gap": null,
            "grid_row": null,
            "grid_template_areas": null,
            "grid_template_columns": null,
            "grid_template_rows": null,
            "height": null,
            "justify_content": null,
            "justify_items": null,
            "left": null,
            "margin": null,
            "max_height": null,
            "max_width": null,
            "min_height": null,
            "min_width": null,
            "object_fit": null,
            "object_position": null,
            "order": null,
            "overflow": null,
            "overflow_x": null,
            "overflow_y": null,
            "padding": null,
            "right": null,
            "top": null,
            "visibility": null,
            "width": null
          }
        },
        "b93894eb7aea41608eecb7024f006997": {
          "model_module": "@jupyter-widgets/base",
          "model_name": "LayoutModel",
          "model_module_version": "1.2.0",
          "state": {
            "_model_module": "@jupyter-widgets/base",
            "_model_module_version": "1.2.0",
            "_model_name": "LayoutModel",
            "_view_count": null,
            "_view_module": "@jupyter-widgets/base",
            "_view_module_version": "1.2.0",
            "_view_name": "LayoutView",
            "align_content": null,
            "align_items": null,
            "align_self": null,
            "border": null,
            "bottom": null,
            "display": null,
            "flex": null,
            "flex_flow": null,
            "grid_area": null,
            "grid_auto_columns": null,
            "grid_auto_flow": null,
            "grid_auto_rows": null,
            "grid_column": null,
            "grid_gap": null,
            "grid_row": null,
            "grid_template_areas": null,
            "grid_template_columns": null,
            "grid_template_rows": null,
            "height": null,
            "justify_content": null,
            "justify_items": null,
            "left": null,
            "margin": null,
            "max_height": null,
            "max_width": null,
            "min_height": null,
            "min_width": null,
            "object_fit": null,
            "object_position": null,
            "order": null,
            "overflow": null,
            "overflow_x": null,
            "overflow_y": null,
            "padding": null,
            "right": null,
            "top": null,
            "visibility": null,
            "width": null
          }
        },
        "11e27bef501640d4890ce33fa04164d4": {
          "model_module": "@jupyter-widgets/controls",
          "model_name": "DescriptionStyleModel",
          "model_module_version": "1.5.0",
          "state": {
            "_model_module": "@jupyter-widgets/controls",
            "_model_module_version": "1.5.0",
            "_model_name": "DescriptionStyleModel",
            "_view_count": null,
            "_view_module": "@jupyter-widgets/base",
            "_view_module_version": "1.2.0",
            "_view_name": "StyleView",
            "description_width": ""
          }
        },
        "5438e1fc9a094fe6bde3c77e337cab71": {
          "model_module": "@jupyter-widgets/base",
          "model_name": "LayoutModel",
          "model_module_version": "1.2.0",
          "state": {
            "_model_module": "@jupyter-widgets/base",
            "_model_module_version": "1.2.0",
            "_model_name": "LayoutModel",
            "_view_count": null,
            "_view_module": "@jupyter-widgets/base",
            "_view_module_version": "1.2.0",
            "_view_name": "LayoutView",
            "align_content": null,
            "align_items": null,
            "align_self": null,
            "border": null,
            "bottom": null,
            "display": null,
            "flex": null,
            "flex_flow": null,
            "grid_area": null,
            "grid_auto_columns": null,
            "grid_auto_flow": null,
            "grid_auto_rows": null,
            "grid_column": null,
            "grid_gap": null,
            "grid_row": null,
            "grid_template_areas": null,
            "grid_template_columns": null,
            "grid_template_rows": null,
            "height": null,
            "justify_content": null,
            "justify_items": null,
            "left": null,
            "margin": null,
            "max_height": null,
            "max_width": null,
            "min_height": null,
            "min_width": null,
            "object_fit": null,
            "object_position": null,
            "order": null,
            "overflow": null,
            "overflow_x": null,
            "overflow_y": null,
            "padding": null,
            "right": null,
            "top": null,
            "visibility": null,
            "width": null
          }
        },
        "74f4a17549c845ad8b540aab3e57c397": {
          "model_module": "@jupyter-widgets/controls",
          "model_name": "VBoxModel",
          "model_module_version": "1.5.0",
          "state": {
            "_dom_classes": [
              "widget-interact"
            ],
            "_model_module": "@jupyter-widgets/controls",
            "_model_module_version": "1.5.0",
            "_model_name": "VBoxModel",
            "_view_count": null,
            "_view_module": "@jupyter-widgets/controls",
            "_view_module_version": "1.5.0",
            "_view_name": "VBoxView",
            "box_style": "",
            "children": [
              "IPY_MODEL_e4a1b7e70a3e4439bcd10af3de821d36",
              "IPY_MODEL_ed191fd39b7a4e0c989677e37934e13b"
            ],
            "layout": "IPY_MODEL_90d3894cff674305bd5990deb9e976ee"
          }
        },
        "e4a1b7e70a3e4439bcd10af3de821d36": {
          "model_module": "@jupyter-widgets/controls",
          "model_name": "DropdownModel",
          "model_module_version": "1.5.0",
          "state": {
            "_dom_classes": [],
            "_model_module": "@jupyter-widgets/controls",
            "_model_module_version": "1.5.0",
            "_model_name": "DropdownModel",
            "_options_labels": [
              "0.jpg",
              "1.jpg"
            ],
            "_view_count": null,
            "_view_module": "@jupyter-widgets/controls",
            "_view_module_version": "1.5.0",
            "_view_name": "DropdownView",
            "description": "file",
            "description_tooltip": null,
            "disabled": false,
            "index": 1,
            "layout": "IPY_MODEL_cbefdbc725be4bc19b6a184f13a9434c",
            "style": "IPY_MODEL_03c67b0b93434fb9be15a03272731d1d"
          }
        },
        "ed191fd39b7a4e0c989677e37934e13b": {
          "model_module": "@jupyter-widgets/output",
          "model_name": "OutputModel",
          "model_module_version": "1.0.0",
          "state": {
            "_dom_classes": [],
            "_model_module": "@jupyter-widgets/output",
            "_model_module_version": "1.0.0",
            "_model_name": "OutputModel",
            "_view_count": null,
            "_view_module": "@jupyter-widgets/output",
            "_view_module_version": "1.0.0",
            "_view_name": "OutputView",
            "layout": "IPY_MODEL_1ea4cf42e8974ec09b7636f958e388e2",
            "msg_id": "",
            "outputs": [
              {
                "output_type": "display_data",
                "data": {
                  "text/plain": "<IPython.core.display.Image object>",
                  "image/jpeg": "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\n"
                },
                "metadata": {}
              },
              {
                "output_type": "display_data",
                "data": {
                  "text/plain": "<Figure size 720x576 with 1 Axes>",
                  "image/png": "iVBORw0KGgoAAAANSUhEUgAAAaUAAAHBCAYAAADJt6TiAAAABHNCSVQICAgIfAhkiAAAAAlwSFlzAAALEgAACxIB0t1+/AAAADh0RVh0U29mdHdhcmUAbWF0cGxvdGxpYiB2ZXJzaW9uMy4yLjIsIGh0dHA6Ly9tYXRwbG90bGliLm9yZy+WH4yJAAAgAElEQVR4nOy9S68kW5bn9dsvM3c/r4gT91FZWVR3qrsQPUAg0ROmzJiAYMC0Z4yaGRJ8DD4AfIsWEyaMYIiE1CVBN9VVmXUz8+a9EXHiPNzNbL8YrL3N7Xj4OXHi3ptVnpX7L7n8ZWZubrZt/df6r7WXqZwzDQ0NDQ0NpwD9970DDQ0NDQ0NFY2UGhoaGhpOBo2UGhoaGhpOBo2UGhoaGhpOBo2UGhoaGhpOBo2UGhoaGhpOBo2UGhoaGhpOBo2UGhoaGhpOBo2UGhoaGhpOBo2UGhoaGhpOBo2UGhoaGhpOBo2UGhoaGhpOBo2UGhoaGhpOBo2UGhoaGhpOBo2UGhoaGhpOBo2UGhoaGhpOBo2UGhoaGhpOBo2UGhoaGhpOBo2UGhoaGhpOBo2UGhoaGhpOBo2UGhoaGhpOBo2UGhoaGhpOBo2UGhoaGhpOBo2UGhoaGhpOBo2UGhoaGhpOBo2UGhoaGhpOBo2UGhoaGhpOBo2UGhoaGhpOBo2UGhoaGhpOBo2UGhoaGhpOBo2UGhoaGhpOBo2UGhoaGhpOBo2UGhoaGhpOBo2UGhoaGhpOBo2UGhoaGhpOBo2UGhoaGhpOBo2UGhoaGhpOBo2UGhoaGhpOBo2UGhoaGhpOBo2UGhoaGhpOBo2UGhoaGhpOBo2UGhoaGhpOBo2UGhoaGhpOBo2UGhoaGhpOBo2UGhoaGhpOBo2UGhoaGhpOBo2UGhoaGhpOBo2UGhoaGhpOBo2UGhoaGhpOBo2UGhoaGhpOBo2UGhoaGhpOBo2UGhoaGhpOBo2UGhoaGhpOBo2UGhoaGhpOBo2UGhoaGhpOBo2UGhoaGhpOBo2UGhoaGhpOBo2UGhoaGhpOBo2UGhoaGhpOBo2UGhoaGhpOBo2UGhoaGhpOBo2UGhoaGhpOBo2UGhoaGhpOBo2UGhoaGhpOBo2UGhoaGhpOBo2UGhoaGhpOBo2UGhoaGhpOBo2UGhoaGhpOBo2UGhoaGhpOBo2UGhoaGhpOBo2UGhoaGhpOBo2UGhoaGhpOBo2UGhoaGhpOBo2UGhoaGhpOBo2UGhoaGhpOBo2UGhoaGhpOBo2UGhoaGhpOBo2UGhoaGhpOBo2UGhoaGhpOBo2UGhoaGhpOBo2UGhoaGhpOBo2UGhoaGhpOBo2UGhoaGhpOBo2UGhoaGhpOBo2UGhoaGhpOBo2UGhoaGhpOBo2UGhoaGhpOBo2UGhoaGhpOBo2UGhoaGhpOBo2UGhoaGhpOBo2UGhoaGhpOBo2UGhoaGhpOBo2UGhoaGhpOBo2UGhoaGhpOBo2UGhoaGhpOBo2UGhoaGhpOBo2UGhoaGhpOBvbvewcaGv6ooJQ69unBs168X36nj6xzbDuHyEfeP/fZc6/lOefD9RsafhKoNrYaGj4Tx4kFHpPCkmA0e4J56rHEUxdlBtITnz/12SHhLffvKWI79vkhkeXFIx28f/xoRqbhM9BIqaGh4mmygY+Ne3027KMYxccRDTw26E8Z8MPl/m6jkqcjuCW5fopYl9s4/B+Jx/89sSTZZogaChopNfxx4HnCgadJp5LMMaMMjyOXw6jhkIAWS/4BX3jPR4qHJLZ8Xn5+SFqRx8etPv6wj1XDZ6ORUsM/LPywaKe+PjSk9fvDSCbxKdKBP15j+sNIa/m64vBYN7L6I0AjpYY/PHxe1POULFWjHzjuvS/lpr0hPES7gD4PLyv0UIgsCvvztJREj5FVjbTaOfkDRyOlhtPGjyOgzGNP3JT3h+TzsWR0DO1i+f3h5WRVz+OhY7GMYiNLp6Kdtz8oNFJqOB38eAKCx5614Xj0s4yCjmN5YdT9ahfL3y0+Hg/Pvbd8HFVVolqSVJRv2rk8VTRSavj7wacJCJ4vmc7svWXDx3PullFPfT7MYXwqx3SIp+b2qCde1/fpYP3lcp+L58rFj31/mBf71HZ+Cnx62z/U8LyMqGqEXCPjQ6Kq5FTJqkVTJ4RGSg2/f7yMgODTJGTYG5r6fFgFtyw6ONxWXCxTsVzvJRIS7PMd9fNllFYN4uG+LJet3vtTJeHHSsSfmm/03H4ut/HcOXiOsJ4iu+fw0vP9kn15nsA+TVLLz5fjpp7DQ8lPzkszjH9vaKTU8NPj86OgT5GQ4+PS4gQEnjbkxyrjDqOTY4b8U5HIsfdPRScs9ve5eT319bFcV8Wx+U0vwec4BJ96/dQxePz8EqPysgnIz+Hxb9Tf/DRJLcdCJaf6qN8vpb5GUn/HaKTU8OPxlIH52FC8pNzaIVKc5XFVXI0uwsH7Q0J6zig9FzH8cAN7iJfnQg5J6SkZ8VhkV3FIVMcN6MtK5Y/hORI/fH5K3tx/9/s5nofY/0bO+WD950hKIeNuGYUfyn2xEdTvF42UGj4fLyehw+hmeZHXgVeNQMc+L6QQ8vHlsVz+OTlKPfPdx6TzYwf/88bu2G9/couL52OPw1zUU8diSVLpk//zhxHWsW0eK0Q5ljv7WJ78+zsXT0WChyS1jKQCLYr6vaGRUsOn8XkktMzz1CR/JaK6jGNPQjUPU6OgiY+r4w498efyKz+Nd77Eywzec975kaVfLHEd/tfDOTv1u3rMnpPealL/6bL34/tw9Jsjnz31nw736SnCekxWP4VxelmUdTiuDj+v39WCmhpJHcp8LYr6CdBIqeE4jhmj5+W4Za5nmf+oRrRnT0R1mWU0tPT6jxmJp6IBef1TDuTH/+8Qj8nn6XWPrPmTkeOhYT/shACPI9Ll+fn4+5eS1MtL9g9/5yXrHEaEh+v/dEQFnxNZ7fdj72y8JIoKjaB+GBopNQheFg3VRyWaOniWRLRMIFciql5ljYQ8+3zQMePwnBz10kT4o3/3ie+eykW99OL4MRfRc+seT+Yv8fi8wHGS2kt5jx2FJQ4j2h+KY8fxuQjkuW0cW3e5/mExyPPb/fwCjGOvl87Q8ruqANSJvcvoP35WdPpHjkZKf8z4YdHQ0sAtJTmNeI49e1kuIgRUieiYZr98D48J6OheP/PdcjvPLf/cMp+6IJ4ySi/BU/mLz93O4f4cvl4e22OFJctI9jBvtdzOsQnGn9rHY//r8Ly/ZJ1DHIuojm3jJdt6nsgOjeLHkfPyt/d9+PYOQr0W6nWwlPhCI6jn0Ujpjw2fJqLDiKjiMM+zJKIV4iVW73BiT0TPGZOlIVlOcH1y7xfL/xDj+NT3P4RUPvf3Pndbn0O8z21vGQnWx7LTRZ2fA8fPO3wsyT6PH1/9l484R8+t9xRJPbW/L5HujhPXx/nCw558h7+3jKDqca8RVCOoI2ik9A8dz5HQ/vtjRHToUcPeoNWIyJXPKwHVIgV4WZ7j6B5/4vu6neXzobE4NDqfQ1BHvn1B4cIPjwCe2s5zxvJzI4vD5yU5KfbnrOZDliSmD9b/dIumH4fjEdAPI6nDCHifl/q88/mc/PhU9H8sclPspzxUggrsCaoZYxop/cPE74eIlhVz8LhIIfB0HuOl+YNHe3vw/Cnv+6kI7Kn3T2/z6B6+uCPFR2se+9UfuK3lNo8R1+Gxfo7Yl9HukqAO5dlwsN6hFCgEtfT2nxp7P90xzEfG8qfW/zRJfbTWZ90CZb9vn8byujokqJpr/aMmqEZK/1DwKSLaL3NYLfcUES1zRDUiWhJRXCx3SECH3uFTBvLx8i+fT3NMrvnxt5b4HMP5w+f+/BBDdmy9w/WPRaafE9EcOimH42Mp8WWeiqA+RVBwzEH6HCzHwOeSAHzc+3A5Bl827+jT5/apsX7sOqifHU6REGcv50PH4B88Gin9IePlRPSUoTm8UJby3Lq8r8UKVdphsQ212BaL908Z3sPBduziPfzsJVHBUzi2zMsG/FPe/Y+biHp0jcNfOPJZ/fypdQ6/Xy53LIJ8SfR6OGbgcQeNY5E2PK7iOzauzBOv6/saPdTWUhYx2D2Su+zYR+2Ofb5GP/NYjtM6hg9v1LgvRJDxPpTnkX2OdAR2i/fD4vMqXx+SyDFHaunEHRvvlaCqtFoJKvJHgEZKf4g4NHxPE9Fh3uAYEcHjgoUqzy2lOdgbmcOI6CmjeuihPoenDO7SC/+cPMrnfndsPx7/3udLPM8T2POlx4fk8XR09bJcy+HvPJf3OMQysl42oq3jybGPputzNap2sS7siefweUk0erH+ssT6sGkq7IlkXLyusuO+A/geh/dhOrzNSSXAQ6Lj4Hk5xaGSWH2egHvgDiGwLfBQnofyqDg814fRXz0W9bjvHcR/wIa7kdIfCj5FRPtllhfaofTyaAvs5bmexyXcx1r7LJ/hcVT01CA6bvSOl50vnz9P1nu8rSf25JN5jadI4tFWDp4fb/85vHRC7uNlDj3rT5PQjyOpw88Uj8dIjVjWPJaaDqOnJZEtO6dXolkSl+ExoUTEmNdHNebLqQWHRTVP/S94nnCPjb/6WEZjS5KtxLViH73V41O/r8eqbmt5XY0IYd2WRyWwbfnuqf1eknRmH5V9fAz+wI16I6VTxsuJ6Dl5jsVnsDc0G+TCqQO85okObwFxqOEf2+bHnvvz/+epyEC29WMksh8zoH9YchuejziejnJ++DI/RoJURx51ovOafXl/ldHq79Xt1HESyzL182VksgHOy/aqAa/biQjJ3CERxANCPjWKGF/0/35YFPrysfH8pPFjnd+XkeKSvDrkeJyxJ7H6qJFklQO3wFvgw+Jxx16tqOTuFuvWKRgvyz39ARj8RkqnhpfmMfYXSx2c9YKH40aytvrZIEYoIUagenGwl0mOad/77f2w4oFPRR8/DJ93r53fBz5FtMfyXy8hoZf85qfWPUzqax57+NWQVu+7OjNViop87KzU6KEa53MeE1DHflwN7KWrLXvyqRHBMVn2pfnCxRpHCyeOkfFybl2NOur/WZJI/X7Dnjy6xTaXJLGUEP3if+4Wn9XlK2lVabBej1fIMTwrj0r2NW/1HvgOIan3CFFNi/2v0ah0TDnMPb3kOjghIniWlP7bf/kvc0oJYoJUHIcM1HVyIifpQZhzhpTRWqO1wjiDtRZjDMqKJJpzJqZEyomUM85ZUBBzIsdITh87yUqp/e8VeO9JMRJDRCmF1pqu6+S3lIKYCDESUsQ5i1IKZbQ8l+W1Nmit5/fzHa8TpJQxRuTnnCFG+Y9aa/q+x1qLtXb+XmFRSrb5+Dc0qo5jtXc2nXN0Xce7d+8A6LoOZ+3836ZpAqW4uLjgz/7s5/zsZ3/Cmy+uiNGzvbvlf/tf/xXvv/+O7e2tbN9olAGtNOTENI2MfiJME1+/fo0NETWMmBgI2hKNZkyJpDSqXxFjJCmwShNyJJTjra3BdB0yBBJTDPR9T991vLp+zfnZOavVmuA9KWXyPEYyKmVySqicMSi0NWSlmbICrchayzMH10POoBWqnJNpmohRrjFlDErL9ZdSljEQIylnYnlNzmiluL+95f7ujt98+1umaSLEyOWr12zOzri8vAQg5cw0DOQo+z6FAGXfV6sVnXH0ri+/CTkmUIo///N/j//hf/zv0fN1kKFe9+V1Son/5X/+n/jNr3+1/2tlLNftUfwKpRQojVIaY42c07xU7BQKRY7S8Dun2rIulsUyOkVQyHHLGZUSXYhY77ExYYJHpwxag1JkpQhGE7Uma0WwjmgtyhhMztiUsAl0CKQcUcrgUqaLATt5bIqYFInayDWsNZNzBOcImxXhbEPse9HjUtofG0ClhE4JoxRaKTCWlBJk0PVQxoTOiRwyphR6mhjphgETPHbymBCxw0C3m+imATtOdONAtx1xfsJNgW6c6IYB5z1mkmOhQ0DHhE4RlTIqZ3RK+/3L+SB2X7z5pHlXZFUWVJCVnsd7MoZkDdE5QucIrmNa9UzrFeNmxXi2wV9dMJ2f4fs1Kid0mHCT7LtKkeQ00RrCmWO4OmO4vGLcbIjWkn1GGQ3WotYX6NUKbS05K3KCkBIhBFLOrNdrtAKlFeM4opTCOYfWmpwzIYT9mGb5Uj0a7qr8X7OwoSkdb0xf7SLAf/1f/Ysnj+ThLaQPkPcnYu50llFKjDdqsbMZcnFyqqFJuQy0RW1WXuTaU9536Hg6K/HYOc85k1IilgNcD2JKSYhAiUEzCkhyoJWWHX1MQnuSWjpX2mosqmxXCKr+diWa+qgnyBohJXi8zeW26+8BGGMwxtB3HUop+r7HOQdKYb2fjVrdV2MMKkbYbuUxRXJMRGPQWpxcbWV/VQa0xsaIG0bWt7eAIoTI4CzRGHLniCGQjUVZS9KalLOcuaggRYzWaJRkhrOcM53lUUlnmiZSkgGcYiqkVIxirnMUNa4cd2XUbMTKQXls0ClGVWuUVuj6vxfnPhcHIadESokUIikmYo7FsGWM0VKZXEhRUQxNjOA92Xu0tWKcKokYjamGUYM2RpYxBmVMGQNKCCHnQp5LclmM17K/KUZZvn6fkhBSjDMxKG3IhYSUysUxS48NIZCzLtdJOa4kORcpoWLExoANCRsiNqX5fymtCMYwbTbEYhijMSQj41eljM4JEyKrccJqVYhBoVPExQjDROcDRsvnSWl26zVj5/B9z7hyxDKWCRGTEi4l1P09KpfwOyuUApMTOit0StgYcCnjxkn22weM97joscNEtxvpphE3COl0w4TzHjd6WTZM2NEL4cxEk1EpCtHMxF6cH6XIWpGVJhnN2K+IxgiROkd0Ro6PdUIeWo6TrKeLaJfl+OSMSqBTxOQEPqGjx04BEyPaR3mOEZ0iOubynLB+S3efCjnX8aIeXxdKyXVpLb7vmNY9U78irDvC2YrxYoNfWXy3Iq5WeOcYL8/ZnZ/hNxvSWUT1a+g6su1AaZxS2GLT2O7IRovjWVReDYRp+jisV+qR+D8TUrVt/LR4lpSUAq2FZKqoo4rhU4Wkst5/l8lkVS7IlCBBVsXYKTUvIxvPxEJauRiO5R+Fcn2zuMgLA1evOMY4k5G1DmPkd4wxaLLE3PVi0XtiqGz9UcomKay1OCeplpQSIeyJs5JJfeRcI58OpfShHXkUNc3PgDUGawybzQatNav1mq7rAJimiZwz3nsxsCnhxgG1zSjvUdZCZ8h9B0nISZVBTM7YccTe3cH9LXGaSJszfOeY+p6sNdk6tDHFoKp5MIrfIV6P0uVCVIDWZDQ5JbLJJK2JShEU+GkiDyPBe3JMpJjm/6iVhvK/nbHoHFHGoB0SFWiFLs6Cqh5zJXIjzoU2Bu3cXkssBjmlRFKqzjIk5jIWolQsK2VlWYohKmOnOjORQlLGoIvzolAyjGOSBIG1cp60pngnEtGX1/MFsoyQ6gCQC4esFGkR6SsepyoUoGKddwxZGZJOj7cJkDKqjDWds0QM04QppGFiLAKdImpN6FcEayUSqk5ZiahUytic0KNEOwokqi3nqh+FgLoQ5Bgpzahhd75m2mwY+47Qd0W4iuQQUWNAjQFTSKADjDboacKEiJoGtJcIxYVAHwNu8vTB0+9GumHChiCPYaKbJiGdmDAhYIPHDaMQaJIISsWITkmiD2OIXYc3hmHdM1yes704Z3d5zu78kt3rc4bzc8KqY1qviZsVoaoqSpPU4vzNTpEWS2WM0JraR++qnONH1kMpccpSFvvoAzpErJ/QwWOmhA0eFT1unHC7ATtMmHGLvR/odjtWD1v6hx3dbovbDbjdiB0njPec7wZ0fDc7WbkMqKw1wVlC3+HXK6bNhofXr7n/6g33P/ua3atX3L95jT87x11doZ2FnNltd+LUxBKxpoyNiWk3EGNc2M2iIJUIWwbh3sFeOmQvmX72EpXwE5HSooJYlYOt8/7iyuViKRFQihGVhKFyVsSsULFIZ1pJNFFC26wgTlVqFa9cHfyZ2TMs0YrWCmss2SqMjhhl56hltepxrhNSKQYBRZHUAA1aWzF29bMyrGb5EZEeawRUIx/nxGw7J7JdjU5EQspMeZz/c0WNcOrD1mdr6bqOfrXi8uoKay3r9Rpr7Rw2a+D+3TvS3R16u8WoL1BdB52DYQt9D8bKhWEMKga6hy2b7Q7jPSF6PmjD7vyc/uqCpPUsPenioVO9nypNFUOftERKNULAGJSS6Ji0l9tSjOy2O4bdQAiBGBMp7aUpreqzwmmDtiXiMB1ay34ba9CqRJ1LgqoXv9aEGGb57lFEohbnrhwHoxSkJCSZEkpDt+ok+u0MbtVhrEbPOpHsY3VuYo4YrdAlYjZaoY0qzpEYnUQsqkGJvB5JO2omJIp3nevnS2kIICX5TpvizCs5BCX6ySmjSs2H8wEbMi5GuhDKTymiVYTVisEaQvHyswgqkDIZhUkZEwMqgQ0TWilszkQlUZObJswYWE0DxgfZbtexPdswrldMnWM0RvYvZ4gZO0zoDPgJlZGoJySs9/RJJDMbA84HzG6kGwZskPfaS2RhfaSLEReCEE+R10wIIu3FhCnyWtIiWUVrCZ3j4dUVd6+veLi65P7VJbvLS3bna8azDdnJPG9ldJHOdBmT4lHPqkkhm1wcjDkQKE6HihFCgJQwWgvhRtA5YkKUCVajxw5DOYZCHiaK06CqTBgi2gd0lP+lYqx2HpUyxIAKARXlPEWrGc7OmFY96hXknMTxzBmVEyZ67CiSnp08dvTYaWJ1v2Od3qOAL6v9BELnGDYrHq6uuPnFP+L7f/6fsPsP/wPuJdYGbQlhEjvVdVIOGSM5xRoVFOcp7oWzyoo10NAajKmG70A5mM3si/EsKeXiGVZZjsX2laqSCnMElHKq1CIhVCWtJJcKKqGVFg88q1kSoUZSj357+U6V612jtcVaSEljtC3GX+Ncj7UGa6wYRIV4/VRjJ4ZSFSMoUZNsOxcPr5LK3ukVb77mn5xzc94qhAA5FvlqKvu4l+9AIiKtFNYYyRs5h3VO8jIlN+XKe2MM2XviMLCeRnyMbIG82cD5OWqzRvkJFezea0uJ9XdvOUsRrRNZaXZuxXBxzjhNhBSITnKmWZWLT5WLtBJxuTjrSFNpH+HJMVd17M0qrkqJFAIxBEKM+BiJMRFTMdQpoWblV+GVwjiLMpaoPUprtBHSrk5FWkgCy0deKAdzJLVcbjFY6vKRTNIK5SzdeoUOARMdnXPYrkNZI1FMTrP0mKJIZlppjNZYtc8LxjpOiyw4H69KQIc5pRghRolsvZ89y7xcp+57yuKQpYQujp8bPTZKPsiUPFdWhmQdu/Va5KbegdXz/xe5FDQZkyI6SM6kRlYZRTIGFTzGR9bjROd9EbZg6DruLs6ZNmui60WyjRkdMqtpQiOymI4SnXXThB1HTEi4GHHjRB88boqY4CXilBAVN45044gNUYxpCBKxxYCNki9SSVSBaDSh63hYrbj98pq71694uLrk4eqS7fUVu7NNkZMpsmcqUY04v+Qs/1PpebzkYq80WeTFEDAZTEyFFKKMkUnI1AyBbhzptwNmGuQ/zdFbnGVfFdPe6Kpqp1VRGeQRjZ0lwGQ0OEdUgDbF6QB0RpTjamMzxCTk5iNmCtg4YsZA3j2QQiKuZHyzWsuYzwpiwjpDt60R14CdPJeT5+rmjp/9zd+S//f/g4Bii2aL4df/2X/Kv/kX/w3Cj6VJizFzvrdedzOKHK2iBCwqZ1QQWXy/+F4uxVp5LOzip/AsKaUstwHJKS9cCXXQQrgYdDIhxb0xyRmVdfE8mC9k+V6jFpOtayHZcqf3L8VbBTBGY4zFGF2/wRgxHNY4tJFIQBWimQ1IcbSzEpJRak8080Eshi2EOHvmIgsaITxj55A2pUSKmZATMUZ2u11Z3s7RkDyEjNabjSTOu06ipL5nvV4fFE1k8vsbuLjg9voNw2rN/fv3JGtFVtJa5KwaRSgw24GzEBmtYXj1CtV3kBPBT6ScyD7tw+6Z5fMs91UBYllM8khuVFpyLCgyClsikVwMdQSR0YqkGkIseZSS+ym/KIUOFqU1HjXLI5XgVZG5Mh8XujhnS9HJXkIxZR9NLaQpnq8xikxinAZSimilWPU9uevIMeK6DuNEvowpEkPATxNqkcLJRQajjBVtjMhUdUwvZRtjPiakgwtPWTsTly7L6BDKdpTIzCHhQqTzEVtIKAHBWbarHm8l56G0KXkShfZRCpDImOiLsUwlhyGElJSWkrkQON8OrHYD1nu00gTjmFaWab3BO4tJif5uy+bmXiQdEipEbIp0MWF8woVJCC5GnI+YOKETksfR4vB004QLAec93W7ATZ5IIYAsEbcNEm0kayQ/db5he3HO9uJMnjdrxtVKCh2MESK5veXi/o4LZeSz2XAW6TFKpK+1ESE2JWymiLIaleS/1ONkY5QIp5CNLSqPqmSjNdFITicqRew7dudnhL4jrlaEVU9YrQidLfJZL7JmJzJ5ZK/0UCQ3DSUvyxw1KT+hplEiqJCEzEvuCR8wPqCrbBkTeE8aJ/QY6P2IedhhH+7hdktK8OGf/0ekMdEl0GPG+ojbTthff4/65respjscGYtEe9f/97+RQCFlpilIsDEP4fzINqqlClCVChaL13xrCFKoopD9PT/fF/e8AM+SUkgBKUcrF5iClKpB2+94EvGOTCrGXok0o0WTTMtIaHHNWuvQaFAaQ5XUkkQsGQm3UWhl5pxyjWAUyOdFklLKVBOLRpO1eEfO7nNK1roSWSm0touoRs12u2yZ2sJL5Lt+JpucEzEmMcBpn+OoRFeLFjabNZvNhr7vOTs7n+XFrnNY6wpBufn3c86o69cYY9ikwKgV290WY7REoI8KM+R1urrg3dmmyBGIRU0JVHjSK1l6kMBcKIJSJYcwx7pykap6VIUYKfmolHNxBgxJa6mwzFKTmlWaczhiYEUSlIjYPpLe5lFU8oU5y3iqLKELEVbvCyAsIg5dCE5yWRlITOMwF1rEVDwSXZLcORVHK4qXrUpuqUTUkkcyxdlRaJVkbOdIjEHIPkk0OHuHdX+W5F8KJZQxc8GFGCXQMUnexntc2BcleOvYrVZMfcdUNZ5aKJGSyD2I/GYpiXMfMHlhUL23XkYAACAASURBVFMmKoWdJtbbHf0wYKcACnzX8XC2Jq56Oc8po8PEyg8oFN1uoIsB4yPOS7RGirgocpv8jjioSWlMDPTjSD9JsUE3eTnOGYhJrsGYWHkvUqZSTM7x9utrbi8vub865+H6ith3ZG3AOZGas4wNTd4XGSgt/zdFTF6oHyGgpwmbxKC7INWBJgmpummim0bJ74SEygmbskTgthQyWMfUd/i+I6x6/GaDX/eErmfqLHHVk50rcmDJU2YFVoo+VHVkUsL5CWKg8xFCRPsJ5QMmpOIsJClEKfJtjpFU/m9OxSnSpUoPy7RegbFEbcjKEVIilZEelSElTcKQlMKMkdT3kiPMjqwNSsv1MMSBv/p3/44xjuTkURZ+frXhT//JL7g0Buuc5NCjSN/alurjYgPrON9HnksGqI7tY/s+xzEL+3PEb/sIn4iU5CSyyJXUX8jVz16ob1IxJaXRxhiUUXsDRJ43U31ErSWnoDCYmVTSXj5TIqdoJUSSUiZGqVIST94Uea1KQeLd2mr4NKxWq+KZMxORMbIuCwmv/kPZd1vyDBIFGlPJTBOjkuosXUlqLyUZY+aIaLPZzNHQer2ayWoZRdWIRIgtFzurJLpar1itJJJSs3x5pLLPmLKeVPPUctQ8kyvzuh+NkMU2s1Kl3J+5wk7KrQClqV/Kdkq5N6UisVSnaSPrZgBjpDBlORgz+3zM4cisCdz55Fd5OJNVyc1UAq2f14ijPgophVIkorJEs/VvGyNjTSu9H4/GSEZT7aNmXeRFpVVpMSDkFlONBCOLAyv7X/NLJVlOqbyykwcFvQ90k8cFMaxKG6LRTKsO3/VM1orHjzgDJmfxMimaPRozTbiY6EMhiFwr9uQ4d8PEejfQlfLvbDSDs9xdXOCdQ+mERiJLGzzOh0IoktPJqmgXMc0VZjpmUtcxrjQ6JLpxYLXdsdlusWOYjbTvekLXSaHEOErkqzQ311fcvLnm9svXvHtzzXh+PmsrSkE2WqS8SkhWE62bCy90SmgfUFFK0FXMpFjyViFI1Gw0Lga67SDSnPe4IBEGSpFWayal2DpDONswbtb4jcig06onWEfWCpVlTJtQvPyUUTGgdwP6flsirwy5RqTs5WqtUFnslAKSVjKTxkpBe7aGmOU4ja6XEm4rlZDRGnzMZG2K+qvn4haVIGYtuU0lRUcEcfgUSRQTDUYrXNfJfnSaMUoB0Jjg5m7iw+0Dv4rv8A8PxOAJxvBw0ZPJMjGqVvIWJ+7Y1JxlxHTYOGRePj8mrI+RD1IzH+P5nFIxypQIImfIUty+3N0SxSicA9u5OaqYk+hkYpVmFp6+xqLRaGWw2pbfiIucTiqRUq1eQ+SPMifHaIu1Qm7OdaUQwbDuViLnOMPFxYVEAx8dJ5GmlkYOpJKu73uGQRL44zjO+5PKHKaUZDljLH0PXeeKtLiPlFarPRFVma5KTTWXsi+wYI62ADabDUopYoycn5/RdW4h21UJci/j1RhC3qdy2OtntXQ9lWUXkt18BktTsGLIkywgnmH1/jNzVKqrnKY1Wsu8oKyNcFjxuFKRY3OSOW7Kloo/rUqO5XH+TZffUVqLQSgGX5fkvYzHEn2V8/Xx2E6zfJmLzOTjvjBgCj1d17FaSym2NkYugFI1VUY9MUb8NBGVRmfJH4YYCZMnhSDzmZYXXh0glZi8h3Fkfb/l8v5BEvxZZM/JWfzmjKnvSLoWEBQnT0HOpUAiBNAGt93RB4/1cZZRVYwko1DO0fuJfvKstiM6yX8d+xXDqmfsO7AGlSL9TmS1bproQpBtacllZYT4dExoyjg0iqQsLgQ2d/ecPTxgveSCvHNMmzXDRuGmic12oJtGIaGv3vDdn3zN2y/ecPPVtYzDINGe0ZmUa4WnIQEGkfdjSLg4SQk6SuRAbaRAyYvc50LEpIAaPZ0PuGmg241CPsYQe0dyluHijPfnZ0wXZ0zrNVPX4TsLWqotVY0wESGIlDAxlJyiOGe5lnLnUiKfSyGKDxg/yfscIUguN/pIQhM7R+o6kbV7S7SW6BxRW5IzRNPjlSYncYpzhjyoWfrKFGVBSeWzNhmVvDgSxqCcSG2qlOebvseterpVj3JrfArc3t7yy1/9Le/fvec3v/4tv/71r3n/9i3j/T0xBnYpMkwTX37za95+/5Y3129488Ub1us1XbcipVjy5CLlPUdGR3EQMT36/AV4lpRqTkEknYPy5ip7way1g8IYizaS45nLcUsonlTGaFMMjyYHMa7GWMkJKY1SeZbFYowlkbtPbmur6DqJNtb9mq6Xiaddv5qr44SUpAZ/vV6jdI1G0uKZOULZFzpQKus0OatZIi1zFcsxlXJl09XKP0Xf10jKzNFQzR/V6rvDqsLlPKSlt5FSkrlVhZTW6w3WusfR0aNoqZz/MnG2bKjY9H3Eocq5zFDkTiVJ9mJQUyVnvZAuc52oqUs0ZuacnYTrZTmtxbCa+tuaKqYJsaW5zLxkdMkqzeNjKc1Vp0V+UFHmFezH5FxXoBYDf6ZacpLoSOUiKqc45zMtB9dFlv+fYpgrPCNiLIISZ8gAoRRC5JzKby6ipOIpkxIMA3z4AHd3MI5s7u+5yzBt1ox9j3fmkaRRq+RiRqqblMakTD9NIqFNo/z1mMhoorHoDDYl1tuB9e4dJovsOq467l5dM64cKoILE2cPW5l4GfZybjKGse8xU6ALHpNEjUhA7BxmHDm7u+Pyw50UQuTMtF7x4fUrsjH03nP59ob13QMZuHlzzTf/9Be8/dOvefflG+icGM1qZJWGHFERKBGcjVEqAsuk3GyKQ1VUkvX2ATd6tA+4JEUJznt0kNyeUorgDNF13H55wXh+hl+vhSjPNqRVXybAljFdr4EkwpfOYtt0CCifxOinXCbVlrRJFIkUYinHzyTjCKszhrNLorZkY4k6k41B6TpJWJOzJntxoHLUmK0v6rVHpwmXxTEzDnxnwGpwirjuUdagrOTA6n7mUObaOdmPqDXZdWAdqusJOeNj4u7D99zf3fG7b3/Hr/7mV9zc3PDtd98RxhGbMu7sgoGEI5M/3BBj5P3792x3A+dDnUD72FbBXk1Zvl5+Vm3XfoXH687fqcML8DieJyX0LAfNUk2R07SuZqA6imJ8TAkDlbL7CzhLeas4ydWYG1IsbK+tzDPSYvwqUSjlZfVUjawYLOekq8D5+QXrtchlq9UaWyKlletFfjGGrnNCjCntS39jfER8cswqOak5H5JTIa20MIqlsk/Ix2CdwTk7y4i1Qq+S07LCbHkilyfxsYyXZiKLMUplnjWPB8PH514c9yPeS/EVROYB8c4SEKJ8dyhDVYku10mcav5KlLxS3q+1JEhKGbiIhaqUOtcSfk0upJLz3gij6pVfI2nmxKkqY2Y/uuoSlYgW+3MQ7UmZg5bOsgrJb8yLlOOdEioEtJH3IYb5XAMyr06VOUvFa5V5dnk+lhpgmoSQ7u7g/h4eHvbHcrOB62s+/MnXvOvLfwwlhxWrsZaIR+eMDpFu8nQx0aVUDDmkMk1AG4PxsL5/YD0MmNGjdMb3PQ9nZwybDlOkwrO3W3rvRSKMGd9ZgriEuBDph6FU40FwDh1kkvXl3T2Xdw/oHInG8OHygvevLnEpcvbhjj/9q79Bp4zvO9598YZ3b15xe/2aqBH57eaOr25uyc6hTCZpJ06LQiQnXZ2iTLLi9Kmc6KaJfhznknFSlk4N44SNss9JQ9aW2FmSVnjXMSnDaKUThLl/wH24ZxUDr8nomMhJcnc2C5mh9JxuMFkqA5OCrAwacVZVkhwRWpOtJWtDcobknFQkukiyFuU6sskErfCmJyhDRJGtk+3EiMqhTHNJqLXFWAXKiPRXVfEQ2AQv87x2oLaKbBzZGViXiMt1xHVHLspTjgl8FOceBSExhsgwDHz77Xd8uLnh17/+Dd988xvu7u+5e/eeTecwrkOvV/Q5EaPHOdnX3W4geClSmqYJa1dzAVi91g4JaXntLe3Zozl4y2vzyDLP4XlS0raQA7NXb9R+bsnMOeTZO9JKmgcn1JzASzHvy2Gtk+hIW0yXMUo6G6z6fp7LU8ljmiaRbOK+bUXO0gLmbLPh+vqaq6sr1uu1tM0oxl+XA5rIIsPMnSMoeak9QdWoqRpA7yfGcZy7FeTEvsLP2jki6nuRgqy1pDSVcPvx3KS6P8toadmBor7vuu4RaVZiq3ksoz/2Xp5EXe7oyc/oFMQ7VVJGOxdWLjTh5Xb2EYxIb7WoAFVLpoV8CuugtBRmJBaR1mJypy3zq3IltnJO97+/JzmVkpSSH1TuzESzWC8VMlQ544zFFCmMku9SwFopbCn3nifgVknZyHlR2pYcpsEgHS3qjHeywprM6xjgl78UIgLoOnj1Ci4v4eICnIMYSU66RshBThBCMVhycdrRyyTYSeamKa1RXUdGZCTjPd04sHkYsKNHKY23hpvXlwSj0Tmx3m65vnmPjtJJwWtLMooUAyrD2bt7Sf6nTFBC/utRoqhXdw+44NEZpr5nu1mRMax3I//or36FmybImV3v2G7W7M7WeNfBw44391ve/M03QvIAKcp0gqLdGKUkQlKaiCKpUnkWpfTbFkLOJCEJZC7QHOFo6f4RtJRVRy3SpVZKSt5jmCvWSCUHVqZJ1CC6BDgiF+aMwpLqTP/CDDmLrUIjxQQasjFSRKANUTm8cUKKWGIpzMo6FwUno0wCg+TQ10Jked0RncM7W0r4pXAirxzeWpLtyKuOdGbJqpM8rgKTwKSMGieU9+RxlP3oHMF2JOOw64uZoO4/3PH992/59nff8q//8v/h7Ydb3r2/wRjD2hh+9sWXZKPlBlHjxDDsGMcdxjj6fsVms+Hi4pz1eoP3fr4MqxKxdAAPI6RD8vmp8ImcklSpGa1nyUezLxeuCXgRiRKSAxKJIkUISYxs8Ekm0BqD6wzGiLSlEQNyttlwttnM/d+GYWAcR3a7HX6a8JOfcwnV0Oecubq8ekQWMwkoJTP3Q2Tysm7KNfpSc4mxyP9TmfhZu0XIelJuDtqaecLsMvLZS3MaU+Q1Yx4T176/HjO5H7YsAogl71HlQGul2EK2xaP1QKS4R4NBLQZIMf41osopyYVcCCLlDNYgrmImxVreWfI3pS/hvH9Gk6IY1ZzkYq65J5L0LJQLXjT3WOSsHMLcEqgWQ0hfLie96kq5vipjC8o4qrkiVUhLLWbX7/9umYAoEV2iEpnso9Eaki7dPozcLMcYTN9LLzBr99xbFc6UUTlKyx1tWFlLpw2d0iRfJijGSOc9r4cJdjt48wauruD8XIxcEuJhmsB7ut0OO4zSTqvIlnocWU8T/RRE8syZZC1ByTEySWFSYLWbpHIuRoI1bC8uGMsE4bP7e5lPEzzZdUzWEDqLDYn1OJZecBMKKWtWSrP2Wy4/PHB2t0XlSLSGh/Wadxdv0Fpzfv/Am/cfMD4SFdy8vuTdm1e8e3XJrnfkUjSDKnPHlMyzMZOQgw0TOmdsifh09KymQD9N9LuRzRSwOcpk29J3TrozyJhNSqLppKWPXi4W0QQwIZC0IilDMJpxtcKvzgnGEkuVXCqtk6J1YB2xc4yYMjaksMlYmcqQYpTIA9lmDqX1jk/oUNoHhYQJqVSkZrrgsSqhXCxyaC5dSsT5NVlJn74YMOOEHoYSNUmFp05RWp9pXdp7GbKT/YzWsnMWv1kRz87g6hK/2TBpS/QBlHTAWKmBrC3mfuRmmrjZjfz1b7/lu5sb3r17z/b+AR0TZ67DWYNVuhCtyO5dJ7YmxsA47XDOcX19Pfe8s9ZKJw5dbWSdo1r4YBEYLKOfQ2J6Lu/0EhL7BCmJwXXGzDP0i+WQKp5ShJDIZF0aRJYCAulNlwkx4X3EGDBOo5XD2o6uX2MV9M5xcXHO1cUFzrm5+WltTDrsdozDOPe5s9bKhMeUGK+l2fByvguIcfch4L0XQisJxCqT7avm8hy2+lLeK+klNRPQUoaztpuNtbV2jiCtkzkytcBjSXz7/apVJ2mfl9PyeQih5Gz0ojpPHrncYTqEaR4Ada5V0d9m50AClip8FSLyHlVa9fhc9iGluSIxpCIllfMrE0mDzOepxzIGsakqLyQ8kYRqTkgrkUOkt1uaJTBUmUPUOSmPVhqfIsTaw42ZnHPJbVUHYo7A8nxi5tyikGipmEty4adSbWV07ahgxKEqJa9utZ5n9OeYyGW2fvKl1BmN04YVirVSnOXMZZGScghEpRnPztl99RX8s38m5fEpzSTEOO7naqQEw4guE2BXo8eMIzZnlOuIfU+whqyMtHpOEesjZw8P9MMAORG1ZVytycBqHLnwXsqqu45x1eNSYDXU3NGEiYlgrZCGsZzfb7m4f6DfDSgNo3V8//U1N1eXmBh49eGer7/9DpciAcVvf/YVv/2zP+XtF29IXYdKQlDWS083WzoL2CRzpHRCyue1EgcuSs/Ebjex9iJf0a3w/ZpQevVZHwspSWQbnUTtoTbpVRCVxvfSsDQYS+qsVKJlKYtXMZOcJhmLXW/wxjA6x6A1ebXGbs4I1pJiYvAedb6C8ysmY9mieJgS2vUYK/MP4zRJi6ww0htwRrPOEyYFTPS4FCBMjJNHTwHlpQODSkjnDFMyqEaXOZURpQJkJZOyUxQls/QZ7JKh15EugZomzDjSv79h/b60Ky9qQtJa7klhLXFzRtysSesNfnVO+nDL9sMHvvv//pq73Y7b3UCyFmss1+sNWikmrRlTLtXGkloIwRFjYLu7xznHmzdvZvvpnCvV07UV256UqvT2aBpH3s9jOibL7QlLoueXRlXPklJvO4wyENn3FyvVVNroUpKtZ5tRS6hr/GyUw9iOdW+wXYfrOs4vz6UIoO9YlVYuADc3kni7vb3l9vaW7XbL7e3tPNO+GvnaG26aJi7PL7i6upoLA+qBmUCqpUpOJuWED+FRTmmaPN4HhmGYo6SZFIybI559dGTmeU5LUtJaYZ0qEc3jEHfZ8+7YCYN9xLTc7rJzRKpEUlBzR4813YMBEcXjT0XfzlqjrNvLXfvwS/ahGvtcO2+YIteVOU3G7NvjFEJa6s3zpNIasRkjUlWRzlD74ohcomyt98RTj9d8TEqUZ4xME9C14k6VNovl85r7QpfEMCVQLL0IVd436bXWFB2ekuassp8YVqsk+lulxNlux+rde3JK3CCtfKauI2/OsKsV58ZIUUNp8Eptg1RbrUwThEA/eC7utyLhAVPn8EaTrcg1LktT0tV2ZF3b1cQsCXRlpLfdwyRGt+sYraX3ns39FhemMo9IPHlvDTlkLt/dcH7/gPUelWF7tuLdz77kw4Xkh169fccv/t+/wvpAMJrfffWGb7/+ips3b2AK9Dlw8e1brN43NyXEfWVeLpOpEyiCdOIu7YJskHMdVelAAdIFIWc0iaSlN91uvWZcdew2K2koqkBpyTmrKWJzmUw8epSXnnjjqmfSa6I2+M1aunNkzXa7w4RAvrvlSgF8wK4veEiKO9uzMx05X6KwjCphOstV39N3DtJEDveENGBUoj/vMNaSCGzvB7QxdJsNO6VJuUTlIYj86CfMJD35VtFj4oQbJ8wwSoNWLXJ3bd0VdRYJz1oGbUhaklr9ekWvbbk0M8lPxLsdTANqDFxqKXfvh4Hw/TvCw47t+xvOh4k/8571wwO3SXGrMqOxfHAdD+s1H+Zmy4aQMoHMFD3b7QPjOPD1V1/z85//nJ///OdzVGSsLs553lfwHqg0PwyPO4t/Cs+SkikRUu3qEHyQOREpY5IhqSxFDYhcNvmAqVJX19FZi7EG6zp0eQ2aECI5j0RdWn/kRPSeEAJ3d3c8PDwwDAPDMNTjIpV4xcALqexzPzVykoS1aNwp187htXAh4r0vnQcC0+TLelKCui9SsDi7zOlYlvmdfZ5IPAqlwRqJOiSnUsqmy5yppTxVUSWquoyx0htv3odCiGQpstivLhFCNfDy2EdKhCB9tkKAILd0qBMPF+LwvKVc5x+VqEv4rYrwpePG/OOPk541IlBlm1kVfZ1CbnovMc76dPlhpWRehQzU2iFkX0hQlzUl8qq5gbqszqnIk0USLRJNVlpkpSQGrvb7MwqM0vO8FQr5qpRQXtrknIfARUpSGWUM267n3lh2Ra60CfphxKQMd6WwoUZKOQsxbbfyPE2w3eL8CNZISbJCugr4iMkDOirWw8D53ZZVadcTu07mr+SEN4bJdOACq3Hi6mYrnRBKtJSBYBQuRM53O84/3OHCREKz3Wy4u7rg/uqCLgRe3Xzg3//lN/TjhDea372+4rsvXvNwfobJmS5OfPnNN1IAksWbTyi0s+hYHJkc0Vkigm4Y6fxEF2oeMM1tdUyEPvm5Q3foeqZVx7jeMFhLNo4kPUFZPQxsHrbS0y0lSKX3YsxSPg2oKNWG5/d3mOktROkBl7Vlcj2j6RjOLtm6c+51R44Z9W4ibO8wdzesHz7Q9T2dTaSNk1tqXF/RXV/DqsdaTfYBnZBKRqVIIXPmJ4zSOKOkF2QukmOM87irCVkFYGUSeUyStXLe0+WMnaJ0LfdTuZ1LmSCuNbHrpTls35P7Mp8yZfwwztJgdh0DjhvneJvg3ke+LWpH7wMmZd7EwM+niU6Jkx9v37M1jjtj+c5ovu17frnq+TYE/DQSUuTV61dcX1/z+vXr2WnWWhNCIJfJ+ofO7rFI50WE9RmEBJ8gJWfk61CkjuB9CUchadHrq3PoQ+DhYUdXquH61Zr1ekO36ul7kSASmSl40TW9J6eRnCKpvI9RqkiqnFY7ZVeDVOUxmUfi52WlKCHNhDOHFloRYl6Q2DTPPZrvvwOFeOyjfnS10rBOnK2EuI9ojLQ10gpri0FXeSaL+l2V2paRQPWKjK1l5PaRXFh/L6VEDkm6aMBMCstIrBpEPUpjx1iks1y8H+k9ZfY5GkoksxgwNbKlBFHzPW2UyIG5SraliEQmEJZ9qftQNiATOh9XGrLY51IoPpOZKkQun2ZsleTm7xYRUS59t+r39TtKREnZlxTn/IdRcp6cNSglt8JIPmBimbOz86xjlGP/+jXx4oLQrxh2I+lhi7q9I4UgRgTYGcPD5ZUQj1Jzn7vSkFEkPO+h6wjG4LVCBym/JmvsOPD64YHL+x395ImdY+o67i9E5vLWYCfP+mHL2XArTT5DIGcpqY/W0MXA5n7L+XZLN00kDdv1mrdfXXN/fgEazu/u+Me//Ibzu3sAPly/4m++/oL3V5dSWh4Tm0mKHLS2KBfJaUWwGpPATb7IotIfziRDlyLdFNAqkzvHsJYCgKygj1IpO1nDw/k526sLPlxdMq1XJCXnRudUOlxE8LFE0ftbmWRtsEHK4aUvXkKFBLuAHgOMiTwF9Jhw2wfUsKVjy0a/4826Y3SKu97yYbfj/fvfMd7c4B8GLpE76H2x0vTagLGYV68Jl6+Y/vGf47/6GWrd43WWirxeoenJvbTFwpRqSPEkpaOJ0WQMOIXSlqylV2D0I0aJo9pZJymOUrZvhx36TvKMdhiwuwF9v8O+/yB5sNWKcH7O7vICf35O33WkEInbLTe/+lu+/+233H7/loe3H4gpEmJmzDCgsN2ajbNcxcRVilwEz8+HHX9RVIaUAjdkfgf8Elj/xT/BnJ/z5ZdfziqUMQbvJa9er//ZJV1cz4cS3uH3H2Hx8Y/OKdmFXphzlgmWUOYbSbK53rJSKq1imRVdJ6GJwRyHHT56Ju+5u38oBDEIKZU5JdVJrqxdo5N6M78Y4yxv9X3PukxOrfmnSjSpJN9FW4OHhwchoJRKhJaKzMict6ntf7pudSC97SXKj0nJzsRjDLMBfar0e7l+fV+LJWreal8gsZf7hNgOyajsX86oQVrqJAPadSi3N+RSGWRQZW6YyEyHScjyXs7sQioUN4LSUBdYTDBVUqhQSElu5seCfPb/N8dUOxw+ykfV1jrlIBX1Wu3vPzRHZPlxF4gq+dWu4oUU9XyspfuxTHpUYB1WZWwUCcmOE+7hATNKZ/dgDbebDX694fWXX7Hpes60xoRE6Dp2qw1EuVePyVJh2hVJGefkMY5weyvPSiItokz47LzIyJe391y/fc/ZdgStGXrH96+vCH3PZDSrYeT8/VtWQXqi1YKTpBShc5gMZw8DZzc7VuMIJIbNmrdffcn9q0vGVcf53S1f/fZ3vHn7Hp1hu1nx13/xC95/8ZrUrVBRbp8gt6WgdFyBjMMEhSGiplCCZYWNid5PkkNCEbXl7vpMbn8CmOiJSjz+37254u71K+4uL4jlho4SXUjyPydQWXJ5xIDqxZGwKeFGTzfu0HEkTxlCJOLwPpf+fiuwAUzCrCYYPfrcoseBq2GCt7e4799h7t+xIfOBiV/ZzBhkrP4OjcYQB0MPXKO4vrvlkls2//o7zldr/va/+y/pf/YloUrFsL8tTHUSS4utamSrFLwP8LNUccaAj0luN6vU3AtOmXNwa1QKEIRw3d09/f095uae9YeBi+9uuYiBFBI3f/EL/u2XX3Bze8+vbj7w6/e3DLcPnNmO3kdW2XMWAtcxYYEwev7PL7+QLusp0sfEqxj5atzxZhi4JvBPgf8YePN//SX9X/5bvn37jm/+i/9cpjnmKF1PlFRFloqjj4jk0dyjI/ixFXnP37qi3FUWRE/WIiijsiSTTZGqctEgxXjK/JYYA9MoXRGSykw+MPmJh+0O7ye8n1CU3no5zsKUVJ7tiYCswexLqKHcubXvcc6SkkRBu2FX5hWVxGLZr+12S0z75qDiZe/vPNt1DufqY39n8ertmwXJ1HsA1Sq5+gwyH2M5Hwn2ycHlyVqWhtfoaFk+vly/GvjDEz4/jFTW5L5D6yKzxGrUF95Lld1m6erj7aGY5+qUnd9vS8RGlLFzVVSN9uo2MvuChHqRkpfzy0puSi8Geclx5ZyJy9xZKhcFyGTCGiktILemMPPv1GhN5STGTxmRUkEFIAAAIABJREFUhULEKcV5mHBektQ+K267ngdjGa3GakePokNjMlhl6LKU5roSZWanSCimGAldJ2Xgd3cyWbZERrUbMqUMvtvt+Pqbb3n97gYVA0Erbi4vuD8/I1mL856zh3uuh7FUASp858BZkKk12HHk/O6es7sdVml26xXfvblme3nOuJLS8+vv3vInv/mWfjfgnePbP/2ad19cs728EFcgS0NUxd6xlM4GGh0j6FjKhjWdjqyGERck8vFnG7brFWPXld5yXu5S2zs+XF1y/+YVu6srabsTE8ZPdA9bVMzShidJI1HZj4Tyk9xbaYqosVS3RfX/s/ZmvZJk2ZXed0Yzc/c7x5Qzs4rVJJtFsikRaKEhCNBLQ4CgX9pv/Qf00BJAspsSRJBssljMqpwiMyPu6INNZ9LDNnP3uBmRmdWSobyuh6cP5mZue5+99tprkQpEbSfaLlAEUitWU0oShfYIqYhti5yWJdc2ovwZ4XTNN196xt0d/4jhV7GiRzQNRVwKIOAILIk8oXBmDC9s5JNVZLu+Z2EMbmrKp5woXszxkpFqSRLUNGJg1BQj9HQsM6hpcZTLEQN1QhqmX3QpioJFW4WyhrQ4ZXgOw5gwpWAy1JsNZb3mdVPxL7cP3Nze8cXNPbdtzzYpKlejjMY5+a27ccClhAVe5kp6/qqgLBgPo2lIPhCGHS8uzvho0fC/fPIRH4093S9+MSWiuUUiC+GU35kVDtf8T0xMb6uwfmj7YUHWKOrXTDpLzhSZL1HCTtOT2vfUMiZUVhJXDrS7NTGJqdoQZbWYSpq1XdEa6sqiKMRQyFMVM45p3+jfJ6ejL5dzomlqlgtRcxjGgbzJdH17qDBS3sOF2+1WYCFnprkih7PuDeWFuWI6VChz4D8knzmw7oU6jdon4pSyDMrZw3OPFSSOG/qP2XXH7/0meYGjfTiGtN6s2HJds1dyeMd2fPyOq5PHnyuP54MI6KRfx5SQ5WbIRZGmX+0+kZXvv+dcxaiZ7qy10MI5JK0Zgy/z+5WDgP/8fnp671mvThRCJl20ie0pJ0JgIpUTCkVdZCanzsJuHIzjYVHxkDOpCAVcjD0UZhq2rEhUqRCLIriKUVlU5dHG4Yxiud7yXkzw2WdSJXkvw7IzC+/6Gr79Fj77jI//9u/Z7nZslwtuz08YvMPmzLLrcV03kQekN5KtwSpJhDoXmm7HyXqDH0ay0ayfXPBwekpf1aBhsWv5+OVLrq5v0DFxf3nJl7//CTeXlxTvRUVcFUwvs0Y2Tx4/86LCWZIXWrcbRha7HTZIUBqbhusXz2mXjYjH9iOuRGKluF+cszk9pfU1JovCtn95LXNH0wiQyZlcwJQo5zMokRrCkZMiZE8ummCtVJ8moWPC6CztgMaRlSM7gxqjtAtKkfeIGWsS+CWqqrj97hV3WvGPO8vfJ8VGLTBl5LRyrIxmVXtgpOSRbuioPShv+dXtls2EvP7Zz855/7PfcPLHJzLv6AxxGDBFqh8biywScqGUEZRBWSU0eStCrcUamPTsKJNf1RSHCoaiCtqIfYsyMgOF9SwWNVZpwmZDSNCnzLfrDbcPa774zW/51a/+mfXDmrbtMbZBny5pR1FA7ycQI01jFnPppv0kbq3k8/ucCSWzfHbB8hc/4/Lnv8fmj/81X56uWJ0sqaz06Yehw/nJFPJHktLvvv10ssQPJ6VBqKT71ZZmauRrnJv1yzQpZULMxLFjxrIKmpgyMWehFE+YrJ7Uw0X9OR3x4A9zRPNMkjxcDhUQHAI97PtOc7DfVxxTi2MesrRG7zXonHN45zHWYbTZJ4ZShJo922McILtHagqPoDlBKCdqdDwkjscTznM/bE6Gx72jN/tN36dXPl51HCclqQjnamZGvmawbP+iw37v2XBHP5O5epqYlXsG3QxdzP0Zo5E8MzdsD+dNCqW5N3T4TDho/c2Q7szeKznvIdp5P5gurpLyfp9m24g94SHnvegpTNVvyqgsFUE9BJpxFAKFc4z1kq6u6ZUih4DuBnKOkAp+6odUpuBjxBhH9rVgA7UMMdpxZLG9w4yR2A8ENUF31goL79tv4bvv4PYWbm5E4eHkhIcPXvAbJUKb9WbD2bYV47vpeKfaE5QT2CxDs+043axZbXaQC7vTJd8+ecZmsSQ7Ubt/en3Ni6++oe56gnd8+8lHfPfh+3SLGooM3Jqun6jo+WC6aRVp0RCURpdENYwsH9a4GCloupOGV++f065W2BRZbjpObu8pCrYnJ7w6vaQ1GpLC3+9o0g5TEnqMIplDYTbFCtpLsMyGmAylGIgQs0brjDUZrTPLuEMrIU4Vq0nG0UeDDgqbe1E5yJmiDGUy7SuVJ1nQcaRse16+/oZvdmtuv/mOq7DhmUsY58BPscUMjGFA5UDdOHTlxCQzFWhb2r7w6/s7rlWhWy557/kLrk7PeH55IUllHKf+hFRtKDsdz2nWTRuR5nITjbtIb6xYi1o4EbU1Qv4qSpPjpJSSMmnX8er2gSEmbu7WDH1H23U83D9w97Dm1atX3N3dS5/cSu8tx0gaB4qehF6VODBjZkxxQq9KmoQHIiEGtNW8eP6cTz75hE9//nNOz87wlZtip6GQCTG80YJ41zbHqx/sI30vdqkJqPnx5PTDKuE5YJiaJcz9k7m5r/dBh6LQiHwFRXAHUbKRFWnOkzz7Yc0OaFKSEDbLvBwCc94v1gU9PPSB5L/PVuWBGKVPIknJ7ifxlVYoo94gL8w36w40b/FmUvvPLUUfkRP0Efy0//T95wuz75Awk/p+T2lOSG+7PU5I83c7Hkh7W0J808ZCvX0RcgybvQnYHd47T3Mfe7ICMuQsH3yUPMqMCE59IckOBTURIY4Uvo8/6QguNMzQhiSUeSFQpgn86chKVa6Ozr38EKe/ckErY6RfoYU2rZXCx0QzBGnQY0jG0tY1YbGYFNAzevKi8cNAFScSTS6kumbQmkFbtK/kQs0Zu17jdlsYEzlGwhgYUqB0Fbx+LQno4UES0+SpxZMn8Od/DhcXbP/jK86++lLmhCbVgcGJTQJaYSZb8ovbB85v7zApEyrPq6dXrC/OGWtPNI7lZst7v/mcq1fX6FLYXJzzxS8+5fr5U5RS+H5keXuPjQHGIAPNSguTz4gfF8PI4v6BZddjk3hh9Yuau8WStqkwKXL6xTc8GXtUyozW0bmK0Rnc/Y5n45fYMUzzRYkcp4HXpEl4UtCEpFBJ0aBwuaCViJ5qFanyCCVjY6RoK/JNxhLHaWHhLCrHKUll8mQpghZ0RmvBZJSKaOPIMTDEhP3uG97f7bhD4cmUhDiy9q0ACFqTVJEiy0ViP1LcyF27Y53gNaC+ucduOnZtYPN7W+wH7/Pi2XOKVwxVJerlzu2NK82knjErUOhSYBwpRWN1JikLLsKQyMainRKbjJLEhy1EIXflwqbdst51vL6+Y7Pdstuuubu9p+s7Nus14gsGxkg/TqtMTybmInD6HOin+Ki1DHGnGCklEWNAaYV3jsurq+n2hLqu0EbtrzW1j7t5WoseyFBvSzy/S9/oeBEvd3/4tT+YlBQBJln/fYN/UjHw/rDTQSFaYiVAmoQ3Z+YZMjyZmfoGyMlIGXbDuG9c22nq2BizX4GnWV7oKFBrrUk5EMJA25Y9g66ua+bmvOjjieX4YrHAeYev3N4X6UAWQE4Mh8Q0H2s5WfuouA+QMR6qn0NSySRZ/LxByJhvdV3vE6L3/nuJ64dO5pvPe0R0mD//0ft8v1I6PA7sE0WZ7rOvXuw0E1T2A6iZyfJBH0z1ALTR5L2nlJwvxVwhTp8x0fNn9QeMQBs6p4kur1D5INirSpaepdb7gedy1A9kSmw5yHiA0Zk6RRZDwE1JbPSe1tYkVwm0l0GnID2VXuziuxAZlCZoRfGTf1KBFBJsdlQp4bdbYtuy27WMXS/uukOH23WYzQZ++9up75Zk5X11BU+fQtNIxfRf/ytXX3/Dth2IxtBXNaOTnolJcL5ec/X6lmbXUrRhfX7CzeUFD6cnksBy4ur6jhcvv+X0YUOyju8+/ICXH7xP9B7ft5y9upZFRUiokshWk7SjNBL01RhZPtxSBVEhKNrQV57bswWdc9icWHQD71/fyqiHNoxKEb0kqeXQcZKFpNAHxWg8uXhicQxRJHdKTngSdcmsSsAzoLyejB4BI+vUztYkZUkLQ1IKnMKVhDbyXSkjRXuyA+NF3keFiNYFowSSzSWBXTAqeLUJfHez4be7HR2KgcxTC5VxOOOochaZKOexlQWtuL+5lgo8F1YoTgx8qKGPhbQdaLdfs3j5Hf7ZU053PbqpUc6JXJASqZ9UVURXUWpPcnZPflBVLWzdIjJKOhdyCmQCpcuMRREpbLuBNkWGlOnHyO3NDZv1htvrG9q2Y9cPDGMgKwXGsmiWIr4SI91mSzsGhiRzovO1O6NH86UuYzPi/RXDyPn5GVdXl/ziD/4VH3zwPmdnJxQS0v8v+1GZvdloySj1w3QDOJDSgDfQrbfHtangeLREftv2I3NKB+vw48a+OaI6gxwb7y2r1UqGVnNijHGStZlWVFPDcUZZSylY8SiYgqvs9MygUyBOq0dw1Vx1HMNt82NVVU8yGRpnLFVT0ywaYbhZUWN4U617qvD27LpD7+ZNCO2QkOYK6XhTSo4Tin3VNH/OzK6brdCPCRxvk+f44a0cJckDw236Jj/xLaYV1bQ8UrLzh39PMIX4HsljcqxBzeoISviWasZHS576QdMEeBEbZ+GvTCw1Pw3BwrQwQWi1CAV333mfKN1lSqpKcRjaTUmYeylhtWI1jqxixKDIzrJpKnpXUVCkLAOHqoAP0mTPKHpj6JSiK6CsFSadUujtliZGkecxilE7NkNHNwR2bYtbb2n6ltOhF2jkdCGJSCn5e3Ii+/jtt3B/v2fhheWSdWUIBcwQWGy2XNw9cHH3gM2Z4Bzfvvec68sLklbynLsHLm/vefHda+oQ6Juazz79mPvLS0yOLG5v0AWSliwctSIbK2y6AnocqTeBOoj9eFGa0Tl2lyuGypOVpt51LDY73OS623tPXHqyET/SiCUoTyqOHk8qRiSmSkaViFUjPgw0KWIcFC1eSJvqgmQrUhaLhaA9VJpsMiwcRWVJQlMbMGVFtp6kDRjEhqYkfNtRlSiOsDESJs+oqDWxqlEUvvr1b/j1d6+50aL+7oxme3pGry25aJLTDFPPNWrpRW+tIoVEIbMZ2qm4UDKLFQObEZ7mzAdhxG86XijHpa9gFBaiUh0mRBTTXJyxMnrhHanypGVDamqitcTKU7STiJcQR16lcMCyaHo0Y+2gWaKAWKA+GTkZI2OIDDHSdR3jGIT8kZMIDBtNDEGkkCYh2TyLGjAhM9ZK2yXLiMVyWXN2ccqz509oFs20iA5TRaQmdfOC926a2/zxSugxGvQ2UtejV3CMlf3Q9iOCrMdssOlNFfvh0PmDtVZ7t9V+HFABxhhkBmlagTFr5bGP8Hs1h+mB/Sp7Tx8GmHo+ztrJ8vqQWEop+16N99UeFvPGUk9ig1qJYduByCCVDVOf5JiJp7Ws8NKedSj7Jf87Ii7kmcAsO6m13e/P/DrpGR0TG76/72/DV4/P5Zsn+fg5+6PDTF6YipX948fwnVRGZQ+DKXM47TIIOJ0XWWaJ5I6eVRumhcP0znY6hhYtxJVUJiJCRBVJKimmvd6gYqqcpgs4I7CM0hOBQWuZep/cSWfYQKvDUK2w2Qp26DmJiSaMFK0JVcVmtSB4L6/JERsyVWR/TEZfEZ2TfkUYycNIlRKu6/A5Y4tIMemY6YyQDpIqjJsti7tbnj48oMdAKoXX3qPJnDIl9tVKYLt/+RfpI2ktoqzPn4NzhK9/jb7d8uT6nsvrO5a7LRl4OD/j5uKM3ckCOyZs17MYRp6+uubq/kEgurMTvn72MevliiokmrYjWsNY1xPrMKMn0z8VA2ocWY4BmyIZTfCW9XJF11SMzQKTIot2oN48oGNkMJ716oKtb0i6IuiGLonnUElgrMEYEUt1JoEFk4QRF1jQ2hUPriZpTbAOlxIVAacDRRVybSgnViBX5VERcrbEpEjGiWC2NVgi1iiqMqmCpzA5ulqC1fRmRXGWYA05y4B0TIVv9Bd82Q0EYGnA1TXaO9CGVMR6BCeL1KgKQRXMyTkpJkoWkVw1ExGqmiEMtOOOr7XiOiTiOPL7lxd8+MH71EZ8mCwZNUpLwyZRs3C9JH8bI/7mAZtuUDFOPTBD9J5SV2KfXtUC31pDowyJDM7he8OqbmibJWOBLoz0w8DaaLZ394xkxiwMRJNlMadKoiRE/HgSmGaKy2RBOrQGtKFZLjg5XXFxcU5de2Z29BzD0wSBO2+J8U0Fme/Hoe+jMj/078ev/ynbj2rfWVcRwmHotK5rmqZQNUv2bp06A1Ho39NwrVUa7SbbiDQpLDAJeU4r4zgNsI7jCEgSrKpGIMKpGjJKYZSm8pXolzmPtwcjvZk956zf07qbusE6h1Jzn0nUzcXLSU0qFcAE2eR4UOyek8VMQZ+rkxnqkp7K1LSfKsaMsL2s1VRVjfeOpmn2sJ303+ae1ZHtdz6w6Q4nVJqUIhSQjyoqNfXR4p6wMY6jHGdjJEkqmO1DrLVvWHBDQU+Ct2j9BmFkn5CTDDbHJF4u1lrsRJMvuTDuep59+JTlcsWr169ZP6zZdVvSVNkaDSEXctaEMPV+rKVarNBWy1xMmS0zMnEy4RtzliFTpHL11u0tHSyFRcj43YgZemIubCpD7yuSc7iYcbHDaUVW0isZ6hoWjczTaE0ZRky7Y7HeooZB1Kmj9LaK1iKI6hSbvmN1f8/lZsP7KZKA3XLB9YXBxsTVbofJCaOmIdmXL2UGxXt48QKWy8Mgbd9z/vlXvPj8S2w/EKuK6+fPuD0/FWgGqMaA7waef3fNxd0GKDxcXnD9/IpYNyg0viTiqgakEm/GHjspnSSgjiN2FMfhYdGwbhq2dc3gK7QyNH3H6maLD4EUFLeLZ9ydnRJcRchWfjdl0qWrM6oE1MJidU/2nqhrchStucQKnBZWXGWo4khNxOgA3jDWC1FVKAqzbWFQqHEEo4heY+tpts8qlEqYOOJzwnSRyjpCLOyCoCnaWdzqBLVYEIqi6zqsM+RNyz//3f/Dd59/RbduMV6ztYa1Vvw2JdAGX9WsfEWFaBhWJVEVTRkhx8wYA7ZYAok0we9eKZqFZ0yJsN3xD3/9V7T3D9z/7Gf80S//hJOLS9zJKQ9tL/YWueBdhVFKKiBncSR8GEQCahhYlMJyHLH9QBk61K4npE4IG85R6ord6pTt6pS7rqMNI3cxsut7uqZiWDZsT1dsh57X9w/cbzbsRhiTFQQKCF0gkohETBHx5BgTzksf/fT0hMunZzx9doHzCl8b6toxrlshxihLVYlLwdD1+0Vu4vsV0+P+93F1dowAHS+4H4uz/hR06Id7Smpm2JkpOCtiTPT9iDG7NzThpHfSAIqgIqkclLnjJP9DzjIX5D2+qthuN4xhJKXJTRH2JeVBzke8ltyckHx1RFrweOffIDJIIPV7rbOqqphlgUT6hn2QLRwO4OMK5m09n+PHi56nvMtexFCYe29q2R2/7/H7vEvYUKkfX1m8MesjJ2qCu8oBy8uzMnVhdntlcvWUlxzmJ2bVb3EiVfve3l54NUsiNkqxXKw4PTkj9ANlTJQ+smt3gl+XAloUyNV0fIQIIQsVkYCayC1Kka2ZGrUZosghKYXMw5TCYhg56Qd0jIwZdnXNRikZvuxHmhRR1lKcZnA1Y+WJWmGzwuVMPXS4UCh9B+NAnyFUFRFwKWMn4kRRivO25XK3YxEjo7fcVyvurOGk6/jw4R4VAjFFbM5cPNzDN99IVXR6KhVTmRrzIcB/+S+oX/2Kqy++YmM033z6IbvFCcUo0jQMvHjY8uTmlsvXtxQFt5fn3Dy5QldWjo1RJGVRRovyxBjRIYih3OR6aguM9ZLNacWmrgi2ltVTSDT3I2bbw5DYVKfs6hW7iwVo8ZwyJuNywGgRmi1KkYwmmSVKK4IGUwKaAeOyjGA5JRp1GXSfSdYxGEOPgaBRu4BNAzkF0NNv2Sqq1NOMBt1nXD9K/9AaSoiSFI0hGYk3i3GSx/IePQyo23s8sBwHbFGMMaI//wr7zTWnpeCHKPblzmIpUsGkAV9kfMHp6XeXJGGYOEKKMCE5UWnGUuhRbHNhVxT9GBmJVF9+xbAbGLOBq0tWT59yYv1e6TtrUZw31mGbGm0ttl6g/SWmclDV4v+EIg4DZehJmw1ut8VsNpi+o2p3nHU9l/2ObhjZhpGHMdKrzIPSvCoJWwqjhlR5DNCbXkwZcyFohDAm08lyfe2H0SCXSF17licLnBfEZj/SctSfLqWgNEe95LdXQO+Ki28urA+P/7dsPwLfmSN4S+ZNxItoIIQoycJXnJ2dYZ1jtVrJjo0i1793eo1BLsaUqXzFcrXk7PycksXcKuVECDO9t+yDoiQZue3p3HNSskLtdlNS2ldM02uO7ckfO7+Kl87BhXb64DfYf4de1/eTijxWJuVihfN+n5CO56seb29bQRzff0wNf9e274od95SmfdrL3sz0xXk/SnnjdblMpovqQOMWmG0inFgrGnwz5FbA4Vj6mrN6gT45p/SR3Af6cSTHQMxZErQBmyIhSE8xjAFVWZQVYUvlnLD8JgJEmfpcumRcUpyOIydDEFKD0uyqBWMW0sMyB1IqFGsYtCVWAgtqrXAxUiFYui+DXGAoQuUYnKGETDWMeLSMJ5TEcttyvtthSib5ioerJ8S6YrF54L3bW0rXEsYRFQNNDJQYWNsr+OgjmU+yVujhux385V/CP/0ThEB+/wO+rS23JZCMJU/9sLNuy5Mvv+H85o6i4O7pJXdPLgmVJxnDztcUAyaIMKxL4v4atSFbJ8rURtHqBW1d0/oFWTtiArYZtx1odiNBW/qmYnu+YmwqUbNQQqvXZIpRRO0J1qGslmHLXKjzgJ/kvbSGXAmMhpqgomKICbL2lEH6hGbYCSVcZ3AC+6FkgHlWw7AxkbQiOU2KCRMikWnKMYpMVsGia4+qvUCUYcT0PTpPw9rKoPrE/V1LCDLzGI0muwrvLdkq0OB0orIFQ8RYQwyF4gy9rwnFE1JiDFGg5wl60ylTKbCqsHCaHfDd/YZ/2XTEF+/zycUVpj7hgydPMUbjUAyhJ40FlMbbCrOocasFtm7QSlFpJZT8XCi2JhtHsBXj6QXxaSJkEfNVfUd89S36+hWLV69w6zUMI0+Hng/GgS5nrkPkVcl8qTVBFXZKi5VJtNiSyExDypOWpUajSiKmkbqpOD05oaq9oDaaCT06tGEOOpxSiMT8ZuJ5I948qp7eGad+ArT3tu2HZYYmG4ZjeZ/ZIK9te7QesW6caNZuciNVzN5DpYgNQdePxCxQjdaauq45Pz/n4eGemLKQIiZq8cFKvJrgr8N9MaVa7gP/nKistVS+3tPC537OvqScGvBzPyjlWfFcGqhTf1+SkFYTzLfv/x/6Kur7w6vz95mp8seEhsclLbw92TxOeO/qNR2z8fY/JiUimSXJcGSZ5oz0pNA9E0WYEhGwJxq8MdirFTFMTLe5EityfFKY7LSVofGO09WKpqlJxhC15iEMpK6Q23aSK2Hqtc1yJZLUtAKrrQQypRlzQheFSRkbIichch4jVhui1fRVRU5KxC1JYA1JNwxVZsiJnBJm22OsRlcWXXnhHniPQhO1JWkNY2DZdtghklPCDwOrPlCPIyUE7pVmW9Wcn51xoRSXDw/oXijeWQm7MVYV69MVrfNUz5/BxYWQHF6/pvzlX8kwrbXw6afw85/D2RnDf/4/SPcPGAPnr25476uXLNZrslLcvv+cm+dPaKuK0VckLcHCr7cs+w4XRqLxtM6TlcNESFkz+opds6SvGorS9NnidyMnD3e4MYKC7rShPT8jVB5lEYiSQNGgVAINflJxwBpUzJgUsXGCb2rNWFmy9xASKalpJEx+MxiFSUHIlBT0mSNP1Xq2jjwxaHWWOamcE+SIyoqiIU8VSkkJPQSRITIWs1xQKUdIgYQhL07Eetx5cuWptWW93vB/h45cA36B8U68unyD8bJYbaqauq6xWlyqLYUqZzwFckKFQBoDfS4MIdJ3HTkEzBiocmaRCieq0LSiPLP++7/jH759xWdffMXP/u3/wLNnL/j4o4+4OjsT40ilCV1HSUmGTysPdU1uVgLpWoMO0vezfY/pO/I4ksOIGjpySsTTS9KLD4i7LevvviPc3VFef0t69Rq/XfNe2/Je1/LHufA/xsB3RfHbUviHHPlMKaxzjNutjOAAZ0tDVXmeX1zw7Pycy5MTjJLZwBQn0hbSQpgFq9OkASkanvpR/HlHQpmD5/+P208iOsw7JcFe5kNCiHsGXNd12CgK4TFG0sTgkJ2Wqf00CabKbWrMMaskzP5GakpIchN3V7k1TbNPTrNG3Eyxfux7ZMxBqy7nWcPpQFQ4OM5OhIV5BTAlMmPf1Ls7EDq+zwLUWuG9m5IEb8wgHQ7B96ui+Zg+fuxt/56fu3/P4yQZxexavoemWCXaWrOtM0wqHFKZFDjo1b3B4puS4ZSMUExVTKYMA0obdGUwzuGWC1ROuPVGqlZjZChzYoQJbDuZm01QgdIKjaEooeqqJBJAuu9ZtS3Vdoc2hrGq6KZmvkuZTCZXTmZhJndjO0R0TkQKYRI9NdZip/NCVZOKGM4tdgOqH1BjoNq2NMOIHgO9tdw4R1dVkCKnwIu24yoMNClTgpAbts7xUFW01hCMTOybekF5fU3567+GL7+USulP/xT1+z+X/lKMYvWdowy7fv4l9a5lbBpefvoJNy+eMFQ10UxWHjFxcr+mGVpCMQym4bY+x2SFHgpZGYEulyekpp6c8CLL2y0v7h6wZIJ13L+4YPvkDOUMLkVsGanLQPGi6A+TkkO90skpAAAgAElEQVTRoAx+HDBdh46JbAxhWdNVS1TRov7QJXSIoGQxZ01Eq4QymqRg1HYirWixQM8KM464LJI3OhcxiSygpyAoMK78jk0phKZhqwzKGCrpOhOHSMmREiEOA/njj4BMsJoxLbhVAavgRCEEi1wwYYfZSWWdTk5lYWQdRlkR4zWGkiJWaxqjWTnDOEbaOPKw29EuGhGVxtAqqeBNydiSOX+447LvOb2+ofruO9rzS774i/+O8ud/wdnFOU8un2CNJnc9JkZ09wDDq2nwV0PlGasl5v3nFGMoiyWqWcgA8LikdL34U9UNKhVYnjJozUPTsF6saDcbdt9+g9lsONttuOxaPtzt+HTo+J9KoQNeAb8C/sN0+erKU61WXFxdsVyuqJ2DcSSHaZE+9MLmWyyY55PKpGJ+iAk/vs3yYsctiMdx63fdfrRSMtOKO+e8N8ebE8gwDMISWa+FGWftPtjPO5iSNOfj5GfU9z1t27LZbGRSGbXvB2mthSBQSQJaLBZ4X1FNKx/nPHV9sD0/TkbHSWk+GKUUwmSOBwc1iOPtcdXzWG3hmMZ9LJhqzOzQKNI5c1X1Q/2kxwnp2BL9d5mQ3mPB032llYhcxSzY8lSxktXeQuIA9R3DkkcJmenEMi18puompyRJXRtUXWOXC2zlYRxlNMAafFURUiSkQEgRVYqwe4xCO4Or7F792yQJUFUc8LsWs+uI48DWWsKiwfkKZwzWO2JR5DGQU5FFz9T/6bwlFploR4OmYAsyCKsKbhioxoCJAbvpqNoOMwZiStxZx85XIhSqNcuSuUiZ9/qBSztgAeUct9Zwt1ywi4FkLVrBwjuudi1/9Nlv0Ld3KO/hz/8NfPKJ9JImo0jGET7/nI/+019h7u8Ylwu++NlHvH72XMzpUJQQqO9b3LqnhEJWFbf2hNE69LbD5J7ROtaLiu3yBBMV7q6jfnnDedvTDC3aQndSc3+5YlhV+LTmxevXGIqoBzhPUhNz34DNCTfOixhZNe98RVSOoXIQMu71tVifKESZwEvP1GtEpVtlYi9VkK8qSao5U8WELQlKJiGOp0EpDEKdHq0VxmQBtCJZC7NRaJFKTdUVnXP0ocemyOkQWQwjvYY2iMBpjoFqjBgntjpxGsQ1ReFKwaVE3mwJyxW6gPNCiBLB0g7nLN5oPArGwNWu5cLV3DU1t/f3bLY7hiHQdwPaWHA19yhutOVJKqx+/RkXfM7N7S3fGMdHn/we//3VExbnF7hnlVznWWD0tO1I63vGuzVlc0P88EMZmj5SOBm6nmBa6cXWS/SyF6PJ9ZJ11bFNmrts+bbase4TYwXVYkVv7rA3iQ/SwIfAxyhWwH/QSmwt6oqTs1M+/vnPuXzxHs3FFaWqZKg2SNwthQk5ytNC/YD6c2Qk8Hh7F9rzzpbEFFN+ao/pRyulpmn28zd9L6reuWSZIdLSUev7QTLmPogbtLHEFPcJaQ66KRW6tufm5o4YE1obauepvMc6Ya05696A8Y4rJLEO18Cjvo2Cg7f1Afs02u77RccHak4cj3X2HieVY+WF49fNSUlP8zxSg+Q3nvO2E/k2qG5OTu9OTOWNz98TULRGVZMoKVF+SOlNmE8p9SgRvfnZe0YhCj+z82aWpJEVpnEKY+Q4pYmF2e46tn1PN47YpmahpEe13qwZJ2mTylZYJbMZApsMuJQ5GQP1OBBzpnWGtV+SJ4+k4qR3Eo2GmMXVVGmiNSJdEyMkhSsZN1XAKFAxYVJilQYqCsuuZ9kPFKXoS+Fm0fCQC1UuNMOI05azrufjzYYrwHlPsZ5+0bBzlvU4kkNApYIvI893Oz68uWHV95hmSfmzP0N9+KFcxa9eSX9pGOCLL+Af/xH1+jV27Pny4w94/fSKYgxjTLAdsG3GDgkzJLH31o6oMrYfcGmkcxW7umFQmqZNXFx/zSJFToYdjYrgCt2qZntSYfWOq5tb9K1IOMWiiFZRtKOyChUDLmUIInxcsiIqTTvp+um0oSGzigFNhsqICG4BZS3JSPBKxlCsQ1kDk7qAHUZ0ypKAiqarHcV4SkkU5YWx6SypsuiSsRR8CpO/WJnmbBTJIHDeOFKSkKRK3bBbLNBVRRkDcSwoG2EcaLxjTIUuJBrrZJHsxNk4WVEzzCHK7z4WbMzUVYVdWYwB46zQ5kNi2zTcGUvbD2ycp18phiowVDVKSRzTqxO6ZsHLasFDN9DHkXa75aO/+b948fVLbseRy6snnJ6d8/57H1BXNVXl8E+fkq+eYT8tpBInj7ey94kqZEKIQlqol5RmhY2B5ekFpuvgYU2sFvjlKX1RpLqGds3d+pY7Y9gsav4myBymsYb2/mbqvzs+/PBD3n//PT54733OT09pqkrMGa1DGYumwkzEBp0COR/imtKznun3t3cllncmnJl79TsUTD86tivBd9J3K/2exi1zKHk/v5Nnp1M1c9/FKiJOMyvHAT7lzDiO+97HXAF576f+jNnTmo9vx1/+cVWyZ+wZEYndf0FnvnfQ5oP/GPZ7LI76GL47fly+izAF5eNmNtujc/IO6G7+97t6SG/b3rYfauopSWRW+5P/WNFhzxosB0mgmaynpsf2ZoTSCZXXlJnIM+m1lcKYEtupSg4h4IyRoLBo2HU7dBQbaJUTKmlMTpN+XMsiJTCGvl4wUBhJqBRF/NU7jFYoY/bQVnEOnUQ0tGSR6E85y4U9SbDolGlyYhVGTtqemkQuitZZNnVFj8YNPRftgE6R5bbj93YdZ1FgznJ1ye7yglw1iHZoIgfpN71/e8MH2w111xNrz28vzsnvf8Cnv/jFJIOjxdzvyy/hH/5B5IeahvLv/z1/u7nnZjdKX2w74PsROyR0UgS/4HblyKrCBvk+XbWgtxXGBFwKXMQtdR5Y5o5KB8JTz+ur57SrFS5E7BgZSyaeQF956RFphUsJHTNuHNEJOjQxJdoCY12RJnmmJkVsGFEqkdVCwDNjwWnIRpJLmMzmjBG7mjybJVpigM7VpMpRfCWK4xaK9WAd+WSBUgXbj3irMLlQTC2yPcoQtBHNOyCGRDBW5saqnuQsg69xRlOKAZ0paFFRsAYz9sLQ1BpbVdTeTyUh5JiwDOhUKGOg+IqiNLY2FGdF+SIVegVdGunJDKqQrXzWwRPMiCSSswQz+ZLpTA4D7W7Lt199QdfuqCvPxfkVZ+cXjO3AycmKpl5xdnGJdQ7vNalAQe1JQ6REGQZyDFI5W3Fr1sbKXLYWNupZ35KN4ny7FYLqg2XTbdHOga0g9tKzi5niLN5ZTk9PefbsKc+ePeP8/Fxiqp2H3icixIS0zDHusJCXedL8E2PS22Lb70L/ftv2I9p3k2BmBsi0bUs/DAzDsO/LpFyEpVWEQDBXSnl6/ewYeyy5s5f6mR5rmobVarXvIz0O/sd2D8Ce0CDQXvUG+07cciVhqGl4dYbK5m2G6eakdFwlzQf4bbTH4/sxyvBZzuCq+TC++zU/doJ+KHnNrz8mORxYM5KUcpmFWaeK6BEx4rgiOuzpbMonMJ8RDhUlRihBAq6Z5pSUomhF2w/o9YZvvn3Jdr0hjAP1YoH3jlIyXbelZDGC0znRpML5w4jve4iJ4GqCcdJ3cU5WbzqTvSM7R/CO6D2mgImBOsqgY9bTil3Lua2juIHWMXDR9pxttxgK0VnapqKtPFEb9Jg4DQN221G1A+893HOy25KV4/70jPbsDLtcYOoFgwbVtuRx5Oz6Ne/d3mHGkb7yfPb0CXeLhlIST8kHQ7/bW/i7v6O8vibUK+L//L8SfvnnjGNi+D//d+rrLdXQkZQQFW5XTxiqCkZFFUdUTAxLR2wUnoGV7kFnqtSx3HaYUhifLHh5dUXfNPggfkgoRbdaEBcVSUkgte2ADhmTBEnYLU4I1tLXXuAhElUaWLYdLgHFEC6WtM7KomKafyIXsYmf2Jg5F0yWua2sFMEoghdGn09J4LvUkrUhaycwHhp1f4tNBayhWEOynoSh1JXMoU3BUGWp2J0Bt1xh84II7PpAtB6nLV4phu2OIQzoypNQjKnglifopgHnyaUQC/S5p4SAy5nUtSSnKd5wefoCNMQc6PqWvt2xXovT9TgM6JxpjKVRmowmohhi5v7mnlzu0U7jF0t0KSzrhvV6w939A7/57DdYY6mbBb/85R9z9eR9nj9/xh/8wR9yeXk2JYZmr5RfCpRp9jMbQzFGeuxTIjLWUvuaqlmgveH08oK6WfD07pr1wx1aZ1xV4+tbXr/+lq5r6SbtxeXFOf/q93/Bn/7Jn/LivRc8ffoEN9HAZ/1QdRQbJB7aqf9reNNT7b99e1u8+6kL8B9MSmMQN9kYIyEE2rZlGAMxhv0XlH6iBC5bhOrLtMK2k7+M0gcR0qqusW7q2xi7h+zmSulYG+5gwOf31O7jRCLQnmN2jp2T1zHkNvfEZCB1buJNzrGTIOsehtsXrW/CgHIgyxuisHOyPobdDs89JPTjE/QuiO7HE9Lx/UPi0dPc1QTQzRRCeR4HFQYRXVUHWtz0/2WCUVBSHBES+6Yhsq5SSlOmoeOYE0PXolHc3d4CAnvV1UHcsT0/F4Wi3ZbLvmMVApXW9EoxWiuUcaVFQ0wXeqXpMEQLxlsaq3BDD0pYWqOy6MpiEvgYseOIGQfqfuD0/oHTfkBT6L3n4fSMtqmxRlPImBhoug7b9zy9e+B0tyOExNfn5+x8Q/QVToEeB+q7kRwjp5sNL+7usOPAfV3x9flTWmfxKVG1LdUw0ChLvr0n/Ppzwm+/JlQr0r/73+AP/5AyDJivv4WbG6rX93RJs1k9Z+tqjFO4dstJu8UxUBpFt7QY76gYBXJLkabtMSkznJ+zPj0hOIMbIquhJWlNf7JgdB5KxowF2w2YICSCUFXsFuJiWoyYztUl4uOI61oKhnK6oHWaXOxk/1FEfdrXaD15lTtLiMKWzRr6PYpQMBN9Wg8jxVuS1WyNk35mAZsSdUxYpcEqUXfXGq0ytozkruwTnCQnJ1XYpFVYe0+IiZRbXKqkIU9kk3pu2h2dNSRjMFmRF7X4HtUNuQ9CvAojMRWsSjQFFs5TmgaaBcYbTMmcVQvqdknTLGlXHWlyHOhCIqTMboxs+4E8jlhjUUauLVsKRUNyms12oBtGYhgxxtLtNvzt34y89/wlD+89xzNwf/mEp8+fc35xSb1Y0CyWOC2NvmTtXg9yVrMpJey9m7RSeF+RF5nzszO0En26jz/5lKqpWK08zsKu3dHudhQyV5eXXJyfc3Jywmq5pK7qKfbNiBVTfJocy0qZ5h5lEZ/SUQx6R2I5/vs4bj1Gcx5v/5+TUgiRtuv29uT9MBAnF9iZqTUz1tTkrZSn7oqamGhK60m6fSImTKZ6VVWhrZ+o5kL3PhYs1Vp/j4n32P7hOFHJgO8xtHYI3MIuOVCzjwkLjxPSofd0TAQo+8R0dHgPK4rC9wZxHw/lHp/UYyjtp5ywmVhyOOGwr4iO9/OoT8RMXCiFGc1UWu/dNEuZ1B4AU/K0Ws0HcddjOLMU1MSWHEdh4rVdR+M9vmlw3slck1acG8NpN3C13kLfEbxl5yxJO6K1MlDoa5L19BZSjuisqHLEdi2ursTNeJKKqXPE90GUG0LEdx2ndw+cdi0pFnZ1xe3JGeNqidWTNT2KRbuh2nSc3D9w+vAAMXJzsuLGi1uxiQUXAnociGiIgY/W97hh4M57Xl5dEXNiFQNXXQch0SrHa12z3Dru/tPfywzKL/8C+8s/QLUj8bdfErY9oTohrD7mm2cd237LKux43r+iGTo0geGiZne+InqHjgpFxvWFxbbD5ERwnvXlCWHhsb1ICfW1ZVetCN6jx4TdDdgxyPnXmu5UBF91ZVEl4nXBpoweRpEeKtDWJxRjxMplCCRVSCiCdZSqFrr2RF82RpNUQ/RWJHomCYlSxJnWpERsaln6pChGeilj4ohOieQ9gzNEL5TsgnhFGYSI4suBFRqdRS1qircEm6lNwZRCRuYjDZEhBna7HeuHe2wpVEpiSeMc3lqU0iSticAwjEK2sIbsKoyvcJPKi5ligm4cxgl1u1qOhCwKI77t6GOm3K+JRWxbrDfEXCZIS/5aBTpFTBiJuSNnwxAM33Z3lNBSSs/55RnDOE5MVIgpiFSRr1FVTZkYsagJiciTXihZoHStsVrjraWpa0I8EdXz9ATKgNGiBr5sF7TLJSkFzs/PWSwWVN7jrMUaQ4jpez31nOd4lUXwFjFtzUdxa45cj3vRjx97HN+O49x8/22zmO/afrhSGke22y1d1xFCIOe8r1xSOdCry5xtjRG3xelLzXTtjNo/b54vWi6X1IvVPhHN8NvxEOxisZjmk6o9rFdK2b/v/BgcH+Q3jeasNYAm54O0zpy43saQe0Nx9wgynLfjvtPxHNRMizxOfPP7vi05PT5BP1Qtfe9H8eiEKybGz9wjQjgfMyy3nzmYVbtT2nfdDs/VqAmGlVWtFu30In42sxYDOVHiSBwG7MkJy7MzvLVUKXFye8fl3T1DSlw3DXe1IxixUBiNE3jHivyNKRk/ZBh7SuopRqGn/pFSoMqICQGnDBbNIkYu7tecbreEUlhfXPLKOsZaFiaLmHDGY0pB79acvLrm7PU1uh/oK8/d2RnKOk5LIaZCV2RK3oyRTx/uOWlbeuf4fHVK0VC3IzZBnw3XueHWOp6MkX+9XvNEb1D/9mPyH/0JQXse/uWeEhKcnmJ//gn1+YIzM/Dh51+RH77BlELyhu3Ziv78klFXEsALuLFn8bDBxUQwhna1ICxrYU4OkXaxFD0+Y3C7gWa7Q4WImiDP6Cw0FUUV/GSjTirYLqGzSAh1vkLlhI1BaMqxEJwlGU02GpWKeCMVDSHCpP+ntUKVgI7TAjQEjIasHcU5MhMD1EDpBmLRJGNRzlN8hSHjlVx3VkE2EJUVAVYFWhURNVVQl8LYdXR9jz+7IGqNcRpTe1KMvHz1ii/+6dd89/IlZbujVI0QLoZAKpoxa2LXE/ueFAveahbe8/zyko8/+oQXz59xfnlC1hDDwMPDhiGJG3Ygg9HYpmG5WFLFjKlXVN2OFALKaGI/sN21bDZbcirUxqEuL+hD4G6zo8SMMorGKc7PFjRWkfotuwfNnQNDJOzO0PEZi/NzXI4obbC+wlhD0kl69KVQJpGfkiCGnjBOsdcqVG2IZyu6/oxSMk8urzBWkJ/r62uxutCK9fphP8zvvD1CbeQm69W8dzXQ9kDQepvi97sqoPn+4/bIu573rlh4vP1gUhqGYQqwBuuYRP9ksnvGg6XXe5jL2fd/piFWqW482miMNjSLhmpi0y1WJ9gjB9hZUdta84blw6yyvd/pN1xi4QC3lf1Bn29zdfOYEffmQXsMy+WflET2B/jRLNPjpPWuk3CcxN5GVz+uqObhX61n+xBRXqBM9g5looPPr9UareyUdMTOQ1xkJ3gVgU9wRoQe5+Ck5EfRDz0Yi/M1Q0xopanqBuMcqqqoT06o6hqXMqc337K8Ez+fQRmGq0tYLcm7LQOZMAxkQKVIPXZiU5IiKmcSmWAVwRuid3jrSSWigZgK1TDw5GHH1XqHypn1yQkPywXReTHz27UA+HqB7XuWmzVXL7+mvl8TVeG6WRB9RV2E0LGzlqH26O2OX1zfcLld02vDZ82KtVvQ7DImws44ttZybxSnqeffffcdp2Pkxi35z88/pfn436DvA97sWJ3X1B88o3p+jt3eo77+Z/LNDSd316wdPJye0i6WZK2xbaFSA67rWWy3+BRIObM7W9EtVqSsKVEx+orRONyYcG3LYujRYxCV6EqLOrURBYI8jtMKF1w3YGY7bqspRuNbgXai08zagypmqjBdI1qLT5LRZK1Q/YjTanIVVsQUMQpZXFpDsQow2LZHFZk3KimJjfsMPeUBikaVEZsSGIdX0pdMVoauo5psgEpGK1lYOaVQ6w0Og00FNyRGBbZtebi55qvPv6CPmZPGcnJ2xpOLK0pGEJyugyy/N60UMQY2t9dsFg11ScRujXWix2gzssCuasbtjjH05F2L1g6yYmU0i+WCqDTaGoaUafoRfXcvRK+QWJ6uiDFzdtKTSkKpRGU1zbKhWa1Q/y9p77VjSbrd+f0+F2ab9GXane7Tx9GMhsMRKIF3uhOgJ9ALzAPMWwkDSFeaGwKCNJCIIaQBZ0iKFI/v07YqfW4T5rO6WLF37qyurj4zDCCrMreP2BFrfWutv6l2SMUIyRPCQO972GqcNmjrqNoWYy3d0O+tesTVWgAlMU3kY52IcWAYevrtFg3M2log9Vqu3+PlESEGUgzEEPDj+Ejz2C/UD2dKj5JugJgaHvoy8e7K6E0Y+HeNJN72vHdt35OUvAACnEUX0fUqRXDtlbUYbdDaCqJkX5mIy6KdEom1lraZ7UEJs9lsz0uaLZZCepx+HpPSI1z7kRD7bQfYtykl7Nptu9/fRP5914E7POY7rtOT151mNvv3LFAmsVZlHquqQ07T22Dhb1ZRO8DIty0x3uzZHkjTaz3ZSCipXA57wLskmUV2RBexDt+3+CbEWFFqMvmbpPFSxMZAZQ3WOYa1x1RQO4uPI1SO9vQUM/HEZs5xcn3Ds9WKahgos5bh7JQ4a4mlYIcOqw2zbs043JNTxqBpdIPKmVigs5bBabxK8r3nAmHEJajGntPra56vNjil6BcLHpbHJK1pC5hxoGDYugqUZhk8z16/4ujmhjD2PMxnrGdzkhNk2FYrct1ifOAnry85vrphq2v+dvYer5sFc5+pYmS0ha0rXFuH8Yl/ebXiZFRs9TH/38mCG5v4YJZ4dhaZnc4xP/gAdXEOt7foX/0jbDaoylH+2R/zuorcDIO0e1ISSbLUcXS7ovaBqA3XJxcMRwtiEYTboI0sDGJk5gfM4EXxoNKkZU3UCrQhVpasNDobTM7MNxuM96IM4RTJGZwtZJVIqhCUFSK0cyhTYbTAurEKrMFrjarEgiL5gknT3LgUstGMlaNkAZeomNEpojXiAGAUYClOCM5Gi8IASotUcQnoJDYlxdrp3Evs1owqC51AVRJTxiC27VUjCUJnjx49w/0dm03gdFlzfnbC8fMXnF+8YAyRVddJFZgKY5EEl0bP57f3MFsQtWLhe+Ztzfx4Sesaaq2J2rDxoh7fhUTbaKyrWJ4cS5cBhbKGnMH7SNvOCCnSDYGYpepeDgM5e0qOzKzCOoPTirkqNDnhoidFz1gifRzJ2yStRFeTiBht2KzXewsKVzsUYhOjnUapTMkj3vf0/ZZuu0GVRNPUkB4X0IvZjBADw9CTYxKLC9i34STulIOkpPexcscplVDydgrJm3HsMP6KEsQTzO8bI493V0eH27tVwstkopfV1Lp+hGDL7Edw/Gr6e7FYPMK5q1oCjbFU1aPJ3eEcSDvHTpLokAR7qCP3tgD/5lDtzdbX95WH39pP3nbInt5anvz99mcAT6qs71oR7IwJD7e3aeV9az9KeWzB7RLvVKWmMjXYssx/VPCPgqzTaljQPftJ52QmJ5BqazWLxpFTInUbqkrgumP0uLbBaIsKAfqe+u6eD37+C05Kwc3n9Bfn5MVS2OFKbMWPlUbVNZ2CVQykwRM2A1vvSdaSrBPy6zBSkzEpoK2h1ZqL1Yqz61vM6OmWc14dnWLPT7BjwuWC1YaxqSHD2d0953d3XDyssOsVm9mc6xfP6ZsGjCFN7SszRN7/5pbnV/f0WP7++BNezRaoseeoHzA5s3YVd6olJscf3N7z8aaHkvjsyHE5gyZd8cxk7Myw+Bc/wZ6fwtUV6q/+krJaU46OKT/5GeX5CzmOP/9bdDfgUqDuR2abnmqzJRXFejlnvRBX3HL3INfDOLLIGT0MuEFmBjqJSkeaWi5oQy4Z4wMueJquw5QkPCIjCUsn+VuFTNYitFpATOhIOCWOwXlanOR6QkNO7bislDxPa3COgiJNtyujSU5RnCD6ioLYNqCYFgCOXDuKa6UC0wqMIxtLVBMoOU3oPB8m4rcmlp3Jo0U5gzJK/k8FNkJ0nmWYAyZE9HqLbjasIqyGgevbe7oxEGKiOTnmeLagrmoMBb/teFUKcy+uAs3DA007k2tOK1y7oJ4bLupm4klaTNOinJV9cDU5Sqtr0W2JMROTXFcSiw0xBWKOxGEjqusqU2tLpY0ovpDIq3u2XcfWWoGma0tVVxhrST7sQVflLhBCxEePVmJZoZUm5ESIgRjGSYHhcSRSOcdiPgMFMc6pakddVYzjuOcxHca2Q4Xvp4nq94+dh8WBUmoKi4VSBBCzHyZMC3hZhKjvzU/vTEpVXU09Ttl2qt3GCIvfGLt3I63rmsVy+ag/NwmnWmMnwVKLsXLwJMk8JjRrLM66yYzPcqi0vTtY+8NZDpFumaeJYn+4Dm572/27qvYA1KB2zysHT3tEMuxagfujob6dcN5Mjr8P0uT7Bod7NEV+LK2Z4HJK6z1fWCWZFeG9uIxOFRNKVsI7sm0pWXhcU8JSk2q1UorKGsbg8dGDcZQY8XFLPTcY42hu73j+q9/S3t9zv92y+eBD9Mv3UE2DqmpsLmQlqs+6bUVrbJ2J2tIT8HVF7xUYu0cMKleDLbgSuVhveXn/QO0926bh/vkLynyOJTPPkCrLkOV5Z3d3LNZb5je3zB5EUWR1ccH92TlBSXLe6oo0RM6+WvHimytQii9P3+P1csEweirviR5W+pRNXaNy5oPNLX9y+yvasOHrZcWXR3NcHniWMytnuHUOczRD399S/v7/pTysKO0MXrwvZn/9AJ99RinQfHNJur/j6H6L67fklOkWS7azBSUk7P0DSmtqP+I2PSqLQWJWcq0UlYjWUnymUgUVIjYEbPLoIE7O1A5vZ2RrUVFaooOSKqocN5QsdiAmJTKRjKO3huwsJJHzUTljJwRWVhpVWVQQJJ0KXob9ZrIeiQnTK0rZoCan0uQqshXbdfl2CqqqxALcCAChAANRFS8AACAASURBVNk6ilbkygpnxzlJUFaMGrNxKFdPn8HJ65UiniiTJuIZ0IbEifcstlvGzZY0jPjVBmMsWmkabWhKwU6UlRgj0Xv6h4Bvarx3hCxqD7aqadslpm1ZLGe0Vb03s0wli0BKgawVWlvqpkUngcvXtZsoioroB2LyJJNF604VTFFgLcW5yZm6EMNI8YMsWlJiq6UVq6sa20z6nShS9gz9mhhlcamVIkqfktj3xCxixzGJMHZKEevEGaGqKrHczJmh6yakMWL+N3VTSnkEP+jJ107iydMF//cBGp4+VmKT2sfSKYSpqdO0Z9K+e3tnUprN53uAA0z+OlWNte5bFt+uqpgvHpNS5epHDpCzT6qsx+rHTjMSN8mq2/286HAw95g8DpPStwEEj3/vktWuPFUTgk1/B6Bgl4V2CefxGOxe/pC0+67tEDDxJtLku2ZGhz8HDxa7D+TkQoEyk2bdZMOhjYGYYBzR2cvvpYir6jT03ieuCRKuJgBDKUUssyepJO0s1mr6nBg2K+p2QS4wxsjRw4b3v77iwge0cfQvnnN/dkG9OKI2gtxSWuOtk5ZmDJhcmKWMdRX98oSNqWAIlDTgJkkqTaLyA2cPG47u75iPA2Ndc3t6TjyeU1krQUtbrLbYYeT0Yc1y7GEIHH39Fc4HYt1w9+Mf07VLciwkn+kjLO4fePnllzTDltvFEZfnFwypxo8VcaggjMQSMNbz0XjDn1z+jnPfcVdX/PJ0SVaakxLZqEI/q8m5cJQLF5c3pL//R5SxqLNzmM0owwgpU1wllUXXM7+6or68Ew29oxO6hZjiJS2k7mrT0XYRYiLOZqA1sTIiydMYaXOljHKWMSciGYom1444nzPUtcyFyCSlGJXGz1oo4LTC5EwVRkqBiFgfYEXmSIeITgnbjygr5nm6tqKDF/J0LWSMlvZaVqDGgJlWxFkrabkFWaiZXNAlo0PC5kylpfWnU8SGqcUzjOAMZRBnAIKY4eWqJqZIKmCMIyuITQNtiz5akvqBkhMpegICAJjf3WHR2BBw2x4bAxtgBbjmhEY7XJHr0AyaUDLjxuOcwTcVcYy0szmLk4q6bVjMG46OT8UsUEvbse8GovfkCcQUfYQElZEZeN3UaCvt8BAGcvQQK1SKlJJEFsk6MSYMSYjnIZFCkNcNAb/ZUGKkcTWubalmNdWsIWhNN2wZhk46KzGR/UhJGaMUaVLK6foeVdfUTUNdV/u4nEoixMhqvcZajVGga0St41tdp4k8qxSTY+dbxgdPZ0dvJqV3LcDVW3571/bOpHR6esowDPuk5Jyjqhusq/YGezsVhh0D2U6zpl07ThSo9RvJQ36smdxktXkClti3DXlMSofPf9SMe0xEbzsou/nN25Afv08VIwph338gy1RtAN96v93nfRPMcPhZnsAnDw/Qbp+VwrlpJrZL6gqZCfUD+6Ra1/JZhmlQlBJ6Wh0ppUQlOEWwIski5oA7WHwh9FvCdkPabCjKkELi7D/9A3/w+gZ1ekz4wz9i8/EP8UfHbH2knF+gTk6Fj2YtykcYB3QCmhl6tsBqxbzbkO4f6LsBUw3omHBh5ORhxaLvcENHSZH1ySn+2QmcHGOqChsL+AG6QLW+oVqtCDnxcHTCp3/7d5SkuPrhT7n7yR+CrtGxUIhU/R0vf/cZ9f2KdTPnt88+obMt0dSoOuN8xzKuKLrH+C0fP9zx4f0tQWu+PD9h4yrm1tArWNctJUOVM00KzGJitmwoR8ewPKKEQB4TZX4kwWg7UC6vyLe36C6zOTlhuxR33KJkbjXrR6wXK/ChVUKgrDWhrfHGgJYhf1KG6AwiZToZwxlNMBMIQCuyU/TakGtNRlCNLiasgYJhbJfEupZWj5fZjgkeQ0E5Q2qPBJmHRo8j2ViQ8QAlFULJaCetv1K3jAqCq6GICnxWWroGOWOKQidxMWU6R20RNRDQEDwmeCFpxgBKABbEQA4CTXa6QMy0fQ+3N6ivFOr8gtm640RZ7oAt8FDV1JUTXcSUOQc+RpS2Ph/u+VIrVN+htGUeI8ZqqspgVYuNmTbDLGYWY6TerKFpiMOICgnlHBgR+FVNLW4wpUAxmFoARs5ZbCWzOUXBGDtpMWZKjmKNkwQJmUIUHpgxpJwZYiLkQsiZLhf8GAgPK1qjaZ1m0TQi0WQVXisx3hxHuk4S1HK+JI6eMI5sVytpkhlN7jqq01MWi8UeyIBW5JLpx5HjoyOJ202NUVpUeNQUp6Z5kFB74LBL9F3bm9XU7xNTf5/te/2UnJu0pZQS1e66xk2ghV2VVDcNIPJBe6j1rnWkpK/4GHgf5XG03iWkaRRfmAiuTwEIT7P2YaX0mKV39uQSng+qnje2t1Uu31mi8igmeDjE29dVuwSza/kdPvfgizpMSHt18sMvcPf7lIz2x273vkqsipneV03zIFUKqhFyoSIy9QhQxkyIO6mOZB1USFN1pazbE+eYCMCaIlL6QQbrekouN8/P+G1V0f/4J7z/L/9r8smZWEKstuTjE3LTCrQ1RVRdE60la1CVwQC6ZOqSmY0BFwtV6Tl6uGfWbYkls1ksGE+OaEohXJyKZphSVOOACQF1v8asHoghcakMD7rh9Oglv/v4T1i9eEG5eI9FGDE5omLi5De/xb5+YKNrvnr+M7rakWuDdZml2jIb11RqoJspzm9XfPz1l7gYuT454X4+p9OG0Vb0VcXGWELJWB+pc6QyhsEHbhZHpPmRkD1Pz8Wyoh/ID2vU3a2cCz/4AQ+mY73ZynrBe9zo0UBa1GzrijhvKNYQMOK3ZCbkZ84Mi5pknSwmQiBNrHuTM22MJKMZtCJPszUVAm32qJRFFkdZUlXLTCQmkWQKQXR6ZxUJAT64XDBG1EDC6TElZUk00/XkYkGrLLbnVY0yBlIQ916lRX4qZ3RJZGPxWsuCyYi1+mil9UZKcr7GiEG09XTw6JxQMVFCxJLBIKTYMRDCHKsdCoULkWfGEBtHPwRmWtHkzKpkttpwm8RfqQbWuhUyLTLvGZXGKk1V1ZjKUbmGyjhc26KbCqoaFQKl7ynWokNCV26iRABFU9C4aZhvrBNuXiWLO7F810JHKFrsOzRAQpHEBwollXQuk2VOIQXRIkwouhToYiH30A4jVc7YxgkoKSdCGOm6rdhLaBG+jqXQTcCzMg7YzYbZ1KK31k7dFJnPpxRxTrQLTZFZv1IaXRKPeATFYSjcKXq+a3s7GOK7Z+6/z/ZuntIYUEpT1SKWOp/P9/Bsac1ZzOSlBDLT2MkMTQ5y8jO10pQ6JK0+qirAFJcnryO1ewo7cMVhz3KXDA4OgALI+4S0AyW86Qnyn1spcfAuB3XevnqS/izsyLPvGhLuEtJONzAJdXo/rMxp8jLarT7egJbP2lqsJ3Le84q0czITkvGxEOq1aNiZIgfVwPR9iKlXUcIn01NiNAoMRRS4uy1VChxVlgLEkgjLGb88PePEGtqS8T5QakNlHFUutEBT1SjdCOckikadKXIRmBio2xmLbsT216T7e0LJbI6OebCaZKZjuJwxp7AwEhRMLribB7Z3D9z0ka/HwsYnQgm4c43+wz/iqChstyFFjf3ymuNvrgDF9vSC4bSlsQmlPbl1VDExH0ZCU2Fy4L/65T9yvH5gtVjy+uiYrp6xVo7NbM62agSqnALLcaAmopRmYyq8W9BUDbx8SakbcsxwcwOvL2VlfnqCfvkCVdeUy1+BFT8o1VqGiwXbWtpDymgIiawyyTgZEFtHNEa03YaRevCgNEkr6rGX88tC17SUyqBRWB9xMUGMpMoR6kY4PtpiSkCNQt9QOZMauU+hqFNEp0BqaoJrRKhTKxlIF4XJwnOKFLx1oIUaTwalnfgPlSy3TbJie36blplnKcKJkpaGEq+tpiXCBHaoJUnHAjFS5UhyGjNZZxQ/kpMijgPbxYL14oj+aMs63KGtpcoZ7T211TyjIjcN0Vha1zAYg1ca18xQxmBrx/HZCbWrRX5s3uLaBmUsKRUxDdSBRhkskSpqUaJBkK71NBcTTo+VoD7FrKy0KD1YB01FUgUVAyUHIFFymOZThZiL6Dcm0FisSTjr2Kw2PKzWdNsNlVXUlWVW17RtI+11BX0vsPE4pkk0tTAMwiFNKcHtLU3f0/WdADYmYFnfbTHWSNyZWvrL5XISFlCTGAKQJy1PxX629E/Zyv7fN/pN3/PS70xK19fXLJdLqqbe7+AhTHsHufbe7yHce3WHN4Lqobr2myZ4bwbzPFUMb/KKDmdLchsgOO3phnfvLBxUN2856DsLiaePf3OO9OabPJ1p7VqLh5D1NzlIQjg0koi0lv1V6sl3tec5MZ0gkzaWMkZmSlP7TYlBDZN5KzulBrFrlwtIGTe1jA9ULpBZVUkFQ8aWgiuJ2lnQLX2GbDRtytx7T98u6GLCbTvaDChNYzSVknkUrpJBPZV8d1ECpu062q+/Rl9ekvue1dkp4/RYlwJGCeR4XldUZBrAXN9R7tZ0XeDSV1yN8NBv2fjImBQ/GQPOO4quMFcdz7/4Lba7h4sl/qNnVLUhNRW+rglZ0XYdM+8pleIHv/01Lz7/Aq8MXz3/iOv5ktFVjIsFW1vjlULFxCJ0WB9QRbGZHxG1Zh1ltmKPTkkY9GqD+vIL9Ooec7Kk/PCnqJNjtDPi7Dur0NEwXCwZq4ZYWSofUcNANI44a1CqkIxI9Wijcd5Td4PU6E6s5JuSyY1jqKUjYXJC9x6TIzoUct0Q5w1eOWlTUSAHDFpmOMqQJ9WSOgac0cTKMS7mZCucQpXFosRMM6FiNbGuyNbIfBJpByqrIIpCQd5zm8wUxPQ0T0H8srSaGncanAKjpQ1WCYBKDADBlFEqQl1j6gplLDlGRl+jlKEfA6+vb7hrG7qjJUNMRG14cBX3aUOaAr31nsZmFmiOTMO8qXj2wUvmJ6e4+YKgNUMpxOwpVuaUWmsqAw5FrQ3GWFTlCLaS1jbixipKKIhGoFJ7AnoJUUAkKQlcPyZKimJkWBQpSxs2IR5WWlkqJaCDSnlWfqQbRoZuxA8jYRjICsKoCd3A2A9Ya3DO7h0X7ocHWfBZK7ykCTTRdR1hkoQb5jMBny0WxBRACSYgI4oUu8JiL3Q9xQM92fDsFtrfF0vfjnZW3/r3O0LmW7d3JqXtdks7m7HjH+2AC6Kgq/bRejf/0erbKtvwdKB/mJxQjy29aTff2OuDfKMm/4/ytH33uJO7Cub7S8e3c5sO3+fNxMeT+7/1egc3vUm8fYLpz3kP6dY7ifgyiaLuQA27z8R+/Ig2+imke3ecd5+nSOJS+1HUbvZkp0S2w0Qd7EOSVa+R2Iedwo62GqMMIRSMKlhnUUNPip4eqEum6jqoGozS6LZFWWkzqKrCDAPKe0zfs3j1NbNXr9DbLb6d4V++pCREXBMJXCoHmYFkRXN1T7PpGVdbHmzLjSl0JRGUYjM6hsFQZ6huE8t0zYfXn3O0uaE0hutPz/AvXhDPThiOT+iVIcTA/Oqaduw4vr3l/V/9ErfZcn36jKvlCWNVsV0esW0rBu0IGGbDSJUiSVvWbU2Kmegz1hbaAp0qNNnjLr/CXr6CqkL9+GM4P5dzJXnAoEsmOUfXLkhZUd+tqEOCShEnhJVKA9kYdM7MhxHnAyqL1I9AfTWRQjSGZCxmtUbnjAlJKttKKh9yxnYI96cUlFE4BcXYqWIBO51fqXKEtiarGjNuMJOnWVFaZItUEbSYdWg1ygImBUqCnSSNyZlsDNlaipt4ROwqooJOGTToIIAjbTQlZiFoA5ktSkGKScA2qmBsJddDFBX5rBRZSVs+5MxYCmNb07mK7dExeXrua+8Fgo0SfcSQOTY1Z0b8v44vLni2PGI5W9BvxFZlVIreexGXTQabpbpzWmNSgr6QbEE5S6lrstEYJw632jm0Eqv3lBKaRCwQkdlNHkVDscQgIskpyvwtyxwpR4lTymiMcuSQCb1Hh0iVEj5mQNxhR60hZayzpEpadilG1uu1FAhVxc6lYSd8nVIixUhGUIfWWmIKFGC1WuEmi6Dj42N2wtRT4JH4UCToPXIfD+IiB5H6baAt1NPQ+1/YxXt3Uhp6zpWIbrZtO5FKRdJn57R68LGQMs08aW/pKZDuA+V+XiKM8aweIYmPr/TYejs8CE+TidpXBo8F0+72zB558Mb2rkrpv2hTj8fhzZnRPsFMn3FH4rVTy/MQCLH/fNOsiJyfHK89YqYcyChpLT15pgJZa7IFlSZwQ4qP7dT9iaZQSUA2RSkSRczMyjSYLVHaeVoCW6UVtmT0as3Vr39N88MfYY9OxIjRininBCjhulTDyOLrL2k+/x1uu6U0DcOLl+SmxTQVs8UxWhv8mPCrDepuzfzqFYv7e1wY8dZw6yrWQ+BqnemCI5SKrOGFXfOyf+BPX/0nLu6ucW3N6sOX3D274MpqwrNz8tkp6eiYvN4w++Yb2m+u+PAXP+f41RWxrfnm5Yds6paHuuZ2eYKfzRmqmqNtz2z7gA2BoMTaYZ47CT61ozdQVOTMd7z/TYf5zS/h+AT9/AJlNeXudk9Mzq4maw039yxubzAxUBpHUoqUBeHGZJthckFn0Y5DCVJfa5H/yUkUG4xW2JCkMlIyf4qVpYyRWRKfpLxDo05kSq00qki1orLQAILRUjEbg05iNVO0QZUk7dyJO6OMIRdpGRVniLvZY8nir1TVcr05N7XnIbtqoiEYiip7DUWdC3aaa1HKVJHJeaiLEpi5NhgbwT16mOWYpAWmDKkfaDZbLqylPj1lO49s+4H1eoMvGY+s6iNg8TxsNgx1TdSWeHaOfvk+9WxOuL1CbVeYbovbRPSmhypQpYLNC5Qy+ErvYCXYyUGXZKFtUGiccWDNZNUDQWkGNKkEUgisVt1egi3GIDO+mEQtYbJzmYQyKAWGrWfYjjJfSopKWazIW5DJlMETRk8wkvRCjKwfHhimrtVhd8dbv+8+DX6cZv2gJyft6+tbQkz048ByuRT5J+fYjZR29B+160gd5piyo8W8HVEsOqfqaSLa/Xmwv++YcOy3d/OUpmS0gxnuAuiOsKWVkLIE5XaguKDVZAK4gy6rfXX1BEVX8hNc/LdBDbJTj/DqR+06qZSmUpPCnpRVDo7If+62q8a+ffPj6x3+Pm1aP0oBHfrdCxdI7jfWiqW40Y+qvNP7GWOkjsmT7aPWwi3Shv2nKZPS93R8pUUmttsg3KA8zdXYVbETIhItMPCcBHggGtpQMtNQWwJhyAmdI5FEyQblI673zL3HE7i7veXZR58wn7VU8yN03WIqR8oROk/zzTfMP/sN9mGNNprh4oK4XJCbGXE2Y6wXjNWSYTuiHq44/c3XtK++wm7W+KrhYX7MGseroeMhdlz6W5QpnKWBj/0VP7274QfrFRfxlPDiBTcff8L6/IyH5xfcGKCegbIsP/uGoy++4vnPf8HFl5+jY2Bzcc7N8Rl3F+dcz0+5dS1Ba16MPeeXr9BjIjY1iYRRGWU1vmoZKse6qmiC5+X1A+04os5PUH/8R+jjY1lhOidVSTsRRifAiF005DLHty3DfCYKCdO5qyJUJGKcqgGjpN2mFElsbqW6GEdsSmSlSFYTnXgD7TTutAYdBYotvTAl8N/gMT4TlSbVlpSyuO3KwEBO5ZTQMVG0IVLAiIyQ0haFJJA8LUJNjITZAqpahFRTBmcnBXAzzSEez2ullVQagNdGoOhp0sgsu+SrsDmji5rMO4vMp6yj1OKxtOtcZyOttbZtsEbUMUzKHDnLECZbDaBCc7SYYyshgr++XzPkV3y5nDOrNMk25BayqqmBVmfm1uH6AesTs3JHdIZYt+R5K4uuqhKtwloULRIFXQq9HxmVpR8DKSdiEgPMTCbFRIiJkISflH1Ekck5CkI2F1kM5ECjoMkIyi6I7JQQNqTiVFpjisQ/YgJk9l7i03hkduAmpcAYitKM3lPrFqU1/ThitluU0XTbnqZp9xXWW7fy2MD7Loj4bvFtjDlAgD3+f9AzesxI/5SZ0g7UsJsByYd4lMSRtp5UT3Ii7uLhwTxpl2w0Ekz3H1FWX7vdftOc780DI+9Z9hl9VylND5HPI4OTfUY+xEO8Lbvvj91+prNvpk47Mj3hsB33lmQnVZ2cLDlngX8GDxzA4fcV4+EXLPIqcu4J/wgrLHvRsdPTPh+cbKLSuG/3KWOmsrtAmVSjjeZJdh2jyMP4KLL7Wtp6OFkNG2cwGaKC5D2MPSYqVCwEH6AUfFZsuzU9hWwt9vgIZyt0zKjPPmP+859jVg8Y1xCeXzCeXzC2S/lRFUk7iAl3u8Z+9hn1L39Jvr2lo+bu9CP6xRH93LKJPZtwg/c3hO4zflIyf7ju+Mn1DW0urJ3j9ocfM3z8CeMPfsB2vmRraspmhRvg9KvPefHb3/DyH/6edrNie3zMl+99yu3LD7g7f862rhhjYbFZc3p5hS2K0dU81OLhpmYtqarw2rCdtaiQ+Oj1NxxtV0QNNxdnVO+9B8+eCThg1sJiIbOGbiuLBCuWCt17L3lYzMgowSrngs5iS26CJ+dCcBNnq0BqLEUrSAUTIi4llNLkpsYvWlKZFiVT1aLJ2KzQNpJrqU60ghIzabZgrCtB7eU8LQClBtBGT3JBkpDSdH2avFP4V2iUiIZmSM4QtJ5ajZIgSynoIvJUOk5yRUasIEueYOAhopSBMqB6plmoolQtpq1QOZLKJM46ymuRo1RxUaERgde8mDHWFaHIuZetCKgCbCh0gEeCWbaW2awlABsfeHVzzXp9T6MNH77/ProUYoho5/BNhaob7usGWxQNiSpEXBiZjVtstxFL+KYhzefQzsnzOQUYlcGHgA8DoeuJJRJiJI0DIStCSgxRlMeT92I5XoqIruadtU3Bp0xwDo8iZBh3AJIiqMeJBSuirTmhcqbKWeZWZCHRolDGPnEwV0YWwd5HbCVJ0PvAdtsDiq7rWSz8GzOhx2roaXzb9/D2wXaHJ3iMqQhHsRw8f1cnMHW/9i/4rRD6ZHtnUmraipvbK3KJLBdLLp5doK0RmKYBNRGttJ5W72Z6w70teUFMo3ZeRILmkZLTPO1BToO1N3lBO+b/jkiqtZpEHMWBVE3WqDtQgFZyMpfpApYDNrXJpoTzKBn0mNVUkS961wqzToAExux6rpDSoeZT3tUb1GYy7soeo2RYaJ1Yc2ilMVZP+6WmBDOh7rKXFRMTi37Xoctxev1J0WJa/ZYg/WqDeFiZRhQzgL29SAiJumllaBoHyhAoKUvCUeIQa6wYi6mS0QWsVjTacTJfsrm54+6Lz3HtglDXAgO2FpUK3bbj+vJrKmd48fw587sb5n/395QvvkDlzHh6yub9TxlefkSvGjofKOuMKQO1iTSrNeaXv8R/8QqfNd2LHxHeu6BaOIgrhrvX3Pz8P6J8x2Lo+enY889f3/DcR7IqfL2Y8cXLZ7z/p39COblgMBXGVLRoSj3n2Tdf8eFf/wdOf/MbvHF89fFP+OqjT1g/f4FvZ8QETTfy7PoVKkf8cc3D8RHZB+wwgDb0tqJvW1IuvHi45dnNayhwc3LO/fERUJgfncPz56jjY7TVcH8P3SjfXVXD+QWlrhn+YUboO3TKlJixPmBiglwYLFSVxWFBZ4F/x4JVolmoChRTMbbTXLCYXV5DWS1q6gjoJRnR/yslk4whFBE+LUrmTUUrihYzSJ1lzpOB0lT7gFFCJFmZ6ahpIZi02D8Yq2Gyhlc5YVShTO2o7BzJTkg0a1BTxSZwbHFaVcVMWU9Pc8+CGke0KjJDK5nkNGBQxQhgRilMTORhoOoH3qtr7oF+GBm1JowDKmeWbUMpPWPMBGCMnu7yEj+hAv/uq8+ZNy3LZsYfdQNHs5Zl0/De2YUMGooiByim4Os5NAp0IWaw44gbt5jgaW96VPiarAx90xKqGq+gK4pNSCQjUl/r1VrsJ0ohjoG+71j33ZSgCtoZaWcaIx5OfiDFgJs15GFDVxI5BqxWVMaQ/IBWUKuMH3pC8OJsH4I0h7TCGEspihClhVmUoehMUhG17rhbDxhtOD454vpmxTevrnj24iWzxZwPXc049hRkhllNiuJDlvYyPCalXUtvFzetmwSftZ7cx3cJa/eIw39//xHTO5NSjHGP6lBKsViKO6woez8qzO7mRjnnCToK+1V+4SDRlIOi4+0Nxncyg9Wh5fjTx+3epxSgqKnaeBzu77hMb32PCSwgsG6pbnKZLrypRi5ASfIaBbATUkcbRfKdlNaUSYhSqkatHqujkndIvCh9cyVEuqK0nFw5TajDNCXPKdkC+CSrJJDb6grlRHdsV5HWtUj8l1JEwsZHVCy4SlOqas+7QMlJnGLcLxvwAT30mPsVZhxBO4KrZNjtLLWpyCFRbUdyvyXd37L893/F4vMvMcPI5viCh/c+pj++ANdQ+oJ1kVpZcqXxDyPq17+k/Ppzch5Qz04pH1xQn8yZu4hm5PLVDbG/w/uOduj4F19+wx/drGiA1yj+4eyUy+fPsefnvDh/ga4bVDOH5QwzBt7/3/9PfvR//Dtst+Xh5JxvfvYz7t7/iK2piHWNs4qTu0tUGOmXDau2YsRw5CMlSGtqrCuirVhsV7x/8wozRlbLJa/PXkhlQca7hriYoZdz9PoBuk6g8IulKDs0UjkVihBJvReiaxhF+ZyCspoGKEWTrSKpChUjLmUsmqhE2SG5iqJEIiYZizI7S3pps6HV3olXWmJZSMxGC3dGy2JOKUHFaaYZr7Xkyu1bwBgNTTXpvBVQkoyErpAxqoCpKVoT4qTwkjMFJcCAEGV2FaK0Mc1Bq1sJ6ZdJ7y5nJkpCmmY3QBKgT2n1XmUkJ7n+YqfIIdEYw1HOVAW2k8WFDR4H6FL2gUxiTZTlX06E7BmUVBKvH1ZsUuYYTQ6JWdWyQNNaaNHUpew1+owVB9ihbdA547oeO27RXY++uaYZB076gUYVTLE8QPrvuAAAIABJREFULI/YVo7b7VYAIClD8OTgIUT04NE5E8ZMKOBR+BSJ0YvdBIVxuia1ElpLiBGfElkrhlgYsggZ54JoVmqocsGmgNbijWWKIioDxpF0IoRM0wivtKpq+qEnpcI4erwP+w6UUvJz6JW3i7lvxtknsVp9l7zAQXX19Jbv3b7XTylN3KNSCtvtllwKjRKvpN1QUk9BPMUoH1btPO4PEXiPn0/tq6mnO/1dCemp/A5P+pb7ZDRxdFSZElOWVYTIxR1CyQvfnfcKTPOfGCNiaFam2Y6SCx1AK2pXUVlZWdx3DxRVMM5gd3D3A6XxGAUimkMgxSiaYbUWOPikaZfy48HJky6dLhLYjFZkozCVk9aLk6FizoliLAoRxI1jQHc9oR8wRmFmc9zJXIAMaMhxOmCGkkVORvcDTb/BlCT+MtagZg1pqn6dsVTzBSplmocNz3/zW378tz+nOnnO+uJ9hk/+GfHZS4J1oI20i5ImmTnFNdjf/Y7Ff/j3NA+XmJM5m598gnrxjMXZMTkMhBIJnef1+o717Q3vff01/90Xl5yj2KL5a6347cLx0FS0GkxTo1VGO40x4L54xYf/5n/m+He/JlG4/vjHvP74U/rFklwKVR44vbqi9T2j0qxdzSZHzNWWoxRIlYPZDEWk6UfO7u44ur/Da8PVbE40lqPbSwKIA6zpaLMn/8e/EbHSppVZUkio9XrfxisxMP/iC/LlFTpDdpbRWpqSKMaQlSY5jUNT+VEWQpUjuorojMRwFQQWnjNFQYkCfLApkZxDpBcSJYPKalrgTOe8VoLUKwWV4tQ+hqLkWjXjCCiKUWQUJgoBlmkB5ZB2YFEK3Vi5frxHFWktllwgRan6EZFV5SqUH6W9GMMerMRU+SUUZLA6yyo8C6AAKzYOTAivkiUWaCWqLaF22KYFHzGDxw49i74nrlYsNlu6vGvSCAncAk5CABmwfoPygS2GfHIC3UCtLLHr0MfHqDJjdIa5U4QkmnXKiEGechZbCsZV5LQkNhtyvSbd3qHWW8x2y1G3Zn6pOUmKHDyX7ZzVfEauGwri3BwVQCRsO/wkXzTmTB8DgYKqLDlH0cqzhpIjwY/EFCEVKJqYIj6D16KRTQaTZV9dihg0DoRYPIwCMlGG+WzObLGgbma4rmNQA370BC9OvfI1SVCNMX73jOk74vQhDeZd2/fdv9u+NykNw0BKiWEYRAncB+bzhDEOpQzWChw85UKWcxq9b+PtMpFmB3B+omaw70G+gUCb7j+0eHjsaz6OfL6rHjyUHipZkuTTDP+kCn3UVlUiPNlUFV1KUsmkhHOTAaFzotHlPcNmRVcSRRXqRlxXjQyoHu0oklQ/eRwpB+TYb1694pvXr/dJP8Yo7ZQiFVKJETPBOZVzVG3Dj370Q2bzlqapCEPPOPRstxu88TgFx0ZjNh0xRPo0UJICRtgKus5aN1W2BqsVbvTYzQYVEnUrYpB9d0uJHh09635AF0frLMuzU05/9QWf/O2vaXq4nB+zuvgU+/I9FifHzI+OyMrSecPDKErPi+svufh//i+OvvkNtIbupz+l/8kPmT+7oLgaZQ2DGvHrntvLK+5+8Wv+/K/+b34WIhnNZ8DfAJczxahg1W84f/Gc5cUz4skZpplx+r/9Oz78X/8tNYm1bfjmv/lv6Z+/5I5MqFvqbs3pwwqFYruc81DPySlQRY9SNcYucE1NSIlmu+Xk5gaVE7fLY7aLhaxstREFBOeoilz06vyC8oNPKE2Njl6qE60gCKSaWUsZRIk7NDUBqMi4KK69ycoiw8YEU8stKY0vCqOma6UIX0qlAbSmGjt0jFJ1VBUqytBbpUi2mrwjsAeHjZPBnzHSNZuSQ7IWYpQkYhRlPkOPEVdGgXk7sa4oWhFLEdHWUlDeC/8oTTPdNL2GVjBJiWUZEYs6gpEWHKWgYtmVcRSf0KqQkPu1M8KnM5aSdg7QSLJSCZULFuE/muURWmk22tBFCdR2DBzXFan3DCgeDhrzYQoPFdBgaWvH8byhtYaFglny1GqGKUlUJjSifFFk5a9LJo4B/CCJoKqIWrPNCZ8Kfcl0EyCpqVqOg+c8eP7YD/xsfc99Kvw8ZH6zWHI7mwvSNSX80JP7EZMTtYImRVyMbB5uUZV4lZXakUJhLEVsUEohhJExyjE2k0hsYvrRlgFQGEwpOBRLDEepUIXIh1XDad3iQazeY2S1WrHebBjHkXZWIaFWEIMgXlNvpb8cxu/p70NptcP4ffj7Lh6/zQ3hze17ZIZkJR9jxHtP3/dYK0oO4zjuce6CyNtJBE3EUWDX7FLThxPEzSPBVE/ggu/Ksm8nZh3koXck3n1iYhrClcMn7aZX355fMbVBRNNKT64dmZITcYiknGQ/rZnQUhP/QgHIscopMfpAv1nj+57Nes0YRFbfx8Dt7R2Xl5eMwRNjIkZB3BAj2nv5/MZg6hpbVVSuYrW5Zz6fM5/PuHx9xf3dLZdff81xSjSuZnF+inYON1/SdMKhyAXspOaujSCq3OUVTT+SU8RXjjCbU9qKrLKs/J0laYXPYmtx9uUtP/23fw3JcNPBL5YNV6fHnM1nHCXNPFWcqCXZGGgDobvmvf/lf+LF118wqw2bH/6QzZ/9GXzwA9TxMWkxI8bI6D3D2LGOkdlf/AX/49/9HTPgCs1fKfj1xYyV1Wyqmli1+FyYvf8h5uMfoSvHH/7rf80MAZ58/eM/4Os//3PKxXPC8YJ0e8/JzTXGGob3P6Q7O5HK8e6BHGtS8pii6OYzTNGcXb1m0W3pZi3b01NGW5GcZaMdwVqUsbiSya4i5ox6do4+P5VZS13v/AtEbmgYYLOBtiVcnJOMqFNk1xBUIVUVCulwxVSI2hAR+D/aQGUflbHHURS8UyY3FcnNKRNgRU+dgWxFjVuSWMTcdxQDGoXSQThCSgAIKiYSokCgY8H2d+hSyM4RjJGJr5P5hEKhh0GCilECUdfISp5a/p8G32UiYytrpdo5RJEqJTOmBGRJSqKvpgSVm2WuSVYTeEf2QwTnEi4DuVDpRB0iMUSausZXNU1dU1cNZ32gnSa8HfAlsFayMnZ1i57PUbM5+tl7KFejm5rctGIw6T3OKKgWhCLz22wkwZcYyGiCzig/kkYPm46w3XIz9DxkSMpBpalnC+oYmY8DR6tbju9W/Gm35s+GDeti+JqWv/z0A2JKhJQJSRyZTdviUqREz0KLdUsZPbf9wJACdt5SSiaWRM6RmAQZSpj4jgA57qb36HaBthVqNmN0YosxzhbQNFg/sPQjabWi/ewLwhbGTz+lnT2bOlvS8vwuHdFv03Iek82TQuCNx+wetwNHfF/F9M6ktEPepZTw3k+zJUMuct+herhSclHt3vwp1DB/60NprffDUA7+P9wB3rj/9ykRD7epczdxJqYDtYcyPG574hfsFSrEqGsCEYwjftsxjiNqUrNYLBbUdUVVOcZxQ8yBGBNDt6Xve65vb7j8/AvuHx749ee/4/rqmrv7e65vb8hJqqjBe4GBepEhUeMogAprUMZQTQsAay2zec1yMefkRPTJQggMD/d8dHTE/Nkzmg9eMj86Zl5VzE+PhdsQIm3ToJAFQ4wB03UMBVbzObHSxBjox0CjMqezhtQ5+uy46x21mVGtV7gRvnz/GX95esTnSbHOluX9yGm74ry+5IfnC5rKYkzhQd/y6Ze/4HK54Oq//x/QP/sDThdHnJ6dU7Uzujiwvr5ifXPN3fUVl3e3/PEvfwVo/gL463/+Y1YahhDZjqOcU1YzxoCdN5xdHOGco0GzJfPzf/WvCB+9j1cOZx3Hl685W90Tqor+xXNKO8MaQ8qFMgRMjKLxai2L+weeXb/GAv3pKb4RLkqsWoamgmnOQPDUqlBCT7SGmDxq3sJ8/rji2W7h9laCqbXgHJpCMo7gNCyXGJUxSZZDMUZSPTm1ak2ZHIDRhhICqhS0qykaPIViHDpEVMwUp4lVRTFAmjTkoheLhUq4UqDE5iAJ0EEqD42KGTtGTE7i06QnxF9OlKjR/TBdPFNiMYZslbjKaiNtSq0oU/sPI1WSoEBH2Z+dM3SMU+dAiiVlptmtmhQh4tQsyUzq16Klh1IkRDBU1TVWKaqFY2YsVA19yoBFFU37bCAaTbi9xwAXiGCrr2qctRyfnLI4OmY+m3N6dkZV1VSuERWSusLnTAwRO3rGXKiCxxgtbrlKPKeUqojRE2Om63v67YrNZmATPCFmtFEEVbPR8Df3K3SxtEfH/PQHn/BJVLzfF55tH/jy00/57e9+R4lCuHWu4vzinLZt6ErBTy15up6FMgxKU7ta1CHGQVQyAD15Oe1ivkClYImhtiIHd9SIosOsqTlqZ2htGGNkO0QebkdMv+FF1dPfrjl+/2KPDxBo/nfE0zeSzZvi0oe8yzcrqkPxhH9SUjLWiZT8BE8efUTpnpSFlzT6SIiJum4mB9mKlESUNU+B0BhpbR0SPpV65CjJ7btKY/e4x4XWvtO3T0hvqZwU+xnWdAu7xLODcBe1+wf2bC4eUXu790xJEDF1riYdKGFla6uZV+Kaa7QmRs/D/Zph6Pn6my/YrFc8PNzz1Zdf8HB/z+tXr1mv1wzDQDcOeymQmBIpCus6xCAtvkl7qkxGXHKRivS9kFo9D+OGsd/Q//+svcmuJFl65/c7k5n5dG+MOVVlDSSLKrEBscXuFtgQuNCqVwJ3hF6kAT2EAEELvUQDDWkjoHdSbwSpmwtC4NBs1pCVEZkZGdMdfDI706fFd8zdIyoHAqQFLu4U7tfN3M75pv9w2GoFVwoxTUQDy1LY1sJqvWboB/oQGIYFw7AgT2Ob9xWO45G86EhTZLx5RcyJacr0BnrjMFfX7MeBXeooNmFDz90f/zf8+b/8E8Y3B/LLl/ha6E1mX2+5f/41v35eePHqU2zosd5z8/aO//PnP4NcWP3t39B9/jkf/OBjPn74iIfLBWWceLXd8vb2lv32nte3b/m/fucn9Dev6VcLHnZLiquIj+R4xDvAOq7WV1xdXbO+XuMePOZv/9f/CbPfY3cj1jlWNzestztMKdxcXzEu1toWWyx1MHzcY7uBySRCKnz8xTPWhz1p0XO/2hCHJWmzoTy4ZiWeJ94xeEvvPX69xCwWmNDjVgtWK9VTY7fTjfd4PAej62sl4eRMtlZhx92AywVbClKqwpyDzg5K8GqmVwWbC14KPhdMzc2jyOIK2HHEUCnWUYegm3ypqp6B0SrOqZIEAhPgAsplcpZqVSdRpFAXnhKahYXVykRh4FqhiYBYD4bGjdPzMVVbO5TCTPzFq7gqLrQO/YyX1XUmGLBNedxpkJutV3QBOiR4kqlU7+mbwKmJGVAlceMcYbFUKPowsBBI/ZJhWKgaSNeBD9zvj7xGuy+fLAas92yurlmuN/TLpUKmS6b4TDKWnCa8U1Sjj0cylUMUbC1ILtTgm6J5ppRMiYn7455DKtwcduy3W0oTuS3DAt/1fProIV1QUIF/9Amf4fmy97x+8Utunz/j/sULFt3AYrXiJz/9EYthiXGW+OaRghyc43jcE+OB1fYe7zwFIYohoxYkXPiqKRFFsDhstyTYjoUf9LyHBYu+43g4st9FDsfIi6Pn1eohd1eW9U+u+N1NIKXYeN/vknH/sY/fEqL+luN7nGc5tb8q0iqmhIih60aMUYSKYAhVA5eg2krGObQ33pwT7WzYJ61nq4oO+rN6CkZwro7ebbl9c0A6//4ygJ1f/zyDOvGLWvBT3cF3QRjtWRSOLVVh5YK2TERwxoHoDOjm7Vtub2+5vb3h2fPP2N7fcXPzhi+ePeN+u+X1m7dM06gWw+1vzeel5NpKLW1gPF/o+SybSZ0CCBVFVaUQow5+rVFkVCmZw37fbI8r6/2eYViwXPQsFiuWiyXHzqsQZC4cjwdyzqRUOB4OxGNhmlT2Z+k90yCkaigExC5IrEllIAXHuDa42wOPpz29hVdpz+4wcRhHxIq2DJxntzuQYkLixLrAuusotzeUDz7k7XqNtZa7t295tb1njEfutjveHvYs1ivWprCJezqj8F4LSBYciUU3sFpblquBUDIMPTUX/JevWL36FaVA/uhDxgeP2adIWW+ovgccfr8llEwOjuubV2xePMdNif3jR8RHT3D9gNus6ZuCtO8Dy6En+I4wLFT7cbmi6wess/Sd00BUq34GuLrSzzHqpr3ZkK/WmPGAOx4xVVQSaOigUxg1lYbQS0jOBNpc0hmSVw1BlxWZVYdAdW0u6zwmT5hiYLkkO22TWautMhGDF9XpwxiSs6jIiaUGR5mXQa3UczamAWOu/GpVAJE0jGZSFXoz+1GI0UrNWOUotXvYAEhRnoxXsVODxXhOi9HlArY5KJuK5ISINAmcXlGvNLmjrlOdyGGJcR7bL/FJ6JxnspYQM67rCKVg7ZZOBKmFwQe877jyjgVCb6CmiCPg4oi36PkaPZeCaODNSsQdRbDJ6vuWMyUnpuPE/f09437P9vaOdDyoVb0xMEVMWLL5cI3iXHt6DMtOCGHiTRFMm/Ut+o7rzZonDx8j3lNzJCwWKjpgLWIyiUK1ThF3pTKKEGlgERTS33Y5DJaCUwUL6xX95wLYDglXHI6RfcqMxXLsDRJHCoacIrkkBWGdUHjn/fS3dtmLamj+/v3P3yV6/Y8CdBjHkdhmHMaYNpivpJRPrThaZM25IGJwRfk92luG6gTvOQmx6vzl/KK/aVA2/73Ldt036dTNx/u/O5WVp67dxWNORdJFK9CcQ17wjs479S9i1vWrVClM08Tu/p77u3v+4i/+gt/85tc8+/w3bO9viCkyZUW0VNFg4p2nCyqCmJOytQ/jAWcd3ioCDmkwEN/6+KKOotJmWXPWuV4uNXBKg/g20EKthWk88jZPjIcDwzCw3qzIL1+SU6bvA4iy8mNKlGqhqKZbrQXEs/AGfM9+glyXuIXBl3u6vmLtlu3+njEeOIY9tiSWKRN2R3pnqIsFu/2uZb6GNEXylEjbHTFVoljKmzvuv/ySslzggiPGxDFFqinsjjvu7l6xfPyQ7DrexpE+J2oaMSWSrUFK4Pr6Uwa/UH227T0cRoZXbyhvbyipMD55Sllfka8fKsKx7/HOstwfWUjBG1g/f0Z/e4O5ekj5wY/ZXG2wP/oh3ZMnuGGh9hcxYa3HeovpB4VMt8RBhg6cw4kaK3I8QtfBw4f6Pej3Dx6oA3DJuClqO2O5QBaD8oWMUxCDVRCAmaHR1pCbYoKt6gZbeq+8I4zykxBcVaRb7VWOyJWKyUpirVZFWHPw+nUpqrhtadwlo4GnzXtkXntNIukEB676XCYljKkwBA3CutBakqUDd9Mg4qfFZTqwkIvFOiWBihglx84NdGd1f7BolVWFajwldOAbHWNUHp9429xol3iTWT54iHUB3y1IYhiGBb4b6O63xFLIMarKvPfK5+s6XK0EqQQjOFNZJFVRUcuNgKQRqpJLp5LZH49MKTFNiVIzKWZqEabxSCmR4+5ITiO5CGJ7bnpDkJFYM6EOLHKhI7IOaoz69MOnrK82PHj0REUJ+oFh84DDYcfhmNgsNthOEwstFoXdLrDb3jOmTC56XS2GIgZ7Mr2aSSqZOE5YMezdgDOZ/ZDp85H9qJVXjHtivCPniWkyxBSppZ66OKUUncx90xz/vYDz/j59NmU17+zr3xXEvu343kpp3rwV1BC0pecDoRvwXU8IHc61nzt/sks3phHmLgeeF4FmhpFj2ok5q+oPtn1Wos9FpfPbiI53Lg7NlbVljAajuEk7y1+0TK5VLfNbeRmY9LkrUitTjuScOBwP3Lx5xXZ7z1dffcXb16+5u7nlyy+esdtu2e137A87Us3kWqhNQdl6i3UeZy3Bqdhj9R7X+upgsFX7k0Y4SQ8hhiItc5GmiKG8Q6ookMKa2gKpUIpenZJUvkUdKSc63xF8gAo5G2JyTGMjMudErZkiFkPG5B4XhJgry4WwXjn2x1tyqtze3XN3mIg5cUgVEwJSBSeFZSxEhPtUsT4QnCeIo6swFeito3OGGiy76YghMwVL1weG4En7Az5PdOhrEpM4loggdDXRxUh1jmIDj58+5bHzrL5+RbjZ4m63KvXywVPi9SNNAJYrePyQx4+f4kqmf/EV9ih021u6X/0aJ0L5vd9FPv0U94NP4aMPFPE0Zcw06oJa9NhqsXGEmJDVSjdk65Bp1IDoLKw6+OQTDUb7vbbuNhvd3HOG7RabCnUxaBuuV+M466zOb/D4WnGt81C6HgnqgeNqOdEZqnqRtLmn8nlUkUPXTD+pXXm1ltx7inMqe9QqMFsq1apMj4IUUDKu7g76vHOQ8r5JY8k5AFmLCf6sxziv51ohpWZZIUqutWo5YZ3HVlUlYF56zWa9GlThwtCCYFurBgVMFAVNSRGsC1gfcKbtJ1VwTj3cZLXCOM9qf9AZS0wsjCGnrKZ6roEvqr4eMYpsdM4yWINH8FmtQeo4UY0wpshxSmynibv7O6YxkmMi5kQWiDFTKEhKxJjJYslGk21vK2OcGL96i/NbhsFwZM/m6oqHV1esVmuW6yuePG7EYGMICDfbHbv7O2qN5En3n5ISUhQgk2IipaTdGuMwWFzocMErGjJp0pTFUvEcUkcdhRJGfM4M+UDKkVJGcj60ggKsdQSvzg+uJSa1aoX6LVOS3wpM8+f3EXXfFXT+PtXSdwYlndOcVb29D/jQ4UNH18hYIXRNAl0D09nO3J0ERU8SOaezbXMk26Ry7Ls26e9USHAKTPDtfclzVWFA7LnZ1wKSxr9zm0zmX5mLJ0d9jUqOjMcD43jk5uaGF18+5+3bN/zyF3/H669fcnd7w263PZ3TlKKi8qQoisiaRlQ0OKuKDtU4xGpZJFUzQdcItTRhyvm1mIK2VeYg2oAaUlvLz8wyT1CKzhCwhpS0559zRBYeywKRjlIKKWZSLDQUMrkoSsrZStclTO/oug2rpWMRLL95fmS/j9wfjoxVKMYqPNWAdI7J6VC2j4WwjyRfsP2CpTNImSg1UrqOqevor5akaaTEEcaIC4/ohsDhLuHyxGATjiOl6MB2SjpPyyKQYRHgh6ny0c09D+4OkBOyWhM/+RT74DGL9YYSOowLdNbxKI6421vc27eEX/4d5v6e+vEH1N/9GebHP8J+/DFmfQVTxN69JR0OiA3gTNMlK7Be6XUdFjqRn46Y3QFJEXl0DR881WCUs/KUHj1SSPg46s+urihPHlOCQULQyqhVCa4KPmcUDu4pCxU2daI+PKYIZRY2dc0ZWKqqH1iHpeKy6ucVA3UxUMyFCvxxxKWsqLkuULvunaRwFvud1x7OtbUi5ySytfFmySGMgaZzSc5NZFidZgXAedVb80bPCau6baIoUF2P0tqDWvErlkKT0CoFmZImdSJgnNqpFK9Or6no36gZUlKJIyybvgep5FoQ68kpqpXOvF5qc1cFxPfq5NoSKGsMISuoJJeiFcl+j4sTfhpVRmhM7HOTCcpaSaQsZPGowI/yD2PtkWK5271kWDqm1GMdTDk1FOwSNwwsFkMbAQj7KXLIiWMccSLUHElxUkHX1ER6c9YKHuWZqcNvbVwqR5FAqo6aVT3DWkOqI+NkcSmQs8W53Nr/sQU3g3MW59XE1TYbom8SGPimyuj9778vCH0TRPy7ju8MSqvV6qJK8lxtHmh/vevYbDYsFgtWqxUh9LhmbXHyTpqt0M27fkonBQh45/cnx9pvKPFm9e0T3Px7TuxdMldtK+I8HNQgNcPFy+nnBmG/u+fVy6/5m7/5a77++gWf/eqXHLZb0qQSH+PxSMyJMUbVjXOW643aDzc5VD0n505zJCXg1qYNZVU41VhsbYYRF9lHrXKykz5nLbVBx/OJ3HYqmQWctTr0DSus7cnZkHPPZMDaQk6VKRZ2e0XgSU0gE9ZknCt01pBSD/YDcD2mW/D69S132y1TKawePmK5WXG9WlKBKXv8sGIyPa6OrJlYSaHLR8R07Kjs60QfBkzvCatAkkTOEzVNPDWJx+srXj+/Y8wHppTodpUQAovlimhVnFJc4Kl4fscG/nCceHr7ls2TD5Hf+33cD38IH/+AcvUQFitVu97v4cUL+OWv8L/4BfblK4y31J/9DH72+5gPP4YnTyFH6hfPICdSFcxyqSCAoOrqdIMK4VkL91vM7VslUD94AIsFfnuvxn7rNTx5orfPzY1+3mx0vhQCbDbY465J++hcxueCbW266lsbtlZszNicKVIpw0IFTEV18mxMYNQqwhidQxVnEac8HxElupqsunHGWmQ5ULrut9YSrVVn2gfSpq3Nfma2Vpm7G7N0DE3NnFLnRalq2U7bhGI4Q8FlJtULUk1TXzUK2qlacVUxjWBbGoHcKLLQt9fcCJ1WLL3xdKHXqsYFivXUUrF9ImKQw0gST7I9sRR8yQjlxBUkJ6iVhfPt3AxZLBIjUQqxZuUf5qj7QRxx48hahKW3rAT2AgcM0QRMMHjTdOeqkIonT5kqUXlXKZCNML1+xcu3b/HuGethYBgGFov1SX0jpUnlzIyimY/3W/bHI8EKUpKKJxdlI3UUbC2Agyw6IvEr3NBhjeBKpNYEOKwNOBvQ4vhsSVGr0le8dwxDz3KxZLlcMvQ9trnTnmaI33Jc7r+XBcQlz/Tbjn8UoMOwWBK6/lQJrVcbur4jdN3JhXYYBnzoNfK29oRuyuegxGUFZC99lGDWhKtVAQYqzdPiSGvDaZUz51qa6dd2g58EXa1t1upG5wEXAUwzA6+Dc1EsvvOqvhCC43jYczzsePX1C16+/Jpnn3/OF1884/7mhtcvviLGUVFyVErNiBQ63wwLfZuTWaPoHnNujegbUKk5nSSbUs6n6vEdi/RaT5WbaVWWgiwaB8Cak7HiO4PF6oGOmAZqVXFLXfdFUTVmINdKyQmpOywTpR6xNrWOTYeIo4jDuI5DTGy3B45Sx1vSAAAgAElEQVTTRCqqfuyDJRfh61dvuX74GB96ij8w1IxPlUOJrEsCu+Dl8cDeGfxmSXVQqaRSMVboekM1jmoLx+OOtN9zOEZSgtBb+iKk44hY8KXyuBR+Tww/PY48nhLDBz/A/5M/wHz6E3jyGFltqLZDG0IWu73HfvZL3P/7/2Bu3lKfPKb+s3+B/PgncH2NCR18+RxJUYf+qzWyGLCzVbeIZuMNHML9HWYakfVaq42aMbdvEec0GFkLh4NuxIuFBqO+17lSjHA8Yg4HJAu+cZGq9URvsd4gKeFSUZ5KRU0JrcFQsftEV5Ny+foBCeq7hNX5SjW2mTQ288eYsDSFhqE/cYje21FO1ZDkrBVdraraMM9h5+dr1ZGt9cQfEqcqJNIUXsw8m0Uasg8kZpx1ONSeXnK7r5sMFyJUUSdcY40i6nygGA9BwHp9vPOEMODW19p9GQZtc1cIKSHHEZzHp0zI0C8iUvSej1EoFYozZIREoIqSUSkFiQnZH6EkkghJNPhGA6O11G6BDBkj4Ioq2PQerkNiFyeOkplqZZcLtTpyrojJaLdcjf3yNJGa/JJznkJlHyNhP2KbLYyIJmLeeY7jxDhFjjlT60SNEylmxhNESy3ZLR4rS2x2iExIOhKcgh1SVVsTkUqpapwYo6HUhIgq8+Ssr+vp04csV0uGYQCjKu3jONIP3UnB57tAC3BO/r9tdvRt33/f8Z1BabFcEUI4qYUvFmc79GEY8N7jm4OhMbbZMrSgZBpXwaBZ3LyZtjmTmKaRJw0C3aqCSjkh9SwGsaiaeGtbGkxTTFBUzHw4B8Y3hB/2ZDiYRT1ogte+uEglloyzFu88wTtu48SbN6/567/+K549+5xf/d1/5rDbkqaRcTqcy1qpOhw1KqY5W8FfgjLO1Z6CGzQjUrHUXAoppfdIx3IKWLMEfNd1uCaLUUpRyX9vGx/MaBCpXgOSMdRiqNVSikE53j3ZFCb29N0BawuGCWt2FBK1JmrVJKLvw8lw0QbPcX/P3ds3HKUSMWTxWHpqsbx685Krh9cMXU+f96xLIQgkb3lF0awsZTrxuL7nECPZCpmJakvTfOuJKXN3f880RkIEWxoz3RlCHFlax6NY+Nmu8LGJhMeP8P/0Dxn+i99n8fgD5MkTyrAkhaD3TwjY51/g/92/w/71XwKG+l/+HPn9n8PjJ5j1ClMS3LxVVezVBrnaYIvydczctgpBN+DtFjOOiozabHRucjjAOGpwevhQA9I4ahXw+DG0xc006YcIstvBYcIayM6pfAwqrWN3e0JUZGruOvKgnCSzH+n2uqGwWFCWSlS1RRWiZfZBqlldXwtY0VZd6by2fcvFObXqZQ4gJ2Rd1r/d9IzOCdE8W+Wife5c06jTH1irLb7zPLYN3OfZ0Rx8jEOaRuOJzzUTZFuAq6fH+FPr0NoOGzr6YUE/rHVO3Xc6ZyqVzlokZXLMuAyDdyTryJ3XgF4rMVYClpgyvrmzChBLocSJKUXGqvbgrgGMTM4EY8hDINkN4jrVDBxH8jjiUqWLGZ8SXVIU4Z6omoanyjVQUqbkQp7NB60nHSe18/GeEFSbLoSOzlg8qPV7TpgcSfsdMSUOaWoqfh3gsSbgjWUwFVt32Cp0FTCBzjiyEbJN1GCRyRKd7skpTQiV9XpgmgoxjqzXa1arFX3fM5P+j8cjw0KD0mwbMh/fBli4rJy+L/j8o6Dvnj59qoGngRi6rmuzJd8s0fXDzIEGTtmZNAi5MUZVEU7tqXNrzc8Z2cWLniuIOfrOX1+Wh6VoaT473l5G63cvHgSr3vSH3VY5Cc6xWg7kXNjt7vnNZ7/i2eef8fzZ53z2y1+w296xu78nlahcKmsbCx2s9bjTjLYF4CoUyXMnti3OsxtkFSGl9A7CxRhzFj5s1+SS6XzJni5t4Xg6oKfWgDRhS6mCVAWM1NL6whSc3dJ5ITjBmtxKdyHnSsnqQzX7X4kIVRTd8+WLl5QcOewmpliYikL6XTAEW+lcpS/Cg+NIbxzbtOd1SbyxFRtUBaEbBoZaFAVFIqbC4e6eWjRAL5zBul6zxc5RpEAEWxK1JMoInx4Kf9Dew5uVJX38AebnP8d+9Ak8vMb4oKrqw6C99f/wH/D/2/8Or14in/yA+kf/DD5VBQliwtzcIP0ADx5iNhs1tFOjGhzqe1NA5Xtub+Fw0MrSLmC3U/5O6JAf/ABEcOMRgtV23jx/sfYMFjAG9nu8D5hO+UNa6RRsLPgSlet2NZCGXjerlPB75bNxtSENnbYKU8KVhm7z/vQ3rHMnMIOgRovSTBfPkUVUAqnNcahNUqfdqyZlDVizNOqsY8cczDg/trUzpX0AjaTLKZiINGi6a3JtpQ0w5/XovW4PIehLnJ9bQIz6OGECYbGk63v6xZI+DIQGeJBSMaVQUoe1PSElOjHU8UiowhJDMgeytQSn5N2OgVI8mUpJmYVUqjeMw8C6FHKJTJMi9jQBVuflxeAUmOIHDoNFYmA8eA41U4hIGvFkHpEwaNG5z4Zb9kQcYnzb+/Qa1ZIwJVFjG2EYQwie2HUKNFB0BykXxgq5CtkGbX+2ayy2UFxmm6bWPQKPo5fCAsNgJpbGQYyIccrF6jxTShQK02RYLpc8efKQn/70d3j86LHOoVNGEIZhQIQm7Pzu+OR9BYfvGqN8VyvvHwx06JtEjfPhVFJre675pjC3w+TccmsBSIy8szZaF+/iRLRknhO494PTZWfzHOb0G/UlkfMMR0BO/3jnsTM5VtvaimZDKsfDjvv7Oz7/zWd8/utf8sXzZ7x6+YKUIrmUZpWhbTN9HCqLwgwKbNkhjXMkZ4sO9ZySkyTRHETlYoHKjGKYh8l2XtD2dP6lii6o2uPKAkEtDAQt0auE1sbMGHPEmIqzCUNq75EnF3eq9DTAKY/De5VRMkAVR66G2+0OirTZAPQBfL/gweNHiha6v+PDw5F+WJKXAztnOGy3TPstvlY6yfhhQameujvQx4I1hcyRbKGI0IcAteCqwbR7pBMIEYYI/22ET4Ad8FcAH37AR598gnz4IXzwBB4/xZSCOY6Y2xv8v/m3uH//75Uo+0f/nPonf4J98gQzLFWm5zAiXYf4oHYdwCwGSq3IMGAXFo4HePNGNQq7DoYGB/ceHjxA+h47TvqY1UrnSUHFXJkNHUPQKmm3a5WCIQ9dk4+asKkof2gYGLugltil4Meo86QuEFcD9L1uOIcDbgYShKCBJyg0e4aqp+CR5p9l5hnkvCnUislJFaXbz4zXFjfeqXir79Dco56qKoFz+8/aU8t9/pjb0/NaBailASOoMJvLokAKacFRWkvQ1HLx+HnT1lakc2q37qrgBJxVs8uTDE5z3jXBqmnhYqmgopRVvNhb6rjXa1UKLtoWjBMeMLWQXQ+5kjNgO2qO2OWGFEe6wVOboroGilkRQ8g+kMUzusrRa2IYmiDqGniM8BA4kLmRzE6CzgGd1a7P3I6vMzS+ICWTsBSrRNgiyhOsPuj/s0oidqZo9we1yADXlNs92Rmm4Em16rXDsqjCikKXKle1MKJV9nK55NEHj/jkk0948OCBqjhUfR+7JoFV5dtFq78JFv5NQeofQsD9HpO/QQeWbkbUnW0qThsw6rFyCWjA1DOM9aLCP5d9DVXa+tLmFNF0jiQXn7X9dw4yVbRyOE+TdIOfFYFt+/80nyU3u2Iaj2/VQU6Jm7evefHlF/ztX/1/PHv+jBcvvmK33+GsoQtaEVlj8E7dX2eo+YxupypSL6dMbEGpVP04VUm1/vab2M7txGh/JxzT4KuBKh25qjJwrhaXmsunme3mLSJHrM1gJ6gTs2JzFaOq0RiM0WBYSibXpLp9aAvQeEdBGe25Vm7u3tB5h7fggseHgavra35yfcX1lHn78Cn+esO0WhPHI+btK0SiotacntNqtSamzP3bO5wz9AJTUZ6HoeKMIqWOxrA0nmwiycEf7OBftGvw18B/BPYefv7kA9yHH+GuN5iugwaAkF/9Gvc//y+YL7+i/PSnjP/9n2L/8J9il0uVJnr5GkmjzmMWC71LpNEARBRh1/UUF/D3d/hp1Hvo0WN9z0RnLXWxULTXdqfosmGAB9dwtdIXG3U+Rc4KshDRmdJqRVkM2Nu32KIkWIIndgHjHE6AmDXzt4a06ClNR8/GiM8ZkzLFWlV/aPeQS6kBH9S+whqDaZI4WKtq3SnpjKjq6qjGUINX8q212L7X/zsHHhFktg2bW37QqkBde6e7dK4K501n3sCMVlrGmjbha2tYZu1LLgLn+e8atHLPWTsioXe4YcD3C8KwUPizCxhrKdU0/b2KrYpWdJPaV3TGKIm4erWjNwoowhlcHAmoqGnxDmcCfmFJWTBjBBRdZzxtNhzwTmXQainIXaZMHjdFegBvMQtPDB0pW6Ypclf1PBdogPoUgMyYR26zZw9UH6CNDjCGbC1T0XlvFQtGBQfEFMQJMGFsu17GtwBvcE5ALJbKIhidjw+93hNViFnpHoda6aSwxHGNsHTCh8PA480Vv//kMcPmWtV3RJP3YRhIWXl17R38ttDwnce3IqT/Mdp3armgNsozQu4y+FQRVSNu/eXzcMxyKftzOWtxLlzwkdAb2byLxLv8+vJkLlEfl23A9x/3zgWqehP0fcd0HNnt9zx//jm/+Nv/xFdffcFnn/2a7X5Plcqi73DW4Fsv1ugfpYqa7uVcTgsqN/BCzqXZU2vAnFtxl2/K++fkG1Lxsk1Xq9U5kQSqGGqx1GoQPAiMEaBi3Q7vDNYkjJnaogasBhqweK/RvEjRPgrKZ9Juig5FxTSZGSOq+FAKt4cDfd+z6Dv2xwODDPR3t3w8Jdxyzd2Pf8AYFHY77Y74YLm6vmYq6uWSBfp+QOJOBWwXajnuDgceAccsTOOIi57gdEMNQ8d/dxv5J8AL4P8AXnYQDcTOs/roQ37w6Y/ocNiUqbkib15h/vX/qPO4f/WvKH/6p8iDB5hhiT2MuMMOCR67fKRBxDuk72G3he1Ws/b1BqYRefWKcTySh14tLOKkG/ZyobPQuztqLZjlCjYbfZ6Zy9PmNxwO5+C0XCrgYRzVZqEWpQEMA9VanGkgA1ApG+cpQTlEtlb84Yhrvli5zaAATEq4qmCM2lBvRm8uQJF3krPOfpzOluoMTJjXhFXJHuY2XzlXLKeZzxx0Tq2N9rt5HvUNG4s07zRrzuHLNsksI0JtVVibXOnPUUkdNWh3DF2nlJNhybDaqEbdYokPA9ZYhYpbg5dCNZZUssosFaWCOB80eRbBpdatbK/dlUoxQl70VGMwLuj6MhlnHF6KKm8no1BzY3HBk2JSBQXTYzx0YSIETfRsFSyavB5yRmohAkfgNQp6ugYekvihigPxn4qifmNpAqq5YkyPYaHxyBTIR6xJChBxel1NO5mCVo1d6PBe96nBKOfJlkLJVQNzyThpHSdv2ZfKoVZ2+5HF/S0PgfKXn5PCS8x/9UPqkxXOqZ5mjKqvHkL/znv8Tajoy6/tezFgHmG8//vvg5DD9wSlMpf8plnuGsXBnzbcZqY3Z1HzPT0XPu2lMyPwzh5LtqHs5HTvKx9qDl72vRf/7qyl1rm8NKfnv+RU6ePaRWxZcc2F/W7Lzc1bnn3+G5598ZyvX75gu9uRcsJZq2Q9Y9rXrT1XlcldpVCy9o8FIeVEKbX5kfjT66u1niq4U8B0Tp/T2tNMLoSggaJ6SvHt3JwGopbRS23eUIzUOmFsohKpopWSbhQavJwTlFwnp8xW+8KFWtU1t7Yhs3UOrLYeq5rXqHhoUy6wrWUiGHaLFfePNmw++Zju9oZ0PJKzcois9QRfCT5gpKp9SWsxFe/pvMeJGpTZVFkL+FQwvpKsZwoWg+P/fhB5cQv/8UloDHotdFc+sFlvuHrwEL9cYrqmyP3Rx5Q/+zPSv/xj3CefYKpgdlvsdo8xlhp66AcInbbUhh6zvddg0A/6+auvkPFI9YG6XFK7HlcrDAPSWnLmOCJ9T12ttKVWCjVGnFcoNVk5M8xtvvVaA9btrS7EFHXWWVVqylrNvE1RW4bZEM+DatjFhK1C9p666FSRwRid/ZRKscpJwtomM2cvgBrqx1SNaUrfcronuQhKXATF+Zj/j7TFKDM8vB3WtG7BHLBOD2wbfy0K4RZNcIx150pKB0acGOAXbUCcV8025zBhgfM9oevp+kH5j87iRJApaeAxTWLJ6qwmG4dZ1pO9u506nds5r5yvNGGNIS8WCAXGUV1wWwVpbaG4il0EcgLrep3T2pbUYclRuwugwMx+CEp6t1DiBEbovUWSAkYss6WEcMBwbPuQb8mjb10d8GQsTgzOZgwRSwWvwA81KJWWFNNa9oKpmb5z6ppbBdf1bT6MEmljpU6t8kO0KiuFWhMZz5ujx11d8faDj3j8ZEl4dIVt1djs8nDas7/h+LagdLlffxfw4R88UyqlIWWskrb1xc5Bw2HtubXH3GJzquRgFNNy4b5qz2TaUw9szpwun/ebKp4ZECCkVC5Omndfi3VY63VzNhpMLap5dTju+M2vf8WXX37Bn//5n/P8+XPu7+8Aoet7hn4gNKKic0rmKyUTx0jKqVVGsfVb5QRaqLUSgjkvfNNUGMzZAPEsseTa+fWIGbTVVueRhC7oKrb5ME0Yk7AuYu1EHLcKUMCBdIC+TmOMLhDRzMm0DauchF4VRVNqs6hWFUMqep3ybClAZdUPLFdr1qsVu+09xgilThyCwx126q+1PzBNEWMtvlm4r4aewziRSqSIarw541jbTq3AncemqFbaDoqxHErVgOA86fET/vIJ2MOIHBM5gfeGZT/w+IOP+PgnP2F49ARn2nwiJeR/+DM4HFVN+3jA7Q8KX766JnqvQaRfKNT79h4TRzCOOh2pX7+g7g/UzQbZLPGLBc41s7/OY44HaoX68BF1tVLCbFNeqAYdXs/E2TkYlSY9lPNJgqhLCZtSk85RaSGfiyYjnYU+6AooVYNOF1T9OyiEmdJEXI1B+oAJHa7100wpOKvZdHFewQd2ni2dV8281qSqqOqpdz4Hn8uNZG7dXfbcZwmhOQm8bNthwHqMbzqNghJmrdE+OlBlRva1vyHza7JY6/Fdh3Oe1YNHeNfhrKfvFNnrZtu6wWIs2jVADS7lOJLlSKgZqZXsA12/0IDoHGY8tBaZO/miUZOSak3G1aQ2JCVjS6ZDyAayFHIUojgOYySNR9J0UNmrPNGbSmeEvgsMNTOVQie624EwuIAYDTFZKqlWbVbgWPiOSkeuhioVKxPWTToHQwO8XnqjnYwq1KKJaZaCiJLjazx3XxI6ZjACKRVKFWKK0AAYvnQUPDBQcUwxMaVbdv3Iarlh7QP94FHbikzX9e8Uz98WhN4/vi0AfZs00Xcd3+undFlyffeLUoawwsHP6K65SoJzJXF+Yc0T5AJd9z4R67I/mVLieDyentc5Rwj2dOK/FcgqGCtMxwNfffklv/rFL/jyyy95/eolKSrs1nunGVlbq9bp7ChNKu8xxUhOiVxV4fv99px1Z14VF23Ky3anfvaU2mHoSclQqqVkBUJUUYQgpoBMiExIHamSLjLLrp2Wnf8YzCxv0TK/lIpIab1wdQKeN4MTUxtFSZWsjHq8ckaEinc919crPvnoA9arQK2ZnCtVmspC1g3AUum95zBmYswqOxUqNhbSFDEpMxjLEoO3qocnOPYOjp0hWIf3lugcBc3QBjSYjlVJ+yFYHv/ox3z00cd88PRDusVC+Sy7PdzfaIUSE263Q7Y7Yt/D1TVmscD6ARYLdUDd7zHTqPOgly+1hec99aMPFTxQK8UY6DvSOFLf7Kid4xB60v0d8eVLjtNILoV8OMB2y6b3fPTP/4gm6qivxTbO0u2tfh0CebkiGQ0qdlLR0doHapsdVRH8OOne3wWFtjfCqy8FmzJYQ22IPnMipwoElRRqDG6tYkCD08V6EJGzPFBzQ66lnNt07b69WMin55oDkGlrmdlJtt19Vc3GTq1uEdSKHS1GZJZyQIFJc8A0ot2IRRda12Bg3Q2aUFpF+2IUXi3WY5qrsRrwWWoup8pJQRxKpbAiOFFnXpMzqVRqddisnlS9A5MnpWnEqFVYSpSYSLWQssLtUxZyUYg2JWG8wYdByc6jBlk7ToTB4GzA4hiWhYohiiFVbWialLBYajKkBCVbKpOi98hkCj0LBVUgzcPNUI1Gd+cNIhljRT25JGhbPEUw+v9rTpr8O0celdVUKejW3pHpMDSl9a4gbmSabBOLzlirrtUihXFMhKBAGB1VzLfEu9zIeV++PN6pzL/hZ9/Fd3r/+M6gdL79Ljb8iyBz+UcM2otVDbeL9tvF/X7Za7TzsNScf/7+gOz0/9vnWdHgEnTxTql4GZhEUXApTxz2e96+ec2rr7/m9atXHPZ7ail4a+lm8mtbPFSdEenfUm5RkVk5/AzfBs34ZjQiptF7jWkzNkUoIj2lDIhYhADGU7OS+3LWFprhgCEhkqh1UqFWQEQzJlpFCFrJ0eCmWL2ZMeXU8qtV/0+VQqlF0Ybo8Lk2eKl2J/T5as2aepmKsYG+71it1jhr1bNpHDFoFiUiFNSczghIVsa87zpsrnQ+EaYRYmRTCl3JWFHC7NZWqguYTojOMlhLVyquFGIuTC5QjKUUSAbWw8DTDz/i6qNPWD9+grWOcneHbPdIEbi5wewPmM0GrjaI98ijh9ANmFhgt8fEqHDX4wHu78nTSFmtqddXVOuQGKk5Endb5O0N0Vompyim4/2OOKoo52G/p0wj+faOLJXpgiQrGBVm3d4rb+nqGrNaQt8jfYe7T9oS8p4aOn2c95hS6PYHAIq1SN/r/SSCP44g6hQrndpUiNVqx8wVURNQpb3v77TV5q/f5ytBayXOGdhlK+7ddTTf37q2HeYiIOlKmUWB28ZTRS0p5vU8q9/P0Wr2VxODNZXOWzoMnXUE6+iNbqziHFLQ/m2J4OZZl6EJ52FKwadIGUd8TNRccEUI1kAulFjIxSK2hzJivcEGR8UhQWWjijHUlMhVSE4VMpIUYswkA4Wq7rzBtWpRFCg1LECE4jummJChYhdLtbfJiT4XFlUATwrClISRQjGRmCNYyBVKtUxAsKaBs+brbi8UXcCH0mZj6B5k5m90HZYScYBLrtHIHJUe2pwPCtZVnK+EoPSWUnJDDJ/fc5G5GGjlLpx+901fv3/8fYLN90HJ5+N7BFnPs5n3A8ec+TgaLt1YLWGlzTrmcn2ewshcBc1Q8YaXO9f2mkm1z5cBbP7IOZ9g5NpN0PmIde4MtqC1qmqBmnn1xee8/voFv/zF3/HF8+fc3d2CVBZDd+ZClaImXkaHqdZbDsdDG/xFhYIbFVjVG0TdyUKnxOFaGr9jhrcSlE9UO2r1iHhm8q1QqSVSq86JIGJMwjmtLsVYUoOVa99be/rG2rNyhFdGsTWiooztfZL5cQVyUk6SbUKv3llVumCGhzdttApUlUy53W4Zp0gIgfXqCTlHttutVgmtqitZq8SYknJ5SuHqwRW9tQwx0e8O5MNIFxO1F+4t7LugqKngwaq6w1QrMVdcStRUIFgOsTAVGDYDy6cf8F//8R/zox//iM0wwO0dcnuL3N0p6qNkZOhUbWGz0mSlVGSKOCyyvafuR9JuSz0eyKUyPXhIDh31XoNMBeo4cfvFc3Y5su8HRgwpZaY0EUWQ45Fjjs3SoJKt4wPnqNZhUtGAFCP4AB89hOVSwQWHPf6wx6ZCWQ7U5fK08fhxxOaCeE/xmuFTKm6ccOhwugyDzodO1YUGtlP7rVVA89qRNhvEWiXGnhdxC0D6OMG1CsacK3zQJOWyepKzQ6yRc9vOOKdf5ora0DTFFVHE4gkEUur5Z6Lr32LxIbDsHb1xXPUdw2JFNyyxwVMrpCKI5Pb3FLij24XuLdU0PyYC3dU1teuQsiQfDiSgmg7jPSZNuDRBMhiTqLnd72hbHmPJIWBSAu/JuVDKRDEJWwupJLwF2zmqqKizGQZq0e6BVJBVS5hNm8caS98tMVbbkJIjOY6k44FpGom5MGYNCAmIKbOPkThNqvNIS2QNrVqtVOspUkgNJkLWxNC1nbUCBU9ulZEeBYiAOgk4Z/GOCxK+ih8YY9S41WqH5Xg8Ums98VD/vmi5bzr+PoCGbzu+u1K6rIreb+FZ06qiBm82OoPSdvW7pd77L/biO+Ay+P021v0EHmiLUy+wVijeO7zTzdq2QKdZWgVRocTPfv1rXr9U+aDjcUfKIydb4cK786EmxeElEOOswpDofXciy2qAtBirgADvAonSSG5D4wU5Sgla6ZyqLAFGjNGKSGREdfdMm4HpbVYrqCXF3I9Fs1Gj03/lSjV9vJnweOJI6TUV9L0opeJ90xS0BinN6hOtvE6AkSoq8ukCvnO4oNe3JkMuFZv1uvRDrz3rGLChI5aKL8KD0JMkckyV4/FIzpU767DOMBnDaFF+koVcEjreFkbJjFXlblahw2kiTN91bB484Mc//SmbXgmtZUqU3Zay3asf0aNHlNWScrUhp8y02yOuYGJhen1LvbunvnxN3N0zrjZMVxviixfUODElnSdIzlRj2GHIRj2SivMU6/ChZzBqJx+uljgfMIs1xloeDj2MEyZO2q56/PAsMTRNyP2Wehx1s+gHDVg6FCGM6q1UjFXOUKlQwaKzt9Srh5Ci1fQo1p6+rijnaG7TndaJ4YTSogETNGBxrq5mv6XmLqrq3ea0AVpjNZi06tqU2uYV5+6DyWptbgw4K7r/NeDALAmrlATBmBZYWrvZekvXBUK/JAwDiydPWCzW9IslkwS996W1+bNAI+2bhjqbW9ZVdLqEQA2BcpwIqRK6QZUtvGCSrsEcI5IjUhOeQk2RWgoOSy4F7yJGLFYS9IJHKDnR2cZrhCatZMiiAAuTC0qFyVgj6qBbWyVWKqF3+OAwdmCaHATD8VYt3m1Woy+rZwsAACAASURBVMcgopwigckGUhUSel+4Js8FkEtGUsbECd+4WwXIKJ/pHJ4ETKSpOQOapIdgWsKrY4nF0HO1WfHw4QNWy6V2nJwHvEo+htDAbO0tn/fs02zQnH5+qtLhVN3N3SJ+e+s/3UPfV1P9Pdp3nCGl77fwLgKUboRaQM6lvkK6tVo6DTq5bAPMz3H5Mb/2y4BUG5RZTkHIuXNA8s7g7Jz5VWLRLD5PI1988Yw3r15we/uG47gnpUgp6VxdiJBraZYPGR+UD5SyijTOnvWXsHPd5JtfiOmo1VHFU0qgVq0GteIXkAhMSPtca0RFE93pNWjC20iNqDafXq/aLvEcvCyIVTSUNHCEyEXw0yrTtpuwGs2ApDkHm/Z2SHvs+a3Uqsx7JeZWmW0TtKqqIjhj6PoFuYCxKpcSjyO2jjw4JlJS59U3znJrhJ3zeHMmQRcDwTlcKhh0s5NSiFKJ6OK0UukcdF3g0XLJx1dXLGtBXr8k747KCXv4CDZr6mKhgWWcSIcD43ZLTgWz3bH7z78m75VAuV9dMVlhurkhThOTCFNR+HSxnoO1+L4jWKM2LDnReU8YekITrFxdrQjXD1hYT2cNy5mvtllrIFosdL603ythF8E+ekC6vqZMR2zMuKygG4sqgxvrlPxtvSIfu04roxmQYM9Cq3MXQVolU0E13ETUi8g0pJZ1bTohp0qHSw+lCiaL5jenwGRasjMndig3pllKmDlRrLUBc4z+HVNbZ8BAOLfttANUMaGtLzQBciHgvcOFQFhvGJZLllcPGBZLfDeQJlVPpwo5ZoxrgKG2VnTW1hClpegmWQ3WBHozYbylrHrIjlISBlVxwGl1WKvBSNJr6QzerYixYH0H1tN3kSk6orOUOoDkNqOtjSOlsyuhIl5N9sQsEZn5j+AkMo1H+q7DG6edDIyS8bueVIWYCnl28K0QTMBbodqqOpFWva9KVbK5MxCsRbxXZCqOjKq66NEcehEMHqm6yJ1TsKNiTnSGFzrPerPm4aNHXD24ZtH4e5oUG0JvGllZW5u6Q5/fR21/zfvzRXDSm+Y8Qpk3lm9o08nFs33b8d08pbmdW3TYXU1VHL+gFsyNNGkL53mOyFyEorexOW2EejLnIWzo+zZ7kQYtbT3H1n6LMZ74QEakqdt29EPAOzXKc05wVlgPHc7pgnz27CWvXn7FV1884/mzX3J795bt/S371oqyztJ1/VnJO7eTskIuiXxUAcO515uSvgYVT9TqSLMwzzQ6soQGo/aqNFEj43SHQQORdl0MIpZSBGu1Qgmhu8D3a1thDkgKv6cRcUHEKSe5IQPnaznLFlmr8i66fyj6xrqKkDVzPbVVW4LQAtGso2ZFSLUSU2J/PHBo95Tvl9py6hc8fPohr3/xS+5vd3z04JquOmqxDEBpgeL44gUxJ0wt7A5brPd8/MOPuX/zirK7YWUT1gWk88gxs+wcq82S2zvV8vrg0ZKroWMhCfnsM1IIHJ1jWl4xbdbEUjjcb4k3t8T9nsPxyFgKx7c3hFcvca/fUGOhLlfEB4+oJdMfVBjTrxYMXaDrB7pHj7FDT+ccYbnEGdQqISYc0C2GZn++xjlpSCiBnOiC1UC0WinkPCV4+1arkV75TgB1uaRgCfsjthTqZsW0WuvmbpX8aAFxgeKV+JpLBLEYMQ36gQaYeYcphfmNNnMQalWzgRMYQnO9RtdozsmItt+0lVMb2lNOm4id7SbcnH0r925+PhM8pjqgkmtu+FpDP3Q6AyuVaZraa7GIcS2JM/SDQr0362uuNmsWyyWLYaCKJY4FSbr+pRnYGWsV5OBaG0l0liRZK8vaKqpgCmHhcWGN9I4QR7wT9gcHUyBbA1k5YOb/Z+1NmyXJjjO9x88SEbncpZZegAaJhQQ/SDakPsj0E2T66bIZ2QyHMmIAkASbAInurq6uqrvkEnEW1wc/JzK7ATZMorLsWt39ZsZy/Pjr75KtICkDISnOmxnuNE7UUjgtC2Wxruo0Z0pZyAp5WSAtSE2kpWDyP0FdBpltZuUFdY7t3V1zcanMKYEEtuOO/Wd3axE/nGfmOfH4eGB+OrCcjnB6IrrKtmRiDGgtzDJwrJFjysSwQQchVoPsl+VgI4BeExBLvA2mU1QajKqVkmeCn/ibv/5rfv5Xf8XP/vIvuHtxbxsjVU5ZjWHtIyqmpYtTsHFD3wy19ab20iKs1xxgr+1qhNIt0i7aVVnXKUOF/j8WpdXfrb+t5IWLz12fLX0LSnDNnkcv4tdrkWunfa/DO+w+64f3Gir0zQxS2k4+dP1L8Aze288KNqcpNpA/PH7g3duv+eKLf+Px8QOn44ElzSgGf/ngEW8Lv7kwWEHIxfQQ3RBW5RpuFEoNiJj/XE5+Zc2Zpsfh/IJ3Z9ATwgPQoD4xrzczYA5caO/gXGlz6NQGjZUOU6i69r9d5AaV2kXR9VrXujEraEqP47h0p9YZeS/rOKJ3aKXYHe5EzZw1dDq9iXyHcWSIA+O4Ybu/JYaRmyVz9/Ujx8ORQ4zkTz4hC8jhyPzmK5tBlYyPkWEc2Y+RVDOHZWZ4sbPFzUtjPApBhI23nKDqhM3xxCe//5Lyy1/y+MknHP78J5x2W1JV5sdHTrmQVUmYT5ccT2y/+orh8RF2e5YfvUZef8wUPFsMXo7OsRk8stniX71imCZLJFVlkKaBKQXGarCcKNlDPh44z2fSMnM+nsg1sdnvePXnnxnZYFmMAu69FarNxuYq5zP+dGZcsjk2FN+sbTLiA/50huAoMSLVZjBdFiBabUfonM1HnHmjSaF1Q+0+obl2rDMfQZ0JY+u6WgDi1+vGJBweSl5nP2h3Dbgi/KjYvdl2wOqwdlcbXlfsaypixVpsfhGGEVTJWfEh2D3rvEXLh5bBFiJOxX5V+9vaZqK9IGo153FHAXHUnOlCWxcELxWdz1SpFD/gvRUogiOpEltYYC7JOBIp2X3a5BfOSUOyBXGe4guDQI2eJY+MIVFyxOfF7t0wUFM1J3MtiC5EV/G+HW/MK2/a39DqPylli4PPdb3va1ZyeaIkwcmzOTdEK5QpJ2ZVhlrbhCggBAYpxDpzYGFxmXMpFi+fIxZJ14yiyfgKZPPVc+PAECM3d3fc3t3y4z/7EZ9+/BH3Nze2Gap9Y1Jt03p1/h30ym9T6P6i1uLwbR1p75B7ysO6ltsRtrWro2FXvnp/7PH9RanpbPr/3wrta9e71rpW6+t50B9zXOhaHVuQvQ3PtWPfrZA51wRsjhBMRGY3JngnFnEczN17HIy2DNWiiXNiWWbev/uaN1/+nt//6+94fHpgmc9WcILR1WPPzWmsslISKdsMyXu/imHtuQdgRHWg5ImqEdS1GVRFNeHlhHMF1FppKyBtSCuyvh+CCZCtC8p4f019r2tXdO0AYYVZLwSRBsW1o2yEDrTNoLh66+SSfk76psEKjmrvxFgvuiEOhGheXT5EpnHDfn/LfnfDOE7cxcinT0+cnw74/Y7zbseH4Ln/+CPykgjVXJjnnCk5s91tuY2BW1EeihWc27t7vFZKzpxjpOIY/IAbKsdlYfpw4FNxxLjl3WbDw3YLKXF6946zeNJ5pqbF4KthZIty9/nnTClRfvBD6k9/youPPmXMhZgTY3OxD8NIfP0SP464Fh/SN1ZB7YjmZiSbNiPnxweWxweO55lvHp44ffOWw9MDD6Vw99kP+ev/7X81dh9YZxSCFaiHBzuohwNyPJNiIAfBa0Iejxbnvt2Aa15wuaJNwySlNHqwNHadUb51xdXahlAaqUbbLbzC6n1QftndikjrQCp9Mu77wqCNMduvdcTsl9q93OFbcaDFIHLxl2usqKELpdqMU7wjRoty8EEZh4DzgegCYxwYfGD0HqeCVCAVnPeUas9RvPnsqdrfEWdpqlqlrR1Nm4dSZ5sH6jQZLFozebGFdfSBEgKy3VA0k2cjMCGK1gXXnjNxaMhOC2AcgkkapBC9xT6IRCvog5GthYRzhnbYRqYawUYN1o67nRXYEEm5MXYLaBXLNTueif7IJIVRC0Uq1QuJgewcyXmSeFSdxZ3UM05n9hzY18y5VN6eF87Y6MAPA04qzim1JKpWvCibaWQzTexvbvjJT37CR599xp/99Ce8ev2K3X5r8HDt5xi7Rooanbxi0Kd2i6irNbpDdH3v3DgF3WBa5eLwI7h1OvP/hvjwJ9h331rlrO5dFZ5OQ0ZNOTx0Wmt7oq4/iT4bam+WNFuIsamRnXnMSYMJrOO5nnlACK45lQdWI88hIgRKTrx58xXv33/D+/fv+OUv/ge//e2/8M///BtKPtvuTsqaitu1ULUa3JBSWp28O2XR5kQjtQTM0apBCoq5PNRnqs7UesJ7Zy7deHK2syBiLKUQ3NVzro2c1Gdl/dCK0cO1sxNt19tzTay4lbWwlJLarKte1Oa+wXN2wLk+/5dOyzXBrXUoF99Ow84fD08sKSE+8uL+NZvNxGazZTtObL76hu37B/Zz4uHuhuePXnNeFnzKTLsdiz6DMyiQknAlcz+f2TshILjdjlEACZxzJqdKCCM5VRPe5srPPpzZnyC83vLmsx9S/+Iv2L94RRTPfjCaq8SIjwNhs2H63e/Y/PNvcD/8DP3pT/A//hluHPHzGZkXWBaCExgn6ot7y9s5HUnPT5yfD6R55lQrx9OZ+XDk6fDMQ84cn5/58PiBkhLl/QP16ZlzLTwGxzFnfvLVn8P/8b9b8WkGqWvi7Olk/8fAZrNhv8zgQMNifndpIbkAuw3arHjou8vQoieao4AxChrZxfs1IbaqzV6MoOlaMQKbuWCdcoPBbevVvqq2Aw7tPuzkB4ctGm71XmuEnu7yrQZjK2oFRRwueiOKqJKXZPE1zsIms8uUlBi8pVFPw8g0jW1DaXZA3jsI0kYEFfGm07KZCKg6tBrzNEZZw/BQtZj6XJE4EnwTs6tns92iWhhjYIzCnBJelCUElsWi2zVEM1yVhjSgaC2MVGoNpBAs2yo7wjJTkpEHHNm6NqbLJjv4dk8B2qJ48NQWXXHCkZIx7UpJZo7LQtbEIsoZGHY7Rq2czomUK+cMxYPWGdUzyReyg0QweFmF12GHr0p2QgnCKQwwDYzBM20m7u5u+NFnn3F/f88PPnrNR69fc3Nzw/ZmTxzt3skizdgaXLAZpxOPNjddp8009jJ3oS/IIvKtjYw4YanmSWqJxFaM+nyqy1KUC2nt+x7fX5SapuF61/VtGK69f1UFLw0d3/qZ/v2hwRHmAde7pkZ3lr7LE6gNF1fWnw/BM44RC6yyrgkt1AKH5ye+efuWr958yddvv+bh8YHzMuM1r0XsmjzR3RiuD5KIp9aRlLbkElEi1O73B7Dg5EyVMyIntPH9c57woeuz7PlbF1RwrqzMl85qsny12gqJuzpitRWMi1VS6BHUl370qrBdxMid+v3dR++weluu6+aCFXNGFS2VnMxtAO0kFchv3jK8/YahepbbG9599imn42ndMQ0+GJSTEuV8xiNMz5a2OsdAHiJhiOY/5x0npTm8O5yLiEtsHp74T88ZV+EfHOx+/FN+8tOfcf/Zn7G9uWUsiiwNWn35kjhNhP/8nxnev0dfvkL/5n9Bf/gDWBbc+w/IfEJ9oEbPWZWSZ5Yvv2B+eiQfDpzmhdPhwDLPnOeZp/PMYZ45zCdOz0eOy8LTw3vy1x/YpJnkKk8+csoZPT6zRG+khu3WClIIF3p2CFaovGdR5VwybsmgQrrZoU8Kj0/krTlVI0ZAkWgwkNba5iY9HK9YB+ED6GKbttwykBQUc1DR7rqgcPHP1wbB1DYGsBlvcp2dR9PaNZG3FNPIqfnVXeJh7Lo2cp42gFmopZjwGCjDSBwnhrEYROw8Php8NEwjYRiwgboxOwlGq9eK6YF8pBSzw7K7oRCcEENBfLQ5tWLOGjiYNnhHQ0rU0thLMULDNDYnbpjjaCiCeDLFvDDVU0o20XgtuOAp2dmxcgNQGIdKdIIOPRIngja3dAUfe3KCax2cB/HU6sjzDMczcjrjSsYlS7+tMaLZEaeJrMrm5hbnAqU4gj/h04mYZ0o+UEicSmLBbI+q98xT4FQF9ZWQEjuUW628VMEtCSce//Ilr1+/5Ac//CEv7u/59NNP2G63DINZqNWUSDmTaqWKww0RYQKpFGl0ea3GrNR2QX3n0fbMV5CczbZ7/LywgGBNQMuQgrZmNfPq73t8b1H6Y8mC32Wh/bFI3OtCdO331gPs+ue6eKt/bKulaQA6Ju6cMUeGwQLpNpuJnGaC94yDaRuWufLu/Tf89l9/y29/+y/86+9+x/PhiVrTld2WrMSAa4sg+98jsmnzopFSHOBRqYiYizAk0IWqptfJGUq1naVzHmPU9XlOoheYfjIuDLlOK2/DY1EuG4drqLN3NbV9T10XIptBXbRMRm6oayFZhYu96GDdWE+3xfu1W7KfbUPwNpgWhJITh2WhvPmKzfsDX//whwwfv4A3megWTuczoor3jvl85vlw5MPjExmFEFhq5Rwj07Lw+PhkDD4fWM5Lu3iV6f4en5V4LuTDE39/s+EUB/7iz3/Cj3/8M/7iL//KuiwRPM6iDIYB//IO/dv/Svmf/yfm//Q3pGXh+OZL8vORmhOhFlKpnELg/emZw+Mjy9u3PLx5w5wzD8cjp8OB/PTE+XzmVJVZzCiTYpsUJ8DDM2+9cHCKPz9Q3z9yqon9/S11f4Pb7+xk5HyJr7i97SeI5/fvePr6GztHMZBDAKf4h0eSVNNt+WaS2u8bvdIDSoN71WY85pllF4C27qWWBtVdMPSrZaQhHP2iaZBl76B6rk+f2zZfBmotbUZgujT6LFNYZ1rGuTDpd6rauuoZHx0xTIzjxDhEK0oh4l3AtxgHmpM4LZYjFXNpKCptZ6342BOd/arV0zkhEnAxEHoNkbqyDcE2PrR7njAwqcOPMyXNnB6tDdGaSGIdWimOtEiDswubYPebD55axAL7arICnMp6WHu4aQgmURF1RsCgMvsAmy2xgma7tsHho2fjJsQHxumWcVpIJVHLTMqOWgIpTRwelXQ8cMpn00W1zsvWGofbDtQaeVgqTwg3IrwaIj/66DXhR3/GD37wCT/84Q+4vb3h5Yt7jqcjh8Nzf+q2/uRshsi7HWE4g1hibkoJVRM3Xz/+mFPD9SO2sNOc0loHQvf8bPq6vv7+hzqlnucegm+FxX+r0Fzev5AXvu323RdZf9Ut0LRM2K6srdzO2QsQMaq3DpVpY27SMXg200iMgWka8O4W7x1jjLx58yXfvH/Lb3/7L/zbv/6Or778gtPpQK3FLpom0lUuXVHvMlRHat0aTFcjtdhNaV3VESczMIOmxoDrJ6rfMCBSrSuS3IpxJxZcOt5SattIO647HCsivYOyImTHAqS7NOi3LwJpEEYDeNbPdWj1ohG4IkAYxtp2xm0uQRM9q0EYaCWfT3z9+y8tYjqYBU9Omd99/BHj2zfw7mveffjA4XDgm/cf+OjjT3j9+jXnWphz4rQsKMp8szdn6GXhXAw2LamYLswrOI/fbBn39yZq9SO/e7VwkzMxVz75+GN+9Okn3MQIIZp+RyxFtDw9c/7qK+Yf/4xTKRz/7u8oj4+c335ts0MRvvnwnjOVvCw8P7wnLQv16Zk8n80LrWmVZjGIp8w2T3yuldy638Myc6qKLAubmonONDNp2JJ2d+gwrs7VnM1ZnGlji3YtUAoP797x8OYL0jiSmxVQz+mq7+cGhTgj1BRLXA7OmRErbQEptkhI0x4Z+ca3rqiiWekaqLVRVl3Fsv0C6aL0vhHzzrh9rrm1r+Lzat1SQcyHUXUVUtqdZPeId2LcQRWGIcJgY/nBDUxxYBoi02B6NgkRiW02I9KykzKCI6nBheotR1CctsF4W0cQpCi6nO3zw7D+nuDMK1KzUaJro2FnNXhxdBEXYEkDeYnEmqAm0rJwPi/kVMg147zio9n5mMC9MVwd+MEj1Z6zHzCtUYM8g2/QZzsX4oTlvJCLMi+JpZgjjAwRF+1YqTqmybGZKne3mePpkXkulDKRSyCnhHeV4xhYHKYTlMwQK3GIOBzOT9a1EdhtJ25u97y4v+HTTz9mu53Y77bUlHl8/8Bzc7n/lnWb9D2Kx53ntenIpbKkBdXKOAwgf1g8/qCgtE1QZ02bTjFTqkW9x5ZOftkw/wfhu2vR1Xff7GvfLlAXEoN86+3SVV1gLEM62hzJtTRb3y1/tFEaK8FblPl2M5rXXRPg2QA38/z8xLt3b3n79RsePrzncDDXb60X76bO9rCC4Kg1UuqE6mTwB2IzGzmh9YRzCZEF1dIIBFY87Lg6zFXXIDXLO8GGm9852EaFtG6qozuldIcKKzjGiHOt62k2H2p6pAse03eC1gXZMex+UqaFuCagrI8Gsa2q+lwQBd+H2609r2BRBwrn88yHp2dC7C033JRKlsTx4cBDK0rv3r1j2mzY3ezpznr25xwe0GxploiY8LUUOw1tsXRNYyUKwTlLrsXhKGxCJHrPkrPZwNSZc0osp5n56ZnTF18wLzOHwzPLhw/k44FDrmQtHJ3w9fu35PkM5yPz04FzWjiWbBBgrczASRuZLGdSi31QhbkWuzmXGZ8zkivJO46aYRyYgmf0GKlBBG2OAOqjiclzbvVCWRCeaEVLK9UZ7RvnzIuvTcF9v9mduQz0M48qRW1ByXTxszE4XbuvekR5h1Gkl6YrckTvlARsx68V9d48Klf7H216w1a4cAaTtWG2LVp2ph1qDt3iCV4Ig2dwRljZxJFpGhjGET+MiNg97ahotcU+FyzNuZEXJNiA3Ag30gp7IwloRnIL/2vJqJ2hKL5NKsSylhAoPuC8EEsiBKGWyBgqkWhaoTwQZMSXExITLp5RTSi+ufbDCtV4gWIELC+NjNEQBhvjt6IePLUqqWLed1qpYiQkRUmpM2nBuUoIBbMIFErxaA1odOQkFC/kNKK1sowLaVwYQkIE4rTF+xHvJ8QbfHh/t+fu7oYXd7e8fHHPEAPBO0q24pvzgpcraL8TD8C6UJ/WzruUSkq2sdSc1w229B+gX5isH2vb8OZsWs/nw/M6n49DZIjDmljeqf1/Sj77vUUptgp3TRD4bjd07YDdIbo/Nne6/v5enHa7G9uFeWFo4rrYopLNtUAJPhCDQXdaKynNbHdbSk68/+aBf/qnf+CXv/wlv/r1L3l6euB0OjXsMtugtt2ciolbcxlBR5DYnl+mlBO1PpGWJyzqwQ5LKT200HaGUAjBXCuck1bQumi4PzocZzvbPv/psAgYkcNEbQpq8wauOiJ12n5PD1LkMmDsThp0bvdFK9CLl6ialX+jfErroFzrilYHCFUyGPdIoHpHCY7qHa8++YTtbsduu+XF3R2n05lfvPl7DqeTHeNaOTw/8eH9O37+879it9ux3+0YG6tnSTb89gqUwjknFlUkJTN1FUHnTETMgj+MjM6x2Y4E51ieD/zq73/Bh8OB5yVxPh45H44cD888PDzh37+DxweW44FDCBzmmcch4hzceiEtxtI7Hs+QEzktHFPmpIUzUJcFrW3m4xyDwm4cGOPEtNlwv9+hpfBcCkcFWuE6L8+t4J3t/MXYCAsKuQtaPbrd2QLeoyXaeVlD9NqbYLuVHnEh59lUj83Bu+RsbtPtuOGc6fva4ivN307aRqNDEZ11Z4WqrSJOAE/trFAus8Z6NXM1kgU4FB9co6wXyBWvFVQQL2zHwDgMvLp/wf3Lj7h79ZpPP/sURFiWhFzJOWq2aC/vlcGDC44wNqGmuFUTiRijrSC4at2UDw6Zhsu9AIgXCJ6SQJ0gzsIMLYKo4ttGcZwmcvKUuGEvA5SE6sI8B1JaSCmynM2cdF4EyYuhIkBts70OUzsva+CgtPDPUpWlWJeRl4VlOZNSJiU1WLICrkA9A5mSK8sVhOWcY7ud2vowUooS/MB2O7PZjNzd7W1GHRzDtCPEgWm8YWzJBi9evGC3ndhtJ4I32P18OHI4n8hpJs8zfghrvlWfVbaFC0qT7dByHXqBSsl89gQEv0KibnXouBQrRTm1deHh4T1L24SO08A0bthMG4YxNrjYf9s/4Y88vj95NpqauvuyeX95P8bQXBUaVtx27WZa7Kx1i6Ex5gbrgoK934edwzisu/5e+ELwrZjbfKbPlEJotjg4Upp5enrk17/+Fb/61S/5p3/6Bx4fP7As1nqWFk5YS6WWoXVEW7SaElq14v0Z1RnvEpUTWjOlZFRtfgVKjNYNWVYRDXe+EBbsFcM611FpsyP7QicZ9GLk+u7VaytkTSEvfi1cZpPE2hL3z61/qc2nUDXPNNVGiW2WMGItPzT1grT+q7XsUi0yef1d0har6jg8H7m9uWV3e8uP/vzHbKaJ0OCd5+cDj4+P5JJxwdThpWbOxwPTNJDzxP1mYus9WQ32isOAxIB6Tz2fqcts6nYRXKkcz4sJoJ2lgdbdFj8MPJ+e+fLxkad/+BXH45GUCvN8Ip3Otvt79456OOLSwiklTkPgsRb0+Yirmd+fT1Cy+YmlBFpZnCM5By6yBXSIJOcNMtRKrhZdoLWgpwOHqpydMKOclmSFUwsxBLyzzrNe6c1kMSdyxhEdRuteckHntIa1Oa22ECArTGSeMsUMV1UtgdUbvboiNv/MmSWZy7gBvYKPrdiUq9mh6wtMXk+4NucFobse2kPdiuE0wkS79uxKxYnZRPmuFVJhaPe5+IE4Bna7HXHYcPvyI27uX7Dfb5v/IqtfYy1KnrFz7u0ecIM5NEhoMS21okVM66NGbCBne60xtiiPdgc4oeRq9PSlQLU1oqplKklDDXIRstp6Id4xuEwcBlBjyoYz5DqS5oFliCaOP59ZZmepACmZBqrN1Hyw+Ztbh9SQsuWspSaByFVwfmfxIpIJcUakGEyZoBTPvGRKYp2nj8NEiNFg41yaVZtjKhPb3c5shtSgXR8j0NMK8AAAIABJREFUzkXisCc2vde4sZ9HncGRydKwtZrRQXCC5tJmOcay7fD/ZYYt6/vdCb7UcjUfaHEhrq0qrdvqrg6I2T4NzhEazItCFMfoPVMIDDFaZy7uP1aUwndguT5bcs4xxNiiI8x+vi9yvVuapsmKUQhM02S7Zh8YR3NS8N7ZbscOwTp3slbfHrWmdTfX22bvHfN84unxw0pq+PKLLzifT+viXbJSyoDqllwComNz807AEeeO7cY1kkMpgqW2erwHkYxIbQmuV8WE73zcCQxNI9RnNx3F68XLvOsuJ1SbeaOu86QLVVLVLEJM7Nq6oVqhpd4G3wLD6gr2rXOi0haE1H6PdGrx2i22G/tq4NXV1oiQSkG8Z7Pd8fLVa4Y4UFJiPps57fF4JHQ83TnImTyfGbMxb24ksGlmk8+quGixA7X9naUUzrNRo0OBpznhg2caJtQVzl7g5oZDLbjTE+8eP5DnmZoyyzKTDkfc6Ug9zywKC5UTBT0vuHlBNZNS4vH5ES3V9DheOLZrcnS22y1i9OI75/DOk6ppziSZk8eSK4tWTnMhizKqkmhhjdiNLtsN+ICejsj5bKJZ72EYEO9wOZtjQ8mXZrgUy1dyzWHbO5tFgNGwczWGWX/DiAylVPK82NkTKw4GAYZmH9RmjM0axmaG7bzLZU6iTpqvqbsYH3PdIbXrSZUYHMGJGYtWaU4QRvEOwTNsRrbbGzbbHfd3d+x2G6KPDaa2uWHOJjuoKM6bcL13QhRLa7UATUW9dQvqPOSER5HmrO5UDZ7DNlW1moeckasMLXDB9E256/Wq3WtxdARvFjyikVIcWjxKJRSPF8M0ckqGXmAhi8kHcqr42OaGbWZEm7+UbHB7LkrKQs4BLbZmxJga+cL0RsbGNa89Rciu2UkB4zgQwoAkm71Lrrg4YoSvgrnz9zXQm/A67o1W77yJd5skQEtjbzYGZbuIjFik1TY/rTC1lcFmQdfIlgvtWs3rvL+2mHtxVxsbdxk5mVQAgkizC8Pc7sWE8dGZeL2Hu8p/pChN0/QtiK67x/aiE2NkGAZijIzjyN3d3VUBs++zRfkC44UekyyQqu0C7KYo1Mb173j6xchUUTWYJcbA7//1DZ//8z/x3/7r/8VvfvOPvP3mLcMQKSWQc+R8znh/yzhsKPUJ1SPCjMVDnC0jqAIIIWibzxSGwf6WiePa/GyFIS83r90IzTaomnC1qLbRlTTcvxccGyz3trgfj+vOpxSL5aCaiI/aZnX1YsdRa12puwa3mVtwUbs4rru2dQ7wR85pnyvQLkhEzMrFweg9+/0t9y9eEnzg+PTE73/7W47HZ54+mK3P3atXTOPAQ/lgxpYpE0uipIXohc3tjoOrSFoozabjnBJHrWRgG4VYlI4+OicsAqd0ZvRCOB14+/xAyguPHz6Q5kRdMvr4iJtnSJlDTRy94xmItbCpxW4Ibzvv1zc7sjhm78m1cNMIJktOlJQJtSK18lALs3OkCsOccFhsRnUOP224iUqMEWLAhYC3IRSy2eGCR5Zl7YrFOaODH48wDHZcU8ItJ/uGarM/rZmAGWBWd9mpKh6JDlcqbogrG6jWTK3W6fTO2+EIEhh9hDobBIjYgt7OsXXcDZYDo123y4Nc13lfL0x99+z9gA+BaWtO1yEMjH4khMg4TOzvbpi2kzl87G7Y7NpcsfklHua5MeY8lYKxR6EuxrRzw4BOI2VJaAjkalCd2SOZ04TTDM5TnLldVCdGCXe2wDqn5GTf76LRzFMxAEoVfFDCRCMiycUrMtlsSLzgYqSIEJ2QvafkwrhMzMPW3F1qRrAN29Iy1ZbFxPm1VJalWvBwNgQnhIqLFa2pCettXipiG6NBRoIqfoi40j7vDElSFerpbOGVJELz87QJq6KloKVQKtQmrO1jgWWx61abrAa1tZpaKSkzH48MQ7Dxg9art956diTH4E91pnszk1bWrtAWGroxVluTu89iEwm0HCtyglwMpYiNmZoSiHX/f4xAcf343qJ0d3dnVjPDQIyBcZxWWK4Pr7wPaxGappFLnPmFfXfdInbn61797XOsceFOsAjiUhnHSM6JtMxM0whaKamYMPY3v+Grr74yOxO353QKLEuk5hHnCuISygcc7xC/EIJvGogAZIahQSquUluLLDTfufavO0us00FkTdLsZBarM6755NEYdAb7meNCs1FZ1wCLytBSmmmi2e1UZ7/HeP7tb2GwR62V5ByhZeh04Wu/MBWLppCmV/kuw2UdfnN54t53aq+s/wex+Ol0PFNOZyiFECJpXpiXhPOex+cnng4wn09sh4FBYD4dSE5I0XEWSCrUloZagdP5jM5nxpzw2Q6lRIyVNU6EOOAkEMaRYYwcHz5wfn4mH8/Iwwe0KnFZEOc5DcIsA6kW9tmgRKdq/n4OPIFTLiyaqOOEFAVdyCKIwpArGaX6QAmRUYS9KnnaIMCgWDyD2NxgpFFbcdTgmX1k6x0cj3ZexxGNeyQvJqDtXnjexKUrtNattYYJQjD/yFqpuHZzYwP+YE7TWqq5iDtHEKBmi18ANI+oL3bjqxnMSCltc9VYdN5YbaVv7Koiwa/XlvMO3zac0qD4OExM05ZxGrjd7wk+4MSzmfbEYWKznRimqc2KLKMIcfY01AhL49SuKydNkwIlt4LkvBmgqjNItzuSF7tfpFooZVYPYTDIFIPqnK9ooWV4NbqFD2i2jZXzQhgFq+eNNNGYjjQon1yMQq72XCQKUr3Nhl1FJVNdNJiWTL/RfTApQ9VITZ5FK8ErwWemTUFpv7cG5tmbOBmDr2ibgjQvZunlHdEPNqfx0TYOuRCHbFZJxZ4b4nCIkXCcHS9PQHEsxUyT7UYyxKVHXjjnGcaJPJ/RUjiWgpaLHnKdIIl1tD2rq8N35hbSF45WkHoRqteNQr3AdzTz3zZ/ozYn+lpwQPTWdV+s0b6v6vyJovTixT3DMDBNE+M4Goa88vPDWnC+zWHvsBVcM+3sNdqLq9+Bt/oi6Z0DbCaUU2a3ncjLQloS0zRSSyUvM59//jn/8I+f88WXz5zOd9QaOJ/O5GVG9T3bjeLcTCkLFiHcsopqAqmghRh6SGBt+UX9pjZvvFVUq2pDX2eLx4U514SP4vG+4a/OTpBzYPEVFjO+QnBq1AhXTQsRWk6TePMQy23Aq1fFolezGEPbwfh2GViIH+0I+v55VUrHjPVCcljLaiep9N9/1cU651mq8ng6ciyWehq2E3PJnHNCQuDx8Eydz0xaiNOGME0stbB4jw7RiBOq1vW13Uc6Hok1E84wA0wg0bHZbsydYdqwGyaGEAk+8OHDO0LKuGUhpMyoQh1HTt5xFMWXwq1dNFRRsvf4YgvvcXAsc2aDEJ4PlCGwAFSDfjREsoAPgZ2qYd0+UOJADh5XLaXUiy0+AzA6oTqDzPYC9+NkF/B2i4uRKp4aI24+2fnquUfFComPAYmDnVlpc6tWHhzFOiYHgjnPn5dinVU2IoSriqZs5B2t1GRdhpZAaDq01ryjzuGHaNCfYlHuTSMXms5FMDPkECLDODBuN8Q4sN/fcXN7w3675fbu1jqlOHB399JmadFCDS3bbOZwnDkvhSUVYhSiF7bTYJqjWq24VGeLnjeIzXUoqnbX8QZLNc1dIkIc2rawWnHLBpFRhboWEXsdzrvm+GDQtmsduMGTPZKmiWRpMyZnZralqKW7+oqvBT9kfFraTNpo9rUoKQXUTfiYGXYLo2S0LgiZUiyRmrbZ7Cu6AONoPoBFlYM+oy2HKQw7hhgR78hpsUQDIrU4ag4Wk4JBiSY0x/Rt0dq/fMzQNgLaWJK2sorBegJ5mChNM2QEGdbN50rMVNOEwQW96hvhS5SerOtKbWkNtuktXEqcwbWitWVqFbRkg6vRVpRavHvNVnS/5/G9RelnP/vp1UzJIqx7F9Srp/0hG952Lrq0ON9ejS+TLV1fpKyLdzuwtVCakajpoYTT+UgIgRcvX5LzmTdvvuLv/+9f8bd/+zs+//yZb95uqVRqPpPTe0Se0HpEGNDq8E5ZajYH32rMn7ZWg7RBs9TmkOvW52+vofGG1DVdpK7PvzvdOmd4aq3Qc41EwVUjb7ii7dYyrzIJzc2gWmpkD31z2ubV7WPvmm1MK+hWG7tdB7bg14JvBcc7x9CKTDVq4IpZa9cHtN9dsc1AUfOoumDPyrEuLF9+xfuHR5wPbMYBL8KcrGP66KNXTB+9ZDifCdicpY4jZZoaVd3bYlSMkr/MJ7RUhkNGKxwcLNFGHbpUapgZfOCGan/LeWLrOl3NeC8MfqI4g+LOJTPmAmmmqjKrkmu2jYUaxXhg5MV+D95mEYgwOWzX7QLZO+58IIjdoHUYqBUGwW6sYcQDo1ZiFeoYKc4xLQtTLkgIbF59DPsWW9EWR62KbncWvb4s4C28L7imw6kVzcmuMe+N9d8Wad/umSqyRnBrVTyeLLR7TCmzkTZ0Uw3SUWXpEEowmMo5R2mXiWpts1rb+MRhZLvbcXt7y/7+nmm75f7ujv12Swgj+5tbdvsNcZrwIa7WVFIu5BtVSyw9J6GoJ0QhDtLYbrYwV612HVSa04RtUkgV9VCzUlvGlHoPpVhX5bylDlDaLESYZzUSRBGU0GZTlTEGttvQCnyhpExeSnO7ULy/zMnMwFWZunt7m9e5thl13mbLvgjRG3t0XgpLspleGDJxLEDByYIFdVbzmiv2t1cbtXbPqSrReYpW5iWTS7AsJYH9ZkOMgTAEzqcT8/lMRimpUH1pxIXW2ctAafe7uAgusN/vyLlSGlUeEWs22ybGt1GCdOa0b7McrXRQvyH8De3vtmQtBReldNcF6bvtC+wnNPiXS+bXBRYsq9bNWtv+cb8Wis3Uv+fxvUVps9mYnsAstZsl16Vl0zaXuXRCvQj1z10OQC9iBiZdvS+sHcs1TdI5Ma2IN8z4/fsTv/71B/7Lf/mKzz9f+OZtIi2PiDsgekL00ToR1zs0C+1zvpop5NDEh1raszIc9LsuFNqmeOY712GyCzQSQps1aWnUZjtnWjv7rrW6IsYuwsgHpfYdbWe8+RVq6cyiNRK5sYi6MK9vWlpu6KorQq4o+s6t5opl/Rvu6nytEPLl/6sBt31eWHKG05nj+YwTx24a6XTyzZK4C4F4d8v46hXfPD8zn2fTY7TdacenXfCE4xE/z8wZngeoo6FbBTOnzqUypIWaIyVngochL1AUFwKxmD/YASUsM5smHynRIsvVOWL11KZnG3xk8APjtOUcB+YGze1rRV1k9sI2RAJKDYEaBtQ7qkLIxdhlIeBCZBJjnpUYibXixy0+BNy0ZfviFRpi21q2iPIG2TOMyDJb/Lc3YaxLVqSUNuNpW1Vpr0EQI0Y0zN0jtliLoDmhaaYsCzSvQ3Xenvs44hrWL1LpkQ++RawYEWlg2GwYp5Ht/pbtfs9+Z9ERwzCw22wZpq1Rjfc7hmnEtS4reF0dJDoMtyQlJailEn2DcRqs3a+pkis5l1UraEQcjPwgHpEA1XR/Ls0GQXpvuiA18oOIUKozM/NiHeQwgveVODhisAgJMAaexb4YAmELq7RF2QhVNtux1F1xihZFXDUdUp9XFU+qjrSYDRhUhrEwbbrw0zURfUWCUqq3WU/sXYRtSqsaOcX5QEkV8QkfFpy3nKhpO5hTegjNXUYJ0RZwR8b5wc6jOKpLBvMmm7OhjuDj2qnY3LujTmWF6p24BpeG9fo0xxDpYN/6tq4IHa1bL+a+dvRi1GQNXDzxpM2IhLa5bTOmdYxQe7GSy+f/IzOlaRzoi7dtpi9UYrgWjLu2mLcnKr2Z7C+rW+W0FyjYC2k0DE/vIOznwhDxTjg8H5lPlXmu/OIXz/zyl1/zd3/3S7768h85Pr2h5g9GVHAt0MoZpOVDNNxYu7gXyxhRIyUAazG6mKOK3Sxt+e8tphO1GAYqjkwojsGZp1MRZ1CVCFlM6JiLQXlOOmxmA1jabMg2Ca1oN/NVjy1QtPZ4dcPo86NetLAOp7/Vtuu2GYi9roIVLNM0/SF4e52Ncv0+qjgJlKLMZWGZEzphUQOlMB6OhADh7obdDz7lB59+Qv38X/j6668tg0asJ+xMwZvDgZIKxwKnHUibnw27HXNO+GWm5MTiHGOthLQQcyXEaLvC6nii8pQW/LLYjBJIzpGHiBs8g9jOdnSOYRohjiw+gAQ24ghAdBFiZCiZO8y9uY4DHocMA9452/WK6X+mUokhoJsNKo7heGLyjrLbU3Y7fIzc390177sW7qf9Zm3ucjc3cDrhUsLlheq9bWLEBLBdy4S2e8D51llh6n+B2jRPdTE4KaVEbgsrIZj3WoiWcIrdT64hGnEc2G03TNPEi1evub+/5+7+npevP2IaJ6ZxMkgxRER8Cz6Qq7VIDCasZsrq/YCqZSjlnNCaEZPzUvUyN1GgprIWJOdAnbc4DRHLICqKa96VlAXEUV1o0e+2DvQZlVaQmolRGCdbb0LwUBIFtetELrk9zl02tT54S6eOsRGEmi7QFSNVtZiQorAkSMmRi+WdBVfZbJtYvs9tayM0RNfmskIPAO3Pu5snpyWTZut2B5eRqNT9SC0GE0zTpnmABnI2Qf+YK14KxZfm/N01PUacKK6YewUOkUB1BVI28E4wGYGaUN51GM8b/NrXYzDE4FJ4lAvpoBWVjoK161kajmcSnWZP1ckx63pv7zv6TMk2Clpre78Vpf7xn6DffW9RmufT1Ue9+5GVxHBh1fXMn7J+72U/fv1+r6T2X+Fik9+/V7WynCuno+ObdxPv3hXOxw/8+pe/4Hf/8j/45u3/YJm/QlmIg7XpduMURDwhBpyLgAXmjeNFX5XSxe/u0hkZHbwfL6oyBCH6QHQgWjlXe14q0sxF7SZaUiKVyjiYYaRrg9l1wdfLBSBVkVLxjYknV9iuNtx4hfBMWduEhRcWnW1E1KilVx1OvzKsyXPfPvJ9drR+W3OPFll91mgmmLSbuorwfDgQQ2CPMjwdmFV59IHjPPP01Zdspom0WMrqsiy4Zr7oY+TVPHOKA1+4TI4jGxWyVirK0AbYZ8mmlB8mhlQYiWxE2PqBqsohCiFVPh22+K2SxJGiZ2q6KVoJ8OOIRI8PHuJksSYSmCpIiLDZWBdVCkODtzQOME52LnywjsM7BvEmg4gBXMA9PyH7O/z9CxisCOA9N69fmWP88YRMo7Ht1LrDqoKmDCGQvZiAGWzmVArVB0Tb0B4xgotWKwy1os8zRR0SA3EarLVcZsazdV+5VOZlRo52/+w2O4ZhYrff8/LVK3a7Pa+aK/Rms2F/c8s0jkzTxDRNNsOLkSrWIc6LFRsVg9W6HrGqJy8F1KG5gCa0LKSaqGUh52xnQFkRFBVn16tAcdKMOK3gldLXAQUKLBY9kf2AeGnZZEaaMHMhJbrCMIXWNYAPshYEoZBrhTY472nUshYk01mF6BokDppTi4+SlTm3LIGUDOpwvjAOWCSFAXx2PxSPiuJ6BrvXC97TNtNmzFzJqVruWnCW+ZRBsxBdpgZjiA7jhHPmAzhWg10rxijMqTb2osNLwHmbiy2SSbVB/9mOqQab1URn8zyPuTC4mqGaPZVt8ox+DzSjGFk7Hm1niF5oGpJU+zdLX8F7N/XtdaevLZ0eoO331pZ4XbW29137Hfr/jyFr/6PGWpGVELBqXP7oo71cvbDtgG8vpiuDrVMv4eEDPD0py6yGIbsDyNc8PPwjj4+/ZVneo7ogbsZJvlJ5e4PWvBC8rubINp/y6/NcGSBi6Z4ewRUrqL7aRRMdjKGdQASt3qIlkObP11rkBuMFCW2n1ESVnYXCRYdU2g6lqjH6vHfktY+0DmfVE4kVI+NNdC3JhVDSb4bVLaOx8lYvo6vX2hXc7uo8CZdOaRXQcvk5RDgcjgwhcNhuyDd7crglLCfTK9XC+XQ0Xy+xLBUahdQ7z2G/41mB52ckFUsQdTaUr/Oymkv6OJiz9O0922HDCz+gIhyjsMURJcE4UuJADZFBYKTBXiKU5qhQx4EwRII4xgrDdg8+4BUm560jGAZc07wMteIafBfCYKaaISA4ymRb8jEXJIyUuzv7XSjBel6mYURub+BwtKgKVdMp5Wxspra5qghLCIRSCClTvMOriVlLn+9RQQLS4lqqtdkG0YZgeTulgPd4zLlgGAeGyZhwm5tbttstt7e3fPTxR+xvbvn440/Y7XaMg2kFfYyEYcDFCD5QvKXC5gLVVxPultrMUh0pG3POzFptgbFz1hil0MhBTRxOcwJwvkEzHs0XhqoxRk3rolXRJZNKpYaISoCldSXO4PcgBV8zfjCpgusQf7Y5qMm7bG4SvDSHBUMNENNjuR5o2Qg33ZTCNEWOnKxTEoFp7PdSd0mRRh2w4+HFrQt4n6OIiLF5u2tGyzTy3op1RRB1BjGHQu1rgDicH5pZANRghTVk0012EbQTj3fB8o2k4rOjtFmOtE2AYIXf5DoOR0K04KrgQ++kIyWZNsmKTsev+uLbxg10JEzWT5vdG2uxuS46fc1eF5RelNDL91x9r0kQsLylb22T//DxJ7zvrtyL1+J0NaP4Vnf07z/+mAFfR/tqVU7nyvNT4PFBOB493lf2u8Kr1xt++/nXfP6b/8Z//+//Jx/evyHnZ1RNSLjmD2E4swnXjK6qVUDFIsfbTIRkXmYuGSOkw4fFGSsmSaE6cAE0ulVb5F03a7SBuJPLgl/FGgxDdGlF6XIywTqeomquHq3Y9J1Wb4v7Sew/tu4rGzxg0Er3zWtzsD4zUmPE1GxKbumrwdW5qt/5uBcvhxW8Bv6vf//N27fM80zwgVe3OzbR42XLN198wfl04vHxiZSMwptSxiIYWqcxbfDPz9RlYcmVMBqxoCI8PB3sb8TIzeaWFzf3/Hiz55PdHsYN1UdelAoF0jRQpw0SB4ZaKQq1QaZSCuqFOk0tHA5GFUbxFgngvRUpH/HTaJ3ROJnVkkBQzKoHiM7cBOq4QfMCzhmlXRwjioamRh8GggjbOBp8t9mi3iPnlqG025kZa5vJqLPFLMeAL5VQCila5DTVlPsVDPINAYLFf/dcmnlezPMvJXKtuBgZx4mPP/sR+/2Om5tbPv30U3bbHTf3d3z0ycfstjvu7l4Qm1TDIGaLnDjUakQKMNcEzJElSASnOGeaGYK2QXViWZTz+Uyt5crauF+kdk4MUjLPQ9fjKICqZhHkm16olko5J3M3kIjgCWJaphDcOusI2uZQKuaL6Fy7D+0SVQXnLSVZG4LjmupYpCLFIMAeqJmKdUYuTG1jrQxj67ZFUQ2YfKPnRykQbJ7rbAG/Xmh7K+G9dU3Ot69XmOcEvlCq2jWvEEQNclPbNG4nW5OKQigOlUCsIFIQZ/CWiMfjwbVrvXpLvi0tVLXWZpbb4zNsVXFqZrthGKk1M222nKqNFSquucB07MrQhsva00c1fdKka6FZC5LoH3xeWmdZsXlRlUqlUijr51g3Evb173t8b1GytUu+9Xb96POY/uhw3ve5wK7O1RXO88A338DDQ0XVs90IH30kDMNig8z6yPv3/8bn//wr3rz5Hc9Ph8busWtn1ReJEsSv3Y+rDZKqleEKQ5XizX6kigkVvcc1NpDWCiXh/UCoxpSRtgMMfRALl51DtVCrokppC24RZ4LRdcfVrt9eTHrX036HwIWJ0uG+K4r2eswakcDqYL20rR0e7F+8nAguljF86/f/wTl1rj0H250H7wlxIM1nSlWO5zO7KRD8xP39DeV8JqfEzc0ewbzjUlps0IxQ5xmdZ+bz2Vy9m9O2hkBFyCpMmy3b7Y7PXn3KjzZbPt3fEfd7XIhEEWrckIeRTaMGUxWNNtVb2WvDQEAZvEE1U7ABP86KUQAYImHYGKzoHH602ACCXSvhfCKkTHaeJQy4UtAwkEMke2fQUC74ECCYI4kPHrcxSricT2gcjHX39GjHeZqs9qe8QriqSvKeiBXAJKDim1GqM+881+QBweMaHXlocOgIbG/uuNnvudnv+PnPf87d/T13L19y//K10buHgRjMyqt6T2qxD34YCeKIIoyYq0BaEjS4TAurIwgt38tLYT5XlqykUshtPqBgLNIoINpiX5pOztnvCcFbBEXWZq5sl11OSj4VcjaRcQjgpOKdzXM1W5FwolQfjVQkdl8WzIlDvc2/qmJRJtIcMaTRscWy1Wx/5Rtk6BGM0emd9mbq6h6gSTzsb9TcmH9oo0+3rrc2Ylebq4QgLXm6NlKGLdAhOpt1lUrwbl0DerSPuKaRwvKoxAe8CnFQnNgYoqqdB4e3ubOraHFUKs7D4KNZG5WCF5sIFtRiV1oHI87jQuuQzwGkMTf7stIWByMOt27pumuiZWhddTXfRccuiJFbJTT1auN87VJz/fj30TV7/ImidD2d+M5X9OpFaF8n//1i1B85Kw8P8M03DflAGEfH61ew3ysxWotfSubp6YF333zNl19+wYcPzyzzQgwOy+ItUDNSC05MqDZUiO15iELBk9WEkFWFUz03f7uKpxBQy+gh41ELLFOQZhBp15TRWPsGyTkhtwJTnQksu7ZIxTQQXItXrxamhgR/q2G5hsyuC0Wna19OrJ2H9YLoO0j6rvRS8K6hyuvz1f/GemG1bs81okqtCtEuZkkWrbzMZ07PQhSI8SXb7ZaaFqZxYJkjabbAtJSqOS/kFiKmbedQlCxGPsF5hmnLbn/HR7sb/nJ7y920Ydzt2Wz3Fpex2aGbnblMZDsnyTXfMQQXR2S7wTkhxMCkStRK2G4uBqAi1nUAftjgghUEEW8wm0BMBXYBjRGOM/48U8SRN1u8CqKZGkfMEhyCQBALJvSbRgdP6SKYvb+Hx8c1/E+CuZmoD7aLF/PeMzMrQ1Gys+7AQWNKGoTiGvQybTbWKYjgwsD9i3vu7+/56U9/ys2r19zc3bHZ7VmZZVh3Vqs2sktjYLU5nDSaqFnGWRFJCHxMAAAgAElEQVTwMeBCW3zbYl3VkxsJwCDFpl9xDh2idVG1tK9dYCARNVFuhRps514s3456NjFqiM6sezoYlrBOl4qjUqRl8HQ7KGeEhaJCyZfrOUbFSbVCVLWxWytVZSUzOVGmjTAM5pCQupiLy3z8AoMbI9Q+365dHLVKQ+h0JbOa2e1lue4as1r4f0h70yZLruRM7zlbRNx7M7MyK2svoIBuAmj2QnKaM+RIov6uvkj/QyOZyYwmzpAjcWmyCfQCVKFrybxLxNn0wf1ERBbQRZr6whKVy11iOceX119/HestJYtjn5VgDNTaSSZmCo1QVbNAdcaB95I5GlNEqRyLqU4zkyJDDGuWkkMYMDaScoSS9FizIisoi7fplXpBhFa16fcfs6liFcjONupuiebu980mrcsB33VIMwL0YV80Pz7olGKcWKt9L31IDWCaUSA9MZ1VPxvF5ftxrPzud/Dtt4b9Xk7m8jJxdWXFTpgJYelZYjpxONzyX/7L/8Ff//X/zT/90z8znWRQl4mFLoh2l8tLvcRrBByNoSRE3BGYThljJKUNtSDz7AuGhDFeJpRWS3ZOVIa9p1goOSoE0G6NZoatUa7KzwJXSJQkLBinhkEdl7LqjM5SMeuLpteyqoRQWwsCry+ZVjULM6m9pjmu9x2QMTpGHZbeiZWDbKKeTXF6Ph4MYxy1UC2aVVSBbn757UsuL854+vgB52c7gj2j63u60MmsoGnieHvL7f7A/njgNJ447fdgLC4IT6tU6IcNn372A57tLvi4H3h8cYnfbOm7jro5x5zfw223SBQACUu/2RA6qYXQ96JKoGoULie5VjmJzp01IgkUPPQdWIsveo1VhQCKjLAYOsqwxdZMdD0lRLyBUCtpsxUFgFrI+Jl2H6zBeodTQVy8aM/VJpZ6dSUyQ9Mk19jWub0w636I1mBzxgMuOIoPeCOyN1OVOTz3z865d3nFD374Rzx8+ICz7ZZhe0Z/cY9+s+Fss5FzMnBIUdh9+tWi5KaQYrR3bEqZ8ZRI2VKiwXQyjyiZRrpoE2jBUvCbDeSM6zumd5laRBfQ2kpJ2ns3qwQI5JUrxCRGNVfRjqul4KaJ4AuuV8WKInXMOFUJMLOQHooVokI1hoQoGlAbAUPWuJa9NHB11FpIWRyR6FeKusmw8fS9petlzHepMoxSeguFwt4EjJsySqvVSBuIguzN/s3BpDKNhXcO1c5KG9aCsV6o7ynPOm+FgrFJWJVGMrdWy7XOaz0tUHwVAdtSpfxQDKag/Y4B4wQlMl7Wtk2Oqo6p6nRdyYS0v8w4PZ7WGqJq9qj3VZ1AZvv9fhqydmOayS4g0GzGxFSITl/OiZyjfiXKLCXXyFl/4DwlkbtYootSG37IXBG5W7dYWCntRI4HePUtvH5l2B8MoStcXMH9K+jCSAhSrNwf9pSSCFNgPE28e/OO/+e//Xd+9c+/4Pbbb/BlEmZb0a5p2zaFNE1a53DVUYuVJjJJGUjlhPFQyRSbyVSmIuKaCWHFgTq24IXxVoQptr767SyLZocGAbgX1WCz6F9KsUzSeCCp1NA8QmL1flTwGIlzahVjYswMwaFOotSF2bgoMNjZQcl71fn3pUihuqyc1txQi6TclKLUZIFeNn0n9zlOck1VQHHSoV273Rnnmw3BWQ6HW6EmO8c0TZymxNvbPccpEkslVUThWaEKF3r6buBPnnzEszBwFgJnV9e47Q52O+pGRCZlZowM98sYvPZz0ORtjOCeNkZM9qACsTZlTC/0b9GOk1qebZr7VMw4whgxIVB2Z/hSsalgNlvyTuR9zGFPSZHUDRRjpd8IQx16qUeVIr01KUm25L1g/pNmTY10Mo50SWDXApiSVFYGohHNxFB1Tk+QUdXnw4aHD8+5urrPvasrnjz/iAePHrE9OyNYh7cO33X40FGs1FO7Xoxg1ai/5kIuMnepWofppNcnZSvYgIFuIxkLVrTiahERY6s1Hawj10pCJpEaVeGuNZOSnHpp2YaFkoo0t0YZeNn6Fx0VXydsKDD0mhGpencpwqbPRSBer6xHNGOprU4ktRuhc+toCl3Ph2PRfiODc4bgDX1vCJ3T51WmUYezGIMPcr6tUaPtBfVF5GzUGVUlLaguYYNJWJs7CTJbmww0pRondlKJHdSm3u+UNCHAXK0Vm8uM5YtWrXxuTUWaq7M0/RpTpaZkgFLJKqxqQOyP9ZhqSDVhqsWQqKkp0FS1GaKkp3miJIN6/2qR/VFXZYc7fmDJCZmJFsBcHdegtqEtZf63Be/tEtW57/JDjw86JWOtljVbH4NG92vHU5k3fW0nWuDmFr55WXn1rWUaYbsrPHqWubxXCJ3Be8N0OHA6yYHevH3DeJrofJCJoTev+epf/pGXX/+am/0NpraaTBVpFRVvtcZhqsfanlKlQTGaRLUFHyDtIyaLwKocu3yVUjBuRY/WvgbNSMk6FtvodYCFsFCrKEXLjBU3128MSj3Vyz7Xf0BnHLWbjNS9tKmwtrqXEakfmjxTFdHVhvnKMaxG0atzahlQ+xyjTm2u961rTi00nG+fGBcDDJ108TcBWWuYIUSQ/oqz8wu8d+yPR5wNeN9zuz+ynxK3+xNTLsRUSBV6J4yvkhPeWJ5l+Cz03Nue4c/vsX36lHp2TvGBbB3edwybLb6TeUGpVGlGdX6+D6YWbIoyx6jr1aAYTBcwpWCDnyNgvJWoslY4HgTi2p1RrcMfjtSug+0OX7QpOQTqMOD3e3xOFO9IoZf3nUaKl0jebLRpphEUnIPOUEehyOM9bLfgLF1OJCMK7NW4WfRSA3E2VdSUzWbD+dk5j58+4971A84vL3nw+AmXV1dshg3WeTmOBqFVgEynygilQlSB2FIK1TjpsbFAFVjZmozrPZ3TiF7XcqoG13kZuKd2qcZI0Yi3qiEpbU0X0W4sMTOeMikLrTl4sCRccHgLNSaBMa3IHrUGc2PABkdJUSbcWofz0i9Wq0GY9xVnC8YUGjXbWUNKVafPV0REWS53P3gZOOjlHCT7acoDsqmd62kxZBOakPXdsh6ZfrsO/BpsrtHme/WUVrqwpLzUrqVdpmVfsrlM60uzi1NwGhQsn1dlwq32aIl4aQEq1lcdiSHTkSXbkZ5Go+oPxXk5xlarRJ1SFehbfJBawFVxqQlJi10vs41vAbTYAbVA8/VYW1Mzm5jmkHJZOySzmJ/Znv3+xwedkkjhoP5Qo+sV40ukRLIoXCPp49s38PVv4JtXMtHzbJu4f50ZdhNjnvjFV7fapR65ffOWPCVKLDrMz3J+vuXd7VtevvqGX/32K26Oe5XjOOCsoQ+eMU2UqWBtJ5g4ljwJ7mqNIfSGFBOnYxT2Ry7So5QEdChW6kDUqtGbFqMVrjRGbo01BqcimdLIkYVTUrUhzNZ51EBTZ4CKUUp4axHzSNRaKTMMKJN1gVWmprga8/AOY1RotUnrS00i2Ibjaqc3DUoUSM87RyoSsWYtiM5jrTFiqOVDaawhYyoljmw3Gzbn58RxpKTI4XDL86fPubq65OXbG0650vtA6M/YDufk68q/fP3XfPNmz1ffviFpj47tdmQbcDi2wfPolHiSRy6GHf3Dx7iHj+mfPodhoDqnE1k9tu/neprznhB6GY1iLGYasQVqGBY7YQUCqV3AWIc5nXDeShaTZSy5PR2FZt1vJcwfJwie2nfgHc7UWbanWku9OIPTEaZRrmHXg875KqYQbFko+CopZLynui11mjBx0vXhwXd0FWy17FMmuxX05wPsdux25zx++pTrFy/4/PPP6UKH7wc2Z+d4H6TWZSwEL7TzU5LgxHeQ7Vzb9daTi2GZTCvacBVUDNQp1GZl0q6RvioZXgcgk4lrrgStiXRdYKqRaSqi7D1GUsycDpnDfqJUQzd4QmfovLIJp0TNUpOs3lGqkEWsc3S9DCfMU2JKmZizNKCfxMo4h86cstQq7yuhkwz0m3sJQ9K6ksW5MmvpjdlooGJxXth7TRqtoTuzbJgGuabIBGmMEhoQ52CtkzWlwRlAUhkjqZkUlYAqM7SOZkGLLxTj31RrmsFujbZCBjGktNTZnDNUKxSNUsys2lEpkrmbScfqiHMpuZBU/NYaWRclTlQzMo6RFGVWk6+ZWqXxmRpXLsWoOjjIp6pQtBUIVSSVhPlHFVtltZZeciVOUZw8jmI9p5w5xMi5tUK2CD22Gkx1OGu0veD/p1NqnjYXYaQUndci0Zg0r6WcmKbM119X/vVfJSClZnbnR66uTnR9ZjoWxn2mJplZT5EBVOmYJTLyHffuX9BvOvrO8c3vvuHbN284nEZOo4zCTmg6mBIpGYzpsLaXDWjBWMG7nbfUVMiILhrGaiRQJTNCB/U5mWlDiwwbzFKFjFBa1kfV7APazEbtb9b/ikSkLahpahZ3in3MtSFqIzywwHOt1qOOqepntnDOlCojzFvUYpbGvbrKxpYbJ8rDSUdzW9Vhc7pBa+uoVsPfhUDnA5uh18MvdN5TraHTMQqxVA6niaHPdNVwzAV7fiH9FsMG4zzFOCVKeEIQKLCbIn8UI49wuHsPqA8fUj75lO76If7qWgBYVQ4w1uK7TsRLNXh1oZP+nBgxLfe3Vq6zD5ggDa3kLCrTQ4+rFaJI5ts4SUAQOhxF+pq0F8nkDGmScebeCXupqCrz0FOdxY0nXBopfU91HhcjLkZ1OqvFEyNYGfJHUxEfR6KG4CYlBmM4YLBb6egfdjvOru5z7/qaj3/wKVeXV+zOzuWcq2riOSfODe3xcR6bxEAYEjX0VGTwXU5VjJnJ+F72RVM7qNogXWXSnu5tWTrOSTd+LVLTqLVCylJYp2CrCMSmBFN0jJMYqhCMjGXohdlWMZCiKJZ7Cy4I8QAwxgl92TvyJBC87zvICVTTr/UZ1pIF/tUJzMag1PJK8KprxxKsWyemVRpvNRuxdVa3sQqB5aSEIYuSS6quqdano1lUXjItUxpcJddl2dNlRlNQ2wSC3LScqe3t5WGReg9zJtbALKMlgHVfqGQYKsdkl7paK2ct2KPYDBlg3T5b+fNaKpCto7bnDsy1/n8Lhhc7IklRnQN3UzXzq2sQVHKw1u8oNbs6y6ZJycfMdu/fUBn69zgl6UPJOctckZx1lnvkNBZ+/Rv4+mvP7c1EGt+wObvl6uxAOUy83iftIxIlBBcCod9iQ08IHW5rCZ3l4nzL9dUVw6Yn18z493/P79685nA6cooTUxJl2VQM41iwbYEHh9fRM85UhfOljlJKYUoJr1RkIQawWhByIxv0VRv8qHmqZB7McivNYYCycKiILJDRlLn1ArWohhXRoS7ClLoATYP9ap1HHNQikXhj1S0LxohIIy3ikt+W0hriVmw6fc9UMlOMM8zX5FZqZY7UjLV0fc922LAZBh5eXXG4ecfN2zd0ocOFLS44pilxHCcO72653w2ks8A+FnonCvKh6zH9BttvcFWIFn0IdIcDX9zsubKW2weX1CePcZ//iP7hY/rtOX3XzdllUcgh6BDIpkxhSsGOI6ZkaTAP0mBrVF4J58S5GCB4KfJXYDxhcoKup4aAiRMFcTbOOclw1KmYItAa1ojaQ8uagqMOF9jxhBtHMJHSdbhBnkOtqPaN1BBroaYq73FmOKVM3h+ofUf2li4VNgghxw0D24t7PHj4kKfPn/PZj/+YwQXpeQsBs93Nk4WbgajaqFl9EKQiVWrKwi4tEnQ5I317JUG2Ij+VC0KnDxr0VDAqCWMtGKU718Ks9CwsMJk7djoZjkeYJkst0PuMCZaYBO6tuarx09cGT+16Ne5SJ+mC1D3yJLUQF5xS+iqur3PAESep7Vhr6HrZp8EXhiFrvbQZvhmw0T2ltPQGzRVxThLlW4W6Ks7XeQqzXFYNdGqlVmmIldsqNbSsU5yX9pem4NAK92uGmcF7DYLXB7ey9NY61o6q3WLR7DNLLXn1d4EEmzJVq3Pp3xuuSgt8kaCzOQS7BLMGZpV2cXgrvl2V9zRai6t19W9dgnVhBbbsVSHBWaBbHFOlKdG8V+ZpX//G44NO6Z9/8UtiSkzjyDRF9vtbTtPEu3eZX39Vefs7T42RTT/x6PrEi8cDxhTAsdnt6LcDrhuwIeC7LSEM7M52aohH/q//83+n5MTzj57zyYsXXN2/ZJpOTDny8ttXxFqJVQZ42eygqhZXqHgni1VGrVuZNDoPwRNyQcqFisjZSJ1xYQ+2G59zuZOKC3tNblBOmWJkJoi1TS1i6QGqSMOs1bDe6Hu3Kz8TEdpz5MOZhTWLRFx3uPxGoozmOKlgrCFYP2+Mu/x/O8MVslmtGKFcF2eqsGt7T6PFf+ssXegIXuCe19++JqeI8R33Hz4mhID1ltev32BjZDoeOcaEKUhmlCLjJCMNhu2Os7NzrLK4nr674fnNLcZ7Xl5fc/8v/zPPPv9j7j19ymbY0YWergvCXjNGGlStqhqrbE+eJmyMGs4L/V6K993ijEChMHEMGIOPSdh6XqaBNudE3wl8B0INV8fUhFHRQIEQhLWYVb+r68E6zDjiUsSykZpRjPJVCgyDOLiUqOMIfUfabiF0nDlP7DqSc4Rcubi45OLBQz754x/x6Pqax48f8+DpE2y/oZwmyiRZXu06gdniCDbodFVEBFQZirZkrC24YAUugxlSMsFS1Eg7jwRRVSLXrH18FZ3fpsQYVDUgxso4wjhVYgLrDb0BNxhq8cRiySUTY8v2hRCSjZFBdLHMhtN7yEkgNtcJSlGx1CyQsjDjdIhdkREUIVT6rtAF3detj8suQzKzCrXKXlPbVxd/kJIEqpiKdwXn2uh3aE5iRknUsDsdXS97TQWTW7O6acSBJbidfVrLelbObs2IZfWZzS4w36uFoNQ++/2Hc4sz67pO63OrcylQ62KrcDKUNYSO7KR30tRWq/4+erjmS63z2YodsqBOSA+/vu9bvr+Hdf22DRH69z4+6JR+9avfSJqaCrlkbt6e+Oq/w+EgTI4H5weunpy4uBLW1Pm9K4qzuK7j8uqKYTvIuIAo4q7DRiLrOJ14+3bkm1cvmeJEt+k5jCfOcuY0jdy8e8fbNzfkZKjJQfVUkmw+k3HeYL2h6wNdJ4rISWsrOTcZIR0BUYsqd6zp7C3yqYtTUnVro8oEiwpu02qSUqFpNGot/gvlur23/n4RtVO4jvmmSB+INuTNWRrfuWm1hS3m/YW9WvAKK0p9wd/9m9FzVgdcsjJvtO40EyWAkrMworJQ033ohZZbCvUw0k8RHwLdZsdwecVuuyOEnm7oZHz6+Tmb/YHNdoczlp98/S0fhY6vrx/wi8tL7n38gqeff8HzFy/YOEeH6ItZY6nK8W29NLbrJCobT3AaBUtxDuM6aujkHBpct3a4eq72eJRRC0EcnslZIKsQaP08ulCkv6gK1EqKquztVEhS1L9LC727jrrZYMYRO01C/dZRCIyjMO92O7HAxxP1dg8YYt8zOkdvjDj53Yb7uwsePbjPRw8ecO/pE87v35f6Rc6YvhegYxzlczcbsAXGSIlZIFLrhLgQtIE0JZmx5FrHHap6LXUj57UPR1UO2tp0dmWNkZLBNEqja86yJkMnwViKlajRcbEOkyAjMjqUDKmSXSAZrw2sRYgTBtIkfYEuSNAUi3yYMPogRqPEhULfFUIQEeWGQDVobWY26+0Tg6joSFkcTIvwndbK7NwwK69d96u3029EqPba5iSaI1gcRcsi5G/z3m6ZgaIt9c5rlsfvM+AzIcJ89/frlhyJmawGnbUlmxRXsdmJBqc6JZEfWsaZNKhNE8P5fPSTaB5HOh40C1w9pRFO2rWbX9ku7l3f+16m2P6wbsf9/scHndJ//Zu/o+u9KEX7jtB11Dzw8KnhB59tOb//hO35mTT5+UAfeoWEOq6vr+l7j6UyTRJIhgBTsrx69Tv2hwP/7z/8Pfv9LfvDLS9efEzNmddv3vDlv37DN9+8JUbJcPoBpiliLDIcC2G/Be/o+14nZEamaaJx4q0x9KFjf9o3yFMdU2vOldS8ZBFubX0K1msUofjsXAg1SLSuN6EaxfirdHabasGIugSpOQZdBg0msm1UhZBEBAIoswNZMi29p+rg5qhM18c6crN+6aNpNaYmONt1HSmJpH8uRcYxO0/nvWRH+pppmph0uexCx3Z7xuF4IsbIeDjwYLdjePiIpx9/xKPrR1xeXfL8xQtuDgfevXvH1YOHjKlwmjIhBJ4US330iPL8KZ93HQ+uH/HTn/wpTx8+wnZbUTDuAnTd7OQNWvsqRWR72lTSYaCpaM8bWqyrMrvEapmUMEpUYehwWVS5OTtXmRbNBLyfYcGKOrg4yT1XSMZ0QgSZgwXNmkytsNlgKEvj7GYjdaSbG3j7VqSGOpk+62PGYhh1ps22VD66fsDHP/gBH//sx3z80cfYzsPQk6YINWK6jtpJjavu99SbRA4b0Q+ssu6lxKQD1yqisl0NaRKI03rVzqtgEIma2uotajuMUqpKgVQMSco6UJVeHWS1ZYX2Qifqf9XofLGkclo5QYxkL5lg1VlipmZKEgQhOKn15iJxRi2qluJkrXtX6LzWetsAON0HKcl0aBFcRgPAogw3cUaS/Kp+nhrl5qwWuL715CzwlzFVJ0Vzx/m0bMi5loXpRGjTsrB617C2QBeIsdxxSHcQjVUW9b5jWjuldeDcjn2RfLM4J0685DbQ06onEUjZqmI8PtD3PaOV9heMmdlzaxr3d1E1qanbuRLUlB3uZpdQlxE5qtn3/nmtqn/tTP/NrOmDTuknP/0pfRcYhg0hBDabgb/8C1EZ7rTrvOvEWfWdZeisdkVbQvDEKXKKicPhwOkY6DrP69dv+eqrr/i7v/tb3r1+zeFwy5e/hP/2X/+WL3/5G7761Vf8/T/8I9+8+i3Hw2uRre89OVWcbfCZGPKu67g4P6fve6Zx4vb2htvbvejx1bpMYy2VWfVU1rTeiTLPOWrRtlFFcQmWl8FdBcBVcRJYLSqKXlbRTvO5KNoWleIIVRedYPhW6yft5qjDMou8UKsV1VpBG3it9k/lqqKdRijpUlsRAoNQbCuxLCrozZnRzsVoE4jRs9LOfYzlbNgAhv3xRE6Joe959OwZP/nxT3h0fc3Hn7zg/OIem905966uuBpHTuOJMAzcv/+Aq8trur7n/H/6K158/DF/0nc45wlYHj18zGazI9mO6jpM14sBUoyyOWR3OknmYhFGm3Gz0CYI6YM549GtlCJ2isLntU7gulqpXjKr+fVFaoDGWmHTpSxW0hrFmFbd0m2seWMDNAp4znC2BR1Pwa30azEMouZwcwNnZ5jdlsk78njCpsTw/BmXl/f5/M/+lOeffsqD588IoSNOE9PNHr/bigRSVrq19ZThnHocMdNE2ErjMEkIQ8V4sgm6fqBaj/VSA61ZpHmqFpBMSkIU8AvUmwvEyRBHpBblEMegxdFGSbZO2HUpyfpOCQ3isgy5G0dRW3BOJvY6Iw22pbG05O4eR0cqFkNGdWEJocFyMsSv2a4lGyqUkvDeMo7inNpYFxkt09ojqlDBDbMBXKZeL03mbS5cYTH4a5htIRwxoyjye4HLhdhQZg3KOehcVuK8z9dGfsnels9c9vrqibPDXIFjZulJbMdmjMeaQjZFC2it3KCM0CW1WUoICtuJV119JEuDT3NO60SnsLCBl5dK8Fs1yMesSgNG7OOcVVVWajNrYsTvf3zQKT198pSuExHIEALD0Iv+l+KVXo2htU4WM62onxlTYn84cjqN7G9v6PqOEAKvXr7i69/8ht/++teM48Q0FV6/PvKb37zk9ubAl1/+gndvf0uc3lHriDG9RDMrl16LFNeC9+y2GzabDUfnGMeTMFNaxMvMd4GqXdy1ZUAs7BDmZEoLeqijMHPhTp6vWIJcabkxRRiBCzynjKxmBHWBNfhw/XNb2EI6WGUCFV34CrcofiFBjkJ6Eu7KptZt0RxZznmmh7clMGckBrU4AovhrLAGETWLWqXfpR8GLu5d8uz5cz598YkU5D/+iGF7JqMgfCB4z7DZME4T3veEMBC6jsvzcz5+8UIGxqVMGSd2mw1ht4Pq5xqNhp2ykXT8uRFpd7Famh0JG0w01U0XFoduLGaa5G9Bam4mjlQkvTbLyc9OxdSqctFKEgk6utytKN4xLj1ILSwUPGh5DkiG1J5fisB5OQu018Y2dBvONoIcPHj2jAcvXnBxdcWm65QVGCjHPSZGMJZsg0yYtQXrK/ZswE4nGI/U2lO6gWoyNYpkDVakdQTfMjApQaHKjChnwXUOa8Qhx+zIRXqCDKK55r0QHtDMy2gzjyUrTGYp1c6ws7WVEiPlODKOheoDA0Xex1lyMdKGYAxlrFRk0J63GR8y1rt2+ySrYpHwEeO9GC1jKjGWpc4rERTeG7pOVMxbRiT7atVbhJn3gdEAsLKQJtvj+2E23Xu07GlxRrXWWXpoHfRX3f/NnqzlddpHrB3gOltpR/x+FrEOLht8Z4z0uanOKcUuTq7ZgLt16u+c3uoD9H9tblIb0nonx2l/0982iPJOErRw8drPcwZWtW78PZWs73t80Cl99tkf6SwipyPR7XyyrQ5TSybHidvjiTdv3jJNiZwS43ji9vaG8XTkeNyLE/OeV99+y69/9Wv+8R/+hThK0TRNI19++U+EAL/68pfc3LwmeMjJ4Kx0mqcUyZoddN7Rd4GL8zMu74l0fx86xuORYwgcQIeFic6UdY0CbpdLVeV9fSugGqND0iQqtsaIc1O9sJIhTUofVmZY0T6txSEtURDrRSF/nL+c9yLjo88vZSFp3InaNCsw1kjtRboXMcbNUYmlqZ0v9yWXIr1jtSoRRIQ6UYdbcpbiZ60Eq/NnjMM4z+k0Mp4mvvjJn/LF55/zn//jn/Po0WM2ux2h7/DOUyq8efeWfhjou45Pz+/x9PnIcX+g1ioO7eICk8UhncYR22+oPuCcUGwBmKEAACAASURBVJjnnSpFhZnybfpBggXvBcrTwYc4qQvNFW2QulMUCjcxSobV9+A7tGmNOy3lxlDb80IQcoS1AkG153ivkgVlyZzaZ2o7g94gOZ6WYTU4r/1tv6cLgftPnvDHP/0xn3/2OdfX97l6+JBuu5UaXoxAxfcDtTrqSeC30AehYxuph9XzC8o4UU4nSjnq50KdJtIpyrlqA22DnXMqeC81wpQrJXtS0jlFXaULqqiggqq5tohXmJBmVsYWyEzUNCTgnA5H4v4kw/i8x/mKC6JeN52KjkqAWiRYC32l7wX+EsmsMl/OxmTVGG6Gf5ptjrHq2gaB7QS+8r5Nh1YIvcxxIG3W2zLzrTkm3bcsRKKcVa29yF/mXkNFLJYGdMlATONjN4p9XTm1lR1Ym+cWo8q/d/d4Iyi1183Gf3Zod+XdmsO1plHtlZptjJKnJOAsKZGVNd2kxuZWk/ceizPUNbByHnUedWHmZ4tTljo7gGlAhgbx882rCzzY6nhNpfxDjw8LsprKFEfSUU7udDoxjSNxGjkcjsQ4EaeROEXGceTm3VtySqRYmFJkOo2kFIlxFPipGt69PXFzs2ecEtttJw11AVK85XSYGE8HnKn0XUfJESpMYxTNXAOmZPowsB2Eyhx8UG0rsNbjfYfrBvJppNYlwjIgUbiRdNwgkIcxKq9i26wkuYIGdQgtxbY6MqFFSlq7KaXijFttpvVNWRaWZJR3v5p6grxkSYGt0Z4qKw7MNeqzkb6uitKR0dEdVfqlci6UVKhJ+5usnVNp0RETcoYMEBN9O6+bwjjHsN2xO79H5zt++qMf8eknn/D46VOc86SUSLWy2wV833N+T6LhnApd3+G3nu1mp1IohTJF0jTJ+O8uQN8LFNeaR1qqHyelZEMNMuDPaA+R3LOKUR27+bqWgjkeoIgors1pVmuQjEgyTRI0nF0cm5W+proEJrXWJXT2DglBjWRAjann/eKc2v2dIUUWiA9aBR6M4cXHHxNr5Sf/4ec8fvpUiCDTSD6NZOdwXUetRmCxnHEUOukIlqbiUqXmWavoMXpLPR6p4wGGrcw1SkmUE4zDddIMmwtgRYA07itGG2O7vtJ3BmtFLTpjhGWlRXNnmuEqc72olCrNzSkLvXqalHBhMUMQ5Yss/YlKBsYYyUJdAN9ZGauucKJcwhb5a/1J0QEhG6jzUKZYmBNjo9CgXWjhlWXPWHRtL/WSUvRz3JJJySmb2ZnMklxWnG+Dz2angDoPlTJrf3PubjbSjO7S+SEfuMBxS0bUHu33czZEO68F5mvPW6BG9Lx0n5QyQ6Bi24TUVHOW0kJZgouGtqzyUHVoy88zhNqgQphZe4CWLZQeb+qCLM2aEcu7f5/vqfoeH3p80Cnd3t6IrtnpyDhO3Ny843Q4MJ6OvLu5YTqNnE4nxnFkmkYOBx0tkTM5J9KUyLmSUiFG0eDKZQIiQzex2QSs6+l7z6uXL9nf3hKnEao0i9raRogXOsXDLUJ2CF0v/TEq1VFksAvWeJxOGEUX3TzNVW9wwzelARGMUzkNNTpFmVdNB78iIVgpUlicMyUg17Io8bJEeu8vrBnfbnBni+DmUcWSQssGc1REIdmrU8q6gK1Dp5kq0YIKqOFKakyMnTey0fOUKG+BMqyx8zGDRMzeee6dX3D/4pJPPn7B048+4t71A46HIynGeUaQMYauHyRAKVGOUyez5mkkjSPTdJTR7CqhP0NoqcFhBVskwzDOUTXaV+E0ISa0zKg5ggbjKTOtGiNNn30/kyaAuXG2NqwGyTaL88ziabP1MPOYclPFEdbmdJSFR85CQGjOy7A4rPawVibQat3JAE+eP4fgePboIbuLe3jvic4RDydSzGyCNLj6ILAbNqhOXoXTiOk72cDTUe4vkL2jHCcYbzHDVhRLUpYMNsEpB3EyRmqvzmRROB88ToeBKVpLKTLtlFpnSamWcadJnBAWrJNzzjGRo8xQInjKmBhPAusFB31fkEhAHi44zbh03IQ6DinWL5G/QO2GnC1g8d4RwtKascQBjdCz0n1cGbh1LNi+18SHpan0TuJ8x7G1xH3et6u9vu4NbPt7/X27fC3gXWc88m871rumekY82jrlvWZ67sJx62O8C+0tIP4yRkLJKO1cYJ44O58/y4Vq77D643zNlm/k9aWykj9b//2uU6rtmzvv8eHHB53S//q//S/qlEZhYp1Os9NJKYonzlLsrwqTTNOoDilSsqVkx2nKxHEk54nLyy3XD+7x5MkDhm2PD57Qd/zu1Tccbt9x2O8FEiyJlCb5PmfOz84kPc9pnscTusA0RqZTZH+7JxfwoWOz3YkKcclk0rzackoL9Kgrd0nvpQA+p+IVxAUus2QAGYtMK3xqJGJlcNXaCQF3vm/6cbAUH+eFVgpF9fms83i1m41E4nzgNEnBm1opJOkmqaq20VJqDNVYaikE7wlqWEstHHOdm2g3mw1dCDL2uhTG05GC5WI38eSHj/nT//BzfvLzP2d3doaxnu35xRzV5Zw5nCawhtD19Jsth/2J03jCxHeipuAcZjhj6DvRFLSeFCM5JVVfKJgYcaVgup6qYyaK1iEsCOEkhOVe5awSOydpclVF6+pFhFUvODQJE++XYYfag2TtCl6wRsaWT3IuGHHytDUQtOYzqWTQSXqPpOlH608pLRBesxYw15p+/uc/J8eR3HXcHg5UnEyEvRjYlkSuMnztVAzb3Y4SE3kaxRhNEZMmElCsZTwchXFlpJcrlIxLJ07JkGzgcDLkWLAhEXqLD1WcHVInLLXgzNITE6MEMKQsZIQqvX01i2o4VbJ1DZVJYyKPiSkVIoEYIzF7jE30TqjcANOU8d4SemHJtr0lwZXFB6ekhEbj1raMLPui6yzDEGYjDYvhboZeoO734a2WZazyALN8tSyilgZ7yR43dnnvOTNp+91aclkmzbL6t2VZsz3R37VYpTnFpZZsZztgTLMNdbY/7b0bFNeeuy6ZrO2KtVX1M62I6pe7/U8NrmvQ53fqOXWdsay8xhyoyjjHpTZ/t3Yt16nSWlbWGdDdbMgsju/f+figU/qXX/4TKSaiGpRpmuZiX85xKfxlpaeWQkyRnC2meAoCE9k64m0kuMJms6MLZlagplTGw4GSpGmrFlE5rjVjncV6x2BlOJkzohq92e7YbHcM2zPyJGmqCx07nUFTaiUm0XYSiTmZz5SS1MAqbQEw30AhrSxDsGQB63A9jBb2qpIXWnQi2UxVCMLM2Rii5KuZTNO1M/pzVxuxwQps4GCz28l7rRQkdrudvJdYFdB/0EzIWj/DC0nvB0Uk86tOqEy6qRqF1qgTnMYJY2Q8STGOzjgeP3rM9aMn3H/8lE5FQKWc4xTyMFJ7qDrArSCTdzHa51PFcIdOdN2MrHxRrJAM0ExRJgDnhPGdLPEiul9iA6vU/6TgIcQVY2AcpVm2C8v96ToVutSMpm0op4SUBfvRIMSKrA1IZKijLkyW2ofxflZSx2hW2HWggwuZRnFWfSfO0Ad1liuKunOzs7IXF+SbW8pxkvEFg9xfY62MOo8iB0WOZB8xVgcVxki1TveWjAQwxmNtUVizkELHeIjs34gqu9lsCN4wdBnfi9OuVhQYbJDCdZnS0qdVwFXpdSqNWp6hibd6ZyU7yjDtI6d9IZZAtsLyTHki+AROs0s1Wd7LnqUqrdgthlaaoyUbagrWEqxZUfcOdmWkW8DY9mO7bRUZ7OlmyvY6Qm9w4F32qZkdpLVmbiNcP8TwlzlTl/UhvLO7mcoCqd0ZbFdXtfb2+juOrL12oZwv9HP5TGsW57DOzN7PlGIs82Fi2rkZbY+xZGeZalIUwy6cAIUzhXQraEW7dEbfq0mr0SBIA8usbA0IrKA9TbLK2DbHrFHo2xwnPReY22JKLfPvf9/jg07pq69+KYWyLAa29byI7lNaqJFFBAzjCKUIDBO8Zeh1QxixE84Zdr2l9wbvpJYTp8LhsBeHgaFpx1UE+x20mP769WtwliFs6Yctm+0Zw2bHqR4RMemBEORCHI8Tx+MJMXEKU6RM1Lk3oIbWmbkIZ4rQH416spnQ0eA+/Vma/MwMqwkmnQTm8Noxrhpipak1WAtVHJyMjzc4F7DOgxW4rR820gSsAqrWWs4vLhlPJ8ZxwllPceIA2jwft4rUUpwoJZOTMMyMlXOLMSpbMsyQXU6ZkjKlFsbxyMb3hLMLnj5/xuOPP+Ly/vUMjeac8ep8SwVSxpSC9zqzaZxwWUY4s+1n1pxkzqIOIOMr5LV2mkR81YdZ5FQWvpyTHfqlxqP/ummSNdG67TGYYZg3udIx5Y28dl0qLDczIBsUt6bcGuS5xcoY8xZWN8iuSQkZ1NGJ5ZaZThJQzVRxlXCSyDWI4OgJshuovcXnhDNFCThZIvZZiV4m9trQ4bqOXC1liuQkAZ8xBlcKtgskFzjuIzGNUj+yls5mOjdhtls5nNJWvkbPFYy3VC1840QRX2pvGjJX7dOzYlxKMUIsHDM1GcImYAZIt7fknIAojL4q7Lo2Eyz0Qe2CwMWltJKc1HhyXkRIW4JpTKELTrOc5pDMrMDQMguhZrcMQgPCBv+Z78Jx0rxrZgfRht212GVtG4tO+BPN0WWNrKeqrr/Wv2uCx7OTec/oNjIGLE5m+b0sxFq1NeNOVnH3c4pe1xhFOd0Yq+Mh5O8hqLqNsxBPkCZxSF7G3oMEKbMDbgDbCsZvAF6tVUm+0gPVsknnLA65d8VIaaQYO08nkCxO7E279tUg+yXLtG63+rzve3zQKf36N/8K1OYn7kQfbk55oZaAtTvOL3og4ewkdE2lR+YcRWHBSaTS5OWd96QSmeKJ03hkmkak98BjatZFKLONumHAO0/XD2x3Z2zPz+j7XgQQNyp576QgPWnQvj+diDevwciG2WhXf+tfgsXRzvOHqqSt64XVakGNnSMF2DATFlJavL9EY0tqP9O8W/KrMFHUPqA0jrx5/Yb97Z7z83M+++wzHjx8xPn5BRfn5xKZAL/95iVVj/2433M6HHjz+ne8fvOGw/HI8XikxELOVaJR3fF9P+C8pVOHF6M0GYMIfp5vNzx9+hFPXnzC//BX/zPPPv6EJ4+fcn52RqlVIVuBF4FZ863UKrWbJgPU9UqDZqnXGCNOqlaYJuzpJI5t2Ij1awa9ZSft9c065oyZRvU7qmWm6gwLhlCX6L8izr9BIGsCQgjqmPL8+0o7RtVha06owYXtWIJChDmJI5omydy6TjK3IgoTpUCJScr9uVKtQGCu6zEoffx4pAZP9WERrbSWGAt2OlKmRHFu7p0qWRRVYoS0H0Ut3Dm8zzIaY+PFuUwZn0eq62lGzqRIDcJCLMWSq6XmjK2FrCPXBZ1rmXhlzIaUjfBDUqRzCbeVStF0jMQYhQmbJmqulCq0c6MZkjUGo5JRWmmRWmxGqORKKmhZkBgyS8pyylZp4gvUvdR7wM2GX+KG1kTblltj3Jk52xK4Uhqpvdf64YwtLWmYMQiEXxXGhTmTW4uwvu8k1jC+iLK+z6YTAx9jJOcyB53rzGd5/kIWuOPwlE1bdNrvNOnU31w5jSMxZVLMMrrDWvrgMCliDAzDwMk54u8z8nWBEhvUt1ZMFWdZkGm+hjaK1BgLrgURKHqW5naEqohSe4i0mVwTZ/8Ap1RynG9dS3/bT7k4au3EIRnATFgzinQJiAiiXuxcsjBXqMRqmIqZG+NyGjkeD0zTiRhHcslakDekGGXWSzE41WjrQmB3tmW72dB3PV3oASsqAc5LXYhAyoX98chpPCClmHLn3NoiSynPKbsNqmpc6jwksOG+ctNWjWgrp3WXJdOKlMyOSTTFVuQDY5QMIhMiN9sdFxcXXF9f89nnX/D8+Udcnp0zDAO+67DAg0dP5IZ6z/7mhtv9nlevXvL1N18rFV+h1XHEB6/abcLMmVHiVW3MFVECP99uefz8GT/49Ac8fvyYexf36DoxbI2tVxQaM4D1XjbtOAls5Zyw44xbDLq1zCNCS5E60OlIdR4TulnVexZFbUrf+nxZNFkIDa3nzFppuvVOBSclG6gt1W2fu4J/aIu/0btbhqROaabuN2ilNccaI6SFBtc0q+c8ZNG+mI+zVnVGWq9R8oLzMBU7GxID2E0vYwjihBkjyViKcZRcZWBArZiYqCVTXGAaK9PoSZPAi85kNiGTTaWETqL7IpmKGzpqiph6onYDJsj9qDnLOHLbGlWVNpyTwC/GicMak4yurwZjK6FG+j6BNyQgjmk2jDVHybaLgZpxqrpfi6ACMsI80ARMjWmOqCq81vbJGnZrhMa7tY87e0Y57/L6BuW1W79AfS1YNg2KWu95NWhy7wvNAcwQL0aX4dpQf1dzsjXUtt+LGvvdz0xawxYx6zQ7l7tEBg1YjUEio2Yn2jELQzelpA6tEKMybXNhfzgQp8Q0RYK3BO+ofUcgqxLNqk61/qrmzrWRo14HA3YWAG5oXhtg2vqhGnNv6QVb2cf2O7tAsmIG7Vzm+H2PDzolZ3TzzgcgCymngCGovtyJvtcoS/XnFm21limBjUWa5KdIipPUfE6Gw+HA25t3HE5HppLEmBlJoWNU7NgWvKpHbM+23Lu84t7lFZvdBd4HvPP0/UZqFsZycX6NC54pRd7dvFYYrpBS5A40lzNxmpRgoL08OZOzWc67DQdcp7jvOSSJxlpWVPU52qpnGi3V0SKNqvz9KUZC6Hjw4IJPPvmE58+f8z/+p7/gBy8+5erqPljpITLec3N7kOJ/F7h5+453N+/4+uvf8C+/+Gd+++WX7N+8JsdITpHgPTllcqmC7xszp/nUylAlSw3DwPXTZ3z++Rf8+Gd/ytPnz+iHM2HRlSoO2si4Z2NEPNNWpMaSsxjufrgLV3gvKt6qyWZ0PHjtBoz3wiwbpyWLGoYFd6mAFQVvcUgyekOetxFI0piZwCAQw+KMaNF5a2Bu2c4MwwlGPjuZOaNbHXtzmIuFEePenusc9EKCKKdIrpKVGh2NYRGV7BKLUKqpYJFBhaVge082UPYHyniUrKgTyNJ0jjwWTrcTU0mU0GGtoTvr8Uq4SVOllIwpE7brKNVLINiy1ZyxcSTXjuJEkDanjO0ksKhGGlDjpJRvCq7VWZwhUHAl4qx07GcM4zgS40RKE2k6MU1RegCbM3BW6lGaoVjnZeQJZTaqsinQbKNdSjdnOug+modxzvZzQWQaLNduS3MczjWHtDxX4hENFtXhC7SGWNcWlMzZ2rpexPw+s4pDQ23Kd51UzmWG6lvvVHNADZ2QSQtlaWw3jbDhVufcWLEL1KcLkFKEXCbvAXFKxJjY7w+Mp4lpmvDO0IeAKRtwyKiW0urdFtGgslBa9mmWZLH9rzXPtm1U9Brp32fucttLDTmzTkoS1s8CC1aHoDq31P9m2/CBx4f7lNDUXms9KVVK7JHsYY/ThR5LGx4XZFHqBXfWQ4Guc5Ll9IFuu6X6wCll3h5eczgceHd7K3OWqgztQtNa5y1WbDndZmB7fs696wc8ePSEy8v7DP0gxImuZxi2OOcFz3SB88tLhu2OdzdveP27V7x58y0xTuScWJMcmpDnfL7zYlndmDsY8ILttsWTUpSFrWyZFpEbVZSUplyn6bmj9Tjd3tzw+PFj/uRnP+Ov/uqveHb9gBcvPuXBw0dsz3aidp6l9rO7dyUBeq1shw1XV1c8fvSYR5fX/PrJU97tb4mlcoqRSbXvXBCyQZo1/gpDrWzOzsB7hrMdu92O6+trHj98iCmVaRw5jTLyYy3aamrFTJOMDzeGtNno3COzyCZp746pVYbdHQ/ivHR+kSglaJHB+7usOblgAouNozS0OpmDNDfNNkey3CyacmdtHJ9aIcd5INl3KOXtde176iL1v+BAS2fnTB2X15WiqGUR0V7rpO9H1qmhZmX1KUnCppFaJQMrFVEBN4YcAmU8yUiN40TqNpzsQCFQDJgysWXEDD3Sv+3EaAeLoWC0OdJYj+kCVSS2ydZRxkgZj9QQqMFjHJSSiVMmJ0NCDKEzGZdHUfJwwpZzNWGrBDQ5S2PxOJ5IaWI8HokxCUuvFDCOXB2+WPBSKwqdIwSL94aUGkIgQVu7vO/FEbPjaT1Grea0Xhrtts3xi2YaTcFBkt+q79mygHVEvtC85/aQ1TMaunEXyrrrpFqW9v6xtOe045piIqbIfr9XhxT1tZYQwlyPlhKAW2UYDb6Tx7p5N+oYmjkAtq3uJjUjl9XBa91VNAsTNU6Lc9ODbMiAXI9CG7yLMfNYD2uknicQr2mXEMvSnyd/l/czSkpzautaaUNqxWYmwuVcMfUPGPJHKerZ5IhEbuykVFOjDLLGIhNn0PBc77z87BzBB1V0CLiuB+OIqXA4HDkcjlLjMBZjtbHRioFxJuCCmy983/ecn19wdn6P3dkFne/Zne3o+4G+36iH9qKxljPH45Hr62tKSaQkvVTTJDdjpmXPy5M5olsguvlezDdyKVQ28SFUU06MMXXpB6q6yCp1Ja660ECHzYbLqytevHjBpz/4IY8fP+bi3n263U5grhQxtmKqSgDJh82zkfphkAXnPc8/fsE3L19yu7/lzZs3c2qtS5DWZFu8o3Zhdv7NoRj1/rVUSkkqxS8ZVbFWlLBzxnQDbDaijFALWJ1rZIzAheqQ7PEoIqb9oPBZEQvkvVCml9BMjEQpoh3XspROtN5kdpCyoqwUXefvG8RYV/JBDWwW0bWl36h91szU05vr9P3nXYZkS6UIHVzvdMYq8xC6zuJ6j29NzIa5ORerGWKcsEUo7kJD1gi0ZlWhcEx4GddwirhccG4knA2YPmCKoY4TdX8Qx+w7bN8hw+oixTrKcVR2epBhf1YmyuKdNDxmCcKmbsM0SqOzrYUwgO9k75aT9CS5YPBWrk0ynkylRFGVyCkSx4kYM7kaadCukhEZmrqCOKTmJJIO1GtOYk5KlfDUYoVm1Nuk3AWFWGo/smfMHcN/1xmBea8O8j6FW8L8OnuT5pDep1qvvyROkfWU7yg43I1vTFvCtGMqxJgYx0mzpYhzAe/NItHmPSEE1ooOChHNx/L9x6XQ3VpEWpUrWh+XOLe8vHZVL2qOef5eKug06LDlIEWZs6Ds2nauWgxodlPOt84tKu1a1/m4NZZcB/R3goXvPj48Dj3J2OVG75OmSXFCkglJyibOQOA1GUFg8S7gQyfq4f1mjrzF+2dOU+TN2xuOxyPjlHC+Z3CenCcp7uUs8jjW44IQHM4uLnn2/GMeP3nK+dk9vPMMOkYh+GGWar9/9YC+Gwg+8PVvf8n52Za+k7R6v98zKWRnDHjv5zR7HCesFTHZeZGwbITSCpqrtJoGz1DJyH00VSbrNnIIWW6yrVCtoR8GhmHDRy8+5osvfsR//Iu/4LPPv+D8/IKUMmOMHMdpxZxzTIejOJcqGLVzosb++OkTzs7OuLl5yzSdcM7yN3/zN8ISa5sLGRUhUKgImU7TiVISN6/f8O71G27evqU+yxgn4xCC8/gQcM6StT+NrqN2nTbjMvf/mFqVFg2cTpjDQZxa1wmxoCJsO+dkElsVaKgx7ogRJqF8V4NIADVygVKGa86YpM5lTQO/YyEkM8Uqk6uyqv2wsoB2fv5CalE4omj/URbCRIqyiaoF4yq+s3MJrJqwImpUYfDB0nDZMHmDXgdpVh33kTFHYpbx9v1uYDAVUxJ1f0vdbgQS3G6oY4SYMVYYV1hPG8CX7SABgC1QDSUMEDpyzKQMcVQCxnEPQ0cYIHiDo1BSFZaedwTnsOOJMhZKN1CMI1dhlJaY2N8cmKKML89RVEVccHjdK22ibK1WS3JNPFW+by0UxqBDOZWqXZlh7yU7WpzRmvRwd45R8y92/l3LbKQgv/QHrYlGwBxstcf3oSBrKG/dnNp82vJoxlpbNExTekmqZBOV1IDawZ7tdqsaoo2524gbYleK7q32c8u0GgyYUuJ0irMKh4hPCxQqPWBO7CZgjARvZl76C0NwhiO1DaZq43pLCouiVnbl3JdeJQ3UanNKhcRS90opk5KgQblkUsn4arTdRwejfuDxQafU94NmKZJmOnU4Ril/znnJiEKn2KjFuw7nHF3o8Z1MmN1uz/CatsYpEuPE6XTA2FfAiLWWvg+UajkeE1WbQ0MIhCAzmK4ur3j06BHPP/qIq+trdtszvAuEbsA5D1Udp/VgPf1my9X1NT/76c949Oiai4sdAK9eveLly5fkHO/QM2eBVGXkNYjvTpNrW6ztRslqVpumN6sxu6r0UzR6qUEa/pyDrsq5/cV/+ku++OJHfPbZ5zK4q1b6vp8Lm9M0EroNwzBwezzirCFYO7N3Ukp0oWO72/HFH/+Y29tb+tDxzddf8+7tGw63twASNHghpFhEQHYaR9I0cToe2d/ccPP2HblkQtfjXCfzmWKk3I4SlfW9NKxWgQ5C32uyI8V0asXc3EKcpKjuvFKmjcxBck4ykJYz5DRnPSZKg2oxiNUaBnF2K+hs1ixs8O6cxqohM81IicUycx7LQl74HhjP4GYNx9b5mFNt1SGKqziyjItwkjMXo6L+M2FCr0Mbha3UZZMmnMq8x2yFFTpVcrWYNBLI+NAL3NEPQplPE/V0oPiOEnqK6zC+YlKinCrFZqZqKNXhNobiLXmcKPsTk8lk11G8F/qpTRgHIU/UFKlhoNhOWHMt4LRZ/Luy+krKEFASUmQ8RqZJDItQjNvIicZitVSELNHmJxkVZ26MLUFZRcWhNeo2Q7cY+bvOyM6wuVzzpY4kr29M3mZo1zDfPNxylRkZlTBitVfb432mW/ta13ba3+4y5+5ii7W0GpQ4ic1mmM9zuz0jhE4Yww2lqc0ht+O465Dep6Lrdltdt8WhyvOFdi+szvUZNtRkcbBFm3mtkV5Do7XYhQrVMiOj5CFVvalOKV96L+YttjAL24y6WeQVddzKSv6D2Hdd6AT/VAfkVuzgHQAAIABJREFUvMc25+N1LEEI+NBrymgJ3YB3qize9fjQcXZ2Lhz60DGeJlHzdh19vyGniVxGuRnZrFgcUljvh4HN9ozLq/vcv7rP/asrtrszNpstwXdYG7QfQjXetNjtfGDY7Hj67DnDEEjxxMuXL0kp8fbtW04nabptj1YLarTPNpJ8DfHN0dMqTW1j1uclsoIHWgqbm46bAZmfIbOOPvnkU168+IT79691cZWZri5pNtoF7zGn1r/hdBFINFJdwVnL9f1rnj99zvF2z8OHD8kpcToehOEHIttkjeiaZVHJqFaakk9T5DieSFlmLllj4HSknEZwViagtp2jhTZnLTkmEWZMCQ4HzDhSnJfG2VqV1hxm8kO7vtTWuyUOqU6T/OyDQnsVUhJnp5tKREfbZa+SVc340AqJN6sMqd2muQVA79KMiQumTmyRpyaBPsiU4VmG2VBiWoxcSnoZtC/NGOoUIUfpx9Bzz65jOk3ClqpSd2pK2cVa0mGkRIcNDheEYluCIx9HOI7U0wSbLbXryK5TpROoOeN7UUWfkmWaOoiZmiecz3SDpQ4d1fXUOFKTw+RIPRxJvuCGARu0cft0ohRDDT22C6DafHGMTLkIocEbfMxkJ9nVcv3afhW69TI+AiUtWHVIIhnUMp4lPlgyoIUOzgqWW7KjRg5atlidn7t+NENfS1nqxWsobx1AvpclrQkM7zul5pDWTmn9aKKySxuIJWjNVRyUoEVdm9VVpXeyqVHImIy7rN7vewhcJ31hSxZYdWKB0Ovrep9VtPSg/7JkTcx1WJa99d61nOtPs01rMHj7Fy0PlDsOaWY61vb2ZnaKf1Dz7G53rthnr6MqBJ4z1urvBKLrQo/3HcOwYdgInDYMmh2FwG57Lg6q6zHFkPPEOO0xjHz77W/5+htRAU8p0qVuNsy7i3Mu711y//4D/uzP/ownT57y0Scv2J3JOO2+39EaJVMSvNMYS8oFaz277RkP7v0RNw+u2W4Hpilyfn7O4XDg22+/ZX97q1mRnK/I7gi5oA3KW7qSFzDZmBY96IYxjZ2zQBXOLY19coMKRjW7hqHn/v37/PCHP+T58+cMw8DNzQ0pJYZhOy9q5zwlV6Yp4qxS6pPUbUoupBi5GUectZyfn/Ps+TO8M3z51c/52+A57m+5uX2nTaNOz1PZSQq/GgyH/Z7Xv3vN7e0tzjjClFVM1fD/kfauzZIkyXne4xGRmVV1Ln3vuezsLhaLJQQSlGikSTJK5BfJ9ANlxr9E0KRvkkgZKWAJLPZG7Oz0THefc6oqMyJcH9wjMut0Ty9hKJuePn2qKisrM8Ivr7/+eiYxMVoNSsSyPxuugxS34nfvjSmX0gqtxUdkhubUW5S0LMawW2Z73zAa3AerpWk0cZE1RN4qd2+Ph8NlLQPznrX+3naTG9znDeFalFyghoQM1nMTvJBsL9sQJnxEhmzqG+28JAZEq80W0sh8qhwfjPkWQ2WI3uAbI8vJHWpKNs6cQpkXa4OYKyUkNIlBoseTldCmER0GIxsB8/ts09izmlPbRwsoygynQtUC+xGZBjQFlpOgxxNxzoaKThP1eEKXStFACJWomSqBUpXldDJdPbGcsYSAajSFiWLq+TKsZUK7VVY7akXuls00h9TWQQ/idIXZEO37xzKj1jxrkNy6R6W/t807gtXJtU9qNOVObsCH9knTT2jncOmMttlSe75lAA2eegztbZULwNiAIY4cDnukyUIN2wzJW1BCU4Vp8ma2Ju2StGx0dZDNLqRkZBfw6cvSRAJW+rhQkLJQl5lltj+a7U8tM6XMNMdU+gXUjeNpZ2CEmHCRKZlzL7pqgDaG4ZotmYRWqZvr2a512d6BDx+fdkrXTxkGy3pSGhiHyVWrE+Nkg/+GcWIad9YnFBL7q2vGYXLjGoDIuDswTTvDUkOk1oVlGXn56hWqmffvvzPtNAlGLwckBp4+ecaLly/57PVn/PSnf8KzZ8+5vn5CHEajHoZ1ZnL0CF7amOJgzbQhwW6/49mzl3z5xVfUKnzz+zeIRIZh5O79O3LJHQduGn6GCmlDD9Zb1TKoftt0Ez1Z39G6yLZ0+pU6+eL5C/70Z/+I58+fczgciNFIHKoYlbsYu2/a29C9ebZJnTlnzsvMNA5+rfbMp3MPXK6vb+Az+Md/9ue8/e4dv/n1f+Hh+GCjRJaZVA1CFK39nHJZuLt7z3fffks5HiEkwuGa4nBdXRYkJs8ka++HChKQeUHevzfm12Hnjk9WtlxKtL4GWqe7KnqefbpsRqedOaOUDIKrGOsOF4fZ1o2aM4pOYmh1pVa3Cs2Jrf10zSBpy75003ypYiSN5PI40uZjebNwW1MRUBv9XeeFGkyZO8TQHWeeq7NTDQoMQyANlZi8R0mMyWfKB8HJArhKaZPr8jaIIGgy6jmlEPKZPC+cwo6sCdJAJRNkZjcUCJkqER0Sppg021iPmsnTjhxHdNjbjMoyW8b0/mQDF9PgklHZDF0pNiElBqobMqh+TQMqXseQShCbrbRmN82ZrIX3rdG2sRhrjNAaXaP3BW2NusUSLetoxM61PtQcSf9dS1zESDu6JQ2Uuor14gw67ViGAb2qTh7wwZ0dOuN7ndJ2gN4KCXqG2Mod7qBhPV9bjzjq0WDD0j9/26RrFPBKztVrNdnqNblpBhZvV3CVB1WfqlygWgBxOp85Ho+QT90xlbo4xUFd+TuA5I3M2hpGBO/PDASbsO1OqWKKDirCXIyivuSFeVk4z/bnNC+cF5vyoKWQz0uvU33f4w86pXEcfcif4aEpDVa02x/sd+OOadp5VGLY6TiOpGGHViuMDbsd+/3ENE3EkLCplYkXL19RysKbN7/DOB5nUBvxnYbEs2cvePXylWVIX/2Iq6trk9vxGxpiaibfMGP/d1mqwwF2AVMaub19wudffIEivHnzhlIhptGIBfMRnSv17BpmwfDP5pwa3bj9fxv1PS6ONtn+3iy2jd4EpnHk1cuX/PSnP+XJ7Q27acIUIibatEvDpYVxmqwnZCkM40Ap1ZvkrJY3jIm8+EZSepb605/+jL/95a94/lc/55tvvvZjLqAWhUVxtpNAyQvHhweOb76F9++sn2i361pVChbNi/TNWkoh3j8Q7+/MQOz3fu3pdO+G6ff1V7MZtvOMnE4mirk7IPtdV9/usGitdH5Uy4aaQ2pOqtaVxCCBLjMkq6o7XtA11Wx/m9rcH5wBFpKA15Rqwxu6AbMm6loqWrxuIaFDNUUD+WzlG9VAoDJMgSgmrzQnq0+1Hj8JgWXJaC7dGKoqiwW9dg2CepNrJRdhZqQyoOcFLSfSKJAmwnVC68T53b3BfDFCsZ62Mu6QmNHTmXK6J+wL4WpCdztynpjf3cPDEdlV0rMrQgpIURNcndvwQIcu3QGpmu8vBcvMgiJUai6UUJHBAp3WTmEGmV7D8NtKq4kEwZpuW7VQ13HjJuVFh/62Cg/QYpvmVBoi5+y9DYIBm1pTZ2D6Pd4W+0vTGCw9ym9tHybr06J/C17bMVda+ratRPrvYlwbSq2urCuEhcG/OZs0WPY+pk520Mvza45pWVojrnqmX/t+cXdtwUW1eXe1FM7zzMPpCMsJzWc0L6Yv6iOGm2NpQQdwQUZo19ckh5yL5/tRXWqoqDIvM+dlcUp8Zl4y53nh4TybwkmpLKfzmh1/z+PTk2d/9GcMw8DoJIVxmjq9e/SBb2kwAxlTYpomGkV8SCPDkBhSZBhHY+hEY/pYdHHF4fDPePejH/P65St+/vP/zLffvuG7795ye3vD7e0tf/qn/w2ff/45n3/+Oc9vXxGj4egaPAepvvDEbgY1Iwhj9FRUC9l09tlfP+fl55WrJ6/56o9+wt/8zV/zm9/+hr/4i3/L2+/ecPf+Ld+FN9RqDajRJVNicH2pWk3F2RdvztXHCVRkMCgspWQEgnPmbj5zdZgYYqDM2epwY+Cf/pM/47//F/+cf/k//g8cpsn6QI4nkOibekLE+gyOR2seTkNiKZUQJ64ONqKhAue5koYdYOrEGQWJfPnjn/A//2vl9evP+Tf/5n/n/v07UoDz6Qgo0xAo2ZzU6f6eeD6yW85GGNnvKTEyLwtlXqz5cqyoFpZiciacT4xpoMSBut/7AvVwNsaNSkntZAeCmLLDktEYkHFnMj2yOhC0gEQfs9zqAaxwXpMIas6jUbDx1xSH76oYy8etUwmunq6rcTAGvG3s2uoV0bJBvEmyFvW2CO3F3lIDZ0kcj6BqOnjRFbklRGNdFsP4BzBkALWRD+eZ7CrV1Sfs5gyaM3O5N+cQEjpD1YDWggQlTgP6ZIL5SFjOhOMDpexg2hsBRcR0+s5nqxemiRwmJAWinNC7Oxs9crimzNZSEJ8NDPkE9/fkYWQhsRxntC6gi2VJQI2RfM7UUhlSZNxPph6uatp8tVCWMzFUCj6fTGK/Nb0PSYJNqw9Ddxa9NlMsO2pOQGSFd0ox47jNSvrPWycjwcQ+PVD5kBJuAYL6tTf2oQ3pLIv18C2uWNGcw7JkW+/ga2mFGzudunpPkK/R3W5vz9dCWVaYTiRuzmftRyq5kEv1MT8eQNXaA+GaLSCSahlfzZWH+3M/1hASMQljANHKIMoumj3MuXJ3fODbN2948/vfocvJ2gnyQs6N5ZxNi9Gp5sWhxRiSZ1CrbFNr7qVlh94Kgju1XApvvnvLPC+Uqjw8nPkv5Q3fvrvzaRIW0Ka0rfF++PikU7p98rzz6VuRzjj20X82ob8YTa5kHEZCtCL4NLbOXiv4Gb7cnJJHQeGaKLB8+UNEIu/fG0X86uqa6+srfvjDH/L06VOePn1KSqPbL4vIWgbSDFKPzBvs0xajJJuXFIMNsNsduNVb5pyRILx4+ZxlPvLwcOcRjS2akgs1SIfmWrSQUur4by6FprBcqrHQmvaTbbzqxfPCOA5cHfZ88fkXPH/+nP1u13XtTCqmehTVliM+F6lRkZYecfc6ZVvaDg+0JyRErm+e8PmXptbwu7/7Ld+9+b2N7qi2AVNKCMpunplypqZAHpJFrMvMoCAxsiBdCSLESFpm5HRGnx7QwdTIGXx0eVukDW4LWNakCqejZUgxwrQ3ynctveOcEGCYDCRtigxqdbgGtXTm41amZKudV60mURU0JmPP4ca9FoOLXP+stvw1iM/VUhtkhzsqsPMwCQ5yVnIx1lLYmbTSKIUg1SZvBmd2tawdbyLOGRWbClskgdq6k2GCXIjRen+WRa3xNkaiGJNtHJVBMrlUStwhhx2hBPT+wXq6zsaoYxyoOUJR6jmTHzJ1d0DGRI0HpB7h4QT3R4brA+nmCmKi5BF9d0e9e4cMI8NhpGahzPhatlihSiSNrrwgTWwYRxXEO//V1PKRTSlQeo01yNrzs8HETQVemzrDmhCvW1t7ptEe1eu9dotctLVDY9uM6jK7anu5shr/6oa5tsyi0fv9fGNqiMfGGG/OzZZdI3CsDnP7aA7Y/+VZUFu+dc2QPDvLuXSYeVlMQsgmNZjDXJe/OVbNmVoy1EJIgRKFhNWeA/RG3YppBZZgUj+xFGpNxLIqb9Q+CDR2ckN3REEufrZMyQM/Zx1Ok5VySimEYUBC9JYKg9VDCB50fv/jk07pydMX3SnFaI4oeqNcG7MthI6djmPqxc0UV0x1q6idZE2v05CYPBN7/vxFV/He7XbeKHtjmdo49jqN+giHNhmxLb6LouPWYYXoo9CFq+sbc4ZJqDUTArx4+Yq3b79Ffl83pQhhyRVdCiVnZw8FpjR1eAJMj0wLZM+kFi8CU9sky2pyPbUwDiO3N7f88KuvePH0GUNMNtbDjXim+mRW1nS67dAV/u7frTmwS0SxOuIVOFxf8+qzL/hn/+xf8PO/+o/8+4d78jKTF6MD74eB6+xQRRBkGMinB+oyI0GYhpFQKuW8UNSVzd8/EE5ng4FSQnNBh8FESWPs2LyFyN0SIMejSRPFBPuDbfC8ISx4hqW+IWy8hDvmzbj5ptxgnr70za2oV9sFlURezDnpshBCMQpzCCaZJIE+WbgdqyrFz0cl9EGGOSuLT0bXYhF8GpTdTph2QhAfnV5MWaEbxBZNS1OAyJ1yLaKQffKxRuYSejQetRI4k3Y7yzQQitpnxOUBSRM1RsrhCkkLcn+Euzfo4UAeDuS0J+eFVI+E0z1Ua1TO0x4plXh8sB6yYUD3iVICsj8QtDAuR5a7E3UcbRinJNCFKEpIiiRTjTCo2gyi+NpTUgsFDbJiTW4b8645jDWDAViNGZ0AsRrsjzkA3WRCEoKtr0f7f1VkWdlpq1OqVC2edFdXNHdn1Blr6ue+1sUsgImbY7bzarA+Kzq4+XFl6q09PdrLpOrLuDnItTG2OavTyRzS6TQzz9YD5BIddu4lUxYjNAgLUiM52kqsxWq/4zixPxzQnCjuwGpenLG31q+qttq4O3vPDoXY7WKHKsMaHCqB0+lEiAvXIixeg5OYunxb6HbTUYJPPD7plF68fNY7kJu3bc5FJJE8KxqGJlvSUmxM98iLfDb6oOk6XcCvDClxc3PD9fU1sKbpbQ4Iqqbp1hbi1vG0hbl57vFi7uq1JTu93cYa7w8Hnjx5yquXL/ntr39lxdcYkWKYv2pmre+YOGGS1oPg32tIRgHeME4CVjwPYikvFvCzn3Y8f/qcn/7kJ3z2+jXjMDKMJiZbShtjgGH5LZLaFvjti9Hqtxe6lZvrib/8+urAfjfxr/71v+Lpk2vev/uOn//lf6LmzKjC9cMJESWrslTleH/P3339O84I7+eFZ8+ekpL1gaEgX/8OSqXuHDKaz8huvwqsbubQaAvlSiXc35v2XRpMJ88zIONHJ2+UUFOvQL3gun4X3PBYAGDiuT3odGcGNqCuZoW6gCtXh52Prw6xKz+bEcOVK+xiVbBZSECpYlOSe8nKesvi6NdcixNFPMMbnKreZInEu/olkjVSCKA25oUYOC9CzgmyNTbGKTJMxV5TKvl0Jt9n8u5ACuLzkAK6zJTvzlTXydMYqfsDejwzf/MdZVyoN7ekQyLKNTw8UE9nysMM00jcj9T9hJwe0G+/pbx/QK+uGKaA3lyxPED57i3Lt3eUwx6CEgZT+BACupTuVINUh6wsSwgBG4+QEn26sng9qDedSrcNti+34yHo2nG06/r4sXEWeOa0Zkfr8S915bYzmdRIOlvP4Y+LGkeAyGVvorWFGAT5sXPrNabH+7LtX/DGexvK2RpfLTPCxwKZtFMttTfdLjkzuypEWebevC+OXtRS+4y4qqb+bqNZjDWpGHlrHEYO+yu0jBY0q4n+diFjVuq3nbahFatebrO5DYoVJ0SI79XA3X1iXhau0M7CO7nGZZDA7rDrCc6Hd+Dy8QeaZ6cLp2TQVejZT0rC0KUtvOO3Lw5bEI1KaNDT5uDiDogVGqP9XV2Ioq4etfVDtL959J6P/dzeVytoXi94yZkYArtp4smTJ0YxnybiQzTl5grgzX7tptCUzdeZSuLaU6GYnAzgzsiBNacTi7Lp6bJJsuIaUYpF7u3ctF7CEP0G9u9kskMblKLDeVv0IrgI4suXz3n92Wd8+eUP+PUv/5b49dfs8kKWyjyNhN2eRYSHWvj27j2zCneuHnF1fc1NKQzffAtpoNzeWrYTg4+qaAP3/H6FhhVb75Lc3aHLjE5GnqCl8cHrRrWC4+6ODfUv1BpymzNqNR+VYI4AF4z1CaqKJWA2v8uOpS2DrNUkkRRUZe21aWMRisFnxnB31yjWMtXICCLtOjusuIUQUzK9u1z64LNavA4VTKLodCosi+n5hRQYD8kbazMFYVmsgbX6euJ0pB6ugIrWzBKSRbL392gajTlXYT48AX1g1Jlw+o6SbqgykMcDsJDO75HTjI43yH7PzA1S74mnBwZmkGtKjGQZyMMOzgvx/i0lBurhYN89RETsGlr3fyRoJmfXPOtoXNNjk75vtCohbtondAtnrb096xTTBuNt9vjGGf19Hh93bh/80F/bCAgXm6sfRy4+f3Vazbb7eevla9rf3Qn1bMh7e3KzKYVSjOjUnFKTKDJF9rquQ9/w2rLV7vC9F1HWfkvVQowwDIkarB6vFeuYxRCnvu025yvueLb2R7sNb07Jfy/C6D1ZxYOKIMKSjRUrwWrzVvYZXJ/v+x+fdEq73a47o5a5qJrYonXm2of1tPlCuvyyOHm5QGzxhZAMU0bWFLLW3jQZPTNrf7YX7hIv/rhzApP3KJ6iB4eYcs6kGDkcrvjiyy95+YsX3N7ecn//npIXZhFSHN1uGesMLeR58cxJGYadFYyHRJCMzVCyzeiBWR9/EYdESAmJkfO89JvVF3nD2ltk1jTA6jb9b9eNR+FYD2Y+eIgIN7dP+OqHX/Hf/tM/5+d/+R95983XlDrx3qOqm6s9iyrv37/n17/8BSGOhDhwf//A5198wdWPf0zcTcir1yynMzUGSJY1d1tkN5HWEyLzjNy9t2hsvzdV7Sb/I+6sfaiaNnZSg+RwtQZ3NCqsEy7bWsnqsIMv+CQ2xK44NCJ0KLE5k6pOX3WYSCWwLOrwmsEoMShD2vjWjUNao0SvdxV3QDh8k3zGU7XaYCnCcq7Mc2ReTBEhhMqQCnGcDG9HqPPSmWE27lyQcYDzQr67J0wjRYy1VyUabfh4puqCDgPDNCL7W3TJ6N099c131GFCrq8IU0DSFeSFen8kHzPsJuJ+RKdAvj/C129Y4kAdB2QIlJs99W5Gzydjae32DBFCagxJp29LIkSnZIfoUJcz7ZrcE/Q90et0m/3f2ihULYMwm7Au5C4GfMFu48IONAP6scf3PdecyTYb6nbFgd2Poi4XTmZD265cvP+xYzOYblUO3zqlxSE5Q3SsrrMs5YKCbn092m1LLbXTwENoLTGJoMFJsHY9c5sWrkZTtzm60RyKK2vEsJ7talU+tDOtWg9cOqsGhO9HxhJZSjGegMN4LfgIoqQgTIMR4j71+K9ySlu+fcsEGjzVMqJezHQjEz2r2QotStvYbrG366U5nceO7PGi+pgzaj9fYL04qlKtiNecqgiUJdtY9RD44vMv+PKLH/Cbz3/NmzffkJeFYZj7bWjQgzXwFURaQXImFyvu5pLX8ef+Pa0nYWXlqcLdw5G//Ku/ZNrtePX6NXGYCMEmQooEJMqmYL51SLoGau2L+Zfsvm37ezCdKbWZSk9vn/Lnf/5P+X//w7/nF+PEr37xN6Tjg/XTiCkzPNzd85tf/crIAWrwwOl8ZL/f8dnLV0zziTSO6DD5JrBMBZHOeKoIcj4j799bIOZq5LJ+oTX7aVvXN5hv95Y3ryoMvnYsqtxM9pSITELAvqPObcz5pjCtVpC3yZdKqTbOvS6mnK7qKGKoDGmTDYnDN5jT0874868hgapiYzg8ABOBRZIZmbkgKYBEUlwIu0BOxopvLENxteUaI6Us3qztCh4pUWSkLIou6vW5SNCKeGtAyCaWiha0KCUkyu4a4YGwHJG3J3TakXcHSpjQeiIuZ9LDibrbUaY9dR8J+T3h4Y6giSVEShDq4RpVsWzqIaNyTXUn2qHzaiPTRWzYb5DWGOkqBT4AbmXUSY/qt7OIts2r+HykuGl8bQ7psZN4PMF12+y67WHawnfbmlLJ6s6iXAbEG7ih2T1fWH0db51dWyd9rz7en7o637VBd0tsWAcFZq/x2jSD2v+9hS3bHCQbftro4JUgSsAjsopR9Usm55l1yqwPMO3ZKFwu7I2radRwto8NTrn5ERGS36NczSkRhdurPW3WVC2FfD5xbL2Fn3h80iltCQqrU6LDbdv6T3NKLXULsoH1wiY93jgldcy+3cR2rLXh7DKagUf4L9+TorN6ft0s3na8pqwdYuL29gnPn7/g9avX/Pr2Bq2FZT5TyuLn19g4dm61mgRSrUrQ4q8pHcIyyXd73tSTrTHWelQWfvf113z39i3n88xun607u0WCF6m/XRvdRPwf/ZKPf95gxG1TTLsdz1+85IvPP+fu7Vt+/YtfkGKA4L0DuSDLwtt374wlVpXff/07pnHgm9tbrocBefac3eFgnxGkb8DWW6QicDzC/T2aErKbfAy6rGwbkYvaDqrGglPQGLqenYQVKjH2ohMXMPZcCHZf67w4S046VKYEg0QdqrOo0fgIS1mvUQhKinatajMksoH81LvS/HwNInRDhLiCg0XAZYElC7VACInpUIhSYK4sYllTrgGJ1d6Hs/KC6YhpCBvpqsCyGMtPUsCEdU1KSkWw4cxCnCJUG61ePLvUIITDDmbg4Uh9OBppYToQxwRRyfMMDzN6yrDbEZ5cwQh6d4+e7uEwWePubqSkgDzckx7uKOMe2e2x0dgQ47omW7+MyhpcGJvO94QTjXB4uhnyC6fUIGDVjaTNpQP4VEC67hu92O/mnDbOqyuvrNnK1il1Mg1sSE1+z7n8zE6+6p8jF4Z982P/eZsdNur39vctQ9qy8taDtA9fj2UGvlhrSrXVXz2I2zYB97h1BWUePVY0xraCPopzN/9S+nmLw+TC2oQsKFGENKYOTZ7OJuq8uALNpx6fdEpt5PdKbpBOqnpcWJSNszJsdq0tbV9Pew2gmrvx3B6vX3AupTMaA7A9vs8hba4cS15orr36iPV5PiNY38Xz58/52T/6GcMQyXnmb3/xN/zV+cz7u/csy8x8PhOcQTSOA8OQVtw3V2NOBVPhDsGUARo0MI4T0zhxe3tDSgM5Z37xN3/Ll198xdu37xmmA9ME45RabzUtCkJljWr619ymROpLgp6BGCUXc27BlQKAlCKH3TV/9o//MbUU/p//+/8iTRNlWXiYz2hKFBHu/+53lmnEQFQlv3+Hnk6EacdnCF/d3BgeLMJxztaXI0ZHl/t7k8RJEd3tvJGxnYffkTYptdd0fDpqsObXVqdRbWxxG/lghWsQLS4ltEaObRKt1hWSsQ0VHKMXh/rs9zG2uT7tuorT0gGawLFbAAAgAElEQVRXuqgfdUQrglRVmWeo1T+3KjGZAIMleJGa8dHjRjOPQaghGbxXsGbcUrq4q4bBo1tQrSaqPgS0CKVYjSov2Q2sZWg1BJazGaRAJniwUFTIuxvqvCDHI/H8QJn2LOOIDBNDrKS6IKd3ME0s44geKlIy4f4OHRMlJVM7P1xT7h9I9w/UnIlX1ybX00YYFFeB8L3e5LnYTlquNlL7o1lOi97V6oY2OXo18s14b1W/4TI4/ZSDsr8vhU3XxtjLjK2/Z5sF9fNcF8DW7tk5bzOljZOR1X7B9vN14yy2zcXrYMBWY9o62MY8iDFSsjhrdAEtgDugYAoMtSyUktdr4siWNkHkRyUA+res3cI0K+O7BDYArEGB2sJftBp5Qks2lCwFdoe9EzKUvNggwod5Zj6dPvLZ6+OTTsmWVjtBvSAstLRYZO3Mln7fmiPafKV+cbVHo8bW4fLCs4k6/LF1iv3cPuKQLtNq+904JjdWLSoRV+q1bzWOI5+9/pwxDbx9+x1LXvjr//zzTrdc5pk0GsTWIKX2vZvWV7t9qmp1tQCBxNCk5NOIhEipwsPxxPv7B+7uH7g5z4Q4kIY20dKKlLK5Ht2R26Xza9m/8frlQ6tg+lKq1e2+wYG1wvPnL/js88/57PMv+Prr/8I8zyxaCfNsoxCWTJDEKMJDUd4KvPnuKQ/395xPRzd4LsVTirOUKvJwD6czOiQjNYhYFiC2cRDPOHSTiTQ4p2VFYlBP8YwINTgiiS/7SgceJMU+k8Vka1ZtY1WhzmbsajUs2wq9SvGoTt3RmxGxa9YzIsUUH9hG6raelkVNNNjLXzFCHMT3SfVMzTO6ISJTpN4fXVooemYYu9M1JmAlBB/pASzF6pOKdfBXb8StqoTRbqRlZ8WYfRKJ1YYKaq7UAkuwbS1jgkEoxzN6dw/DGbm+tmbcApoFff9AlYpOI+XqgGqGo93rPE5oTIT9DuaFYZnh+I4yTmga+7WLqM2MWszIVoHidgGxXrGmENIg/0ZuEEAlUNqmkpWV13sEZVXU/jAYvrQDF86l759Lp/TRWlI7jqcS7TPbxAAQC/o2n9fo8crK1utBYtVOuW4q9Fprz3xF1cg37eXFmnjzspDnpTtOpIWecuEgzNG6MoiAiVF7QKbrZ5sMUWOtlraqL1Ol/pUusyWgj0DfWujmoFrIFsCabqv3UIka6U0ryZGS/TSZFJw+yv4+8vgDTql9Yffo20xHtrUlZ9jpxohuPPGjZWP/VwhdJPTSMfUb/GgRXhzl8WLiw+NYhN3GE+OZhzkKLdk/I5iKeUp88fmX/OJv/rrDaeoGr5ZiaXFN/fzb5zaByNokVBT69N2wilIiBh2cl4XzeeH+eOa8ZNJSmCb1QrAi9fI697+d/NGXjWwclfgFNevvRt8imSAGDVWtXF/f8OzZc169fs23b7+l3N9Tq7Jkq2nUeWZHQNLAA0I8zdw9PLBUUwOvTcS02iYgZ+T+AeYzdZrQw5U5x3E0xly1wji1dAhPojkgC/qiR8UYW00BqtG5oy15a0sL/csqoY9zag6jyd9UX1gBU2xITQu2r0PPKLUfwOEXPyddYRRzRCb0W8umOTIq46Tsdv0QlhX6dE0E64tSr2elhOQFcqWSjLEmICkYeSBnm2+UIlUTlUKIxsRr6joxuh6fGydLOAXRTJBiYrLVaks1GQtKKy6eClxdE8pMPB0Jd+/gcEVJNuJF9jvkdAfHe6MmD6P1bD08IOc7Uxvf7ahjpIw74nlGlnt0XIx1GLxhuhmkmmGx7KcOg9fKdVNQX/ePtkZxWQOB7R5+vMcf15nb3v7Uw57fOiUzph8bC7Eee3VK/Tj+/4/ZqaqXr710SPXSObV2AjfoLbtqkkBlydbkvrGBFsB5e8N23ao5GKvhQ9AVYFwzwuLOrzoCU/tnruHu1u3ourDXL3p5UQ1WsOZwP4L0c9lcsepaoBLYjQMBNQUbH575fY9POqVV7Xcz3nbjJBrpwZQJVmivnfdFlL8etX/xZVl61rV1Olvo7g9FRp96KNhUWz9mTIEhJa6udrx/957z6cyb03ekIKDGelmWSl4qEFyDb0Qwp3Y++WwhjM3SlC7O5zOGB2eqj8lGghugynxezImEwDBOzHnmdD5zOi+koTDmtWVAqqJhhSva924Gt0MIF3n1o0S71q7SE+Jg6b3CtD/w4vVn/Hf/4p/zq9/+mq+/+YY0jOTzkTIv3IQAIXE3z8SQuNbKMI4cpj1TGinzQi4VJLLfHdB376jzQrm+shlIaTDDPJuEEarW2zK02lIbpSxoVopDGTZW3Ix5axpWZ/SJwzrGrl8NW6mWpZayfvOQTNwzdhjQTUmtm0u0ZkR2ipv1JPYZuZhtbWMWQlLS0NSbuw3ufb/2WeJRrToDz2phBaGSfMxHsebzwXThavVerXkhqJDFhuWFIKDidGvrk4tYS0IhEBJEMSZsPmfkeDIFiziAB4+VSpVgja/YPKyakkkUPdzbvZisTyynRD0ulIcHllLJMVJTIM0L8nBP0IruJnKKlCER84zevYdxIofEsBuQINYgTKF2RQLv6hdxySTv6scz+uQ9XmoyO4+hM1inQT+2PUYIWP4elqA5OnOYjeiwjdqlBdaPoML285qNbzO5NVtvC/USJlzJDRdQoB+zVmsVWJaZeTmzLHMXEVjJWXYewbP7khfLflCGFEkxmFiB4cKILpRz9WMvBPVMqRbHxQsNirPm/e13NTyiKv01l1fS1ubFwwPkKMIQpAfy54fae5MOhx27aWQ/jdw93H/ybv1BosOWddeyIml1Iqzr3Oi7Da1cHZKjNO7pL29w+3vr2T/FtHscPbXnP/a+/l5VG0ehVmwLavpY5/OCzTuxJkatJoh4f//A+TwD0oUSocE4tiiszmbSQaqVXBbD2LVSxDB1a+MZmSab9zQvi9VfoskUBTF5oaqlH8fie0zrqtE1U+yOSNoF9/PZpJisy7w9122/sQ+blIoE4jBw2B+4ubpmP4588/vfMwa48nHrSwhIGvvCIi+MQZh8LeQ5U+cz4/EEuVJubqi7ve3Ms9Xv1FU0PGLpPUnWsCpdcFJcITqkaHpw0uqJRhnXqvQEitWR5NJgQCHEdcJFw+jbLJn1iqj/J2v25ZmlkVbMuZVijq4qhFhJsZISmxqT/0nmoJqTah8VYqOrGwwpIRGCUkMl7SOhZjub0Ho+3LilxPJg7QZDtJqlt/QiMaA1GsuQjETptQqq0ewl2Bqxvj+Trgnu3LSYDA3nGVKiHG4YtCDHO/S0oCGY4xx26A7keEdazmSp5GlCzotJS2lBDzsqkZoGZKjEvJCCCRnPJZPTgB52RCDmhVhmy5hEkKBr71kK7rydDQerc1Dto7ObYX5MqNrahMe16u+zFWBq37ilqvXD51vm0TKRi2N5Nv3487fad1ordeMoG9KyZfiptjhyPddSikHpy8K8zFQtCI+D8A6JsOSlB8e1CQ6jRFF3Pu0zvVFc7fdbO+Fmov+uQ4++XxpFv31uNzcN2pZHR/FssIWO0YNLK/l41oQxNve7fwAlPLnac2+KZXVM/XQ2aWSTj1iZeGtKfLmgmucPbO7xmkY319te7d68brDOfiE3afbHMqkYTZKjRTK1KqfzbOyQYTDsfjbxxbu7e8+GIC8mEW/RTLuhkWG07Oh0eqC66OI0jBBNRcCgvsCQBtcCjJxPs9O9EylNhDigKt44Z04xRtNjy2od3wpIdcPiDYg4FIHXRni8+XoQ441v0kZhWEe41kpA2O/23FzfsD9ccXf/C15dXxGGkXNeSAIJtWjXYYRhGhkPO9Juor59T/nmDcvtM+rVtcEKp3OXc2IYPdMJbVeaoS5eQwg2ubQRJhBTGAZf2O6MtEU0Yg2ttZiQNrQMUHuW0tfJBivfGpOWtPUtJrhzhFIDTb8wpkpM5uhsuZiwa3P8pag7tiYjtV2LsMy+gYNR1Yc0mBsM9n4tkXqeTeliMFminAvnpZLFagJRMVhLrZ6hMiFxII1K1EheFpYG5S4FVKjTHtFKKLVDg1Valob1gtUZmQtxvyNMO/IQ0XfvKA8nu27DQBgiQfaUh3s4ztbeMCaWoKS8EB4eKHFAxwGdElIiqRbmhzvqMBikKJVhmgwaFIXzyTz+bjJtRJxKH0wXrxbv29nARj3D8KASuMgatsSELaS3JVI8thHgmU2rTOqqNPHYzjQoqzmTto6Q9RzaeTRlfzunSl7mjY2U3nu0npM7Nz/P9mdZFuZ5dscJsqlfrTCdMQNzXlZYslaKGKKQkvgQzzaKvH3XBt25S2kRqzvJFq51v4dlWdtM6cI5ylob7tds8xnS7ksMdGJxNQJMDML+H9Kn9FEygV0lwFhIvgy+9/V/8GHrwyGvhv197GRWBOaRkv33HtfgmNVAtairLSCrjwh5KZxPM19//XvevPmOh4cjteI9RiO1Lt6rUphnWzyn85EhJYYYOT0caXOYpt2OYTDWHdUyqvOSud4duL654asf/Zhnz18S0oBirKpSFaXQRjBI590bBASr4wc6EaLbxH4/6I24ORfXtyq0XhFVJY4Tz199xo9/+jM0Z95//Tvu399xf37P1WgD4WqAtNszHa4Yr64pIXHOleM3b6hff23XqwUsHaIbusyOiEXotaghBT5SIA4+Ofci2sRf6xvAF3OpJoFXNsh3jAbzeRLs0Lb259c1sTqi9hkikIvaMav051J0Rl5Uh2I8m2tRn9+DNipApDrZYD2+0J4zxpwILLP0ZssY/B6LIEOCko3OLsmRTmsAjkHQs3HXNVhvHEsmoegwWm1LFZ3nrmw+KwimtmCZWkZnZSkW5FTXnZMUCRZtoTGQl0qd9pScSfOR4XRiqZUcIlkiGhOxzHBeKJM5orEYa0/nQt1NyBCt72sW6uloPVfHaPDQbm9NwLUSaqaeqql6CGheazbGzsrWUC4rIWLLZIOWlViQ+Hj6awt6v4/I0Ir/PbiUln5vEJu2bnvV6/IzQwiI92w2h9QgxIfj2QKIUhjilq0c+jm244E6VVvJS/mgRNFnsT1ysPZeC0amYez1KfW+INPRVFQLVbP1vnmtmFqdXFG641BcbWGzD4P/sNaXmsX98HGBcGH18yCBNSPUTpJbX7/ZkJ94fNIp9YNJO6A8Wijt95vmONjc1k1G1Qzqoy+qDcL7IC1fz+BDhgyPXvsx57lCOeoXuiklGMZdN4wr0556//499/f3nM9zh2xaym32PvSIoH1uTFYvENfMMk27kTElKjbFM8TIOE0c9gee3t5yddgz+GgMRLrBsgXRPgu/ruvm7Ibbm1ZbQd4vjr23ZYR5oeZssImqN8WCRBvN/PrJLecXL3j29Bm5KPO7dxyXTAmJSQKHq2t2Vzfsd1c2eO/bt46fgbx6SdhNMA5oTBaJK11WSSV6JBUIo/Qaj5tPOlNhcw9AqSEZjOZ9sBXvJ/Ihsu6eezS2XScqgjZnszlmcQg9FxvqBxBjdfo+3RGZDdxuFu33vhS/K2LHmWelZMvUQhSjlCd6BFlMqNEyOpfuUw8KCEbxLqVYbcDJPjE6GSclNC9GbNCABKOQV8nGhHeHokuB/c7ULNSUygEb9HeejaotQFHT9RsGGKzxlvOCLovpLI6RnHZwf089zVAWdBjRGCgyWD1iWUArHPZQMqlUG6M+TdQYDPIF6jyT3SBXVTQc0GG07tolw+mIjmNvxO2CxWrNzEJdZcQ28PRWNLQ5pfZodPEthbw5ky0ZoNmctn5av9XH7MZ2GazOiouexwa7dXVz34PbLK3VgDqc7E64ISRrP1KLcPyPtkC0sWnptsGOazVXrYZING1UcXfSCA0Nsuvkks33lEd/XyBTXEoKbR8tA2zvWVEz6XXudg26s4dHNvof4JSEi7uD0kYJrAffkgVbhaj7Dmm1p63X1C6/01PIiy/sR25R6CYt+lih8PHjsQOrunYxbzOl6gwZMAe1LAvffvstb9++43Q8URyPFU9lBYfQ+rlAG3WsaSCGwDgM7HYHYhoYp8lHlxemYeBqf+DJ7RNevnzF7ZNbhmky6aGwiitur5khX775tHY4tBlP9adMc69lGfZ98Y1bPVrp2lpLRnPmkCtfPn+O1p/w+a9/w/1SeHs6cZ5n6pKRWNlPB25vn/Ls6XOm9w/EOVNff0Z4/oIUIkw7FKfFSnP+lik10kKMtiL6dwuywngNBsCG5VW1egwAzr5LazP9etdVexaJiBeZPTDyX5eKz8uRfr1iVGKwfiLtm2cbeGg/fO2GTW2kxEXkbe1VwyjGPmqFrhh9Wm1PGE33Lq/nh1ZygVzF624ZqZmQYndahWCOvizmneNAVkHm2bLH8wJxMLhUC4lgkX8I5nirojEi+HRcVWzCYSNnBC94m+PL1cRi6zBRx4I8zMSHO4P+dhMl+udUG2kShsEM4ZIJpyOzWHZWUCiZ4XymaCUeDujZ5/4MBxiSwcEPD30QJCGYUfagUEQILXNoWXfLjnL+IHvYkqPWac8rLHbBuOuMy9U9tSV14czaGqirCoyqjYhoo70v14uSko80L4X5dOxBkw3Xsv2rXsOqpQ30K65x15pkcy9a2jquaJULJ7AiPr4pQsBnbRN9bIjU5pRa8Kab7SIe0CrGBtDOjlwdjLm2YOOWP+K47TUf1P+5TIBaANGEFDp7QIw5+qnHJ53S434hixh0/YBN1rM6ovW13/vYYKUfvG71Qf5veeys16e+J0vaPk99HDXRnRJqjaUhDsSYDGpSsWF3Ajg+Oy8mOzQc9gzDaMwpLd5ECLtpZEwjh/2ecdoTYkJDYkyKxEiaDrz6/AtevHrN0+cvuL55wm5/8Mm50bKpsB2V3Aqn9HMfonTYTpDeIV9YM7nWr2N6pD4hstpgsHxemPMZ3r5lGAeuv/wBnz15ws+++ZYwDFzd3PLbX/2G/W7H9c0NP/rJH/ODH/2IH33xJdcxIq9eU7/40mj8CAWhFMiNdRaswTUlVzx3SR9wvmVVgs+qMigtXDLqvLE1Rnexm8jPv7RtstCo+pcBkbeAUIrYkD2FFKsx1Ro0x9oYu1mGfTeZI7JNk3Nn4TtTzh2NOx0Lpmz9SxBqXh1ve331LEDEsq1lscFrjZhQxBqcQ8kGx3VcMiApIdUGS9ZgCuj1dLa63TgQU0JPZ3Se0WTTmK2nuCJipJvqi0EVZF5M6TwKVZRFlTLbmPXS2giCUKcRoRJOJ+SY0f3E4pJgUZXgzqEMiXo6IcuCnk7MWIAktSBZSMuCTlNLLbsjqqo2lj5nO29pVdKKqonXtpHeEjZTTr3WAlzUmj6195tzapTwi7rI6pO6nau1dkZoKaVLrNVaya58kjd07d5Ay6rssLVH2+Zck8ha60dNl85mJWXO53OXFbI1txI81vXqe76NbUGJvvckBKN+yxqUN+FsqeKCxNk7RXzdsiYelzUjf8kmw1wfH1djqGjfW4/r/I/Z1X+ozPNJp7QSD9aHHXB7gzfp2wcZUg9oHx/50VEffd7GEVm6/fFUe/u+72Pi6aOLepnSW7ZjorM+7n0wWu0aobTMcHORfb6SiC285Ey+w37PtDtAiBQ1SnlMA1e3T3n27BnPnj7h6nBgGm2sfKuvtAVN/8Qtso1TjNv38+XUIkkMErIRpu37OQusVJDqUIopB3B7S42BdITdaebFsxfcv3oH/p7dfsfh9oZXP/gBz19/xtUPvkKePIWbW7Kv1qqBueA6f8agE8fpjTm2BivNgaA2raEqq2YeK63a9ptDJ+6AFHENtQ2Few14LSMqa41IRIlSjRQQt5nQNoPeZNxrINtHMbRsAxq854wpWddxgxwlrBmIuOG2+sVmg6PkurLkW6ZWit3TmISyOOOsLYB2EWIytuN5puZq12kMZhdqMaiuVOo5I4OJmVYR8uwTgn3mVVCDK6XmXl/MzhA0koFDZ2L3tIwTIjCVBTmfyXWh7HbkFJFSrd8kF8pgw9z0PBO1UCSSx5HcyAm1gAx2gfNiDb7JZvPovKDnsymAiLAqu7frIB2i1eoMvhUq+KQt+NifZrMalP8xBEk9811VGNbjtZrsh/1NYizaYs2x0e/h46xtSw1vY24auaGNeriUFTIEZC2LyBo80TaC+nXy17TotH9fp9I3yFsF6TLhPefp+6Lt20aS+uhF+sBueyDtyBKy7tFmR5tjWq/z994+4L8yU5I2B6lLBkG7yUEap99Pwy+i9Sx9XybzaU/5+On+z4/7Mnvq+7KmjcduN7xWM5zBR09M446rq2tev/6cX//q18AqLBtCpNRkTLtSgOTvDV6LWojBpvE+efKEq5sniATOcyGOI+O04+XnX/Lq1Wc8e/6C58+ee7Pu6J9h168qBrWE9bwNpnO82SVGGm0ad1xtrEPbIPiCrRgrp5Ti8jUVqhnUJS9orkzTyA9+8BVX11d8/vYdr7/8ijQM7HZ7/viP/oSnz5/z8uVnxHFi0cTxVJ1BZSSGkAIxRRy1suvlP0fBmEG5glodBRGrvSVZHVGTB/IIzcNNzEBhIqY9QGn1mZUWLmJioHHYjHXyjGezCGgQYHdE7iwbBXy7UbYDdLcZEtAJDerBiqOlxpJEVgOI1UlOs9GPCcZibaMzrEBcLdOMlhWJVtPnc0dYqvdMnWdShDpMtrlrsUxVPduqC3HJLNWklbI/z7KY46zF70HpkbbJ2RSHqXx9ONQlERN+JRGXBbl7AJQqMO93hFIItVLmhUWVcxKYK2GZ4RSp00CdBjQIUhZEBjN02ejSmhI6JvQ8U2cjXqRpj+JD/z6yh7VlTq4TuG1ReWwHvs8pGZLQmLgAj8gFsNHGU87nswWdmzlRHc4rTcm7cDydOZ9OaK28fPHcz6N4trxKB9VqkjuNZTfPM6fTiXleVsdXt9/Dfl4ljdbgdetYpcmLeUnC+sQsQ4zRkYwqQDTx5PY+tE+xbSE4Il0F/GN50uaWsDXGKtWboe3c2t5s1zg689Ic1Yf9T9vHHyQ6fN+j9URc9gk44cFO8xPvXr3Lmo1tsqPmYPybXUQ2/UbI5Wsff0K3PtJfv11MQ0yEEKlORNjtdvzoRz/ml3/7C0QCp9MREdhNRgGvVXwhQa3uiLGio9WMrnj+7BmvXn9GiAOn2VQM4jDy/MULnj17xpMnTznc3DLudp0eq97nELSgMdBGNjSadLOIVd2wlmx02qJuRKQLWBat3UFVL6TnPKPF5I9CGqntdxIgDty+eMpwtef22XNevHiNSCCkgRcvX7O7ukbGPeestpkRhqjEZE2ezcls741iNaSKQ2kef8VkpIUQwTB2h4L9tl9shLKuHcuszPgvZc1AYtg4ovad3SF9bEaMHUtcT+wyc9qw1w2ak5XcYAGeGyzXItN+bE9Yw6rm0PT78qLM50LJRjO35Rz6fTOyDaiayKwE08vL57OdX0ygEOtC2kUWtcm0pqlXqSFCgDQENEyU84IsC0FCHyejbohNXw+k4ZECtWSHe1p2uwabWkGq6ajVYSAPI6lm5HSkLjPLMNi9VzWShQh5mgBhKIXhdILdjrLfm/M6nyEmagzovFhWPxijj/NsSrkx43MXLvZ0EFlnqUlbS6k3uOKGepvBtD2+/m7t0Wkq4eoY8eMG1RVtWDMmI17YHjDnckmiCCEQYkDFZrVVMYNv2otlcz7bniSD7BqU12zVNsBULd1ubbX/4pBooytiEFepb7XpdeRFyZa9SW1suJVRurGUq51h3V/f55AuyUD091zyAXSzv9bnWzb8hx5/L6e0zYbaLzY/bn5/+dEfZDr64ZOXtaqts3r0vkfG5mORUvt9S3ZbVrelV257DYIIwzDw6tVLnj9/ztXVFcfjPU3IMwZjys2NYolt5ja2I8XEOAzW/3NzQxom9llRCYTBJuserq7Y7XcMw2g1K5oh9mwoBGP3OPFBmrV157yyhvwi+HMVJxlUXXXg1HpcSrV5LTEIwUcTl6CUuvgcIxjHHTEkdtOeq+unPpYhMB1uiGlCa0Sl+Pc1sVaJkRiGLjvUvErxWq1gcwAlqM3eEo/OxKE9kW3yZ7Wz0rbC6iBqbUP37DIM0aL4LTRXN5Flz2g2UWar7XRkw9eEXd52DK+/YBCY8TK0O6s2pbYNE2zRbHCHvI0fVL0R1yyT6ZFhX9aMW+gKExoiDqqiSKdxi4CUhVQLNQVKEGsvyIWAjaAPtRhlPJj+HWKKCaZDaROFi2L3ue0Lw5vtWvXs1OuTJbNKLbWsyQRxSZESBpaakcUgvTqONgW3WNaSciEPiTpNBFWij10vhwMLEJcZsqDDYBdoXmztx4TWbFR2d7bavL2f8+O6SgtYew2u7YWNI7kkOzx2Spbp0zPb9bilflw9XLH9tSxL//1WdSVFawDPOTv0vs5Q2p7PdnifOaSVFt7Wkv079Pdc1M/EGvCrS5l05p14YObacn1Krd9nq0c3+8emPLDamK3RfpQD9H88/vf28X21IpEPM9pPPT7dPNsGdQk9Yvw4ta+lax8vggFrb1F7y8fOUT/2+54H/tc42Q+P5X/bGm/Cp9pxzuPxyJgSKSX+6I/+iG9+/0/41S9/wb/7d3/B+3fvWJbM9fXeBK1rptZMrYVhNIXsPgQxGgSQYuJwOPBsf00YRuIwMh2umfbXpHHqC1mLQSxKRWJa5XXAFlxj/6kxV0rDkZrVBwjBlc8xI5SrZxVrU26tGePneF9RbM7ImjfHIbLkSs5KlR2lelQaI3GISAoM4rN/1BywkEhpYK5Cdn01rerrxBhu49AMhjfUyea2eFbUOAequOoGHbZqWVSKtcN929f3dSWrQwJ3Viv5aH1dW7+PlonBdy1wwRtkLeuvjuu1oWyIXBIseuCknnHY8VRdQcfFZBXLXqqzAmNKbiiKZ292bq12EoMQzmcEOKfksE6xQEVAqtrQwlqMeAekKVEGM+Q5V5uGXCpRoK4djMb6U5PcCm0oYrDBbzovNJWFIkDpp/IAACAASURBVCC5uOqGMbFqTCzZoLtw/0CYM7rfIdOOFDNDzkzjZFp5S4b3d9TjieXmhiUI8TwT5mytBCLoUqinhZIisxr5oVYgJeIwEMaRVlNq85XqlgChm4jeA7Gm3vI4m2lBc6m5w27tNm4bYnOx+T8mgbb2PzWiw+l06k5kt9sRU2IcR1IKlJy5e/sONq0aa9ZFz+LO85llXjidTu6U1M8heLZkjnSdQ3c53n0cR1NoKVYvssCmOmRYKNUcJ1XXoL5fp9UhrcLPzaa03eEo1Obfa4C/SRy2G6mVeBw6MSducLWt0A9l5L7v8WlKuLvgDzKkzaM10F7AeO39W8/7KHu6fHjU4q74IhXk8pifelxAeQ2KgLUG5NBN+wzBlBuiWPPXzc0tf/STn/Av/+X/xC9/+bf89re/4e3bNwzjSIpCXs5mvDf9TaVUzucTd3d3vHnzDde3txStjLs9+/3EtNszTBNxCEQqUmagoCERakaiibxKtIJldfFRdRgquHXtjcotzRZvUCW0uV7+HqO/Bswy6hypim1C8f4srBZkw9QidVmMSh4SKRkUQYdMghslWwf2/TO5mrafVu2OKEVXa/DsxyXcusNtFVT16K2qBeiWXZjBD8FZeGmF5pC1l6hdguaMmvPpfyqelXiPV19f202mPRvbOqA+QNCvpcm16OoMazM2utkT9rnZa19Nfqg5p3a7qoauLE4wB5yzXQtreq1+jZVYC2FIZA3WIwSd2FLxviSH2Siz9QHFZP1hS2YduaGUJZvDFDNqUWBICTRRaiE6M61KQIdovUq1Upz4ILmS2vj5aqSZHIQgiZ0q8XhEUqLurNY0BBOZzZMJww7zAm/foocDdZqIy0I8nWFIJkJbC/V05Fyh+JpOOaK1kGIwdXUPxjqE1+zMptG2GfxWw9lOiW0OqUlRqVaDtvx9qxI4LF5/XfLigsqR4Ay8WjaixAJ5WailskjLehZOxwc60evCXtqYk+LHyDl3SrhWbBREaE6kwdrqde/AkNxxBjE5Ibf1QZXeciMtK/e/vXdSvUwgbT02x7Rh6jX8Vt12SnMiYue+LubVqcij/2uzGc5OpQVlfs2lISQrE+Kjjz+g6BC8i3M1iH1RyBrNtsyv+9FHHmRNWlao4tJ9+w+yMm7az80S9ZdJO8LGcW0hO11ZNo++DY1d43egZyW1mj7e4bDnyy+/RFD+4i/+Lef5xMPxzqSFojDkkUoxfboeARXOZ+Xh4Z5vv/uWm2+fIEG4ffKUGGBKkWmIKMV6COYjJUY0JEgDQnUtMM+YShNPtGvQMyiHK1Sl4+kqONHBIuk220dVTfusKZRjTsvKGT5wTs0wiUQkKoHCMATX6Itev3HDJ5GqwlLMKRnFdvYMRj14CX1j9Hvn8FaD2MQHOzZoLjs0Zw2y6sdanUUp9M3JRxxRIyn05RP8T1uCDW5ozsyDFO3ntMmOdD2Q+otqxZW5N/DPulQR1uxIhDYeqjvPEGBZ7J4Fdbg3RZal+iY1wdVlrnb9khLPM0iiDJMZl5KRJaPY0L+AZTbkTKjFrmmpFIrNlTKanY3FiKauUJaCakFjZNiNxCAUQFOCPCNl/ZYMCT2dIM9W4wxt/VlwUVlbD5bdxCjCMM/U0wn2e9jvCfOMns+UcaTudwznM/H9e/R8otzcQrVxKQB1SJQQWI4PBtcGARmR+UxJyQbCudy7YNF9WRYkNuFj6chA6827UHxoDswDLG09eyV3eKxnBqpOy64sJZOCUcLjkLrzo64N32XJVLFR9027Ls/nntE8FpHWatT+1ptUXMlEK9Tg6pebmFrECEMx0Nm+4hnvdvyFWzJaw6z0zNDW3BpriTu81Qr3GLdtMH9ZkLBKP30yJbh8bg0c1mNf7CvkH+aUNmNmP/rnIiNqF94+fqMF3s7pkgTRIcyLdGqT6Wx/fnwJVHrm9bHP2OI2xjrBWGCYurIEo80WCvv9HrBoCalcXV/zJz/7E/7X/+1/4av/70v+j//z33H3/juW+cz+sAPJMBfOpyNJAxoDQQN3D/fksjDnmZu/u+Kb3/8dX/7gS148ecaP//iPOez3DOPIuzffcD7NzEtlOBy4vrrm5cvPuHr6HKmV83m2lDdGhv0NJWeWUq0OFU1RoizFJENKXRs9dcXYFbzrH4Y0+DUKbnwTabQo1nTeAvtDskjTmyxRGKPpwhUNzLNH8cAuKjbjzRd+kKZPsjoCVRNEaQ2+FWqxBtkWisWoDIN2plsjcrT12jZWJzpsjH3ZoAjbJdk5CdoyoE0o5M7MnEhzctodpAS6wzLDZdfTetLMmHUEwudoVVduMAKHfMDUm5dALtbcWilOxzWIJo4RXYKrY2fQxZhoGimu16hqKhcEGKsiEih+GiHZ1i0Y5KXFHBcxEcfB08+KSCINkaCFMSUz5t242VqZ82wKINVqh0Rx2Niu2el0onjxXFVN7T4lRKGEgB6umJYZWRZiTORpsh6q08kyvau9ranzCX33lnOKZBH0eLSax36PTAMpZ4aqSM1oGsnnBxRb+8M0Efp4ckWLM9bwNVKcZFAvyQjmc2xRhCjYiPDFGsVdH043VE0Rg9GGGMjLwnw+klzp3GrQZaWN59my5JJZZhuqJ2JOxyDcRIwDKQ19SOPDw5H5bBnSNOzJLFQtXYAYEYYh2USDIZI8YCzLQ2/UPuXFIF4RihpEX/Jijr0sRLINiKxq/w6tYr8N5R9b6I0HEUvDLoox20C//bya6l7LEqGP6wnBSTeBPotKBFJ4NFPm0ePTfUr9dNdic2MerZnR6iC24WnD3WXzv+2Xor9/+2mXvUZr9LpCiJtr0bHkx8yPds72i/Xc1wu/bsj1s2r/W2vlj3/6U0IMvPn2G/7Tf/wPfDefe2+JYdM2IyaE6DUM2wynh3uoxQrRy5n3t98AypPnTznsdswK53nh9HBm/l1lv9tz//YdP/jhjzlc3RDHPRCoEq3zu0F3WpHFB3a1mhF0Z9QYeDTs3S9dM7r2lPQ/KTYKczPY0rMam9rqgYdAkkoUZ86F6KQMjAWIrFCdR2SKKw5Vc2wG18n/z9q79UiyJGdin5m7R2ZVnz5zZoYUd8glB1hAhEDswz4IWL3oRdCP1w2CIEgUQQLaXXJFDcm5nNNdVZkR7m6mBzNz98yqvpwZRaOqs/ISGeEXu372GbL3OErJfeW4xnCaFw/E1oLDtodwmRYY8XCa57HaMDqVTKyVUX9Jurym3jkUQ4gFoIEo4uIYnpqIWi1Tt3tO2ZTT8JZ4ek+A8ZHVblY6s/XyI6IRtiRHbvWXKyAK3qx9rXk3hjRLJUP2BmndoNCO0sR2gh7WKFABg/tKtxwRJ2gVK2ZNDCDZoB0Vmg2NF172GL7ufGqJrJ6oNZCIhancyzDDwYpMGQB6R04J/fEdknTIfgX2K2Tb0HJGrhXy/Ax5fMT+7h3S8zP46QJOCUcpVpB7vQAg9NMZRB0FCu4dVIqRt6Kj7Tva4rWFgSu9IwJYkXOSu/vC2AsL+CG8q0XZAkByVG42xsFwz5eAjimGWKOAhdkHcwLNPFTIM/seGZ0HuntjYQDZaUNuqXs8cANGpo3t37MVa1eRmECa0BvQIEYN5cJYxiYwy3Duq3WbrBsm7sDXLd+opFdy+bXM5Zv7CCAIJ/aC8pkO+INySjd34cImAAsRq41whtI6sFPhxOuAh9Xsiu19dDsoNzdJNwG6sRCHuhv67TZUNwbObYOhOMfnaUzy6lRZyIbQW0etV/zlX/4lfvKTb/Hx4wf84z/+Z3z//feoHq83rwPQBKf58KsXwfV6RT0OvDx/xPff/w6P33yD6/6CP/rjP8Z3332HcjrjODou1yt+/c+/Qd7O+Od//jXS6Yyf/ZHi53/8DqomdGqvUJdeknhglpUImlI4BSYkYnGLOApvKvBgGQiFZBZfKBAdyfYupmyILaTG6MgJALyWA2StE6DOteahAYRgdjJT9W6jhMHSEB7R6snEXK9uvuUGVmViX8CO5nMdOn5WzySuhZaNYdOiDvEey8kXgI6VMr9XRwjQFPTMH3UnmJVuJKvM5CiuQAROxcds2/yottltDIyZfKw/+E3UBk4MKQYDV7G2JcQOrw9lpQfQG7QDvHlIK1nHWQImr2AI7ZRAzVjJwRbaUxXofkC9jUa4fAo1Yl0Rb4Dp7xdvOkcMTtmANb2jOhADpZhiVQFyxhUwNoinJ2hKqOeTMTZcLuBc0B8eoAD45QWlVvTzgzGMf3wGaoU8PkJPJ5B4LVJvABe042p0RF0scsCWb9KI9UZYO6DTiLUxhVjvk43Bbl1GvVAoq5w3ZPdCrTB8gZ6rT47LlJBnQaPDxF4SEIvXozS9o7ryM6h2g3QZXQjGJQ5F1j3M3aEaTC6ecSbC4/mEkt0LUaBVRmVA2o6GbihHV7yQFe7vSnSuvhsLf4l93YQd1710/3g9Vvj3CiZL6ZZd/Q9SSjM/My909U6WkO2wJu3+XqOcfuzxh37+reu4h4uHpTyqo+FWOQgPj+/wr37xp/j3//6/wfff/xbfffcd/tf/5X9EO3b0qvj24R0gXjkPgrh1xOqNyarg+eUF/PQRez3wm999j29/8i3O54dhNf3DP/4zKBe8++afwKczfvFnPwCc8bCdjV9Ok8kMIjBvI9mtFF7EPUHkzCnZgqChkMiNBunqlhx5hGdSmTApOMug0THPOIGceSK8m6FQML2CUEZMt2CFxdi8mdd13URuaPVsQtmsNFm6PI/lvbdGhs4ncKeQeELJg6gWAKSJwcCJBo1RhCfYvSNrCgeAFClPoARgCumGNZwsnNQcyZezvWA5MhrjK6KgVq0zcN78ewUgnXRK8T0SKAkFejfFwWw1O2S8awFRD08PW4boBhJnoAfMmJEOqUtTPaeoMYzIzElBujE8EIE9BxbCrNUJBMjnM9jbfVenPQIAvlyB6xXt4YS+bSitIfcDWjLa+3fg5xekpw/oW0HNhNwb+OkjVAX9dALU+hPJ9QW1NVy7oPWGfa/WgNMRa+Y1mQKhlJC89xeRF/eHUSFtRELCawrAQZSLRLnGPY3RWrcURxi7N0axqSdbVxqemHUXaC1IWLsbv9VDfGl8eq51mWtMCYnMGOxQPD83bCWh5IzMCd3PGW3XAQFYnBKRh2luKLsZtruRsUSLunoN4V6VyVvKaiXFDU9xza2tlElfgod/Hc0QBUzxJnC2KCwM72ne7OLy3t3Up557Mww3NDzefO/9c6++Y3G939bSIWXD77CBPI4GKOEnP/kOf/EXv8RxecH/+x/+b/wawNPHj2jS0NTCeCFAoIrULdEovUGlgXvH8/MziBMu+45UNjBn+/vYgWpW6K9//S9IXfHTh/f42c9+jsf3P0F+OBlCDRavmjp01lsNZbRuDrIoG0UotQd01pSR6HTPzeIXizvLnEzr/+RCSAAJb8Q9K/HOr+rWaAAVEtOCBvR1EblkF+qrMjElp2OHrAo0pmfQDy/K7f4YukgVFKwLat6NLRVFd+8QNBWSMTYDIMsNiUxjS6HG3hThPO+LFDy5wT/Y+ly3gYqzEGMgvuzHvEXFCJMeppDodAKJgFVGqw4LWzo6j4EoqtaSbXzde0HmEcoc/HsE81wWUAx57kShAxEZAlpjLYnBisff3VpohCEUUlIjTgkYoEJkuMISVgozjtOG3A6klxcQgL6dzPs5DoAz2rsHg76/XFBULRdFAD2/GOP4+cHmvFb0/Yq2H6hqYARu2TrpJotVEDM6J3CrkJac7NgQprEYOpZ6ofBavLBVVV912I49tu611dMaa6jP56UHh+Xa3qJZlGXpSrt+fqydFR4HM1Bij8UGUhHsraG3jJ4zSi7Wk6odjuZr437snK4IdDn3KmfX7/8Cz+iXnvtaT+hLxxeLZ2MQh0sG3CigcUF2VfNz/mtatW8rpHtFdK9F9XYMb967nuvN7zD14JKTh0S7f9+0ru37c9rw/fcfQaQ4nc74q7/6t/jZd9/h4w8f8Nd/83/h//nH/4zfff871FatOPW0gVVQpaOJgLMTEKoJg++fLnjerUNt64rz+QGPj49Gz8PAdd/xD//wD3j5/gfk0xn0+Ij87bcopaDvB456wHvCDW/BCvNuxyL411SxeETqhakB6yYwdWNESIQb+2gAWziGY3hHVp0+asKNfDUp8jblk+rigS6JTfDqUb2Gdg+vCOucvrFu9NbQeXPx+1Otzs3P4SHRVN4qUTuCsZ7D27G8kHmVXXXUOM33r4W1mBvZvSurqXLlYl8LdsZoDY+sHtb/5nwKWwhdGdDmst8mICUzCiizI7Ws1khYgWYdlCknqLjhIjIg6RBjlxcyuD1Js+JsAMo8Ev3S/H/AKWr62BPaGxgWMm6uuGJTUingbIhRFTFl526j5as6as4QZnDvyMcVyGf7Wzt476jM6KcN+XpFeXnGkTMOLta2/eMHdG8aKdKNfPaoECavwfMeTGm2gQn6IWZTVEzZIGy0znMfbAr79YoukxE8e81iELG+JStuu8namot1VWsFs3lwoZCu1x2ttmXd30Hb/dqILFoRORJVK+UgGFchYPmyl6dnnLYNWyk4lWJj0RuO/WLGcKu+r3UYTrcbB0OWDCcKt8/1aEOwvv6Z+NWqbN967i0v61PHF7nv1uZZkVeIk68K49U9L9bwV1zHzY2s3tHNOT/7mdevhu/jzX7sukE3L+pYVfZkCMicCkQ6rtcDDw/v8K/+9M/x3/53/z3effdT/ORv/gb/0//8P1iNEwtKOUFUUBUgMNRRVopk3907OgAWoNWOozW8XK94fHwH4oT9qOiquB4VP/nhd/iTp494/5PvcH53oDXbPCkxpHuZnMzRDqNV3YMKpSDu2kQtB5HDrj23ROhG0Dis3iXRqZMhu0dXZJgnsRWjDJr5OXIU2pxnokUoy63gvid3jnUsY9F+apJxG8p7y7CI81U/FxwK39W9HBdKTez6nMtxFlTbWqnd6joEFoIM4dMDDNJNgYWdQ+SjFzVKTmfUHczGi5BhBug4QFDww8muQ2A5n+5KSBWJBdBoH54AMCjDWLpbA6UEZUKrV2vmyN46QxXSGiAYHUitHMCeZwJ4y+hqLa8t32EN4WprFiDydhaAgkWR2XI3TYHemjE45IxE5onV1gZa0LxU87Qh1gjLlAbAUJRqYUhNhAaA9gOqiv10Bi4XyPMTWhPUnIHeDZpcMrQUUGYQbcjHboW3rUFzAWo1FCDBczumhAiEBB7Q9lQKuljo/Hq9DEJUZgYSuTIhX/e3YInwnlZmhlqrrxt2DlBCrd1YPCih1jq+o1fzgTlCsBRGUkd3VgxhDAoxm0v3XL1bwQBAEKDeUqd1pxTz79HeAWmO5DdqIbrfV2uX1DtHQmPjxK0vn/usGA/HYPmJOleN1+nTnth6fJWnZOeMWhkM6bCGWSK+Ctwiq25CMeP6b+uJ3vKOQLMWaQicT1zjp0KDwLTKx7kj9OgC5lbDO4JGp0aXrkhc8PDwiD/9xZ/h13/+a+yXK/7Df/wP+OG3v8XHpw8mEMSYCAhmmHEip/Ix2CrUmrV1Mau0tuYtMmzZdCGUcjYK+14hC3tEqx0Hm6Vk6L81zIVRFDy8EWVXPjCvKFtRpoUm7EPE7PULNHqqtGZMAaHQAGMmSEmRA6jgdQ8DjBKhIw1l6I+XNTiQcjeTeKuEDPp9O18Ullt8SG+9qfvka3w/Qxc04Kx9MkJMAw5QMm8wIPUTHu40TxznWPJHfj3dEY3JPabwUGMDtqBborniogkbDrdity1Wm4MVjMEjJe93BIL02OjmBREUyNlCc717uwoTlCTVimfhPYFasz0ZaDOYh0SxUABThD52AozwXXQgI1hehJSALui1Ippk55QMrZcSmi+8SKwjJ8uqBOIKZhxpTmgAUu9A7SD30NQ/XwmoOYFedtC+48gJJRXw9QpVsbq+nCG0gfYddOzmPbqrLkTW62mRuYkS0AhIzoyiBgqyNhT2kwOIgzC0dHLeAa/kEzCRfGa4qxk4AFRl1Nfd8t71aRADY80NijAmsKyouWBksXxXl27oTCJsuYRrZnWWvdmPeP2bRxSivu/+WDPtX5v9/xoPx96IwQUZxb7x3Nee46tySjfPuVBcBfn4rVNbfs3Xr4oJWFAowM0E/r5HKEncLQYAjvm359ZukfDtKxJMu0HnkvDu4T3+6r/6t/jFn/wC2/aAv/27v8Xf/d3f4p/+5Vc49h2tHtCtGD+c9zExNJzzVIFAbFDvWg/U5ha4KH76U8L79w3FC/XqfuDyfEXrNkat1QGtdMAUiALtZXx1UduTk7ED5+yKI5aeCqSbddvdS2oN09sB3KMKuqDIiYRxML2eUBgjHHcXjzZrcTEM6HZGb6JyiNDF7WuqpoaHTiId770PC0SIMWymCNcBUxlFiIUTOXntXMvdGwyKV8uPMJ/OYt3WQ/H62AwPKeD13qRV12v0kKoIqFX7/HayLsbuIQGujNSKoN3h8XuOAqqlt5l7v5GjoGTxUZYGceYG5AQ0Qdk2q8ETsVhBSkgEZCJrjVEKuCVrb1GKjaFr3chlHM0s8X7dLdRVCnIpBmoAbiDVrIpCAKfsdEA66h2ld7RkigmAIQmPA106Lsdu9WEi6JmRakepFRkEbBuKGutFVwtBVmY0KHB9sWsYxZ5hsdlCyTRRiqls7uU2E+ZhkAQoIhgiAvLOkxU81tpqxK4Q88Dh2n7w0KWTrZri6P6ZewO8Wz8rmWtG1FC3xvxwDOZyOA/n+dufGHOLNOvc2639uRXOmlfHJDeq5/ZLMb2hG8NvfuK+l9N6vBmVGsYdjQgbEY2eVDekt184vqCU/JdLi1A5ijV8R+O5ex0Wlvz9zaxe1PJteEt5fAqWuJ7zc/mlqZiWO9BhR2DUJ8ntOZ5froAqTlsBqcXfX54vKOWMn//RL/Dv/t1/jcdvDE1Hf0348MP3+PjxB/ResbcOvR6wPtYKaHco9uwwy2yJZhF1/qvmhX2Cl5cDzy8XcDl7nDuZh1WNisVABgZaMMYGQc4Ca5RH7sE4AkbFLe0RZQYaeXgtrFigbGb1J+s5gRHVFB8/zw8pHAxg+npYwm7MW1iKCEKBXKPhMZnQvZ33MU90+3esD8vxhyGBpcrcrsti/MvnyD1dDg9njrko3KqeuaUBEoGhm3hZI+KkqoGim2FsGyuGjjENJ2GtV0pJnEZGgeMwUEzeQGqWpPEQ+lpUdcvW6+Batx5P0OnN6rwOce2csnlHnBKkCVi6Cf2yAdm8osIb2ENNBg0nY3KA8fDlrSDAH6pWMK3NSVKJ0I9mOaIwblpFPQ7zpESQtw3qeUXx1ymRU2RZ2KlLzJwuwt9CcKgHdL+guTfHRBA/Z1YYFVIqyKpIreLCBOnWnLARwN5v6iB1QAaAnEApQZyolhoh7/uYLwI7GwLfL0hfawboWIEQGmSnEjFt+xEJHj37bg3GhtoGcepcU3203DCe3Sje7RbxEEFtu0VIWrUcUVxxfMYNDFWjIVMNglg7b6KIBMlQVDNQEWsObiiSg5jWd1np7O+jlNbI18posf58CQjx+fCdG6kjP4RpEE8vxy/05tdUCLZGJpw43kzLMN0qix/hKi7Xsf5t51gV4oocXAQhXOCFANZZk3LsFmbZODlzN2OvgseHB5wfC/7iL37pSJeK3/7wW5ST1WN8/PC9WY5S4Rze4FiV5B0tOXllfRTXGfdba4RaG47jgqNe0OoZhBOIaLTMEAlXWAbPGidf5OyhHIIzjTt8HAyNz7pysS6xVkMUXk14BD5Bwx0yI80VVTA4UNQ+rcaEzzSZYAEmCCLWQ/x/szB9ydzCGObcxZxYjHx6K9EPac6bTsZkn9tRnAgMKH0YUBqElYGBUQwwg8IeNy+CJYe6hzc6FATRKJ4NEJqRscK9Geu8SqJoyEjEyGToyFCO0FCJ9l1R2R+bxu4vT9TlgLWTN24DrOUIQzUh1cPOlrOFu/YDVIq3SNBJR1Sb8SsmCwlSbWOsun+PtAPVQ4FMBI0W98dulEDISK06F44l98lDeux5KVVB3XdEW3LORg4Msi64Ql72UGe9VCJBKhv0tIG6oqjC7wp5P9Dqgb0boW2De5it+rkY1A0OruUEylYQW5uFRSMcOgRxGKR+TereUhSkG0OEAysQAnjyIIoIBDZGEMvthXc0gCE+sqIdUdmYvAhayJnLtXu79MNIY/sxvjMzW0G0hlGlE00ZXiqb0koMQAgqDnChO5m66uCbCNXcrJEzXiUxTSF/8xiY0ab7+qZ7hTTP/enj9+6ndH98WvlNdNd8isafenfjca57L+o2DvrWp+6PqRxXoTkFo65rZSoqsQW35Q0iisu1grMthHfvvkU9duz7M0Q7/uzPf4lf/Os/x7/+5S/x93//n/DXf/1/4v/43/83fP/9b/H09BGFzVrYznm0FKh8+NUwzud3ECEkb4n8/PIBv/nNP+GnP/0WiQHVjNNJsG2AYLPFxQSgI2W3ZAgINgbjpbPFxClBkIaSscJZNcRcAWb7dXpz7iKieVtQpzM/5IWnA0Z6t0jfnJFbY+xGSfk04H69vr2sdHllIuHiuofSU38NUdLgXlEoslkXOa1HP0f1HJQp8OX7hkZTCPimWNbCnvMeRNW6xtYOoQTe2Gq3yPIO4TEQRREyISdnflYFatyHjS3nDBULr6p0dPFmh0Nxu3HnTQO1W/dZSglaK4jZ6uygJsi71wFpGyPae0erFfu+o7dqhK61IqWC8nB2o0DRj8Og3aqgx9MgDj4clda9bkpdMe+1miLrHblYHVHyeqaowWJVcOvgAKaoICuA0wmqguLhw54YfCjSvqOq5dUqjCpssFSQASxysz5NVAo6MTgVA09otKQAWhOAOqrfj7G4T7DD9XJB6x291xvYeByWM2pQJSQto0i2OplueM7iCDqz7diYxYWt35GjHrscqO06zgFYmQXYOAtLZpQtL/PG6gAAIABJREFUI5mvhwA/KAMJUZPUzYiUhlp3bKXAq92HwTY3JObe1fn8amqOP25C9F/vOPzY4yuLZxcPZhgVqzZcerYsB4XAxJ2wWR/rbR2RP4kIDb7KXQ0v5/Mu4BrOGc9hjnt4BUNYRZgn6kHCoiZrnucl1v6cB278Gr/77qduTTW044p//qdf4T/9/X/E5ekjaj0AMmqQxAzm4svJvCLbHA05b0jM6E1wXDsuF0GrhFyspw1zh+Ei0nCLh3U/8iXsfllCBqNwhOQMecdLsvHWi5xztc51bKbpqfDID8y50zlYPtH6ifm5V35vRE3eUJDzTAodYIhJomp/DwFokZCpmGTeUxe4R6K3EQD10KaDNLzcB6X4OVU9VKWAdNSuqM1NC/eMhhJ3T00EaC9XtGuFpoxyzga4UHVOOteOMBJcIFB6EYKaey+s4QjhTVYBeGg9+fj4PROgyXoukZoQhySoClIpoFaRE6PlhEMFcrmg1gNHM+XEOTmrwbTIWQV6HJDszQdzRi4FJTFIxL2TbnVCxOiJcex15F0ABThhyyY6ORhKCAAzUjKvDtKRxev9WgfOQIEgnzajJXp6AZ6e0PYD7Wjg3qyPURcDGyhZ7e9xoBGhXi7ID49IXSBUkAqsThDwXLGOqEXvAqLXvZhaPTyiosv+WcN50RIHkIbR3jyiFqGYxZF05OUdrVWo2vsMaWmeUj0O77fUkLIheZkbtM4CZS7Fe645Wi9a3cDDwC6b8lJIbGtrMTTdwoxo1toQlenOSxqf+cRjnh4+LSjBgOaHXPia44tKyWKVa3yRxk8o2MgrhJC4uZVFCE6do+4m3wum+dm3KohVA1UylTeA2dbhLR9qeGShzKYwV7XGaQbBtGTAcLfZFLA0QJzVObKRxAQSp2wRxftv3iMlxsO5oO473r17hx8+/IDjcsGxXyG7gJDAJYE9Z0MQ1Hq4ImAkfkDiR7SWDeYpHZwFpRhKjzi7V6S2EGWixUDZC2IJKZlHVIpg21Z3+dYjssf6ag7YYdITUeZGx2JVDSWxWlQjzORKyRI7d+tpOP+4PfTmGub1BZpvuG1ofRonawhlMCpIXAONNSYK9Gbf4QGP4Z3YQrAbbd6mIuVQ0vM6uihatU6y22bjtm2mlGLJBNy9d0Cu1uqbirF7x7hF23EiR4olY0tIMUehiJYfk+mBh9Op+QBQlJM4lDhY5Q2pVwARq09KDCoFaA3b6QRoAwPopxP6yw9o9UA9KjgbNHo7n4Crhx+98V6rDUkUlDPKtlm/LYKRiWpHD89PGnq3+rtAnm3bhlIyTucHm31xjjq2x5wIKZ+QoM6Ur+CjojRrLbOZgMF+2lAv7AW1O/beHOQh0G0zhF5JRiJ7HOiqOEXnXbqidwGXM7ILdKgMIl8RoPUO6sE0bmG13s0dni3YMfaiKabutoI6W4uxONjes73U2uGyNPajsVNgAKrEGRka6hEdaSsAa6/sH4GkjnrsZgwYB5gbtn18F489Zb2XoKas1mgGka01GowXBHiiwewEvtml9yG5V4+FoKwgZfOal4OZv1ohAT+iTikoJMQz1fFFrx2g1du5VSrx/M1jJdzg5r9w0N3/t48HiBxhE6+hObsn3+wdtokd60vkws8naLS+VtwNqN78KAwRs5WCh4cH/PxnP0evDR9++W9wzhs+fPiAy/MHtFZxHDtaOyyvkBNyOiGXB2ynB/z0pz/HN+/f4f23Z5wfklHZyIHjsLYRZSsg55c71BUFG+N5ZitkNZ65iN++5XXcekjA5MSb3hBePY5xHIbCuijHA0uaunUC37Xje9bZeeu4v9T1GuLF1uyhhdVmTZnVQul4/xrqjXm07gcT2BAkryFMxHWo1WBND0lh4R3pMpjmczaFRM4WbqG46S2hVrA0cGFIs6tpfeaDop1ILpPNlVLyVhOr9W19fwCAnd0e8NwObIUn9UQ4M4RhyLFmbCRksUeQqnWx3TZ0AurlYvVQ3RhHtodHpwy6opOgd6t5ab2j9Y7sitDg3wKWA7sIamMwAS+A0RR5Ap4JIFXUbjRFpNawjlOaM+MDRp67uTw/ITGjOJdeeOFtvyLvV1wvF+ytY68NT8/PuLZm9VnNwEG1HcB+WFuYXMzrU3XAhhuetTlo6QrdNi+uNcScdUeOXmmGAgz6MSK7diYLr47d4/shmCFEgFM+O+J+rkdioJRsoeDMBiYCzCh1j7m16j/tRl6tbThCIdZa0XJGCfYJWDYoERyhSwjergBYLdvI9oV7Obo4G4HXe0tufPb4zPsH3dMS7vyDgA4jBDIuNryNsNjtJSUbFKVboTOBEHegCN/0q8Bb7+zeS1pv4ks3tFy9/54hHwAWnhuxuQiNYNTZQHXUqCngXpH7WfF+V7jillJATLUrcjrhfPoGP/3u57i+XFAy43s01OOKehCqJoCsT8z5/ICyFTx+84Bv3md8837D6ZTGWNXaATT0ltCbDEbplBmcgFLEldCtNxSPe5/hBhoMC7ooovlcjPX0npY5WINxdFtb9mo+FBFAiA8sqzy8Eh3nuf3oW3Nrz4nY6/fAie746RG+c5fEnoeHEDCNC7I+vN1RgZaHcws2TYg7kXo9klm/KlEcq0g8PbvIKQXqjloF9wqUBEnZcwXqoIpYk15X40Vd0Xk4DKTRzjog3xH6WPcBzf91LF73DgH3+N37j73XnUIo51Gxz5630VKw9Y69Xq3eZ91/gFn0IAeFqMG5lSCJHdQSPX4I6o0isyqUzRo38lCz1tVRhfE92gXNQ2AADDnqjBMHDGydjwvk2nCIszG0hurXR16A2rr1MtLcRysFsLGQSBdwpsHojd4AWCdJCy8ZfyBFgPfVutYRhgJgnaMd6GSoWfOWqIRiwPCILSdk45RLWnJtJneEMDwukYYhfXysBGLFuUxeix/AC3FF5eS1vCglBCjHDIebNEbI3ogo+DfS0gKCFhPyLWDCPXBirSld609DId0DID53fFEp+bwC8MdeKxKeUygdC2vFNa4CcqqHW8FpdSIYQ4JPC7qba/o6pRRvCyXS4clj8fyRECKXIDJRWoAGY/zwEEM5hzKO58XrEa6XA3WvqNeOnDZ88+4Rf/xHPwfrgQ/nEwoSXl4uuO476nG13joQfPN+w8PjA755/x7v33+L88Ojs0Mwjl1xeRa0k2LbFHkzItBcBKVgTLbd57R2gmh1FtdOJRQou+llfEIJLYtqNSTG+IcwWcb55viEl4aw15YPRg4En5h780TsOTMAdTBy6zjPbL1s4XnPubhwEInrNa5C844cLRcgLJaxbkScbFvVPBVVyxO7kLcC3GlGDQb0WgFHomku1qW1W91bhHxANJBKdgHZzt37GDhrPKnTF/e1OXOJPgcET9bHDcX1zwZy5sH618E8GOI5XkSELTNIgON8RtaKdrVQEwHulXnoOjgAyfZMUgKJkRGzex1MQCZYXVDafOwScikG7+9t1AdFUz4VQasNnBOk2fqQ3lF7m+tbbFxo31FdKXVVKKfRsfaonp/hagziwcfnRqnAOrGSyzRSJ9+iJe8hEaoPxKkzeQ9h7+tC3LupB1o7zIBUAj04QJWAoKPKmcGcrYNsyWBYuE3aZAkJ2qTmEHDYx+1alKAkYLZ8XK8VvXVIEet9RYbATaNNBBCrc0ZO5rWHwa0eVRigr5sISEhx//sTCiWeD6Lae4TdvVL6GsX0Vei7W0/FNsorIbaEaab347e3kHD6WZabevt71kH8GmUV1/bqGyKhLEHdAd/Q0dfDQkER8w8FJBq160FS6dXuvmhrtUUkveP6csGx79ivL0C7QpvgfHqHbx5+BpITVBOuxzNa3aG6A74oT+dHbGXDdnqHcnpE4jN6PaHXDNkYlAh5A8oZyKVbPgoRLuKbsWEPE0zrZHpH4x7n6N7M3VvjPBXT7XzGWQz0Muf8dh70dmJvZoXGR8Z86pI3Gpdo7TRCoDDDGoXBQQ6eRJ7oOg/VCSBqTQRN8EX4WUeNk3how6NbRsETieqhbGzdEAnAs1BVmqKedLwvYPmoFdSrNUzaNrROqM0az1m4xiZojMpixatT9wwPN7z5uBKdSfX421WRrUeCIURDwDsL9fA8QjH5DWcCWj/QOUG5AwIkm4RRfMsw1gYGUCVIWg3RN/Je7v0UUhhgw8NcUCQi84RgXlvdd4C9fYTIUEYIYZUMKdp6w34caMeB47B24woMNvS4n1Yr6lFRtgIBoTJhb909P1tnGyejGIIVn5cmELJSCaYEVlNM2hpqJ+vX5CKbYPkkhSKXYuuHrettqweu+xWXy4tRCR2WG2Y2BvaoF0zJCGNzThhtzTcLp6oQastmLDbC5RLGhHvWY+7nnk0pI+U8GMGhYowV7g1z4iEHwjV4VQRLvv9UR/gu6gCjrR/BlHc8/pojioxXvsD1u+/7M33u+CqaobcFl70+QnGLoLM3LNZ3eEzuVc3wHd1svjg+F75bTj+Mbrr5bFx3bKJp+cAtHgVAnjc2i5SMLUAjNGehj0h0mkIKqvvuvGbRytgo/qU1tCo4doL2BELGdtqgeuA4LFZemwJaAA8flfII5oKczki0IaeMlBWpCMpJkDexhnjjOgUibCGkhEXxAHALKaz2VQndej6fG9e358H9qTGGM4xLtx99MzeoCCjp9GxijvT+neP1aBWhpI5KgyuvqZDMeHAwRDfDgpIiI5B2MzwXgjzGRm3I0Fzxyf1YqCHkOPmm9Y0MV/Ki8z5lr6DhIW2AFygyrAEfKM2FCbPqI9EcCDTxUMq8jPsQkk6DyYW6LB6vASemi6oUAnbOpT3wxHaD5YFSgmoCVJAjSZ4svByWchcPizIDPZrombIhNpaSIs1ojpjRyDwd0pmX624UdG9xEUKBMZWmkAGP9sNAF9frAe0NRIQigVQ0JbODjBPSefnQjaaIxFCKG5HNoZD1aSpWkJzRoCmjQwFKSL1bfyNXoPC240yRX56rXNUIV49acbleDEzhtUicsmGjHNHHbKG6lJKF2wlDMbHPXUpWwKt8a3iIRHuNGcWwJpERKo051Um4iuiVhkWdxPwv+zL+8/sNQ4h8bbh9fuMl/ZjDylRo7pUfEbaL4/eoU7LLvTeGbVDvhiMEocAvzt/r1khAJmPwvs47GicZRnfsPwnLPeIztotNETldy4jS0fywukVkH/UitiBCREcTq7aGW6GqDV2bF7sJpCagJfSDrAUBKk65QTeAhXHdioMRTiBkECypbW2D/T5SR9kYpQAlM4gSRIwGiNhZBFIooUCezV5JwTIw18RrRR4h13slNcc6QB+vveBhdISneSP8Yi28tfjW5+495rke5vahAUawULHdr4gj50IhgQYHXeR7wiO3br0u4KNvEqmHQzyfoQb9Xg0lwIVnF/fMlnAf4EJ/DIEZAL2B2gGBKSQFe7929QJIQSYaYRRe7jWYJlbP0bzCu43s6zsUkpGs2nnKqZgHHQgnInBrSALPr92iZyMkKd43iaQbFBuK1Ds2BhozKBfk3tCJkEoGeYPLJs4q3jsCU99TQi8FiRpy2n1Bk1kGEHQV61kUyp8MrFFKMQ/IlVVrzQT+5YLjqDiOOkKItfVBetpFxns0FyQR9CrAfkCIULOFCosy0Do0MRQVF7kiF8EJtlYkFzQQerV28LV3UE6gRCingpKTh9sAiN3H5XLB9XrBx6cPOI4DAKy3USrIKUF6AzMjJ8b5fJrABmdyyL4ORBTblnGoAE0BmJErraPXNplAEKAWD48yewNEX4MuQNTb0RAwemOt+wuDVS/i1bGwHDhDFrALsfglv+ZevkTkhMnD03femdwZxZ87frRSiphkfMFw1W4saNx0gJ/vhRfF3ZwRwOsLfssr8/sb/4/oz5BoLrRCyUXDNv8edZZQdWW1Xr+9wzwiAy8EG7BaV1cVWFuBhloFtQqk+Y9UEFWcc4XkbntVCJUTmE5I/B4dFYwdickJTjsoG3ghunpSKsj5BKINhAIRtqahfQRrPDfEnh+68zT8fr4U7rz3mpbRxd3k+LO3c353tuX3fOYVaMGefNvrVR0dZcXBBUNZA65gAkrttURVxolTmt9vsN55RTFGMxfoyitKKSg+N6HXFhLE+L51nalMws2EDj12E7LnkykG0bHnm8joVpwzkNAszAEMj93ud4oQVbegacbibdyW+XAPI8RMtLSPc4krXgJuKDUsnNmMQJUApIycCCoNkkygiVQ8qKKmZOFOr10StbborVYrYA3G8Rx1czogyqNbAjudVbNWFqI6GB80JbAX2oIJ131HO6wn0H65mgfssEZRHS02RBTNGbGP4zAGcgWoi7GgwzzOfSs4SJDF+oUhdUgiXEXRFXgkQk6msA5H8rXjQM4JVDJyZmjOZuR4SKr3hpeXJw/dXaAaLb83q9tKCazkezzhtCWkbJ6SdlNGOUfYXVxvV9R2oPWKLgaasKaDCqgjFi0UgmAxSe4hmxwAhlICLXvVnp+plbEI3HiJX+7NhCExFtmwOd7cr/eI6s/pmnt58yXF9EWgQ3ghOk6+bhCXNJiv+/28KcRuPzst27cEIe7DgXfnuzlP7NrVeucVARYhOgxltN7TEFiujFo111n8OcCYhaUqWrdaE1UBp45EFdgrFM2uQwi9MVo9WZhGgVPOSFQhSaFk4QhOCda4j0HIAAqY4ye5YAoaH33lCQG3i2Od8PXnfvzW9751fMqaGd7X+vr9hC5v/pxCfPUcFL1NLzYStZG3iXokIRNy3QU/YSom6XHumT+JXJKGh6TzvMQ6InIBmlhziwAGc7l90NdIEGxrh15MIeHhYYwF0TSGRk5SAGm+BhFhO12uKYhvA7Lu/HC+kyLKdzun9pp6WBcw6zuMKbtkv0fyBP4CNWdntaZUQF3BYuwP6XRClo4NwK6wcJkrFFHxdhfiHHWwGiNEDQ8M1g44xRABXdFSAvbd0Heqw/OQ0XsJRmjsEHRrs+Ehvt4hjsRrzZjKD8/jSGvYLxcQMZQSOghFxWqxoBBOuFBC0W5sEd14EJoA15JRejcjoVnzwK4KUkHuDdSShfni/nszaqPrxcmXqysMOMsDgXMCieWWUjbOypTY8mvLe1UN1GJcmM5x52HNCOFZxiG8F/eu1A2YPMNikTMe635EOkxBrfL7bpO6IPEaU7p9KRRXRBe+tI/vFc5bsun/F08p6vXErz8sswkhXixNRF357YXeh4iw7KkhCBC1J3Nk3gpDxnnGayEw4meFbCo8THOLYooxER/srurwTjuHNc+bP60TejeXNEGQUgVzQ+uHQVm7oe+OS0c9GL0XMAHndKA8KNpGOJWMo26onXHdK6JFdyoZRJa8TNuGUjacTgWnU0IpbJbXKFyd+YZVOK2TvNaVrWNm4/k2uu5uhH1O6P5ZQJdzTK345kR9CujwqQXZHRo715MOoaoIsAX5fISVCCBCfeIKYYmvR0zexsVOLn7v0exvKCxg4cxbXSNf9xL8hLYnWDtov5ryeXiwMQ17dLnv3oyyx3rlWD6kab/1vHR6RDFsI280gA2z3srGyD1+Bo5qTN1K0UXX6XZC2YXhoNYLyejlre13eDgdCaIGLy65gB4f8dAa+LrjEvVSXsxZ6zGui8oZOWecTicvU+B5bQBY1Zrm9YyUMnqr2ByWDmb0XlEFs523AiAGlxOIvfGggzb240DthtJrraHuVkcluAzGdSXClRlHSTjtFQkVJIJ6OiHlAupXpP2ApoQuDS+lYCsFyQlWDYqeBmt4u7zg+qIQBpp01H3Hy+UJ3b3HslkR8bZtgzlhy2k0C9xCKTmLPDEhl4zenQ5IBbXuuF5fEJRHtzKQRtNBIgOJQAjnXEaIN2q6guUjDqaYfziYYbwyPPl4ajgG90brsl3fkinrMRkwbmVTePw/5vh88axbWqMeV2eflbGJXGAxG3X8GrZbfCaEtzKH3IVHqGSYYIpE3jpOHHEcLNa+eN+QEK733eMoLMmGyCHA8wxmkUZ3UWfn1UgsmtVuReUEkCAlQSmG4HN+TRwHoe3uFUkGs+KUOxJZVfaRBKiw2H0+m2aXahYOCzIbuzIzIxVTTJzTyD2EJRT0+VhG7q3j61zkqdzWxT/fSp478vld5sCGj5bzLOd783ruvnY8UFc200sRcYLSFaXpeaKbJoJq4DYNzyGe9xCe5ZjYPClMa5Fd0clYxjoQ2O5Uzz90rldrjw6olw+YqdqQm3GayfnR174rs1CqGvfooWA1njzrSxTXYGNnRgQDiNwAj2uMWhRA0erMezF7zQpbhiqCuzPkHLlBDK8MKujqeQ0m64fEDIWgV/VcWjevJyXkx0f3rjo+IBLsHkR2LzDg6N2oq0eYKEKIOVs+hgEUAlLJJvTJDL6qZCwGTNhOJ8upQNGOZh7KcVgOqxuQSByez0Qg73jbRJzWxuYu5YxGhJ4Ssgg2EZQuIGp4aookigTCuVXo+Qw8PoC2jAIgt2rrMBUokXtFV2MjV8UhHcdx9fWWUDjhlBJKSkjEYBBKTkgclGIMTsmZ901BZK9n6L5Xg4UcwNjvzNGwkL0LbnZkX3Ov2NbzTVFstHXxPQsKqDjflPLELvcVMubUQDYyd6lO8uO5pz+tmMJQWRGib0HAv8Zb+kL4ztsewJmu/WZNGU2rLm4ivJMZr1wGagikUDozzBLXTfF8KNah0WkKxygUVHUhOUEMq7aPE4QlbJ6SKZvu8HBbFDKgxGZw2LuNKy7CeEBvhF4Z++EN/VoHUwenhrw1UBZIB657wnFkdBQ0FW95rqDUkaAo2vzGElLJvmiNRig6X45/NFE3Y04WFbCq+WGhrIppGfvoHXQ7v7d/u8O//OVjP6StP6sLcmdO6Zyw5bHe/hphAVVX/FBnzA4lNfvAWH1R3Oe4afeiPBnrhqI0b7I4ajT8eiOvAUPxmSe8FAyHMl9iFhHyMNStjHOxduR+heg3wPlsn3fvatS5jeEjQAUizcN5scamaGBiwBUSc/a59tWqBoQwb0E9ZGyfNJZ5BiUdPaYiXwNVBJHsGDLfN9K7GT6lWIKcCN09xi6KDkucJyUUTpCHB+TesDGhEU/YussAQ9MZ8ALJUIUDGRggJrZMh+lRHsW3Gc1Lq6z8gvNm4W1V46+rFZIY8O64fdJ5mNfjzAfiC0dFLTxYqzFqA9hV0XLGAwFFBHRU7D7HooJzb4B2ED2i5QxiQlIFjgOSCHvd8Xx5AVqDdEHVhk6WRyuloOSMkjMynLUCjMw8vCPmyC85SCHZ670ehth170Jcpk0jlM37Bw8lRaGUbgzKgAjp8JaHCBxEyd6qQmlp+xJ7e9krsakwZXPIeRvitxXSbdrg9ev3xx9cp9S1wfIe3vFUY+MCkw3A2WpJ0NTo22fnVveiBh0zGf59aKFFUN5b7hRDB9cqFmc1RcZmNntGegpjjL+Hwe2FkIKwJO2E0k2JSLcQn+VsBKnYAu+d0HtCr1YTCVj/osxi3hPMgm6NPSlsdTUHNbSk0JLBJEiFoFmA7YTeEvhURp3GoBGghFQ2pJSxnc7IpVicGiY0IeqIFgzrX8cCGmrDhJGKeZwOHw0riGwIF/2id4uEBrrJIlz06jHmuh0bwCd4Lpp1Htff/l5ChEb9WnhdzAKmqCNl34C2YQMiDpsKr8ew0KrZKJbb0K6oR4PAeOWSkof1MBoaWvjPlIaNZ7YQEAzx1D2mPwSdEKQK8Pxk9Do/MTy+8RjOsNp6/yoC6QdUG6ATsEA+5iavQwEJegtGaUI9QmDNWg+i5EW1ts8AcsXkHpYLWisM7wgizJwZmkz3ifDwgKt42QPUBBcnGNms4BCBNlfe2xkP779FOR04+iPyyxX7sePp+QlHq2jSoWStFdibDeacsJXsKFIyxSICqQ1o1cssAN13wCMeJj8ZlDJ4M0TeUa11g6iHHKHIxZoHSk7Qrdh9JjPefMWCc0Fxb0pUcekdLyLYSkZ25pWq1TyDvePcr2glo24bdmYUZpzaFf16AR879ghZtobz6Yxckv3vFE7HcYCh3l6CkB/OOJWEh9OGshVs/gMoeqt4eXnGcblif3q2RoypoO6GNIxwaKuC42g4jgM5K07JQoRWBleMTV6dmzAY+9kQP8YC4SISLv9Uh/F4rxdCSrhEsLXpj+dO/rwyYU6vlFHoh/sf5s+f6/PhO5hQDOLNG9XpF0setlAsWtM/51cGs1IXj4gVEZ4aBqqfZ9wQwkNy01gU5Ky2A4as87MreAEaysipYtRgwipRv0JQIVdECiDQNcBRCdJMgEXo57SJW1SCWtXaXSujS0ETQkeGUjP6+OJCkBngDHRA0EdsNxFDVIy6iNit42QeU86eNE0IEtRQGuvvtw4TjDrGQhUz3DYNpPn49RnCEZ4RLF+M8Vvd+nrTyqJQjesZ5zVHXmrkZSKuo/PabZo9H+HKM4hWabFlFFgKZX0O1YR4a0DOm7EkkIWDWzNPwA13O4eE5RPrUkf9WQACiGwhSQXS9QUERXswoTTCdMCtcYV43n5EO0gEkFn4adWuZljF6M6lbp+JnKaNjYFeIpyn4slsmpyUHASjAFTNgLI8WHjQAbRQ1HoY1JnNoDRYcXZFaEpGktf/UMLDt+/R9x3lekE9rOdRuiTfX4rqOZkMHR1GmWhQ+oy1wgY2IoPWoUOA3txgamAugHpTOoqVB086eriwd1Cy7szsbSRs+mgq/Cjig+W1mAgNwAtsnLJUo0ASRUVBahWbOhT7XLAb1h+tHWYs9ArAmuFpb6CagOsFWjYoKzgbBDwz4+F0wrkUnE5nnE8n47jMVvdlHW09vCkGze+1oR/HSCPcAnPW/LaDZmiWgazG5Tgo9r0b6iAEVNM+81qGmGNFLrNpjOUwsHTZe/qpulUdhtey7X+v46vaoeuqmBCJZ8wunX7h7kuPG0gpFsoEKKwBvXuVHXuch5KxmJoxH5vwfuv9gboaeSKnlbFKfavX6G4hWzGqWIy1K2q15nrlQBznAAAgAElEQVQDletC7rR1K6ALtJFa75ombAtLEwCL0afi4bHEkCMZ84Bms1QI1moaFmZU4pELg9skhtbJBh9NxV32W+vCd+lXub/34xNh1vnYVVx4l1gW13CFYNdHY9ZxbzHddUDHWjw7I9/TU+rN3pKSL/SxcKzJ4RgRD/FE11rA1lIoqPCaLKbe0Zsaaapasvrdu0d09ZBUVRAEzAJ25J44YowSDwUHVUuct27ndOtdq4KvV5NxDw/YtoyS4wbm+L0aeCLrKqrdx9sKKkU8J6Q+D4tiMiU8yxKCHNTVMEbFv7jhI+ThYUZGoMDYvcDIMwVDgEUJjL1aQE4KvJWJlgthCZjBJJwAFnzz7bfox4G9FPNCXxRl29CvVsvXPBeViJwfkN3r7ot+dsOBYHVDzvPU4SHbVk0obiczQL2APW5foz5LFdqa5Redzp3CwnEFNJSTG7DUGliBph0VwJEIJygeVcG1QkrG3juyHtjaBUfO2E+b1U6p5blIulH8QND7gX5VcDkZOOT8gJwStq3g/ftvsbmneM4FvGVHOpLdq6+x3s17bOJt04/DZBfSQP7eKiZbS4zw9OF9Cl9bmcRmdMPlJkicDWYalUMY+HodZ5HY68v5lpTA/eM4enTfpZsPvro2+7pPWsYAvrKf0s1jNUFjaBDYpvJBCotxavE5Aq+QX3fnX77Uno+E2Vh0Juh4eR/CiXKLMIouA82lsIWZsikhorCGzXoOKDAzkFnMg/Mnexe0DmgndJkCO1gUAMs5CFnoQDoDSNaIjchoW5ghkqyBmZO2WkW75amiNoDgSLuUDfRQCrhYczYaPDbz+DGKaZ278KDu65vG+2hF8NgintCUWHEeQyUHRcxPj/fen91aktvzKXSbWEhY1YwGgidjfQqAMCAstyQOkWWGt44IhJrFzFMis8QV2K9Xb/+h7un7+2H1PSmR9wsy4b7vB1Q7SoKRdlIxpdI6+vUZjTvkVND6jvrygvNJvVg1Nvmwjm7Mypws6a0eYQghE0AE66dDflXTaw62kNasv094v5M93OeHGEcTq4kRBZ3KyF8MY8AJPgMYBLHWCpI3ywmx75duNXfh72ZOhk7IybwABzto7zidTjhtGddjx3W/4lqvEBFcW8PRKgoztpRB7IqlO2mxirX39nvpdTfEYG3YNiuF4NrQwVakLsYYkXJGds9ooGkDzOF1X4pFCDPb3glhmxKgBr1WswrQmPBCjoirFSBFVUC0Ix87tO6o5OG44qwXAmg90ImMAR2CjRTfpIzt8YxyPuN0OmHbinmi3mtKFahQ1NZw2Q+8XK94uV7wfL3gqA0dXvDtOTk4EpkSgx19V0oGKaEkwradkcsJqZxGo0TLzXqfqAgV+fgQJvUPaPy63eqxfkPUvBIRU4G95QbxvZO0RniIHEWMITc+d/xo7jtx04dophLWHjzjukcA7nOKackTACO+DHUXlGcM3M6oY99bEjpQdAHvDaizdwsly/+IKmrDEt4wtFZOUUcSbQI0DDpXaGopn1E34yGZO9kdhI6kPCDZ7GjAKJJkJnRmsPBw0QPqTSOhaWE847BKw0NaHKX5tV9QTDpM1DdffdP6mcgeIBTSzFi5VR8hAT/PtIZC2/grfr2GrnP/OBgRZM6jOiWPXXMAKKYeDjLWUEiIb/GvtmGmEa4UMc+HoMjJ3icC817FYeNEkxlCCEwCgczrcMv0+Vc/gNBwbIT69ILL9YL9OMB63IQ0ZsxzXvxafgBMYI268MGA7hOgy/wHKALTSgYClh4elN+z58CEzFIVSWPsJjQ3vjcYxxU5W+ja2C6MVLg53DqEPlwJWW6KoN4csJxOgCsVSAfzA1o/Bsu3SEVAITnZJGvv6HU3UMPwBMPwM8Zr0oyk6jmf2XYCDnxhN84ij2LhRVe2Ppbh08M9pDX+q2ooPoJ6bpWtcJYALQkn6Sitj3Bjbh3foGPPCbpl86qJcXg0gDgAJwlbYpzJqg1jFyhg7cu7Iea6G6Tda7FaD8/PwQ6qVocHn2cPL7OjLI2M1Vpf2DpJI2/om2dGVXQFuvh6j71+Y0jeHjfP38mXe9P01RHQdNzKppF+4Bmd+ZLs+qKnFLUv09JWFwSzZmKE+UYifdbB2IBHCdG9IPTbDFwwTLDw6Lk9LgSAv62pW3YYcN0YzpQMPuv7xdhewt1Namg5tguVLtZPSS3vZFaFx8HTFCC6bKIYk2l12ISzhw9UrYMm3EPr1H28kvdbMTTWVNpx6WEl2+cTZ0djzdxSLK6bPNNnJvfNsBJCfuqYn7gnUzbie1qhcFgqEUaglgAg4TZkMK9lLcAjALVNx4EAQICu7FBuGnMTiijeqxos3b7J9XY5MCuUbsNNcYFEwGkjrPB/5cixuZUt1hC8i+VvUiJYI9Q2euNcLhd8+PA9dlY8v3zA5eUFHz9+wOV6xcuf/WKMGcUFxppgHg8VUZDtOSKnFepNAKYBZgijJOcyaodirlbvaH0cQpgo+bkaWiOoJi8hCMNkdlGNq2JmBNT8EBhLQ+8QNYRbQJlt5tURcoyGBHBBOXuBKBOux4Hadry8XNDQ0Y6Kxg0tJaTqhqdYfkaijUcoCffaugjy6WQhumZrULpYmM4jFzklI68FoDlbd1exBabN2mgoEZQV6DxkFobCUqBVMxBTMrSgWANDIcLODDknPLaKrEBWY044+/qqKc82HYlQUsJ22vC4bTifN5xKRs4Jcr2ih0ENI6/tCvRqdGUtGL4H8s4g/L2ZAdKdgFakA47IjLqnaKEeRbn3ZKufqgda9/vqYNwXt66yYH3dl82Q7Z/6jrcevwV0+NLxBaVEQ3kM3jR4/Z3te1sEuPGLbKO5tQaaz9lFLhe9lPGPXiVu5YSLZzkih3I3eOtfzw8RPLxhR2s0PDNiQckKog5idUsy0HYmVykxoIKSpxA368v/vnHj5oS9GmQyzwYBaaWVyVuctTq5dWjtpHWR4KqBsgqlFLkBg9NGw7Yvub13s7d4Y4viuRPw8V57v3lDoxbN7UYCvGeWKa7FMUcoviUzAlWj+lGdfY4s7EvQTlCwx8ZNAK/DrK4UI7Rq+luHIiRW9OAcdM9Bh/fq0ONRxm0eQegtcc7A1jpqPbxGpOJ6veA4Dry8POH5+RnPzy/47W9/g49Pz3h6esLT0xPqcbXWI7Xi+vJf2tlpuWjgRiERAc/PF3z8+Gxw5hgdK8gCK/meMrRHCIxooz0ZRaYgn/Mkw5g6n08gZs9FVRA1F1ixPkMozTYMAKN5IyjRPkhFgcnMYGvPGEnOp4JaCSoNL8dh3VUPKzgnARI2nLIVhUtrw6MlR4hBBcQJnBTautMRJTN4k/2fts3WVBf0o5o3cd0NDg8HKrkyNdi518S40SsOEaeUQdnW/W2rD56tdbSBuxrDNgiJCCUxtpLBjxuyCM4KbKJgBUrO0ETYc8JLZgvHl4L8cIIWKzxuIpD9QE5eoKwPaOdHgH3dJVPvYGfzTgm5bKCjA9TQpaPWhtqsu7EpLOsmpQqUvIHIOljDo0eh1GJ9hFKK520d3tYu3iuFt5TJm2mVHyN67o4v5ZDuj69gCccrwWHHHBhaBgke9roRNDd35HF+8YrJEZuiscsDjlsrhkKSHgIHIIoCLRqeErF5SgQThIbUEQcdqFO7AyBCIoV31hoIpwhzvL7/twc0NnwoJUtYRzGk3YdIQOldQQVrRZCF3oyxbaC0uuZjTMJyWdzhe/f6MxbMrWL6xOLEtPYHeifkoN9bhH80Qnnjs/G+KGC1n5TWsNWEm3Pcx/IVq7KUOOG6NDgU20STcQqYt61Roqn84OGzPrwEQesVtZpC2vcraquox44PHz7g5eUFz88f8fHjR3x8esKvf/0veHl+wdPzEy6XF2uV4F7Uf/FHP4WIRwwilnunkFQV7ag4vCV4eLnG4m7AmMithkcUayFyf2vYLf620ZLR0iMlM8K6Wg7K1h0NFNwUSvbzigtQ+/huJhpsBhBL8MON0ZRoAEpFIwxdkFRwToRGGZkEV/VcMwfYRed6J7aaPYXDvxfv30PFwowGQlNnFG8dkXvtIk6SK8NgUd9nBuM3VGsiNkPAWRbg657YzCqGEeOyCpJ0JDLUa9kyTk6UrD4ZpQOFFaUrTmIM9LWYAU0O3Khs4eAMtehC76DjAChBEkG3vMhGg99b76mo/Up27+ohzdYQZROtNaRkHjyT5QCjXuwtBfPWcz9WKayfvT8+JWc+BYD4fY6vAjrMsMqtgAthsoazxuDDBR1cXhEBK229e0bhIXnROWo1dJXljGwzKDwJLjrqY9gFVcoyQyh+XeKbwhAqBI9wLJsTS53Nlyfu/vXpJQXLt4W6TJrysEgNZbYKFkVW700j6/kBC+ERCAnMQQEzKU9mful2Md7+/QnF9IlX4vl1nuZrDqH+ChPJPCl1OiY7CzM8NxNnsoZ64YHF90XIN8YhBPV4P3voBTI88JwJRBkiQM4RsvXwaBe0/bB2BK2b8qkV16tRxFz3Ky4vT/jw4QOOY8flcsGvfvUrfPjwAdf9BZfLBZfLBU9PH115VajU0dpCVfH0w5/YfuhTIcXgkWtaFUVtxtMWFfvRlDEs2u60EgQeXlP0DIqRGiFKjed8TYl5i9GGw7qfmreQUhpIvGnETMGh2sZzU/HTgFgzszWS6+a11c3RcjB6ItvihFwKUDerR/qdAr3iQ9vRFWgAKpuxZfVjNuGJXEmIISWtyDShte5cg4KjW6jrgEdoRJHJW2IQmWcXeUQNTj4jifWSHSS4UszZPBRSZPcAU2YUMk66RIqHlLCdCh4eHywM5z2hSilIxCi1IdeGsh8oUtFax7MS+vWCXbp5i6eCXDY85Gzru3ZkrkhC6DfhCfJ9nZHyhlJMAZWczajQNkN63VqfMzHqVq3ukQtSKaOWcawHn/f175DXM1z7hX28yO9PSY03vSh8OnS4nvtr0g7AVyileZGf0oYOh4YLsvU9AeVQqy+wz8Gag7FbBwLUGsWqapQuEsWNZi0E/JEAkDQD2ECdLNAuzxKC5hrDr8WEuHqHxfASXDm9oYM+9fwrBCIiPEDmAWiGkhexuRVsAIe4QJ4QTwkrLL4Ti8AxYcueS+JQ3Is1uV7T17rYn1oCdPdozLVgeL+iC+KR7NeNyeEfae7VsnOTRPiNmAYghnzOAIV0AtjyB0PfqwZ4anGc7Q0mFHWwcAeBQpeK3hqu1ytqPdBqQ7001GPHsR/44Ycf8Pz8gufnZ3z4+DtcLhd8/PgBHz78gH3fcbm84PnlCcdxIFpbW1K6ej7VvTJVDxMKcnJqG0qTTURvW7XD54tiEH3xkd+nKtDqzC9O5gir6A/vQCVMhjn/0WyyO5kniNBbddYDs+40CmgpmAUYqRTL4/Tmyo/CkQEAA3skmsgttSjD9XqYh8OE4jxv3euL0BpSTqj7Fa0eKABUGmrvSF48K2F9qM1dcuQiD+/J0LCxmYkYnAvyGdC8gWoDO+z88KiHlXmE8IXnk9zAdRlEDv0PsA5vxZCXiXEqxco5GHjI2YpdN+fCy174zhZKRynorSGXjLxfsV0OYH/BZb/iOG2AACd+B+Zknt5mrOHIBdKrXTsnKNQoiEpB3jbksiGfOrrCWcYbckroKSGK+FJKgyk8fmY0xc5pUYFI6MdGlfE4WDZmOH7d7771Yl2GR71a7b6e48xvme8E3FLE3b0Wz//BOaW48Ei0m8J3gaQhgH2/3b3f1p8aC3C8KRk8WsGou4Xlmlfk9+7RPDV0EMGRbxBraDesZe846lIrpzlg8/vnNSnCq7sfqmlN3B/3nsgtOGNVyqGgAknFN+OxJpejNklulLlb1TqfI0og+CLkCHndTuSXJnbMGU019rnPDETO0MmhIMfVIwQYxaL3D6gaBZOqz5EQpJM3f3Nvyz8uXscWVE7ap2IjAgwjokgT9++7QCEweHEfFDq2Hq6XHbXueH7+iOv1grpXXJ4uuL5Ye4Hf/Oa3eH56wtPTR/zuh9/hcnnB09MHfPz4Ece+43K9IDoLT8oQBQ3FaOvdQoXWiZZpekizSDxk6gQ/3FisgBPHjkmazfJ0rCQrCF68nLnelkaBaqg5UWufDcDajPtjm0geRbZIadbv+OdpCb+OuRSawh0EkDX/q/sBLk4SnPNALhIAuMDcvvkG533HRgmt7pBeASreGtwVHKl7KnY9jAghusGIiBSYcgYImgjIArQOPq7YWkNXwnHv14+95si7YCv3wVUmJErIiZBzwrmUQSJ7KkaeemLClq0sw9ZhApMXESeGlAItCZ0Y/197Z9YkN7Jc6RMRADKzyL5t0/eaJJONzYxmnvUwv3CkH6qxsTap7xWXYi25AIhtHjw2ZGUWi81mE2Sfz6y6k7lgCQBxwj083PXdA4bjCfFwkvWHmw3iEGvIet8jbrZQYQNEBzVOGKJEeXZQ6EyHru/ROQdrHHTXSaFAbWUxczofY2oePYU8p10HLfLMZilBub/SOEkWQseaeioL0yXa/vDaePey/ZR+2wzelz+u921ziFf5FUX+6iFWYXoa+q2yL19JvH1QBtZqhFHmAXwQH3Je99P18tBoLVEvncmT5NnXnUQhWUSqaaZL/W2ed2ie+Pr+Bc7fz536E9VvLCUJBImyLqR8sS5+LO2BOlndillMaZuyoMnTUzskVXpG2QpU3f+vR11sr2TH1GNbWEXp2Mpr+UwyUouVa7RU080jc51cb8gDmVTvJacuBMSako4qWUfIoeChHmNq2BA8nHWSUTpKZVJrZ9zevcfhsMe7N2/x8PCA/eMe//F/f8bpNGKeZzw+PGC2Unsn5NW72ceDiKEHOtNDQcGlejayniyFJaeAA7HUxWJCsNJWsbn3ygNZ/5yTNDEyL5BGtrEGy4hbRf5tjLiwxnFC3/eoiXgFqZ8l1yEn8fTeYh5HsZRCzT6ulCqBDFnY8v5kW37h6sluP8ClBKAmZb4eoDY9xsMBBhp9t0EMDi4GTJMtgtMNG2x//C9Q2uCnaUL//h3su1uoTRagdJ2VdMY5Us1onVIjBeyCQjRaFqk7CWaw1tXM5zZVh40j9HREF6UYoQwEY2nzfC3yGj9ZqiHu9M1mg6E32BiN7bCBNlKAbzsMGPoOu6GHgdy/UshYyUAF4mrURiNojSkqnKYJfjxgODlsbjU22x3UzWtZa2h6aNOj2+ykyB8icOMQpxHqeIQzHVQfMe92mKZpER0p++nTMyBRh/ma5Dlrqbgrz0mpVLvoX8Ttl4Mfzl13l/qQ8/4v3yuXIvQubSPfb8/NwT+3/5YX1VPKFz27v2TDyWROJx4haylyShCtFYLScF4jzhp2VlJ6OkiH1ZmIfqegdYDRgFEBOpf4Tvsqse1pHVQM9b1cSfRqQ2TTNQlEbCZ45cXTRmujT14yOZgjmYD60Mt2Ul6PvC0o1LByXTuuZHHHYi0t/1TyWco0gwKaiqTt/8vrxbWTeYdLvlzZX43OUWlOJFshyhiYXOkyRS2VqMbUdj5dy+DS6CsUQzjLWhlW5Zos4sExJaRZI8oCWSPZACRJQSxzjy4EySDgHR6Oe4ynA8bjAffJDXc6HHB7/x6HwxF3t7c4HA4YjyMe3t9LJxY85mksdXqQcqjVLAoiUHa2acTuyoAi5kmQmF2MsiBaoaaCKffi4p6or3MZFCCvo0uLSENrBcm9lsVQqh7neRcsO6w055R/l6M7YxTRlq+pEn0HAPNskzhOZQ2UT3WE8p+447wIdwjlfaWkLtCwHYDg4eYpJeOO6DqDHNZYOr1+gLm5gXrcoNMa88MBftejS4tJ8zkHyJ9RUj3YeQ+4gGgVQspqndM8lUg+DaA3iKFDnDX0aGGshVMKQRlI4EgO7JA/6A6q66TkTAwYoLDpOmw2vYhSSpra6bqwUxsDFQNM8j9HrdM5p+ASpaD6DurVK0zOwfcThqjwp8cTzOYRfvcK+ocfMWx26NM+lAb0Zou42UIPA4ydMRwOUMcRYZphnYPzEsRhug7OS7CGgSolMYL3qby6JHGOANrs4vmZX/ZN9fWlIIRLr6/9f3mPX3+v7UMvfX5x2uGMj1hKKo1mgTyyrC4NVfodAIBLmXyhYL3G7Ds4lxJmeoW+k2isoYvoBwVjAobB1AC8dIPE7CZC+4DnBq1uuKXboxqVT6NPQjJvz0UpppHuhUWkV8zM8wnE5Nkp+1fKlHYqI7j0Wc54LW6S1EnpGrad4z+g2mCGGtarlAI0anQUlqMZlU35dNBtQs/zdomxdiQ55Y1SSub9jJEszSlJqUmlBpofwzrAzimEHMCwMeJi1TEFlMiq9LyEzLu6yLnrdE31FGUCWimZAI8QIfVuhrMe42wxjSPmacLd/hYPdx9w9+EWf33zC/aPj3i4u8eHBxGow+MjxnGSNEEeC0u6XOv0OsSy4gVRBdh5hvdOIjWRB1wh2Y6xuOe1kpT/uktzhnEpQi35mckDDrGIZPSfBy9tmn+pcBySuBjENEioIeKhBMCYHFau0yqimAM98nXuynV3zpZUQzkiL4SQsgT06Pu+HHO2wJxz2Gw2QHIjd8MAb2dMpyOy58MYI/OoaYAjHjONYbeF2u2ATQ+MR7jHGeFmi657hRi1BCQECXToTIRzFtM8Q0Ut1WkRgRRMUS2gWPahOgO128J6D32aMYSIk5JErko1z256TrWReaQeET0cBigMXY++H2rgjWqsIiUWLZRCtBbBWWkzbUSDux5KG/TbLbSzcMOAg+4wvfoBP/kAdXsH1W+hf/gR/bBJz04K1+56YLtBZ2dZVPvuHcx+j3AY4VK0njYdtJF2NVrqNUmWD4+hlzkusZpaV1u1gtv3zufCLwlNG6DwbCCCWi5IeU5YnguqeEltpecTsobw5EDLxdYyolFRTGs7A9NkMDoRI8SIoY/oh4jtLmIYgL7PoaUK2iioLpZ5E0DSzWi1FKR6k6H2uMATxaiydP7uFdTzH7+ImDekUcUoH0XKEFAMhmaHSjooibiTuZb6aRPY0Ih/m4n7/Aa7dIPICGs5QZofcik3XosBqrSdm1evJQQ/SKbtKblWcj6zvh+A2CM4jc0wwLkJATZNiCuoqNLcXwou8YCzEeMoVUO1jujgoTuU7wUf4K3Hw+mI8XTC7YcPePv2LR73B9zd3eHD7VvsDxKyPU0njOMRx+Mezkm0mUsRYs6KpaGUPMwlbxqSCKUILQkp9+kvIiJIeYEuPwr1OkZpLORM5TCpFIFu78/rwlTKEMRc4wiY52xVL6+nPKyxLCjN17Quupa6XlobRJOKQUWVQsLT8xNc2gcwpM4suwLbxZpLoatZSNrBjrjPpCKq0WLN2OQFQXKPBe/EGkeUOa0QYPoeu9evcPPnv+B4OgLHI47vP8B7j26zwabvEIKHUhqjivApq73pxIcbnUNwUogvpMW03gfM84xxnjGnUugeQOw69NbiJgbM3iFsNlBKo+t7bDY9uq6XXIVGoTMKxitoFaGdg+4couoREVLCXAWnNZTyCMkjEbSGn2bEtLQjdp24oNN1M8ZAmQ7dZgf357/g2A14dZjw+u17aB+B/w7gp58ApAwvCrKGyQyI21eYdjvYvscmHnBzGjH1PXw3nA0gVfKoqCbBcrbyl/fbNSvokvB87DdPLB08pQ2aON9mO59+zWC4xosSsl7CW4/xFGBHg3HSCFoKeg1DwOtdxGYjA4OuU+g7XaLjVJp/KQtYQ84nJ/MzrQWysFpinfEonWlrqclwv3m4YnFntN9SZ73JS9x0V1m4zRSAsPgsl5mQ+PTWjJE5ijyIl5F53pyqf63gKHX5zmjO61yYc6cjp9tEKsXltc3GXm4vrSSMPkISjyotC5MfHxR0DNhuI7S22GwiQszpf2QD7XbtpDDNEYgKfQ8YHRH8EfPk4LzF8XDANE8YTyeZD9ofcfvhA25vbzFORxwPD3h8vE+CNGK2M6ydMc8TFut30r4lr15MmQliObk80ka2fFI7KyUPfamYWn6QE4kmSxYaQbUBFvWSxOYaPrkm+ZFN21LJSgZqPkWZT0r7SmlzRFzlvm1X/6sYAZMWUJaigMmDAZQ2cS7KZHmH5LJT6buhhM3numSzMZLYNB2nUiq5Y2WRsvcew9BJctsox4cQYGJaRxRS2vfkkTCdQT8M2G630Dc3ONkZ/vER/i7C/+kVOv0K3qMcr6TQkUS55Vm3DnG2iFrLujcfUtmZ6g5VEFGyxmCYZmwjpDrudtcM2OT8jZEAh02PFNAADEYBwSGmqpE63TvishATKkSFOGyTUHpEGxAlrhxQClqnpMu6g+k30H/6EdNfdtDO4YfHPW7+7f/BPzzC/bf/CrPZyLkppHyWInJut8N4OMJ3BsNo4WFxilE6z/zcpnpI5UZTOTApLb7OWV+yxfeRfqK9P9vv1qUaeWBWyf/KfVT2AJU+p9XLcoGaD9T5Nq7zopDwPJIKATg8AtPBY540dDQwmw7bHfB653GzizBdsoZKGox0naOSVHTJFSQrzs+DFC4f7aKaYazfvKQnC5VuO/rGndJs4fnWubLtp4qv0nnlEUlESmmROjVTey8AEQE5lTzqM9AcV7a+csBDewzVOlpaVCj1k4Dqvmut3dyJtyOX2l4B1kroqtEduqFOtj8+BLg5olMem61H1zl4N6HvZdK6ZKIOIYXpAqeTtMl2k0bz0HAu4P7DHQ6HPQ6HPX755Rfc39/j9vYWf/vbe5zGEYfDPabpAO8tnLUlN5qko/EyOkfKLpLC5kuwVpTO1Nn57NqqRTtKButq3UrgTB78pPrJCsiF+5SW0G4Z4S8F/TlhSlcQKf1AEU+UdkfqYHJob5D5tPTI57DvMq9kDGLQyVoRy8I3AhZzbrUooiSdsnSAUjJc1jb5nM1BqiwiJGsqhpgCE3TJmBGC1EcKIcI6yUunAHFteSdr0INHWsNb6gHd3NxgGAac+gH3MeCH/R79PGECEFJ/4r0vLkTrx6ZNDU2cxEsAABUySURBVJT3pRVDXZSAnPmkRA8qwO520JPFJkYM84zprJqApHAy2HYdhk5j6I2UfbczgICQomxywE22hJWS9VYYOoS+QxhnidKCgho2MN0WEYDpt9B6kL/da8TdDU7/YGDev8f29i029w/w//N/QP3jP8B7Bd11ZUlMhELoB5w2OyCMGKzHdpoQZ495dwOflwq0g0ilxdX8tGOoA+UrPf9z1kpzV5cBTjtYU6V/iYtfVE8QivjE8xFyOsQsZs/xwsWz9eDu/9NDdxGvfgR2N8DNzkl9GdQ2icnfKQ+Tgix9CKnUd73BYgBiChNdmo7VImrdDgqSEkTcLlikYHs6mXcmOKkDuCRES9/r81K1NE3ze3kbjShBTEEZU9SggnY7eVCGIPMxMuitue6yqGdTPXesNTpPYemjrca0ScXf2s+ruKvFNvKo2+WkkcrCWRk4WKtwPCjc3Ci8fm2SVZRr5gAqeHQIJa+cCxb3HyzG0wnTeIvjaY83b97g8fEBx+MBb9/+FfOUIuMe92mt0AnH4wwfLBBdiiSTTrHvDXqjoSFlzoMyZaG1zF2lcgZloe7SpdA8p2WAku8PlRTFh5oYU55/CXQILqRy4h4lqaySObLz639JmHLeu9ZNqtO1rfdoLN/J1WXF1RefiFI7QJQbIQ1GtIHp+vKcWGuRs40Pw5CueT1frXVx4eXf1ISwcl8456SkgrPoNx2snXE6neCdhVYKQ98jOgsYqRMUtFjYkrVEox96vHr1WgrgbTa4m0bcnCbg4YC420DSPbnyLE/zVO7HruuhlJYqsDFKsUaj0aNLg12xrHJ7xQjEXYfTNGHrPXA8YU5pvYZhQOilkOawGTB0Gn2qfQSzQZxnwFvErittgZgXoip0nUxTIARgO8hgwHlEZ9FJTT1J/mwiPIK4gY0BNlu4f/onnP7+77D9+Wf0P/8H/N//nTwjLsBamV+01sM5GXRFYzArA0wTBueh5xlhGJLFLTdyXSaS+4XmBm9uwGuBBufvX/YULT1U17jm7quD3/p8tPfgx7xTLwgJzyN36aT+8X91chFihFaSB63U7oixJPGsAlE77fbBrQ/qMrgAQHHLXYqGa98/V4/FfoEScVfe+NiZXmmw8/ef+mXTmZzvowihWIh5GzkUWKeOPJTftR3WcnSPph3Pj6O6JFVzntWSKIeTLbczCwupfVUeuee2DgrDAGy3BkYDGh45FUaMobhzrJWccNM043h8xDiO2D/ucXv7Dvu9iNJ+/4jjcY+3b/+akp462NnBhxTmHbK1FYtAxJgqzmqJopSwvZRJPs/z5DVPxRKNzfzQ+cVIr7I4p/eyqGVLpkTgpU4/R9uVoJ+LFvpTYcoprGIIST/SGpM02PDFGmjci6pG6uXyDTXCLkfiZUtcIUYrgSMp3DwHPVgpl9wMbFAGhDKfFZMA+jK4kehJU4TPexEma22dy7G2yfgcoYroprbKIgpgsxmkzMVmg3m2OPRSBkL7anGG7K5c3NN1fVVM1m++vguB18tw8Dj0OAWDEBU67+tcGcQ6znWedPug9n2JrpN9yNyNuMMkCCiGeqzQCug6QBlxMabr7H2ukJvDqqJ4QH78Ae5//zPUNCIaAz87ESHrJKlsLnkfsktVwW42sJ2UfTfpPs3Hna+nUtJ3FrHB5f7rY0JwXSCeF47L23q63fxc4MrxXeJ5UYpnnR5Q8schm3JpMhxA9myXVPIScqnLvENxWaA+3BEXGi2iecBqLH6O0y/fQe2Dl1ZSi2rMxsXbyD70lzTUtVFB7eDPNx6a36TQ3ZKzT/4j0XexvCfvi+Ui20wVTtPaGvHYPHXdLeadSvtmN0cdIVVx183rWgiu7zZlDGKULgEppc2DFCgLwcMl95qdJ7x5+wa3t+/x5s0b/Pu//4z94x4P9/c4nQ6wzqZRuYNzFh/ev4OE+ir0/QbGSDBAn4qQSUdZH/R5HOF9SmjaiHIOFsgWs5ZmLqP083MOTcBAscDT1ckZs/OlKx0/aoTh2e155R5priMA71zK2pCeBSMhve39kq0hQCwrmWsMKZrOl6J/efuArPGT9FwGMcraIm00cgCHT6UffHJ9ZuvHpP13XQ/lZK5Gsu3non9hMYiZ5xnjOKI7GszzhMPhAO99sohCShGUXJFBGslOI4KXgcZudwNrHX744U84nSTjwziOsgYqZSrI12nYbIo4at3V6xeqxSih0+KiLBkNYs1fmf+c881zFaG1hL2r/HyEKEsPijXaBH6kjj4kiy8vMc5RgylxH2DSfgBAOZzGGbGfoGeHoC1Ccn2HaKQ0+3aHYD3GaZZaSqcjDscjZitlP1wqNFkWYzdr1HK7ZFdnziSv2jlsXLJWnu/XnreCgCdd6eLzdgnNy3770vn7l7vvWp9hs/GcHCUXEGtdZzGtho5Kl46gnXiXlclPGzNbpq3bIn+nDTfMI3tpiGUrxHPVyr8p1kE9l6Vp+3GT6nxfy+iW8gpt95V0SF4HALoGHsioObVdrNGIOSJLKSUpeYr2LN1v9XiWwhlCXSR56RyWN1ZERKonEwEXIqKTztHOsvh0//iA/eOjhGAfHvHhw/siPuMoGRSOh72MrOcJ8zRJEtTJwnuLiIg///SjrMXx4rYIfoadxQW3uLvTSFAGMyaNDNNxa11e57ZFrMMO75y099n9k4Wova/yuS8ulLR+Oow8cm8+ipfbVNoVKWChuW8VFvep1vV1ex3yoKu1oLQGSiVlX+99rQOgJFN3iAGd7Z+ea3TNcanUqaF05lLNtXmW0/Obn7F5njFNE7qxk9ITqeOG1rBOotSM1uh7U47XBVka4q3MPXV9h1evXmO7vccpuey6rgM6g6HLVZb1IldftuhCiZaMT65ZiHWB/vnla9tBKSXBF32P3miY5FJXqS6S1lpKTaCKszxv2bMjDuEQJa1RuWbQqcqA7NOnec+cq1DGERKEACWLgn1yrcrCb0kOnBMGB8RUPj5vv94builf0Xd1UHMp8u2id+kFApXvkfY+vtgXpi6yBJxcdB1c70M/21JqL2zpvGOehq3HmO2Q1h2EEGVxrdKIKlxIQZHHIE2qotJrL/ff/qZYWmj6sNZGXJ5B47rI+3pudHA9Bce175ejyZ4zVWNYFtF4yO6AZNbLlc1HWT6qnWGzreYGbF14T91w5UQvnmcrgvnfeaQoo8v0FzzmNJ8w2xmn/QHjeMLd3Qfc3d3heDjg8fEe79+9xd3dB3hv6/yHd8hFE2WNjEv1ehykwNwWIUh5egePEFzKN1dzo+mUD01pSZqJ7LJoHlQ017Md2ESgyVCQzlk19xJQOrpnruzZNW7F/pI13nyYL4FK2SsWbZ+FN9/57T7ynvXimoqIoeT88ylqzicLzqXEpt7nFfUpR2BMLkBnz85H6jblfGjt4lzJfG7KvqWUgk1lPlzpiGKU0vE503nX1XyOOWO3cyk9mFbYbAZ0XQ9jJszWl/sw76uUaVHZKn860Gw9ISp5aeqxVw9M29btbyQKT6ecmU3GEKDO2TTkfeRP64NY/1ReW4fshszZ25NLEfU32aJzXqw953LJkOWxXvf4oGaoUAo55VDL+eD+0uuXcmn/TTfcfE/O8fy4L//+N5hTyiOn5cbORakuCs3xTGkcUbJ1qyRKSutUsqJR+qaDLNsMH1f5PAAtltXZDfxU6BVepjefdgFVEl6VzTulmv3mFgGQI/CKmqYIqoBkbrZPiXSE4hrIq81TvrIzIVpaSvXGEXdFylUWxRUm605CmXMIIWCaplRPaMI8HnAaDzge8zzQHvf3H/D48JACEg6YUwZuay0kLWZECKnUdXApomt5zYyWdSIhBPztl5/rCDB3REqX5J1tuwKQstJn82Kl3lCzuNQ7qZoaEGFjHQQtH448CsVy3RfaNFEfu+ByTeoDesF3AUApiYAzxfKR8G4FBR1a6whpriMfT5qDgqpZZ4Ek3oBCDbpoXUvW2fJ81owVaMogxLQ4NpR2k6+nrNvNaWRLbRxHjKdRxnxKblOTXPPWWszBp5x627SwM7lfnYihzJ3I3NYw9LB2wHQ6lrRL2aWmmut7fs20Uoha7mMNlGzt4zRjmub0/eqqzn1CTnsjwRoy6DF6KImc8/MaY0zr2mQNk0qRwznQQeaYdMpqLgk6RRw6hKhSVCXgfIBysh5PBSmL0SKJcD0mazHNE6aUfqqNLI5BLKUYxfpVSpU5PyOFMcqAajF9fKHdcv02cV/WVEOXnrGnr6Vt0r+efOfSmOy5PinTGjnP8aLKs8sd1YZRjYsquzfywxZVk0oll3jO4pZ9szEtIMXS7My+rnMxko+W7+WLmI+xfBe5ORt5zwf5ET5mTT19T44ETcdSX6c2OrsYpW3U8iJGNIEOOLu4Z/t+cvFVHe9l911+QK21qVyDBCTkCWwparfHOB7weP8B43TEOB5xf3+XXHJH2FQTyKXFkiFIbrgypk01q0ri1ZSluriSUK+tRGqqet6o8ysiuku3ZBbUFrHIpHP1zUJQ6fpjce+1VzEPnC5dW6XM5Qclpo5/MQwHYl4z0r7/ZNSKkq6nnTey1koW8OYctVKpg5bftoPBTOO1rg+2Shkm1LmrW0bVOnVquRRCtfrytlUS5DovU0PMJRuEdQ4Yx1r/yMh8Ugl6EEMWMQzoTS5BIQc7TZO48lLQgSwkjmVgBKC677quCaAwjfUmS/xy0EIbpJC3mz0i+biLmzG1t51lfVuIA3JWDzT35PKvtqWUG5dM8BEBOkocbf55KZkRAkJnEY08V7AWquvgvJe5RK8QktdhmiR7/TzPMp/UzHWqICU0a99aI21zReQQLt2/T4Wj7fxrOz397uXfAq2XJ7sLr+3z0vtPB8u1j/4sS+ncNyudaGvFhDJaQ+po2u/GmIIecN5YqCPKxiaU7auLgvSpqMWruHhn8b0XNNK179Y2b4IdyufZ7L/sRsvbyz7p820WoYNCm+bn0k1ULMWYf1jDZUPqQMZxxH6/x+k04nCQukHTNOH+/h77/T0Ohz1u3/0n5nnEbMcma4Kt+0A2MMTSa4VfdqtyvUMgzRudW7pdV0UJeVPlhUqdXLWk8sg+NdzCUvLJXVIyM6dRq8oLTc5cIvn1+fUWkVhaY/Uf7dnLMdQ1TbiY/y7/vGQvSaUZQshJhsOTuZTqNouLUW4+HvldHflCmrt5rsLiuHPoudwDsRFG1ZyrWghatqaKKKUlAmEKMJ1BpzoEpRCS1W2nCUBEPxgZWnaylis3gEvlNHKnuKyMWq3+nDm8dmSqiOS5eNfbpd4LenENqjDlwZi1tdaUzDXnMvTxyRyU1GyrYfcqLa0QU1EtbtcQJTWU9x7RWsCIVaadl0XP3sNrJUElKeLOuewSFcEPzeCtunfzLmq5dK2TeJ1ZYOWsS3/x9N+LefgiMFX08i5bS6j001h+9uTfF7rWpdWUnpMLYnkN9bmd/6/ikjP0mr1H/tis4b5ojuFf8H/wr/gXRJkyFYluzPdL77XvZ84//1Kc7/dL7Lvdx+91XuTz+D3ui1/L1xGlsvcrHc41KaVIff+s6dpfmUlWSspj5dfnP7v0cOfffM0O/NKxfu5xXBNhsi6+xLX/UnxdUWp5LpRkTR0V+W1Z27V97j4sX7lsIV17wJ+zqM7f/z35nI5qDcdPnmfN1tBzrEeUMi9x16ytIyMvZ43X7hNdhJ9qHbzEpbeGzuIlIrW2YybCtWsHfHvXaX2i1PLSzmKNHR0R1nptPnOu6jnL6FO/u9aO/nvq6L43vudrs25RavmUTuS58I5v5oS/MT4WUrOWdn+Be+5lm3mZtfQpVtUaxem5zu+ctRzz98b3LECX+HZEqeXXjHK/lU7zW+Bba8vfSIiebvbjgvMpFtX5dj+27S/JS6MFPyZa32On+aV4yQDgj9Ce36YotXyOG+Zjneunbu974ltum98pjPxjovS5kWlfI4z8t9jnS62rP0IHewmKz/N8+6LU8lt1Ri/tkD9nH1+b7+0cv9J6po8FMfwWncuXjKL6vSO0PsUd+KWP5UvwvZ/f78H3JUotX3KC/VM79JfwKcf1tfe/BlYUQPF7rgH5NaPsb2Vk/qkd+kv4lPP6Evv/1GMg37MonfM1OrEvIR6fyvd0gdeQ3eEKXytjw6V9v4RvvaP8UgLyUr719lszfxxROmdFI21yAUZQEvKH5I8rSi3sAL8+vAaEEFCUrsNO8svBtiWEXIGi9FJeMj/ExlzCNiOEfCIUpc/lW17P81vwRz9/QshvCkXpS/FrIu/WdjG+h3MghHxTUJS+FmsIF/818IYhhHxBKErfElw0Swj5zqEoEUIIWQ36ax8AIYQQkqEoEUIIWQ0UJUIIIauBokQIIWQ1UJQIIYSsBooSIYSQ1UBRIoQQshooSoQQQlYDRYkQQshqoCgRQghZDRQlQgghq4GiRAghZDVQlAghhKwGihIhhJDVQFEihBCyGihKhBBCVgNFiRBCyGqgKBFCCFkNFCVCCCGrgaJECCFkNVCUCCGErAaKEiGEkNVAUSKEELIaKEqEEEJWA0WJEELIaqAoEUIIWQ0UJUIIIauBokQIIWQ1UJQIIYSsBooSIYSQ1UBRIoQQshooSoQQQlYDRYkQQshqoCgRQghZDRQlQgghq4GiRAghZDVQlAghhKwGihIhhJDVQFEihBCyGihKhBBCVgNFiRBCyGqgKBFCCFkNFCVCCCGrgaJECCFkNVCUCCGErAaKEiGEkNVAUSKEELIaKEqEEEJWA0WJEELIaqAoEUIIWQ0UJUIIIauBokQIIWQ1UJQIIYSsBooSIYSQ1UBRIoQQshooSoQQQlYDRYkQQshqoCgRQghZDRQlQgghq4GiRAghZDVQlAghhKwGihIhhJDVQFEihBCyGihKhBBCVgNFiRBCyGqgKBFCCFkNFCVCCCGrgaJECCFkNVCUCCGErAaKEiGEkNVAUSKEELIaKEqEEEJWA0WJEELIaqAoEUIIWQ0UJUIIIauBokQIIWQ1UJQIIYSsBooSIYSQ1UBRIoQQshooSoQQQlYDRYkQQshqoCgRQghZDRQlQgghq4GiRAghZDVQlAghhKwGihIhhJDVQFEihBCyGihKhBBCVgNFiRBCyGqgKBFCCFkNFCVCCCGrgaJECCFkNVCUCCGErAaKEiGEkNVAUSKEELIaKEqEEEJWA0WJEELIaqAoEUIIWQ0UJUIIIauBokQIIWQ1UJQIIYSsBooSIYSQ1UBRIoQQshooSoQQQlYDRYkQQshq+P890jBgp6O7RQAAAABJRU5ErkJggg==\n"
                },
                "metadata": {
                  "needs_background": "light"
                }
              }
            ]
          }
        },
        "90d3894cff674305bd5990deb9e976ee": {
          "model_module": "@jupyter-widgets/base",
          "model_name": "LayoutModel",
          "model_module_version": "1.2.0",
          "state": {
            "_model_module": "@jupyter-widgets/base",
            "_model_module_version": "1.2.0",
            "_model_name": "LayoutModel",
            "_view_count": null,
            "_view_module": "@jupyter-widgets/base",
            "_view_module_version": "1.2.0",
            "_view_name": "LayoutView",
            "align_content": null,
            "align_items": null,
            "align_self": null,
            "border": null,
            "bottom": null,
            "display": null,
            "flex": null,
            "flex_flow": null,
            "grid_area": null,
            "grid_auto_columns": null,
            "grid_auto_flow": null,
            "grid_auto_rows": null,
            "grid_column": null,
            "grid_gap": null,
            "grid_row": null,
            "grid_template_areas": null,
            "grid_template_columns": null,
            "grid_template_rows": null,
            "height": null,
            "justify_content": null,
            "justify_items": null,
            "left": null,
            "margin": null,
            "max_height": null,
            "max_width": null,
            "min_height": null,
            "min_width": null,
            "object_fit": null,
            "object_position": null,
            "order": null,
            "overflow": null,
            "overflow_x": null,
            "overflow_y": null,
            "padding": null,
            "right": null,
            "top": null,
            "visibility": null,
            "width": null
          }
        },
        "cbefdbc725be4bc19b6a184f13a9434c": {
          "model_module": "@jupyter-widgets/base",
          "model_name": "LayoutModel",
          "model_module_version": "1.2.0",
          "state": {
            "_model_module": "@jupyter-widgets/base",
            "_model_module_version": "1.2.0",
            "_model_name": "LayoutModel",
            "_view_count": null,
            "_view_module": "@jupyter-widgets/base",
            "_view_module_version": "1.2.0",
            "_view_name": "LayoutView",
            "align_content": null,
            "align_items": null,
            "align_self": null,
            "border": null,
            "bottom": null,
            "display": null,
            "flex": null,
            "flex_flow": null,
            "grid_area": null,
            "grid_auto_columns": null,
            "grid_auto_flow": null,
            "grid_auto_rows": null,
            "grid_column": null,
            "grid_gap": null,
            "grid_row": null,
            "grid_template_areas": null,
            "grid_template_columns": null,
            "grid_template_rows": null,
            "height": null,
            "justify_content": null,
            "justify_items": null,
            "left": null,
            "margin": null,
            "max_height": null,
            "max_width": null,
            "min_height": null,
            "min_width": null,
            "object_fit": null,
            "object_position": null,
            "order": null,
            "overflow": null,
            "overflow_x": null,
            "overflow_y": null,
            "padding": null,
            "right": null,
            "top": null,
            "visibility": null,
            "width": null
          }
        },
        "03c67b0b93434fb9be15a03272731d1d": {
          "model_module": "@jupyter-widgets/controls",
          "model_name": "DescriptionStyleModel",
          "model_module_version": "1.5.0",
          "state": {
            "_model_module": "@jupyter-widgets/controls",
            "_model_module_version": "1.5.0",
            "_model_name": "DescriptionStyleModel",
            "_view_count": null,
            "_view_module": "@jupyter-widgets/base",
            "_view_module_version": "1.2.0",
            "_view_name": "StyleView",
            "description_width": ""
          }
        },
        "1ea4cf42e8974ec09b7636f958e388e2": {
          "model_module": "@jupyter-widgets/base",
          "model_name": "LayoutModel",
          "model_module_version": "1.2.0",
          "state": {
            "_model_module": "@jupyter-widgets/base",
            "_model_module_version": "1.2.0",
            "_model_name": "LayoutModel",
            "_view_count": null,
            "_view_module": "@jupyter-widgets/base",
            "_view_module_version": "1.2.0",
            "_view_name": "LayoutView",
            "align_content": null,
            "align_items": null,
            "align_self": null,
            "border": null,
            "bottom": null,
            "display": null,
            "flex": null,
            "flex_flow": null,
            "grid_area": null,
            "grid_auto_columns": null,
            "grid_auto_flow": null,
            "grid_auto_rows": null,
            "grid_column": null,
            "grid_gap": null,
            "grid_row": null,
            "grid_template_areas": null,
            "grid_template_columns": null,
            "grid_template_rows": null,
            "height": null,
            "justify_content": null,
            "justify_items": null,
            "left": null,
            "margin": null,
            "max_height": null,
            "max_width": null,
            "min_height": null,
            "min_width": null,
            "object_fit": null,
            "object_position": null,
            "order": null,
            "overflow": null,
            "overflow_x": null,
            "overflow_y": null,
            "padding": null,
            "right": null,
            "top": null,
            "visibility": null,
            "width": null
          }
        },
        "2a663eb76c80496fb15f580c7de95464": {
          "model_module": "@jupyter-widgets/controls",
          "model_name": "IntSliderModel",
          "model_module_version": "1.5.0",
          "state": {
            "_dom_classes": [],
            "_model_module": "@jupyter-widgets/controls",
            "_model_module_version": "1.5.0",
            "_model_name": "IntSliderModel",
            "_view_count": null,
            "_view_module": "@jupyter-widgets/controls",
            "_view_module_version": "1.5.0",
            "_view_name": "IntSliderView",
            "continuous_update": true,
            "description": "",
            "description_tooltip": null,
            "disabled": false,
            "layout": "IPY_MODEL_1508ecafbc6545ecb36dcaae6db05575",
            "max": 10,
            "min": 0,
            "orientation": "horizontal",
            "readout": true,
            "readout_format": "d",
            "step": 1,
            "style": "IPY_MODEL_c0636da86d974533b3f0050f69cd1f07",
            "value": 5
          }
        },
        "1508ecafbc6545ecb36dcaae6db05575": {
          "model_module": "@jupyter-widgets/base",
          "model_name": "LayoutModel",
          "model_module_version": "1.2.0",
          "state": {
            "_model_module": "@jupyter-widgets/base",
            "_model_module_version": "1.2.0",
            "_model_name": "LayoutModel",
            "_view_count": null,
            "_view_module": "@jupyter-widgets/base",
            "_view_module_version": "1.2.0",
            "_view_name": "LayoutView",
            "align_content": null,
            "align_items": null,
            "align_self": null,
            "border": null,
            "bottom": null,
            "display": null,
            "flex": null,
            "flex_flow": null,
            "grid_area": null,
            "grid_auto_columns": null,
            "grid_auto_flow": null,
            "grid_auto_rows": null,
            "grid_column": null,
            "grid_gap": null,
            "grid_row": null,
            "grid_template_areas": null,
            "grid_template_columns": null,
            "grid_template_rows": null,
            "height": null,
            "justify_content": null,
            "justify_items": null,
            "left": null,
            "margin": null,
            "max_height": null,
            "max_width": null,
            "min_height": null,
            "min_width": null,
            "object_fit": null,
            "object_position": null,
            "order": null,
            "overflow": null,
            "overflow_x": null,
            "overflow_y": null,
            "padding": null,
            "right": null,
            "top": null,
            "visibility": null,
            "width": null
          }
        },
        "c0636da86d974533b3f0050f69cd1f07": {
          "model_module": "@jupyter-widgets/controls",
          "model_name": "SliderStyleModel",
          "model_module_version": "1.5.0",
          "state": {
            "_model_module": "@jupyter-widgets/controls",
            "_model_module_version": "1.5.0",
            "_model_name": "SliderStyleModel",
            "_view_count": null,
            "_view_module": "@jupyter-widgets/base",
            "_view_module_version": "1.2.0",
            "_view_name": "StyleView",
            "description_width": "",
            "handle_color": null
          }
        },
        "576a1245bf184ddf85877430c8b3d708": {
          "model_module": "@jupyter-widgets/output",
          "model_name": "OutputModel",
          "model_module_version": "1.0.0",
          "state": {
            "_dom_classes": [],
            "_model_module": "@jupyter-widgets/output",
            "_model_module_version": "1.0.0",
            "_model_name": "OutputModel",
            "_view_count": null,
            "_view_module": "@jupyter-widgets/output",
            "_view_module_version": "1.0.0",
            "_view_name": "OutputView",
            "layout": "IPY_MODEL_99448010232d4c40b806f8f72644fe45",
            "msg_id": "",
            "outputs": [
              {
                "output_type": "display_data",
                "data": {
                  "text/plain": "5"
                },
                "metadata": {}
              }
            ]
          }
        },
        "99448010232d4c40b806f8f72644fe45": {
          "model_module": "@jupyter-widgets/base",
          "model_name": "LayoutModel",
          "model_module_version": "1.2.0",
          "state": {
            "_model_module": "@jupyter-widgets/base",
            "_model_module_version": "1.2.0",
            "_model_name": "LayoutModel",
            "_view_count": null,
            "_view_module": "@jupyter-widgets/base",
            "_view_module_version": "1.2.0",
            "_view_name": "LayoutView",
            "align_content": null,
            "align_items": null,
            "align_self": null,
            "border": null,
            "bottom": null,
            "display": null,
            "flex": null,
            "flex_flow": null,
            "grid_area": null,
            "grid_auto_columns": null,
            "grid_auto_flow": null,
            "grid_auto_rows": null,
            "grid_column": null,
            "grid_gap": null,
            "grid_row": null,
            "grid_template_areas": null,
            "grid_template_columns": null,
            "grid_template_rows": null,
            "height": null,
            "justify_content": null,
            "justify_items": null,
            "left": null,
            "margin": null,
            "max_height": null,
            "max_width": null,
            "min_height": null,
            "min_width": null,
            "object_fit": null,
            "object_position": null,
            "order": null,
            "overflow": null,
            "overflow_x": null,
            "overflow_y": null,
            "padding": null,
            "right": null,
            "top": null,
            "visibility": null,
            "width": null
          }
        },
        "1f48baac6f5741a0a75cafd21f7d2403": {
          "model_module": "@jupyter-widgets/output",
          "model_name": "OutputModel",
          "model_module_version": "1.0.0",
          "state": {
            "_dom_classes": [],
            "_model_module": "@jupyter-widgets/output",
            "_model_module_version": "1.0.0",
            "_model_name": "OutputModel",
            "_view_count": null,
            "_view_module": "@jupyter-widgets/output",
            "_view_module_version": "1.0.0",
            "_view_name": "OutputView",
            "layout": "IPY_MODEL_6ef0c5b1a1fb4de7bb5468750f4d72cb",
            "msg_id": "",
            "outputs": [
              {
                "output_type": "display_data",
                "data": {
                  "text/plain": "10"
                },
                "metadata": {}
              }
            ]
          }
        },
        "6ef0c5b1a1fb4de7bb5468750f4d72cb": {
          "model_module": "@jupyter-widgets/base",
          "model_name": "LayoutModel",
          "model_module_version": "1.2.0",
          "state": {
            "_model_module": "@jupyter-widgets/base",
            "_model_module_version": "1.2.0",
            "_model_name": "LayoutModel",
            "_view_count": null,
            "_view_module": "@jupyter-widgets/base",
            "_view_module_version": "1.2.0",
            "_view_name": "LayoutView",
            "align_content": null,
            "align_items": null,
            "align_self": null,
            "border": null,
            "bottom": null,
            "display": null,
            "flex": null,
            "flex_flow": null,
            "grid_area": null,
            "grid_auto_columns": null,
            "grid_auto_flow": null,
            "grid_auto_rows": null,
            "grid_column": null,
            "grid_gap": null,
            "grid_row": null,
            "grid_template_areas": null,
            "grid_template_columns": null,
            "grid_template_rows": null,
            "height": null,
            "justify_content": null,
            "justify_items": null,
            "left": null,
            "margin": null,
            "max_height": null,
            "max_width": null,
            "min_height": null,
            "min_width": null,
            "object_fit": null,
            "object_position": null,
            "order": null,
            "overflow": null,
            "overflow_x": null,
            "overflow_y": null,
            "padding": null,
            "right": null,
            "top": null,
            "visibility": null,
            "width": null
          }
        },
        "2f1ca7491c2341eea5fc87a859345d05": {
          "model_module": "@jupyter-widgets/controls",
          "model_name": "VBoxModel",
          "model_module_version": "1.5.0",
          "state": {
            "_dom_classes": [
              "widget-interact"
            ],
            "_model_module": "@jupyter-widgets/controls",
            "_model_module_version": "1.5.0",
            "_model_name": "VBoxModel",
            "_view_count": null,
            "_view_module": "@jupyter-widgets/controls",
            "_view_module_version": "1.5.0",
            "_view_name": "VBoxView",
            "box_style": "",
            "children": [
              "IPY_MODEL_1d8533bc35d84e44a4ca4530e474dfad",
              "IPY_MODEL_3a97c79d36dc4a3c9ffab16ca6abde87"
            ],
            "layout": "IPY_MODEL_df8bdcdc842f4c2f91b30be57efd3752"
          }
        },
        "1d8533bc35d84e44a4ca4530e474dfad": {
          "model_module": "@jupyter-widgets/controls",
          "model_name": "DropdownModel",
          "model_module_version": "1.5.0",
          "state": {
            "_dom_classes": [],
            "_model_module": "@jupyter-widgets/controls",
            "_model_module_version": "1.5.0",
            "_model_name": "DropdownModel",
            "_options_labels": [
              "a",
              "b",
              "c",
              "d"
            ],
            "_view_count": null,
            "_view_module": "@jupyter-widgets/controls",
            "_view_module_version": "1.5.0",
            "_view_name": "DropdownView",
            "description": "Books",
            "description_tooltip": null,
            "disabled": false,
            "index": 0,
            "layout": "IPY_MODEL_7ee4d761680a4e0da7a7ac209359adb2",
            "style": "IPY_MODEL_9be047c7f1424d239695aa829137f802"
          }
        },
        "3a97c79d36dc4a3c9ffab16ca6abde87": {
          "model_module": "@jupyter-widgets/output",
          "model_name": "OutputModel",
          "model_module_version": "1.0.0",
          "state": {
            "_dom_classes": [],
            "_model_module": "@jupyter-widgets/output",
            "_model_module_version": "1.0.0",
            "_model_name": "OutputModel",
            "_view_count": null,
            "_view_module": "@jupyter-widgets/output",
            "_view_module_version": "1.0.0",
            "_view_name": "OutputView",
            "layout": "IPY_MODEL_3ccbb2a6fcda4a2e8781ddcf842981d3",
            "msg_id": "",
            "outputs": [
              {
                "output_type": "display_data",
                "data": {
                  "text/plain": "'a'",
                  "application/vnd.google.colaboratory.intrinsic+json": {
                    "type": "string"
                  }
                },
                "metadata": {}
              }
            ]
          }
        },
        "df8bdcdc842f4c2f91b30be57efd3752": {
          "model_module": "@jupyter-widgets/base",
          "model_name": "LayoutModel",
          "model_module_version": "1.2.0",
          "state": {
            "_model_module": "@jupyter-widgets/base",
            "_model_module_version": "1.2.0",
            "_model_name": "LayoutModel",
            "_view_count": null,
            "_view_module": "@jupyter-widgets/base",
            "_view_module_version": "1.2.0",
            "_view_name": "LayoutView",
            "align_content": null,
            "align_items": null,
            "align_self": null,
            "border": null,
            "bottom": null,
            "display": null,
            "flex": null,
            "flex_flow": null,
            "grid_area": null,
            "grid_auto_columns": null,
            "grid_auto_flow": null,
            "grid_auto_rows": null,
            "grid_column": null,
            "grid_gap": null,
            "grid_row": null,
            "grid_template_areas": null,
            "grid_template_columns": null,
            "grid_template_rows": null,
            "height": null,
            "justify_content": null,
            "justify_items": null,
            "left": null,
            "margin": null,
            "max_height": null,
            "max_width": null,
            "min_height": null,
            "min_width": null,
            "object_fit": null,
            "object_position": null,
            "order": null,
            "overflow": null,
            "overflow_x": null,
            "overflow_y": null,
            "padding": null,
            "right": null,
            "top": null,
            "visibility": null,
            "width": null
          }
        },
        "7ee4d761680a4e0da7a7ac209359adb2": {
          "model_module": "@jupyter-widgets/base",
          "model_name": "LayoutModel",
          "model_module_version": "1.2.0",
          "state": {
            "_model_module": "@jupyter-widgets/base",
            "_model_module_version": "1.2.0",
            "_model_name": "LayoutModel",
            "_view_count": null,
            "_view_module": "@jupyter-widgets/base",
            "_view_module_version": "1.2.0",
            "_view_name": "LayoutView",
            "align_content": null,
            "align_items": null,
            "align_self": null,
            "border": null,
            "bottom": null,
            "display": null,
            "flex": null,
            "flex_flow": null,
            "grid_area": null,
            "grid_auto_columns": null,
            "grid_auto_flow": null,
            "grid_auto_rows": null,
            "grid_column": null,
            "grid_gap": null,
            "grid_row": null,
            "grid_template_areas": null,
            "grid_template_columns": null,
            "grid_template_rows": null,
            "height": null,
            "justify_content": null,
            "justify_items": null,
            "left": null,
            "margin": null,
            "max_height": null,
            "max_width": null,
            "min_height": null,
            "min_width": null,
            "object_fit": null,
            "object_position": null,
            "order": null,
            "overflow": null,
            "overflow_x": null,
            "overflow_y": null,
            "padding": null,
            "right": null,
            "top": null,
            "visibility": null,
            "width": null
          }
        },
        "9be047c7f1424d239695aa829137f802": {
          "model_module": "@jupyter-widgets/controls",
          "model_name": "DescriptionStyleModel",
          "model_module_version": "1.5.0",
          "state": {
            "_model_module": "@jupyter-widgets/controls",
            "_model_module_version": "1.5.0",
            "_model_name": "DescriptionStyleModel",
            "_view_count": null,
            "_view_module": "@jupyter-widgets/base",
            "_view_module_version": "1.2.0",
            "_view_name": "StyleView",
            "description_width": ""
          }
        },
        "3ccbb2a6fcda4a2e8781ddcf842981d3": {
          "model_module": "@jupyter-widgets/base",
          "model_name": "LayoutModel",
          "model_module_version": "1.2.0",
          "state": {
            "_model_module": "@jupyter-widgets/base",
            "_model_module_version": "1.2.0",
            "_model_name": "LayoutModel",
            "_view_count": null,
            "_view_module": "@jupyter-widgets/base",
            "_view_module_version": "1.2.0",
            "_view_name": "LayoutView",
            "align_content": null,
            "align_items": null,
            "align_self": null,
            "border": null,
            "bottom": null,
            "display": null,
            "flex": null,
            "flex_flow": null,
            "grid_area": null,
            "grid_auto_columns": null,
            "grid_auto_flow": null,
            "grid_auto_rows": null,
            "grid_column": null,
            "grid_gap": null,
            "grid_row": null,
            "grid_template_areas": null,
            "grid_template_columns": null,
            "grid_template_rows": null,
            "height": null,
            "justify_content": null,
            "justify_items": null,
            "left": null,
            "margin": null,
            "max_height": null,
            "max_width": null,
            "min_height": null,
            "min_width": null,
            "object_fit": null,
            "object_position": null,
            "order": null,
            "overflow": null,
            "overflow_x": null,
            "overflow_y": null,
            "padding": null,
            "right": null,
            "top": null,
            "visibility": null,
            "width": null
          }
        },
        "bd78e50ce8b94488be9d1f1915b9ee06": {
          "model_module": "@jupyter-widgets/controls",
          "model_name": "VBoxModel",
          "model_module_version": "1.5.0",
          "state": {
            "_dom_classes": [
              "widget-interact"
            ],
            "_model_module": "@jupyter-widgets/controls",
            "_model_module_version": "1.5.0",
            "_model_name": "VBoxModel",
            "_view_count": null,
            "_view_module": "@jupyter-widgets/controls",
            "_view_module_version": "1.5.0",
            "_view_name": "VBoxView",
            "box_style": "",
            "children": [
              "IPY_MODEL_ca7f47eba9e441978354558469fcf0a8"
            ],
            "layout": "IPY_MODEL_1bc394142d77452aa125c6682acc279f"
          }
        },
        "fb0412dd75b945169fe19c168fb13349": {
          "model_module": "@jupyter-widgets/controls",
          "model_name": "SelectModel",
          "model_module_version": "1.5.0",
          "state": {
            "_dom_classes": [],
            "_model_module": "@jupyter-widgets/controls",
            "_model_module_version": "1.5.0",
            "_model_name": "SelectModel",
            "_options_labels": [
              "USA",
              "Russia"
            ],
            "_view_count": null,
            "_view_module": "@jupyter-widgets/controls",
            "_view_module_version": "1.5.0",
            "_view_name": "SelectView",
            "description": "country",
            "description_tooltip": null,
            "disabled": false,
            "index": 1,
            "layout": "IPY_MODEL_86ac71daab9c40cca549d90af9a0336c",
            "rows": 5,
            "style": "IPY_MODEL_338c66399d364325a521708034ee1725"
          }
        },
        "5e8311b739504caa96db81a55244798d": {
          "model_module": "@jupyter-widgets/controls",
          "model_name": "SelectModel",
          "model_module_version": "1.5.0",
          "state": {
            "_dom_classes": [],
            "_model_module": "@jupyter-widgets/controls",
            "_model_module_version": "1.5.0",
            "_model_name": "SelectModel",
            "_options_labels": [
              "CHI",
              "NYC"
            ],
            "_view_count": null,
            "_view_module": "@jupyter-widgets/controls",
            "_view_module_version": "1.5.0",
            "_view_name": "SelectView",
            "description": "city",
            "description_tooltip": null,
            "disabled": false,
            "index": 0,
            "layout": "IPY_MODEL_3cd1a110c36741ffaafc094da92c5a5f",
            "rows": 5,
            "style": "IPY_MODEL_21663d4e59cd427f8dac44a42c438570"
          }
        },
        "ffb40a1f21ba44e1b00efdb036fa306a": {
          "model_module": "@jupyter-widgets/output",
          "model_name": "OutputModel",
          "model_module_version": "1.0.0",
          "state": {
            "_dom_classes": [],
            "_model_module": "@jupyter-widgets/output",
            "_model_module_version": "1.0.0",
            "_model_name": "OutputModel",
            "_view_count": null,
            "_view_module": "@jupyter-widgets/output",
            "_view_module_version": "1.0.0",
            "_view_name": "OutputView",
            "layout": "IPY_MODEL_c74d2ced97134c488cf0bc419a051180",
            "msg_id": "",
            "outputs": [
              {
                "output_type": "stream",
                "name": "stdout",
                "text": [
                  "func_kwargs {'country': 'Russia', 'city': 'CHI'}\n",
                  "i.kwargs {'country': 'Russia', 'city': 'CHI'}\n",
                  "get_current_state {'country': 'Russia', 'city': 'LED'}\n"
                ]
              }
            ]
          }
        },
        "1bc394142d77452aa125c6682acc279f": {
          "model_module": "@jupyter-widgets/base",
          "model_name": "LayoutModel",
          "model_module_version": "1.2.0",
          "state": {
            "_model_module": "@jupyter-widgets/base",
            "_model_module_version": "1.2.0",
            "_model_name": "LayoutModel",
            "_view_count": null,
            "_view_module": "@jupyter-widgets/base",
            "_view_module_version": "1.2.0",
            "_view_name": "LayoutView",
            "align_content": null,
            "align_items": null,
            "align_self": null,
            "border": null,
            "bottom": null,
            "display": null,
            "flex": null,
            "flex_flow": null,
            "grid_area": null,
            "grid_auto_columns": null,
            "grid_auto_flow": null,
            "grid_auto_rows": null,
            "grid_column": null,
            "grid_gap": null,
            "grid_row": null,
            "grid_template_areas": null,
            "grid_template_columns": null,
            "grid_template_rows": null,
            "height": null,
            "justify_content": null,
            "justify_items": null,
            "left": null,
            "margin": null,
            "max_height": null,
            "max_width": null,
            "min_height": null,
            "min_width": null,
            "object_fit": null,
            "object_position": null,
            "order": null,
            "overflow": null,
            "overflow_x": null,
            "overflow_y": null,
            "padding": null,
            "right": null,
            "top": null,
            "visibility": null,
            "width": null
          }
        },
        "86ac71daab9c40cca549d90af9a0336c": {
          "model_module": "@jupyter-widgets/base",
          "model_name": "LayoutModel",
          "model_module_version": "1.2.0",
          "state": {
            "_model_module": "@jupyter-widgets/base",
            "_model_module_version": "1.2.0",
            "_model_name": "LayoutModel",
            "_view_count": null,
            "_view_module": "@jupyter-widgets/base",
            "_view_module_version": "1.2.0",
            "_view_name": "LayoutView",
            "align_content": null,
            "align_items": null,
            "align_self": null,
            "border": null,
            "bottom": null,
            "display": null,
            "flex": null,
            "flex_flow": null,
            "grid_area": null,
            "grid_auto_columns": null,
            "grid_auto_flow": null,
            "grid_auto_rows": null,
            "grid_column": null,
            "grid_gap": null,
            "grid_row": null,
            "grid_template_areas": null,
            "grid_template_columns": null,
            "grid_template_rows": null,
            "height": null,
            "justify_content": null,
            "justify_items": null,
            "left": null,
            "margin": null,
            "max_height": null,
            "max_width": null,
            "min_height": null,
            "min_width": null,
            "object_fit": null,
            "object_position": null,
            "order": null,
            "overflow": null,
            "overflow_x": null,
            "overflow_y": null,
            "padding": null,
            "right": null,
            "top": null,
            "visibility": null,
            "width": null
          }
        },
        "338c66399d364325a521708034ee1725": {
          "model_module": "@jupyter-widgets/controls",
          "model_name": "DescriptionStyleModel",
          "model_module_version": "1.5.0",
          "state": {
            "_model_module": "@jupyter-widgets/controls",
            "_model_module_version": "1.5.0",
            "_model_name": "DescriptionStyleModel",
            "_view_count": null,
            "_view_module": "@jupyter-widgets/base",
            "_view_module_version": "1.2.0",
            "_view_name": "StyleView",
            "description_width": ""
          }
        },
        "3cd1a110c36741ffaafc094da92c5a5f": {
          "model_module": "@jupyter-widgets/base",
          "model_name": "LayoutModel",
          "model_module_version": "1.2.0",
          "state": {
            "_model_module": "@jupyter-widgets/base",
            "_model_module_version": "1.2.0",
            "_model_name": "LayoutModel",
            "_view_count": null,
            "_view_module": "@jupyter-widgets/base",
            "_view_module_version": "1.2.0",
            "_view_name": "LayoutView",
            "align_content": null,
            "align_items": null,
            "align_self": null,
            "border": null,
            "bottom": null,
            "display": null,
            "flex": null,
            "flex_flow": null,
            "grid_area": null,
            "grid_auto_columns": null,
            "grid_auto_flow": null,
            "grid_auto_rows": null,
            "grid_column": null,
            "grid_gap": null,
            "grid_row": null,
            "grid_template_areas": null,
            "grid_template_columns": null,
            "grid_template_rows": null,
            "height": null,
            "justify_content": null,
            "justify_items": null,
            "left": null,
            "margin": null,
            "max_height": null,
            "max_width": null,
            "min_height": null,
            "min_width": null,
            "object_fit": null,
            "object_position": null,
            "order": null,
            "overflow": null,
            "overflow_x": null,
            "overflow_y": null,
            "padding": null,
            "right": null,
            "top": null,
            "visibility": null,
            "width": null
          }
        },
        "21663d4e59cd427f8dac44a42c438570": {
          "model_module": "@jupyter-widgets/controls",
          "model_name": "DescriptionStyleModel",
          "model_module_version": "1.5.0",
          "state": {
            "_model_module": "@jupyter-widgets/controls",
            "_model_module_version": "1.5.0",
            "_model_name": "DescriptionStyleModel",
            "_view_count": null,
            "_view_module": "@jupyter-widgets/base",
            "_view_module_version": "1.2.0",
            "_view_name": "StyleView",
            "description_width": ""
          }
        },
        "c74d2ced97134c488cf0bc419a051180": {
          "model_module": "@jupyter-widgets/base",
          "model_name": "LayoutModel",
          "model_module_version": "1.2.0",
          "state": {
            "_model_module": "@jupyter-widgets/base",
            "_model_module_version": "1.2.0",
            "_model_name": "LayoutModel",
            "_view_count": null,
            "_view_module": "@jupyter-widgets/base",
            "_view_module_version": "1.2.0",
            "_view_name": "LayoutView",
            "align_content": null,
            "align_items": null,
            "align_self": null,
            "border": null,
            "bottom": null,
            "display": null,
            "flex": null,
            "flex_flow": null,
            "grid_area": null,
            "grid_auto_columns": null,
            "grid_auto_flow": null,
            "grid_auto_rows": null,
            "grid_column": null,
            "grid_gap": null,
            "grid_row": null,
            "grid_template_areas": null,
            "grid_template_columns": null,
            "grid_template_rows": null,
            "height": null,
            "justify_content": null,
            "justify_items": null,
            "left": null,
            "margin": null,
            "max_height": null,
            "max_width": null,
            "min_height": null,
            "min_width": null,
            "object_fit": null,
            "object_position": null,
            "order": null,
            "overflow": null,
            "overflow_x": null,
            "overflow_y": null,
            "padding": null,
            "right": null,
            "top": null,
            "visibility": null,
            "width": null
          }
        },
        "3db2bf48498f47d181e2045056394c07": {
          "model_module": "@jupyter-widgets/controls",
          "model_name": "SelectModel",
          "model_module_version": "1.5.0",
          "state": {
            "_dom_classes": [],
            "_model_module": "@jupyter-widgets/controls",
            "_model_module_version": "1.5.0",
            "_model_name": "SelectModel",
            "_options_labels": [
              "MOW",
              "LED"
            ],
            "_view_count": null,
            "_view_module": "@jupyter-widgets/controls",
            "_view_module_version": "1.5.0",
            "_view_name": "SelectView",
            "description": "city",
            "description_tooltip": null,
            "disabled": false,
            "index": 1,
            "layout": "IPY_MODEL_cfa4267f21ee4c968599088559b1dad3",
            "rows": 5,
            "style": "IPY_MODEL_36dfd64e34a44ad2857af8b5fbda2b67"
          }
        },
        "31b934973e9c4ed89aa0e4354fe3a244": {
          "model_module": "@jupyter-widgets/output",
          "model_name": "OutputModel",
          "model_module_version": "1.0.0",
          "state": {
            "_dom_classes": [],
            "_model_module": "@jupyter-widgets/output",
            "_model_module_version": "1.0.0",
            "_model_name": "OutputModel",
            "_view_count": null,
            "_view_module": "@jupyter-widgets/output",
            "_view_module_version": "1.0.0",
            "_view_name": "OutputView",
            "layout": "IPY_MODEL_288f77f9a9cb4f12a96a353ca017ca5c",
            "msg_id": "",
            "outputs": [
              {
                "output_type": "stream",
                "name": "stdout",
                "text": [
                  "func_kwargs {'country': 'Russia', 'city': 'LED'}\n",
                  "i.kwargs {'country': 'Russia', 'city': 'CHI'}\n",
                  "get_current_state {'country': 'Russia', 'city': 'LED'}\n"
                ]
              }
            ]
          }
        },
        "cfa4267f21ee4c968599088559b1dad3": {
          "model_module": "@jupyter-widgets/base",
          "model_name": "LayoutModel",
          "model_module_version": "1.2.0",
          "state": {
            "_model_module": "@jupyter-widgets/base",
            "_model_module_version": "1.2.0",
            "_model_name": "LayoutModel",
            "_view_count": null,
            "_view_module": "@jupyter-widgets/base",
            "_view_module_version": "1.2.0",
            "_view_name": "LayoutView",
            "align_content": null,
            "align_items": null,
            "align_self": null,
            "border": null,
            "bottom": null,
            "display": null,
            "flex": null,
            "flex_flow": null,
            "grid_area": null,
            "grid_auto_columns": null,
            "grid_auto_flow": null,
            "grid_auto_rows": null,
            "grid_column": null,
            "grid_gap": null,
            "grid_row": null,
            "grid_template_areas": null,
            "grid_template_columns": null,
            "grid_template_rows": null,
            "height": null,
            "justify_content": null,
            "justify_items": null,
            "left": null,
            "margin": null,
            "max_height": null,
            "max_width": null,
            "min_height": null,
            "min_width": null,
            "object_fit": null,
            "object_position": null,
            "order": null,
            "overflow": null,
            "overflow_x": null,
            "overflow_y": null,
            "padding": null,
            "right": null,
            "top": null,
            "visibility": null,
            "width": null
          }
        },
        "36dfd64e34a44ad2857af8b5fbda2b67": {
          "model_module": "@jupyter-widgets/controls",
          "model_name": "DescriptionStyleModel",
          "model_module_version": "1.5.0",
          "state": {
            "_model_module": "@jupyter-widgets/controls",
            "_model_module_version": "1.5.0",
            "_model_name": "DescriptionStyleModel",
            "_view_count": null,
            "_view_module": "@jupyter-widgets/base",
            "_view_module_version": "1.2.0",
            "_view_name": "StyleView",
            "description_width": ""
          }
        },
        "288f77f9a9cb4f12a96a353ca017ca5c": {
          "model_module": "@jupyter-widgets/base",
          "model_name": "LayoutModel",
          "model_module_version": "1.2.0",
          "state": {
            "_model_module": "@jupyter-widgets/base",
            "_model_module_version": "1.2.0",
            "_model_name": "LayoutModel",
            "_view_count": null,
            "_view_module": "@jupyter-widgets/base",
            "_view_module_version": "1.2.0",
            "_view_name": "LayoutView",
            "align_content": null,
            "align_items": null,
            "align_self": null,
            "border": null,
            "bottom": null,
            "display": null,
            "flex": null,
            "flex_flow": null,
            "grid_area": null,
            "grid_auto_columns": null,
            "grid_auto_flow": null,
            "grid_auto_rows": null,
            "grid_column": null,
            "grid_gap": null,
            "grid_row": null,
            "grid_template_areas": null,
            "grid_template_columns": null,
            "grid_template_rows": null,
            "height": null,
            "justify_content": null,
            "justify_items": null,
            "left": null,
            "margin": null,
            "max_height": null,
            "max_width": null,
            "min_height": null,
            "min_width": null,
            "object_fit": null,
            "object_position": null,
            "order": null,
            "overflow": null,
            "overflow_x": null,
            "overflow_y": null,
            "padding": null,
            "right": null,
            "top": null,
            "visibility": null,
            "width": null
          }
        },
        "1ce837bef933437f9b2a589b4f939543": {
          "model_module": "@jupyter-widgets/output",
          "model_name": "OutputModel",
          "model_module_version": "1.0.0",
          "state": {
            "_dom_classes": [],
            "_model_module": "@jupyter-widgets/output",
            "_model_module_version": "1.0.0",
            "_model_name": "OutputModel",
            "_view_count": null,
            "_view_module": "@jupyter-widgets/output",
            "_view_module_version": "1.0.0",
            "_view_name": "OutputView",
            "layout": "IPY_MODEL_13c1a5e957ed42c4915816a0f0e9b318",
            "msg_id": "",
            "outputs": []
          }
        },
        "13c1a5e957ed42c4915816a0f0e9b318": {
          "model_module": "@jupyter-widgets/base",
          "model_name": "LayoutModel",
          "model_module_version": "1.2.0",
          "state": {
            "_model_module": "@jupyter-widgets/base",
            "_model_module_version": "1.2.0",
            "_model_name": "LayoutModel",
            "_view_count": null,
            "_view_module": "@jupyter-widgets/base",
            "_view_module_version": "1.2.0",
            "_view_name": "LayoutView",
            "align_content": null,
            "align_items": null,
            "align_self": null,
            "border": null,
            "bottom": null,
            "display": null,
            "flex": null,
            "flex_flow": null,
            "grid_area": null,
            "grid_auto_columns": null,
            "grid_auto_flow": null,
            "grid_auto_rows": null,
            "grid_column": null,
            "grid_gap": null,
            "grid_row": null,
            "grid_template_areas": null,
            "grid_template_columns": null,
            "grid_template_rows": null,
            "height": null,
            "justify_content": null,
            "justify_items": null,
            "left": null,
            "margin": null,
            "max_height": null,
            "max_width": null,
            "min_height": null,
            "min_width": null,
            "object_fit": null,
            "object_position": null,
            "order": null,
            "overflow": null,
            "overflow_x": null,
            "overflow_y": null,
            "padding": null,
            "right": null,
            "top": null,
            "visibility": null,
            "width": null
          }
        },
        "cafd9515897643469e467d04aced6383": {
          "model_module": "@jupyter-widgets/output",
          "model_name": "OutputModel",
          "model_module_version": "1.0.0",
          "state": {
            "_dom_classes": [],
            "_model_module": "@jupyter-widgets/output",
            "_model_module_version": "1.0.0",
            "_model_name": "OutputModel",
            "_view_count": null,
            "_view_module": "@jupyter-widgets/output",
            "_view_module_version": "1.0.0",
            "_view_name": "OutputView",
            "layout": "IPY_MODEL_01a7e98eb329483dbdcabc2aba222273",
            "msg_id": "",
            "outputs": []
          }
        },
        "01a7e98eb329483dbdcabc2aba222273": {
          "model_module": "@jupyter-widgets/base",
          "model_name": "LayoutModel",
          "model_module_version": "1.2.0",
          "state": {
            "_model_module": "@jupyter-widgets/base",
            "_model_module_version": "1.2.0",
            "_model_name": "LayoutModel",
            "_view_count": null,
            "_view_module": "@jupyter-widgets/base",
            "_view_module_version": "1.2.0",
            "_view_name": "LayoutView",
            "align_content": null,
            "align_items": null,
            "align_self": null,
            "border": null,
            "bottom": null,
            "display": null,
            "flex": null,
            "flex_flow": null,
            "grid_area": null,
            "grid_auto_columns": null,
            "grid_auto_flow": null,
            "grid_auto_rows": null,
            "grid_column": null,
            "grid_gap": null,
            "grid_row": null,
            "grid_template_areas": null,
            "grid_template_columns": null,
            "grid_template_rows": null,
            "height": null,
            "justify_content": null,
            "justify_items": null,
            "left": null,
            "margin": null,
            "max_height": null,
            "max_width": null,
            "min_height": null,
            "min_width": null,
            "object_fit": null,
            "object_position": null,
            "order": null,
            "overflow": null,
            "overflow_x": null,
            "overflow_y": null,
            "padding": null,
            "right": null,
            "top": null,
            "visibility": null,
            "width": null
          }
        },
        "ca7f47eba9e441978354558469fcf0a8": {
          "model_module": "@jupyter-widgets/output",
          "model_name": "OutputModel",
          "model_module_version": "1.0.0",
          "state": {
            "_dom_classes": [],
            "_model_module": "@jupyter-widgets/output",
            "_model_module_version": "1.0.0",
            "_model_name": "OutputModel",
            "_view_count": null,
            "_view_module": "@jupyter-widgets/output",
            "_view_module_version": "1.0.0",
            "_view_name": "OutputView",
            "layout": "IPY_MODEL_94acb097e4d74f34be124aab87503184",
            "msg_id": "",
            "outputs": []
          }
        },
        "94acb097e4d74f34be124aab87503184": {
          "model_module": "@jupyter-widgets/base",
          "model_name": "LayoutModel",
          "model_module_version": "1.2.0",
          "state": {
            "_model_module": "@jupyter-widgets/base",
            "_model_module_version": "1.2.0",
            "_model_name": "LayoutModel",
            "_view_count": null,
            "_view_module": "@jupyter-widgets/base",
            "_view_module_version": "1.2.0",
            "_view_name": "LayoutView",
            "align_content": null,
            "align_items": null,
            "align_self": null,
            "border": null,
            "bottom": null,
            "display": null,
            "flex": null,
            "flex_flow": null,
            "grid_area": null,
            "grid_auto_columns": null,
            "grid_auto_flow": null,
            "grid_auto_rows": null,
            "grid_column": null,
            "grid_gap": null,
            "grid_row": null,
            "grid_template_areas": null,
            "grid_template_columns": null,
            "grid_template_rows": null,
            "height": null,
            "justify_content": null,
            "justify_items": null,
            "left": null,
            "margin": null,
            "max_height": null,
            "max_width": null,
            "min_height": null,
            "min_width": null,
            "object_fit": null,
            "object_position": null,
            "order": null,
            "overflow": null,
            "overflow_x": null,
            "overflow_y": null,
            "padding": null,
            "right": null,
            "top": null,
            "visibility": null,
            "width": null
          }
        },
        "fbfcdefcfde84ec5b0ccfb5e9c78c0f2": {
          "model_module": "@jupyter-widgets/controls",
          "model_name": "LabelModel",
          "model_module_version": "1.5.0",
          "state": {
            "_dom_classes": [],
            "_model_module": "@jupyter-widgets/controls",
            "_model_module_version": "1.5.0",
            "_model_name": "LabelModel",
            "_view_count": null,
            "_view_module": "@jupyter-widgets/controls",
            "_view_module_version": "1.5.0",
            "_view_name": "LabelView",
            "description": "",
            "description_tooltip": null,
            "layout": "IPY_MODEL_555dddce1961499abd730902b310d887",
            "placeholder": "​",
            "style": "IPY_MODEL_e760261d3c9448fda8831238344dd23c",
            "value": "The slider value is nonnegative"
          }
        },
        "555dddce1961499abd730902b310d887": {
          "model_module": "@jupyter-widgets/base",
          "model_name": "LayoutModel",
          "model_module_version": "1.2.0",
          "state": {
            "_model_module": "@jupyter-widgets/base",
            "_model_module_version": "1.2.0",
            "_model_name": "LayoutModel",
            "_view_count": null,
            "_view_module": "@jupyter-widgets/base",
            "_view_module_version": "1.2.0",
            "_view_name": "LayoutView",
            "align_content": null,
            "align_items": null,
            "align_self": null,
            "border": null,
            "bottom": null,
            "display": null,
            "flex": null,
            "flex_flow": null,
            "grid_area": null,
            "grid_auto_columns": null,
            "grid_auto_flow": null,
            "grid_auto_rows": null,
            "grid_column": null,
            "grid_gap": null,
            "grid_row": null,
            "grid_template_areas": null,
            "grid_template_columns": null,
            "grid_template_rows": null,
            "height": null,
            "justify_content": null,
            "justify_items": null,
            "left": null,
            "margin": null,
            "max_height": null,
            "max_width": null,
            "min_height": null,
            "min_width": null,
            "object_fit": null,
            "object_position": null,
            "order": null,
            "overflow": null,
            "overflow_x": null,
            "overflow_y": null,
            "padding": null,
            "right": null,
            "top": null,
            "visibility": null,
            "width": null
          }
        },
        "e760261d3c9448fda8831238344dd23c": {
          "model_module": "@jupyter-widgets/controls",
          "model_name": "DescriptionStyleModel",
          "model_module_version": "1.5.0",
          "state": {
            "_model_module": "@jupyter-widgets/controls",
            "_model_module_version": "1.5.0",
            "_model_name": "DescriptionStyleModel",
            "_view_count": null,
            "_view_module": "@jupyter-widgets/base",
            "_view_module_version": "1.2.0",
            "_view_name": "StyleView",
            "description_width": ""
          }
        },
        "6d0260543b574831bfcee7cdf1316fad": {
          "model_module": "@jupyter-widgets/controls",
          "model_name": "IntSliderModel",
          "model_module_version": "1.5.0",
          "state": {
            "_dom_classes": [],
            "_model_module": "@jupyter-widgets/controls",
            "_model_module_version": "1.5.0",
            "_model_name": "IntSliderModel",
            "_view_count": null,
            "_view_module": "@jupyter-widgets/controls",
            "_view_module_version": "1.5.0",
            "_view_name": "IntSliderView",
            "continuous_update": true,
            "description": "Slider",
            "description_tooltip": null,
            "disabled": false,
            "layout": "IPY_MODEL_89a59f15eeb0448997fb6a6c50fc22b5",
            "max": 5,
            "min": -5,
            "orientation": "horizontal",
            "readout": true,
            "readout_format": "d",
            "step": 1,
            "style": "IPY_MODEL_9e004b387fd74951bdb1336053c5f35c",
            "value": 0
          }
        },
        "89a59f15eeb0448997fb6a6c50fc22b5": {
          "model_module": "@jupyter-widgets/base",
          "model_name": "LayoutModel",
          "model_module_version": "1.2.0",
          "state": {
            "_model_module": "@jupyter-widgets/base",
            "_model_module_version": "1.2.0",
            "_model_name": "LayoutModel",
            "_view_count": null,
            "_view_module": "@jupyter-widgets/base",
            "_view_module_version": "1.2.0",
            "_view_name": "LayoutView",
            "align_content": null,
            "align_items": null,
            "align_self": null,
            "border": null,
            "bottom": null,
            "display": null,
            "flex": null,
            "flex_flow": null,
            "grid_area": null,
            "grid_auto_columns": null,
            "grid_auto_flow": null,
            "grid_auto_rows": null,
            "grid_column": null,
            "grid_gap": null,
            "grid_row": null,
            "grid_template_areas": null,
            "grid_template_columns": null,
            "grid_template_rows": null,
            "height": null,
            "justify_content": null,
            "justify_items": null,
            "left": null,
            "margin": null,
            "max_height": null,
            "max_width": null,
            "min_height": null,
            "min_width": null,
            "object_fit": null,
            "object_position": null,
            "order": null,
            "overflow": null,
            "overflow_x": null,
            "overflow_y": null,
            "padding": null,
            "right": null,
            "top": null,
            "visibility": null,
            "width": null
          }
        },
        "9e004b387fd74951bdb1336053c5f35c": {
          "model_module": "@jupyter-widgets/controls",
          "model_name": "SliderStyleModel",
          "model_module_version": "1.5.0",
          "state": {
            "_model_module": "@jupyter-widgets/controls",
            "_model_module_version": "1.5.0",
            "_model_name": "SliderStyleModel",
            "_view_count": null,
            "_view_module": "@jupyter-widgets/base",
            "_view_module_version": "1.2.0",
            "_view_name": "StyleView",
            "description_width": "",
            "handle_color": null
          }
        },
        "aa67d7d9e2f14a15a602273f88e8a59a": {
          "model_module": "@jupyter-widgets/controls",
          "model_name": "VBoxModel",
          "model_module_version": "1.5.0",
          "state": {
            "_dom_classes": [
              "widget-interact"
            ],
            "_model_module": "@jupyter-widgets/controls",
            "_model_module_version": "1.5.0",
            "_model_name": "VBoxModel",
            "_view_count": null,
            "_view_module": "@jupyter-widgets/controls",
            "_view_module_version": "1.5.0",
            "_view_name": "VBoxView",
            "box_style": "",
            "children": [
              "IPY_MODEL_193f7e536e26439ebdbc40bae7bd844c",
              "IPY_MODEL_192373d3b3354ea1a770a37fabdafcfd"
            ],
            "layout": "IPY_MODEL_5f870c23022d4477b9b85d8cfb24b54f"
          }
        },
        "193f7e536e26439ebdbc40bae7bd844c": {
          "model_module": "@jupyter-widgets/controls",
          "model_name": "DropdownModel",
          "model_module_version": "1.5.0",
          "state": {
            "_dom_classes": [],
            "_model_module": "@jupyter-widgets/controls",
            "_model_module_version": "1.5.0",
            "_model_name": "DropdownModel",
            "_options_labels": [
              "0.jpg",
              "1.jpg"
            ],
            "_view_count": null,
            "_view_module": "@jupyter-widgets/controls",
            "_view_module_version": "1.5.0",
            "_view_name": "DropdownView",
            "description": "file",
            "description_tooltip": null,
            "disabled": false,
            "index": 0,
            "layout": "IPY_MODEL_64d982b18a1b4955b444ad24ee50b27a",
            "style": "IPY_MODEL_793e8e8bac2b4c92828957cc04ea2f4a"
          }
        },
        "192373d3b3354ea1a770a37fabdafcfd": {
          "model_module": "@jupyter-widgets/output",
          "model_name": "OutputModel",
          "model_module_version": "1.0.0",
          "state": {
            "_dom_classes": [],
            "_model_module": "@jupyter-widgets/output",
            "_model_module_version": "1.0.0",
            "_model_name": "OutputModel",
            "_view_count": null,
            "_view_module": "@jupyter-widgets/output",
            "_view_module_version": "1.0.0",
            "_view_name": "OutputView",
            "layout": "IPY_MODEL_f9d0d50d96b94da88cca35a9bbeac247",
            "msg_id": "",
            "outputs": [
              {
                "output_type": "stream",
                "name": "stdout",
                "text": [
                  "/content/BiLRP_explain_similarity/data/0.jpg\n"
                ]
              },
              {
                "output_type": "error",
                "ename": "TypeError",
                "evalue": "ignored",
                "traceback": [
                  "\u001b[0;31m---------------------------------------------------------------------------\u001b[0m",
                  "\u001b[0;31mTypeError\u001b[0m                                 Traceback (most recent call last)",
                  "\u001b[0;32m/usr/local/lib/python3.7/dist-packages/ipywidgets/widgets/interaction.py\u001b[0m in \u001b[0;36mupdate\u001b[0;34m(self, *args)\u001b[0m\n\u001b[1;32m    255\u001b[0m                     \u001b[0mvalue\u001b[0m \u001b[0;34m=\u001b[0m \u001b[0mwidget\u001b[0m\u001b[0;34m.\u001b[0m\u001b[0mget_interact_value\u001b[0m\u001b[0;34m(\u001b[0m\u001b[0;34m)\u001b[0m\u001b[0;34m\u001b[0m\u001b[0;34m\u001b[0m\u001b[0m\n\u001b[1;32m    256\u001b[0m                     \u001b[0mself\u001b[0m\u001b[0;34m.\u001b[0m\u001b[0mkwargs\u001b[0m\u001b[0;34m[\u001b[0m\u001b[0mwidget\u001b[0m\u001b[0;34m.\u001b[0m\u001b[0m_kwarg\u001b[0m\u001b[0;34m]\u001b[0m \u001b[0;34m=\u001b[0m \u001b[0mvalue\u001b[0m\u001b[0;34m\u001b[0m\u001b[0;34m\u001b[0m\u001b[0m\n\u001b[0;32m--> 257\u001b[0;31m                 \u001b[0mself\u001b[0m\u001b[0;34m.\u001b[0m\u001b[0mresult\u001b[0m \u001b[0;34m=\u001b[0m \u001b[0mself\u001b[0m\u001b[0;34m.\u001b[0m\u001b[0mf\u001b[0m\u001b[0;34m(\u001b[0m\u001b[0;34m**\u001b[0m\u001b[0mself\u001b[0m\u001b[0;34m.\u001b[0m\u001b[0mkwargs\u001b[0m\u001b[0;34m)\u001b[0m\u001b[0;34m\u001b[0m\u001b[0;34m\u001b[0m\u001b[0m\n\u001b[0m\u001b[1;32m    258\u001b[0m                 \u001b[0mshow_inline_matplotlib_plots\u001b[0m\u001b[0;34m(\u001b[0m\u001b[0;34m)\u001b[0m\u001b[0;34m\u001b[0m\u001b[0;34m\u001b[0m\u001b[0m\n\u001b[1;32m    259\u001b[0m                 \u001b[0;32mif\u001b[0m \u001b[0mself\u001b[0m\u001b[0;34m.\u001b[0m\u001b[0mauto_display\u001b[0m \u001b[0;32mand\u001b[0m \u001b[0mself\u001b[0m\u001b[0;34m.\u001b[0m\u001b[0mresult\u001b[0m \u001b[0;32mis\u001b[0m \u001b[0;32mnot\u001b[0m \u001b[0;32mNone\u001b[0m\u001b[0;34m:\u001b[0m\u001b[0;34m\u001b[0m\u001b[0;34m\u001b[0m\u001b[0m\n",
                  "\u001b[0;32m<ipython-input-90-e09d87e4eca3>\u001b[0m in \u001b[0;36mimage1_\u001b[0;34m(file)\u001b[0m\n\u001b[1;32m      5\u001b[0m     \u001b[0mprint\u001b[0m\u001b[0;34m(\u001b[0m\u001b[0mfdir\u001b[0m\u001b[0;34m+\u001b[0m\u001b[0mfile\u001b[0m\u001b[0;34m)\u001b[0m\u001b[0;34m\u001b[0m\u001b[0;34m\u001b[0m\u001b[0m\n\u001b[1;32m      6\u001b[0m     \u001b[0mimg1\u001b[0m \u001b[0;34m=\u001b[0m \u001b[0mfdir\u001b[0m\u001b[0;34m+\u001b[0m\u001b[0mfile\u001b[0m\u001b[0;34m\u001b[0m\u001b[0;34m\u001b[0m\u001b[0m\n\u001b[0;32m----> 7\u001b[0;31m     \u001b[0;32mreturn\u001b[0m  \u001b[0mdisplay\u001b[0m\u001b[0;34m(\u001b[0m\u001b[0mImage\u001b[0m\u001b[0;34m(\u001b[0m\u001b[0mimg1\u001b[0m\u001b[0;34m)\u001b[0m\u001b[0;34m)\u001b[0m\u001b[0;34m\u001b[0m\u001b[0;34m\u001b[0m\u001b[0m\n\u001b[0m",
                  "\u001b[0;31mTypeError\u001b[0m: 'module' object is not callable"
                ]
              }
            ]
          }
        },
        "5f870c23022d4477b9b85d8cfb24b54f": {
          "model_module": "@jupyter-widgets/base",
          "model_name": "LayoutModel",
          "model_module_version": "1.2.0",
          "state": {
            "_model_module": "@jupyter-widgets/base",
            "_model_module_version": "1.2.0",
            "_model_name": "LayoutModel",
            "_view_count": null,
            "_view_module": "@jupyter-widgets/base",
            "_view_module_version": "1.2.0",
            "_view_name": "LayoutView",
            "align_content": null,
            "align_items": null,
            "align_self": null,
            "border": null,
            "bottom": null,
            "display": null,
            "flex": null,
            "flex_flow": null,
            "grid_area": null,
            "grid_auto_columns": null,
            "grid_auto_flow": null,
            "grid_auto_rows": null,
            "grid_column": null,
            "grid_gap": null,
            "grid_row": null,
            "grid_template_areas": null,
            "grid_template_columns": null,
            "grid_template_rows": null,
            "height": null,
            "justify_content": null,
            "justify_items": null,
            "left": null,
            "margin": null,
            "max_height": null,
            "max_width": null,
            "min_height": null,
            "min_width": null,
            "object_fit": null,
            "object_position": null,
            "order": null,
            "overflow": null,
            "overflow_x": null,
            "overflow_y": null,
            "padding": null,
            "right": null,
            "top": null,
            "visibility": null,
            "width": null
          }
        },
        "64d982b18a1b4955b444ad24ee50b27a": {
          "model_module": "@jupyter-widgets/base",
          "model_name": "LayoutModel",
          "model_module_version": "1.2.0",
          "state": {
            "_model_module": "@jupyter-widgets/base",
            "_model_module_version": "1.2.0",
            "_model_name": "LayoutModel",
            "_view_count": null,
            "_view_module": "@jupyter-widgets/base",
            "_view_module_version": "1.2.0",
            "_view_name": "LayoutView",
            "align_content": null,
            "align_items": null,
            "align_self": null,
            "border": null,
            "bottom": null,
            "display": null,
            "flex": null,
            "flex_flow": null,
            "grid_area": null,
            "grid_auto_columns": null,
            "grid_auto_flow": null,
            "grid_auto_rows": null,
            "grid_column": null,
            "grid_gap": null,
            "grid_row": null,
            "grid_template_areas": null,
            "grid_template_columns": null,
            "grid_template_rows": null,
            "height": null,
            "justify_content": null,
            "justify_items": null,
            "left": null,
            "margin": null,
            "max_height": null,
            "max_width": null,
            "min_height": null,
            "min_width": null,
            "object_fit": null,
            "object_position": null,
            "order": null,
            "overflow": null,
            "overflow_x": null,
            "overflow_y": null,
            "padding": null,
            "right": null,
            "top": null,
            "visibility": null,
            "width": null
          }
        },
        "793e8e8bac2b4c92828957cc04ea2f4a": {
          "model_module": "@jupyter-widgets/controls",
          "model_name": "DescriptionStyleModel",
          "model_module_version": "1.5.0",
          "state": {
            "_model_module": "@jupyter-widgets/controls",
            "_model_module_version": "1.5.0",
            "_model_name": "DescriptionStyleModel",
            "_view_count": null,
            "_view_module": "@jupyter-widgets/base",
            "_view_module_version": "1.2.0",
            "_view_name": "StyleView",
            "description_width": ""
          }
        },
        "f9d0d50d96b94da88cca35a9bbeac247": {
          "model_module": "@jupyter-widgets/base",
          "model_name": "LayoutModel",
          "model_module_version": "1.2.0",
          "state": {
            "_model_module": "@jupyter-widgets/base",
            "_model_module_version": "1.2.0",
            "_model_name": "LayoutModel",
            "_view_count": null,
            "_view_module": "@jupyter-widgets/base",
            "_view_module_version": "1.2.0",
            "_view_name": "LayoutView",
            "align_content": null,
            "align_items": null,
            "align_self": null,
            "border": null,
            "bottom": null,
            "display": null,
            "flex": null,
            "flex_flow": null,
            "grid_area": null,
            "grid_auto_columns": null,
            "grid_auto_flow": null,
            "grid_auto_rows": null,
            "grid_column": null,
            "grid_gap": null,
            "grid_row": null,
            "grid_template_areas": null,
            "grid_template_columns": null,
            "grid_template_rows": null,
            "height": null,
            "justify_content": null,
            "justify_items": null,
            "left": null,
            "margin": null,
            "max_height": null,
            "max_width": null,
            "min_height": null,
            "min_width": null,
            "object_fit": null,
            "object_position": null,
            "order": null,
            "overflow": null,
            "overflow_x": null,
            "overflow_y": null,
            "padding": null,
            "right": null,
            "top": null,
            "visibility": null,
            "width": null
          }
        },
        "eef5346407e14afd8048df795107c6ef": {
          "model_module": "@jupyter-widgets/controls",
          "model_name": "VBoxModel",
          "model_module_version": "1.5.0",
          "state": {
            "_dom_classes": [
              "widget-interact"
            ],
            "_model_module": "@jupyter-widgets/controls",
            "_model_module_version": "1.5.0",
            "_model_name": "VBoxModel",
            "_view_count": null,
            "_view_module": "@jupyter-widgets/controls",
            "_view_module_version": "1.5.0",
            "_view_name": "VBoxView",
            "box_style": "",
            "children": [
              "IPY_MODEL_e45317b9f5b3474fa36930b33b0aa1bc",
              "IPY_MODEL_772a50dfe2ec4c938597b8f22c52be4b"
            ],
            "layout": "IPY_MODEL_eb4e0241bcb94b888be6eb7befb67de3"
          }
        },
        "e45317b9f5b3474fa36930b33b0aa1bc": {
          "model_module": "@jupyter-widgets/controls",
          "model_name": "IntSliderModel",
          "model_module_version": "1.5.0",
          "state": {
            "_dom_classes": [],
            "_model_module": "@jupyter-widgets/controls",
            "_model_module_version": "1.5.0",
            "_model_name": "IntSliderModel",
            "_view_count": null,
            "_view_module": "@jupyter-widgets/controls",
            "_view_module_version": "1.5.0",
            "_view_name": "IntSliderView",
            "continuous_update": true,
            "description": "th",
            "description_tooltip": null,
            "disabled": false,
            "layout": "IPY_MODEL_a0bacd06def64201a17fc8f9f69885c3",
            "max": 255,
            "min": 0,
            "orientation": "horizontal",
            "readout": true,
            "readout_format": "d",
            "step": 1,
            "style": "IPY_MODEL_b3003e3a6e8b4ac7a108275916c0eb1f",
            "value": 103
          }
        },
        "772a50dfe2ec4c938597b8f22c52be4b": {
          "model_module": "@jupyter-widgets/output",
          "model_name": "OutputModel",
          "model_module_version": "1.0.0",
          "state": {
            "_dom_classes": [],
            "_model_module": "@jupyter-widgets/output",
            "_model_module_version": "1.0.0",
            "_model_name": "OutputModel",
            "_view_count": null,
            "_view_module": "@jupyter-widgets/output",
            "_view_module_version": "1.0.0",
            "_view_name": "OutputView",
            "layout": "IPY_MODEL_e4d7eb85cc664539938c85d6ba982ef9",
            "msg_id": "",
            "outputs": [
              {
                "output_type": "display_data",
                "data": {
                  "text/plain": "<PIL.Image.Image image mode=L size=128x128 at 0x7F2480DD1B10>",
                  "image/png": "iVBORw0KGgoAAAANSUhEUgAAAIAAAACACAAAAADmVT4XAAADC0lEQVR4nO1bx5LDIAxFmfz/L2sPbhSJooJmJ9Zl45hFz08VTABTrHyC9b8A0nebJkiJ8rddDAAcGBrZwwCl+ZQtDHT072Cgp34DgFw95YQ6AMBNS+qnByhS8T05P0ehnxymcEIgPlUjhs+vAQDMZ1Y9zZMYAHSuKPWcnazyQINg1rekTtg+MjXRKAaTZSYcOBz3oIapeMLlfQDcz9ZG3YR91QAwV8KTwEIxqAVVQihU4XmXp8LCBAUJtSFGVhAyUJUB7JPv0w8gpHTmkZN4Vg92EAgT0bjKzYp/R8R0w+4AitjoINjXFTMglAAWzM/QIMsDorRP/5OSARhW4ZHIGMi01hUIpjrBbLxBQ4L0163YrwsqkbiGtBj1TL9EqrgaVm6QmR7r+z4Acg0IUC9TevWnEJOlWS1caSTtptumg24rMANA2RHhYtSbAyh7UokoTXBOMjfMenluIy8AEwAaP7JhQBELJlFwTjW4T2syBFBMO6t/2245+5xOUVDp6/iIVxgie1EJVA2dpUv0twbKFS2Sy00nDy0APE6IDwNww/KX7wXn7qEAE9LrDY2wZF5O+OhPYFDlGxlvUuFG2nO5GICTdWWDtS5ZJrSOwkUA6BpzQwDoG/MduVNx1Gv88Jbsm1Lc06d0MBB6iOITrD/eBz7BBKTPe4rmBfACeAFEKc6a8M0ac0HYxwB9yuOXfIBb60T1oveqONoEEA0g3gn3Hekkd8425gFSYCMD3LJ7Xx4oLvB+tRaWB65NqvAoeAH8MAA8AiOQgSP+ftgEPwJg/GrbsxhNbft6m2BYapQAeg8JowEGAAz21jUApg5PjMYoDrfbbO9LAMBjXb0NBB0R/7MBKC+a+5Tow/DxBNG7NgGARsthjMolZ41jkogu5Tk0rP66AkiES3oxYP5ab6kYebxUXAJwnFMnYYgz0jSAM2HQ5wQVCXGegU7mpb6ePdG4YILsqCZ3uF6QVxeigPltGRX89RgLAHgdXlUfYSxlrSdsY0Bdj+dN4LSR8J+aUh8KvBiYdtT1MDQ+YfMHUD2hPfBu2q0AAAAASUVORK5CYII=\n"
                },
                "metadata": {}
              }
            ]
          }
        },
        "eb4e0241bcb94b888be6eb7befb67de3": {
          "model_module": "@jupyter-widgets/base",
          "model_name": "LayoutModel",
          "model_module_version": "1.2.0",
          "state": {
            "_model_module": "@jupyter-widgets/base",
            "_model_module_version": "1.2.0",
            "_model_name": "LayoutModel",
            "_view_count": null,
            "_view_module": "@jupyter-widgets/base",
            "_view_module_version": "1.2.0",
            "_view_name": "LayoutView",
            "align_content": null,
            "align_items": null,
            "align_self": null,
            "border": null,
            "bottom": null,
            "display": null,
            "flex": null,
            "flex_flow": null,
            "grid_area": null,
            "grid_auto_columns": null,
            "grid_auto_flow": null,
            "grid_auto_rows": null,
            "grid_column": null,
            "grid_gap": null,
            "grid_row": null,
            "grid_template_areas": null,
            "grid_template_columns": null,
            "grid_template_rows": null,
            "height": null,
            "justify_content": null,
            "justify_items": null,
            "left": null,
            "margin": null,
            "max_height": null,
            "max_width": null,
            "min_height": null,
            "min_width": null,
            "object_fit": null,
            "object_position": null,
            "order": null,
            "overflow": null,
            "overflow_x": null,
            "overflow_y": null,
            "padding": null,
            "right": null,
            "top": null,
            "visibility": null,
            "width": null
          }
        },
        "a0bacd06def64201a17fc8f9f69885c3": {
          "model_module": "@jupyter-widgets/base",
          "model_name": "LayoutModel",
          "model_module_version": "1.2.0",
          "state": {
            "_model_module": "@jupyter-widgets/base",
            "_model_module_version": "1.2.0",
            "_model_name": "LayoutModel",
            "_view_count": null,
            "_view_module": "@jupyter-widgets/base",
            "_view_module_version": "1.2.0",
            "_view_name": "LayoutView",
            "align_content": null,
            "align_items": null,
            "align_self": null,
            "border": null,
            "bottom": null,
            "display": null,
            "flex": null,
            "flex_flow": null,
            "grid_area": null,
            "grid_auto_columns": null,
            "grid_auto_flow": null,
            "grid_auto_rows": null,
            "grid_column": null,
            "grid_gap": null,
            "grid_row": null,
            "grid_template_areas": null,
            "grid_template_columns": null,
            "grid_template_rows": null,
            "height": null,
            "justify_content": null,
            "justify_items": null,
            "left": null,
            "margin": null,
            "max_height": null,
            "max_width": null,
            "min_height": null,
            "min_width": null,
            "object_fit": null,
            "object_position": null,
            "order": null,
            "overflow": null,
            "overflow_x": null,
            "overflow_y": null,
            "padding": null,
            "right": null,
            "top": null,
            "visibility": null,
            "width": null
          }
        },
        "b3003e3a6e8b4ac7a108275916c0eb1f": {
          "model_module": "@jupyter-widgets/controls",
          "model_name": "SliderStyleModel",
          "model_module_version": "1.5.0",
          "state": {
            "_model_module": "@jupyter-widgets/controls",
            "_model_module_version": "1.5.0",
            "_model_name": "SliderStyleModel",
            "_view_count": null,
            "_view_module": "@jupyter-widgets/base",
            "_view_module_version": "1.2.0",
            "_view_name": "StyleView",
            "description_width": "",
            "handle_color": null
          }
        },
        "e4d7eb85cc664539938c85d6ba982ef9": {
          "model_module": "@jupyter-widgets/base",
          "model_name": "LayoutModel",
          "model_module_version": "1.2.0",
          "state": {
            "_model_module": "@jupyter-widgets/base",
            "_model_module_version": "1.2.0",
            "_model_name": "LayoutModel",
            "_view_count": null,
            "_view_module": "@jupyter-widgets/base",
            "_view_module_version": "1.2.0",
            "_view_name": "LayoutView",
            "align_content": null,
            "align_items": null,
            "align_self": null,
            "border": null,
            "bottom": null,
            "display": null,
            "flex": null,
            "flex_flow": null,
            "grid_area": null,
            "grid_auto_columns": null,
            "grid_auto_flow": null,
            "grid_auto_rows": null,
            "grid_column": null,
            "grid_gap": null,
            "grid_row": null,
            "grid_template_areas": null,
            "grid_template_columns": null,
            "grid_template_rows": null,
            "height": null,
            "justify_content": null,
            "justify_items": null,
            "left": null,
            "margin": null,
            "max_height": null,
            "max_width": null,
            "min_height": null,
            "min_width": null,
            "object_fit": null,
            "object_position": null,
            "order": null,
            "overflow": null,
            "overflow_x": null,
            "overflow_y": null,
            "padding": null,
            "right": null,
            "top": null,
            "visibility": null,
            "width": null
          }
        },
        "be3c5fcf47e14579ae8d8dcf62c0474f": {
          "model_module": "@jupyter-widgets/controls",
          "model_name": "VBoxModel",
          "model_module_version": "1.5.0",
          "state": {
            "_dom_classes": [
              "widget-interact"
            ],
            "_model_module": "@jupyter-widgets/controls",
            "_model_module_version": "1.5.0",
            "_model_name": "VBoxModel",
            "_view_count": null,
            "_view_module": "@jupyter-widgets/controls",
            "_view_module_version": "1.5.0",
            "_view_name": "VBoxView",
            "box_style": "",
            "children": [
              "IPY_MODEL_b90d9a27e1a5497dae64d56e5f30d643",
              "IPY_MODEL_ff262d327e2c4a619e5bf3b7c0819046"
            ],
            "layout": "IPY_MODEL_bd8ec1375c314a89981200a78827cec4"
          }
        },
        "b90d9a27e1a5497dae64d56e5f30d643": {
          "model_module": "@jupyter-widgets/controls",
          "model_name": "IntSliderModel",
          "model_module_version": "1.5.0",
          "state": {
            "_dom_classes": [],
            "_model_module": "@jupyter-widgets/controls",
            "_model_module_version": "1.5.0",
            "_model_name": "IntSliderModel",
            "_view_count": null,
            "_view_module": "@jupyter-widgets/controls",
            "_view_module_version": "1.5.0",
            "_view_name": "IntSliderView",
            "continuous_update": true,
            "description": "x",
            "description_tooltip": null,
            "disabled": false,
            "layout": "IPY_MODEL_d0779c5423f54440a65d17ea4216a09a",
            "max": 20,
            "min": -10,
            "orientation": "horizontal",
            "readout": true,
            "readout_format": "d",
            "step": 1,
            "style": "IPY_MODEL_2ffd79bf98d64622bc3d5fbbed908461",
            "value": -6
          }
        },
        "ff262d327e2c4a619e5bf3b7c0819046": {
          "model_module": "@jupyter-widgets/output",
          "model_name": "OutputModel",
          "model_module_version": "1.0.0",
          "state": {
            "_dom_classes": [],
            "_model_module": "@jupyter-widgets/output",
            "_model_module_version": "1.0.0",
            "_model_name": "OutputModel",
            "_view_count": null,
            "_view_module": "@jupyter-widgets/output",
            "_view_module_version": "1.0.0",
            "_view_name": "OutputView",
            "layout": "IPY_MODEL_16c92614db0449ff961ba587420500c6",
            "msg_id": "",
            "outputs": []
          }
        },
        "bd8ec1375c314a89981200a78827cec4": {
          "model_module": "@jupyter-widgets/base",
          "model_name": "LayoutModel",
          "model_module_version": "1.2.0",
          "state": {
            "_model_module": "@jupyter-widgets/base",
            "_model_module_version": "1.2.0",
            "_model_name": "LayoutModel",
            "_view_count": null,
            "_view_module": "@jupyter-widgets/base",
            "_view_module_version": "1.2.0",
            "_view_name": "LayoutView",
            "align_content": null,
            "align_items": null,
            "align_self": null,
            "border": null,
            "bottom": null,
            "display": null,
            "flex": null,
            "flex_flow": null,
            "grid_area": null,
            "grid_auto_columns": null,
            "grid_auto_flow": null,
            "grid_auto_rows": null,
            "grid_column": null,
            "grid_gap": null,
            "grid_row": null,
            "grid_template_areas": null,
            "grid_template_columns": null,
            "grid_template_rows": null,
            "height": null,
            "justify_content": null,
            "justify_items": null,
            "left": null,
            "margin": null,
            "max_height": null,
            "max_width": null,
            "min_height": null,
            "min_width": null,
            "object_fit": null,
            "object_position": null,
            "order": null,
            "overflow": null,
            "overflow_x": null,
            "overflow_y": null,
            "padding": null,
            "right": null,
            "top": null,
            "visibility": null,
            "width": null
          }
        },
        "d0779c5423f54440a65d17ea4216a09a": {
          "model_module": "@jupyter-widgets/base",
          "model_name": "LayoutModel",
          "model_module_version": "1.2.0",
          "state": {
            "_model_module": "@jupyter-widgets/base",
            "_model_module_version": "1.2.0",
            "_model_name": "LayoutModel",
            "_view_count": null,
            "_view_module": "@jupyter-widgets/base",
            "_view_module_version": "1.2.0",
            "_view_name": "LayoutView",
            "align_content": null,
            "align_items": null,
            "align_self": null,
            "border": null,
            "bottom": null,
            "display": null,
            "flex": null,
            "flex_flow": null,
            "grid_area": null,
            "grid_auto_columns": null,
            "grid_auto_flow": null,
            "grid_auto_rows": null,
            "grid_column": null,
            "grid_gap": null,
            "grid_row": null,
            "grid_template_areas": null,
            "grid_template_columns": null,
            "grid_template_rows": null,
            "height": null,
            "justify_content": null,
            "justify_items": null,
            "left": null,
            "margin": null,
            "max_height": null,
            "max_width": null,
            "min_height": null,
            "min_width": null,
            "object_fit": null,
            "object_position": null,
            "order": null,
            "overflow": null,
            "overflow_x": null,
            "overflow_y": null,
            "padding": null,
            "right": null,
            "top": null,
            "visibility": null,
            "width": null
          }
        },
        "2ffd79bf98d64622bc3d5fbbed908461": {
          "model_module": "@jupyter-widgets/controls",
          "model_name": "SliderStyleModel",
          "model_module_version": "1.5.0",
          "state": {
            "_model_module": "@jupyter-widgets/controls",
            "_model_module_version": "1.5.0",
            "_model_name": "SliderStyleModel",
            "_view_count": null,
            "_view_module": "@jupyter-widgets/base",
            "_view_module_version": "1.2.0",
            "_view_name": "StyleView",
            "description_width": "",
            "handle_color": null
          }
        },
        "16c92614db0449ff961ba587420500c6": {
          "model_module": "@jupyter-widgets/base",
          "model_name": "LayoutModel",
          "model_module_version": "1.2.0",
          "state": {
            "_model_module": "@jupyter-widgets/base",
            "_model_module_version": "1.2.0",
            "_model_name": "LayoutModel",
            "_view_count": null,
            "_view_module": "@jupyter-widgets/base",
            "_view_module_version": "1.2.0",
            "_view_name": "LayoutView",
            "align_content": null,
            "align_items": null,
            "align_self": null,
            "border": null,
            "bottom": null,
            "display": null,
            "flex": null,
            "flex_flow": null,
            "grid_area": null,
            "grid_auto_columns": null,
            "grid_auto_flow": null,
            "grid_auto_rows": null,
            "grid_column": null,
            "grid_gap": null,
            "grid_row": null,
            "grid_template_areas": null,
            "grid_template_columns": null,
            "grid_template_rows": null,
            "height": null,
            "justify_content": null,
            "justify_items": null,
            "left": null,
            "margin": null,
            "max_height": null,
            "max_width": null,
            "min_height": null,
            "min_width": null,
            "object_fit": null,
            "object_position": null,
            "order": null,
            "overflow": null,
            "overflow_x": null,
            "overflow_y": null,
            "padding": null,
            "right": null,
            "top": null,
            "visibility": null,
            "width": null
          }
        },
        "1ccb0e95b42247b1bfc156126894c80d": {
          "model_module": "@jupyter-widgets/controls",
          "model_name": "IntTextModel",
          "model_module_version": "1.5.0",
          "state": {
            "_dom_classes": [],
            "_model_module": "@jupyter-widgets/controls",
            "_model_module_version": "1.5.0",
            "_model_name": "IntTextModel",
            "_view_count": null,
            "_view_module": "@jupyter-widgets/controls",
            "_view_module_version": "1.5.0",
            "_view_name": "IntTextView",
            "continuous_update": false,
            "description": "",
            "description_tooltip": null,
            "disabled": false,
            "layout": "IPY_MODEL_6b387457e35c4f53b8a6e19c70452253",
            "step": 1,
            "style": "IPY_MODEL_f406720f03834657b2bdd20a042cb6b6",
            "value": -6
          }
        },
        "6b387457e35c4f53b8a6e19c70452253": {
          "model_module": "@jupyter-widgets/base",
          "model_name": "LayoutModel",
          "model_module_version": "1.2.0",
          "state": {
            "_model_module": "@jupyter-widgets/base",
            "_model_module_version": "1.2.0",
            "_model_name": "LayoutModel",
            "_view_count": null,
            "_view_module": "@jupyter-widgets/base",
            "_view_module_version": "1.2.0",
            "_view_name": "LayoutView",
            "align_content": null,
            "align_items": null,
            "align_self": null,
            "border": null,
            "bottom": null,
            "display": null,
            "flex": null,
            "flex_flow": null,
            "grid_area": null,
            "grid_auto_columns": null,
            "grid_auto_flow": null,
            "grid_auto_rows": null,
            "grid_column": null,
            "grid_gap": null,
            "grid_row": null,
            "grid_template_areas": null,
            "grid_template_columns": null,
            "grid_template_rows": null,
            "height": null,
            "justify_content": null,
            "justify_items": null,
            "left": null,
            "margin": null,
            "max_height": null,
            "max_width": null,
            "min_height": null,
            "min_width": null,
            "object_fit": null,
            "object_position": null,
            "order": null,
            "overflow": null,
            "overflow_x": null,
            "overflow_y": null,
            "padding": null,
            "right": null,
            "top": null,
            "visibility": null,
            "width": null
          }
        },
        "f406720f03834657b2bdd20a042cb6b6": {
          "model_module": "@jupyter-widgets/controls",
          "model_name": "DescriptionStyleModel",
          "model_module_version": "1.5.0",
          "state": {
            "_model_module": "@jupyter-widgets/controls",
            "_model_module_version": "1.5.0",
            "_model_name": "DescriptionStyleModel",
            "_view_count": null,
            "_view_module": "@jupyter-widgets/base",
            "_view_module_version": "1.2.0",
            "_view_name": "StyleView",
            "description_width": ""
          }
        },
        "d9c0fd4714e24d0e8b555611384313c7": {
          "model_module": "@jupyter-widgets/output",
          "model_name": "OutputModel",
          "model_module_version": "1.0.0",
          "state": {
            "_dom_classes": [],
            "_model_module": "@jupyter-widgets/output",
            "_model_module_version": "1.0.0",
            "_model_name": "OutputModel",
            "_view_count": null,
            "_view_module": "@jupyter-widgets/output",
            "_view_module_version": "1.0.0",
            "_view_name": "OutputView",
            "layout": "IPY_MODEL_6145501b93b649cda72ceb44c421d4fb",
            "msg_id": "",
            "outputs": [
              {
                "output_type": "stream",
                "name": "stdout",
                "text": [
                  "100\n"
                ]
              },
              {
                "output_type": "stream",
                "name": "stdout",
                "text": [
                  "81\n"
                ]
              },
              {
                "output_type": "stream",
                "name": "stdout",
                "text": [
                  "4\n"
                ]
              },
              {
                "output_type": "stream",
                "name": "stdout",
                "text": [
                  "36\n"
                ]
              },
              {
                "output_type": "stream",
                "name": "stdout",
                "text": [
                  "49\n"
                ]
              },
              {
                "output_type": "stream",
                "name": "stdout",
                "text": [
                  "169\n"
                ]
              },
              {
                "output_type": "stream",
                "name": "stdout",
                "text": [
                  "144\n"
                ]
              },
              {
                "output_type": "stream",
                "name": "stdout",
                "text": [
                  "36\n"
                ]
              },
              {
                "output_type": "stream",
                "name": "stdout",
                "text": [
                  "0\n"
                ]
              },
              {
                "output_type": "stream",
                "name": "stdout",
                "text": [
                  "16\n"
                ]
              },
              {
                "output_type": "stream",
                "name": "stdout",
                "text": [
                  "36\n"
                ]
              }
            ]
          }
        },
        "6145501b93b649cda72ceb44c421d4fb": {
          "model_module": "@jupyter-widgets/base",
          "model_name": "LayoutModel",
          "model_module_version": "1.2.0",
          "state": {
            "_model_module": "@jupyter-widgets/base",
            "_model_module_version": "1.2.0",
            "_model_name": "LayoutModel",
            "_view_count": null,
            "_view_module": "@jupyter-widgets/base",
            "_view_module_version": "1.2.0",
            "_view_name": "LayoutView",
            "align_content": null,
            "align_items": null,
            "align_self": null,
            "border": null,
            "bottom": null,
            "display": null,
            "flex": null,
            "flex_flow": null,
            "grid_area": null,
            "grid_auto_columns": null,
            "grid_auto_flow": null,
            "grid_auto_rows": null,
            "grid_column": null,
            "grid_gap": null,
            "grid_row": null,
            "grid_template_areas": null,
            "grid_template_columns": null,
            "grid_template_rows": null,
            "height": null,
            "justify_content": null,
            "justify_items": null,
            "left": null,
            "margin": null,
            "max_height": null,
            "max_width": null,
            "min_height": null,
            "min_width": null,
            "object_fit": null,
            "object_position": null,
            "order": null,
            "overflow": null,
            "overflow_x": null,
            "overflow_y": null,
            "padding": null,
            "right": null,
            "top": null,
            "visibility": null,
            "width": null
          }
        },
        "168c8fc51528416ab2c2ec923313f675": {
          "model_module": "@jupyter-widgets/controls",
          "model_name": "VBoxModel",
          "model_module_version": "1.5.0",
          "state": {
            "_dom_classes": [
              "widget-interact"
            ],
            "_model_module": "@jupyter-widgets/controls",
            "_model_module_version": "1.5.0",
            "_model_name": "VBoxModel",
            "_view_count": null,
            "_view_module": "@jupyter-widgets/controls",
            "_view_module_version": "1.5.0",
            "_view_name": "VBoxView",
            "box_style": "",
            "children": [
              "IPY_MODEL_35ccd5a2e29d4a898a4ebcb9bc471463"
            ],
            "layout": "IPY_MODEL_f74258743cec489ba36a1a7634365b27"
          }
        },
        "35ccd5a2e29d4a898a4ebcb9bc471463": {
          "model_module": "@jupyter-widgets/output",
          "model_name": "OutputModel",
          "model_module_version": "1.0.0",
          "state": {
            "_dom_classes": [],
            "_model_module": "@jupyter-widgets/output",
            "_model_module_version": "1.0.0",
            "_model_name": "OutputModel",
            "_view_count": null,
            "_view_module": "@jupyter-widgets/output",
            "_view_module_version": "1.0.0",
            "_view_name": "OutputView",
            "layout": "IPY_MODEL_8da21b943430428482885c7ffe78d7d7",
            "msg_id": "",
            "outputs": [
              {
                "output_type": "display_data",
                "data": {
                  "text/plain": "interactive(children=(Dropdown(description='image_files', options=('0.jpg', '1.jpg'), value='0.jpg'), Output()…",
                  "application/vnd.jupyter.widget-view+json": {
                    "version_major": 2,
                    "version_minor": 0,
                    "model_id": "07b5b41106004c319de9293196cc772d"
                  }
                },
                "metadata": {}
              },
              {
                "output_type": "display_data",
                "data": {
                  "text/plain": "interactive(children=(Dropdown(description='image_files', options=('0.jpg', '1.jpg'), value='0.jpg'), Output()…",
                  "application/vnd.jupyter.widget-view+json": {
                    "version_major": 2,
                    "version_minor": 0,
                    "model_id": "9b16ab2e033d449e9212f4981dafdb07"
                  }
                },
                "metadata": {}
              },
              {
                "output_type": "stream",
                "name": "stdout",
                "text": [
                  "A /content/BiLRP_explain_similarity/data/0.jpg /content/BiLRP_explain_similarity/data/0.jpg\n"
                ]
              },
              {
                "output_type": "display_data",
                "data": {
                  "text/plain": "<IPython.core.display.Image object>",
                  "image/jpeg": "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\n"
                },
                "metadata": {}
              },
              {
                "output_type": "display_data",
                "data": {
                  "text/plain": "<IPython.core.display.Image object>",
                  "image/jpeg": "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\n"
                },
                "metadata": {}
              },
              {
                "output_type": "stream",
                "name": "stdout",
                "text": [
                  "torch.Size([1, 3, 128, 128]) torch.Size([1, 3, 128, 128])\n"
                ]
              },
              {
                "output_type": "display_data",
                "data": {
                  "text/plain": "<Figure size 720x576 with 1 Axes>",
                  "image/png": "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\n"
                },
                "metadata": {
                  "needs_background": "light"
                }
              }
            ]
          }
        },
        "f74258743cec489ba36a1a7634365b27": {
          "model_module": "@jupyter-widgets/base",
          "model_name": "LayoutModel",
          "model_module_version": "1.2.0",
          "state": {
            "_model_module": "@jupyter-widgets/base",
            "_model_module_version": "1.2.0",
            "_model_name": "LayoutModel",
            "_view_count": null,
            "_view_module": "@jupyter-widgets/base",
            "_view_module_version": "1.2.0",
            "_view_name": "LayoutView",
            "align_content": null,
            "align_items": null,
            "align_self": null,
            "border": null,
            "bottom": null,
            "display": null,
            "flex": null,
            "flex_flow": null,
            "grid_area": null,
            "grid_auto_columns": null,
            "grid_auto_flow": null,
            "grid_auto_rows": null,
            "grid_column": null,
            "grid_gap": null,
            "grid_row": null,
            "grid_template_areas": null,
            "grid_template_columns": null,
            "grid_template_rows": null,
            "height": null,
            "justify_content": null,
            "justify_items": null,
            "left": null,
            "margin": null,
            "max_height": null,
            "max_width": null,
            "min_height": null,
            "min_width": null,
            "object_fit": null,
            "object_position": null,
            "order": null,
            "overflow": null,
            "overflow_x": null,
            "overflow_y": null,
            "padding": null,
            "right": null,
            "top": null,
            "visibility": null,
            "width": null
          }
        },
        "07b5b41106004c319de9293196cc772d": {
          "model_module": "@jupyter-widgets/controls",
          "model_name": "VBoxModel",
          "model_module_version": "1.5.0",
          "state": {
            "_dom_classes": [
              "widget-interact"
            ],
            "_model_module": "@jupyter-widgets/controls",
            "_model_module_version": "1.5.0",
            "_model_name": "VBoxModel",
            "_view_count": null,
            "_view_module": "@jupyter-widgets/controls",
            "_view_module_version": "1.5.0",
            "_view_name": "VBoxView",
            "box_style": "",
            "children": [
              "IPY_MODEL_40ec88812614431c8ae1d3ba5bc18e3a",
              "IPY_MODEL_03c0996dc1f04d01bc5c80f55f215ea0"
            ],
            "layout": "IPY_MODEL_5559aa1fdcd24a0fb770937e7835d213"
          }
        },
        "8da21b943430428482885c7ffe78d7d7": {
          "model_module": "@jupyter-widgets/base",
          "model_name": "LayoutModel",
          "model_module_version": "1.2.0",
          "state": {
            "_model_module": "@jupyter-widgets/base",
            "_model_module_version": "1.2.0",
            "_model_name": "LayoutModel",
            "_view_count": null,
            "_view_module": "@jupyter-widgets/base",
            "_view_module_version": "1.2.0",
            "_view_name": "LayoutView",
            "align_content": null,
            "align_items": null,
            "align_self": null,
            "border": null,
            "bottom": null,
            "display": null,
            "flex": null,
            "flex_flow": null,
            "grid_area": null,
            "grid_auto_columns": null,
            "grid_auto_flow": null,
            "grid_auto_rows": null,
            "grid_column": null,
            "grid_gap": null,
            "grid_row": null,
            "grid_template_areas": null,
            "grid_template_columns": null,
            "grid_template_rows": null,
            "height": null,
            "justify_content": null,
            "justify_items": null,
            "left": null,
            "margin": null,
            "max_height": null,
            "max_width": null,
            "min_height": null,
            "min_width": null,
            "object_fit": null,
            "object_position": null,
            "order": null,
            "overflow": null,
            "overflow_x": null,
            "overflow_y": null,
            "padding": null,
            "right": null,
            "top": null,
            "visibility": null,
            "width": null
          }
        },
        "40ec88812614431c8ae1d3ba5bc18e3a": {
          "model_module": "@jupyter-widgets/controls",
          "model_name": "DropdownModel",
          "model_module_version": "1.5.0",
          "state": {
            "_dom_classes": [],
            "_model_module": "@jupyter-widgets/controls",
            "_model_module_version": "1.5.0",
            "_model_name": "DropdownModel",
            "_options_labels": [
              "0.jpg",
              "1.jpg"
            ],
            "_view_count": null,
            "_view_module": "@jupyter-widgets/controls",
            "_view_module_version": "1.5.0",
            "_view_name": "DropdownView",
            "description": "image_files",
            "description_tooltip": null,
            "disabled": false,
            "index": 0,
            "layout": "IPY_MODEL_686d9c01c0ed4eb2ab0ecfb86a72a4e1",
            "style": "IPY_MODEL_4d78e8666643443eb8eb1f4344c720b4"
          }
        },
        "03c0996dc1f04d01bc5c80f55f215ea0": {
          "model_module": "@jupyter-widgets/output",
          "model_name": "OutputModel",
          "model_module_version": "1.0.0",
          "state": {
            "_dom_classes": [],
            "_model_module": "@jupyter-widgets/output",
            "_model_module_version": "1.0.0",
            "_model_name": "OutputModel",
            "_view_count": null,
            "_view_module": "@jupyter-widgets/output",
            "_view_module_version": "1.0.0",
            "_view_name": "OutputView",
            "layout": "IPY_MODEL_84e347b7e0e942229d19d373df4de827",
            "msg_id": "",
            "outputs": [
              {
                "output_type": "display_data",
                "data": {
                  "text/plain": "'0.jpg'",
                  "application/vnd.google.colaboratory.intrinsic+json": {
                    "type": "string"
                  }
                },
                "metadata": {}
              }
            ]
          }
        },
        "5559aa1fdcd24a0fb770937e7835d213": {
          "model_module": "@jupyter-widgets/base",
          "model_name": "LayoutModel",
          "model_module_version": "1.2.0",
          "state": {
            "_model_module": "@jupyter-widgets/base",
            "_model_module_version": "1.2.0",
            "_model_name": "LayoutModel",
            "_view_count": null,
            "_view_module": "@jupyter-widgets/base",
            "_view_module_version": "1.2.0",
            "_view_name": "LayoutView",
            "align_content": null,
            "align_items": null,
            "align_self": null,
            "border": null,
            "bottom": null,
            "display": null,
            "flex": null,
            "flex_flow": null,
            "grid_area": null,
            "grid_auto_columns": null,
            "grid_auto_flow": null,
            "grid_auto_rows": null,
            "grid_column": null,
            "grid_gap": null,
            "grid_row": null,
            "grid_template_areas": null,
            "grid_template_columns": null,
            "grid_template_rows": null,
            "height": null,
            "justify_content": null,
            "justify_items": null,
            "left": null,
            "margin": null,
            "max_height": null,
            "max_width": null,
            "min_height": null,
            "min_width": null,
            "object_fit": null,
            "object_position": null,
            "order": null,
            "overflow": null,
            "overflow_x": null,
            "overflow_y": null,
            "padding": null,
            "right": null,
            "top": null,
            "visibility": null,
            "width": null
          }
        },
        "686d9c01c0ed4eb2ab0ecfb86a72a4e1": {
          "model_module": "@jupyter-widgets/base",
          "model_name": "LayoutModel",
          "model_module_version": "1.2.0",
          "state": {
            "_model_module": "@jupyter-widgets/base",
            "_model_module_version": "1.2.0",
            "_model_name": "LayoutModel",
            "_view_count": null,
            "_view_module": "@jupyter-widgets/base",
            "_view_module_version": "1.2.0",
            "_view_name": "LayoutView",
            "align_content": null,
            "align_items": null,
            "align_self": null,
            "border": null,
            "bottom": null,
            "display": null,
            "flex": null,
            "flex_flow": null,
            "grid_area": null,
            "grid_auto_columns": null,
            "grid_auto_flow": null,
            "grid_auto_rows": null,
            "grid_column": null,
            "grid_gap": null,
            "grid_row": null,
            "grid_template_areas": null,
            "grid_template_columns": null,
            "grid_template_rows": null,
            "height": null,
            "justify_content": null,
            "justify_items": null,
            "left": null,
            "margin": null,
            "max_height": null,
            "max_width": null,
            "min_height": null,
            "min_width": null,
            "object_fit": null,
            "object_position": null,
            "order": null,
            "overflow": null,
            "overflow_x": null,
            "overflow_y": null,
            "padding": null,
            "right": null,
            "top": null,
            "visibility": null,
            "width": null
          }
        },
        "4d78e8666643443eb8eb1f4344c720b4": {
          "model_module": "@jupyter-widgets/controls",
          "model_name": "DescriptionStyleModel",
          "model_module_version": "1.5.0",
          "state": {
            "_model_module": "@jupyter-widgets/controls",
            "_model_module_version": "1.5.0",
            "_model_name": "DescriptionStyleModel",
            "_view_count": null,
            "_view_module": "@jupyter-widgets/base",
            "_view_module_version": "1.2.0",
            "_view_name": "StyleView",
            "description_width": ""
          }
        },
        "84e347b7e0e942229d19d373df4de827": {
          "model_module": "@jupyter-widgets/base",
          "model_name": "LayoutModel",
          "model_module_version": "1.2.0",
          "state": {
            "_model_module": "@jupyter-widgets/base",
            "_model_module_version": "1.2.0",
            "_model_name": "LayoutModel",
            "_view_count": null,
            "_view_module": "@jupyter-widgets/base",
            "_view_module_version": "1.2.0",
            "_view_name": "LayoutView",
            "align_content": null,
            "align_items": null,
            "align_self": null,
            "border": null,
            "bottom": null,
            "display": null,
            "flex": null,
            "flex_flow": null,
            "grid_area": null,
            "grid_auto_columns": null,
            "grid_auto_flow": null,
            "grid_auto_rows": null,
            "grid_column": null,
            "grid_gap": null,
            "grid_row": null,
            "grid_template_areas": null,
            "grid_template_columns": null,
            "grid_template_rows": null,
            "height": null,
            "justify_content": null,
            "justify_items": null,
            "left": null,
            "margin": null,
            "max_height": null,
            "max_width": null,
            "min_height": null,
            "min_width": null,
            "object_fit": null,
            "object_position": null,
            "order": null,
            "overflow": null,
            "overflow_x": null,
            "overflow_y": null,
            "padding": null,
            "right": null,
            "top": null,
            "visibility": null,
            "width": null
          }
        },
        "9b16ab2e033d449e9212f4981dafdb07": {
          "model_module": "@jupyter-widgets/controls",
          "model_name": "VBoxModel",
          "model_module_version": "1.5.0",
          "state": {
            "_dom_classes": [
              "widget-interact"
            ],
            "_model_module": "@jupyter-widgets/controls",
            "_model_module_version": "1.5.0",
            "_model_name": "VBoxModel",
            "_view_count": null,
            "_view_module": "@jupyter-widgets/controls",
            "_view_module_version": "1.5.0",
            "_view_name": "VBoxView",
            "box_style": "",
            "children": [
              "IPY_MODEL_9a132ca4ab0c45ee9dfc3636725c4aac",
              "IPY_MODEL_fab9149220034330931462990dfb004d"
            ],
            "layout": "IPY_MODEL_f8c684f09be34758aa23359f59485a45"
          }
        },
        "9a132ca4ab0c45ee9dfc3636725c4aac": {
          "model_module": "@jupyter-widgets/controls",
          "model_name": "DropdownModel",
          "model_module_version": "1.5.0",
          "state": {
            "_dom_classes": [],
            "_model_module": "@jupyter-widgets/controls",
            "_model_module_version": "1.5.0",
            "_model_name": "DropdownModel",
            "_options_labels": [
              "0.jpg",
              "1.jpg"
            ],
            "_view_count": null,
            "_view_module": "@jupyter-widgets/controls",
            "_view_module_version": "1.5.0",
            "_view_name": "DropdownView",
            "description": "image_files",
            "description_tooltip": null,
            "disabled": false,
            "index": 0,
            "layout": "IPY_MODEL_b3fe643159e546e9b917151e6073d868",
            "style": "IPY_MODEL_faebaa5e1bfa4baf91903b658f69f35b"
          }
        },
        "fab9149220034330931462990dfb004d": {
          "model_module": "@jupyter-widgets/output",
          "model_name": "OutputModel",
          "model_module_version": "1.0.0",
          "state": {
            "_dom_classes": [],
            "_model_module": "@jupyter-widgets/output",
            "_model_module_version": "1.0.0",
            "_model_name": "OutputModel",
            "_view_count": null,
            "_view_module": "@jupyter-widgets/output",
            "_view_module_version": "1.0.0",
            "_view_name": "OutputView",
            "layout": "IPY_MODEL_a142f74b0ad04369bdf059622d7d3ec5",
            "msg_id": "",
            "outputs": [
              {
                "output_type": "display_data",
                "data": {
                  "text/plain": "'0.jpg'",
                  "application/vnd.google.colaboratory.intrinsic+json": {
                    "type": "string"
                  }
                },
                "metadata": {}
              }
            ]
          }
        },
        "f8c684f09be34758aa23359f59485a45": {
          "model_module": "@jupyter-widgets/base",
          "model_name": "LayoutModel",
          "model_module_version": "1.2.0",
          "state": {
            "_model_module": "@jupyter-widgets/base",
            "_model_module_version": "1.2.0",
            "_model_name": "LayoutModel",
            "_view_count": null,
            "_view_module": "@jupyter-widgets/base",
            "_view_module_version": "1.2.0",
            "_view_name": "LayoutView",
            "align_content": null,
            "align_items": null,
            "align_self": null,
            "border": null,
            "bottom": null,
            "display": null,
            "flex": null,
            "flex_flow": null,
            "grid_area": null,
            "grid_auto_columns": null,
            "grid_auto_flow": null,
            "grid_auto_rows": null,
            "grid_column": null,
            "grid_gap": null,
            "grid_row": null,
            "grid_template_areas": null,
            "grid_template_columns": null,
            "grid_template_rows": null,
            "height": null,
            "justify_content": null,
            "justify_items": null,
            "left": null,
            "margin": null,
            "max_height": null,
            "max_width": null,
            "min_height": null,
            "min_width": null,
            "object_fit": null,
            "object_position": null,
            "order": null,
            "overflow": null,
            "overflow_x": null,
            "overflow_y": null,
            "padding": null,
            "right": null,
            "top": null,
            "visibility": null,
            "width": null
          }
        },
        "b3fe643159e546e9b917151e6073d868": {
          "model_module": "@jupyter-widgets/base",
          "model_name": "LayoutModel",
          "model_module_version": "1.2.0",
          "state": {
            "_model_module": "@jupyter-widgets/base",
            "_model_module_version": "1.2.0",
            "_model_name": "LayoutModel",
            "_view_count": null,
            "_view_module": "@jupyter-widgets/base",
            "_view_module_version": "1.2.0",
            "_view_name": "LayoutView",
            "align_content": null,
            "align_items": null,
            "align_self": null,
            "border": null,
            "bottom": null,
            "display": null,
            "flex": null,
            "flex_flow": null,
            "grid_area": null,
            "grid_auto_columns": null,
            "grid_auto_flow": null,
            "grid_auto_rows": null,
            "grid_column": null,
            "grid_gap": null,
            "grid_row": null,
            "grid_template_areas": null,
            "grid_template_columns": null,
            "grid_template_rows": null,
            "height": null,
            "justify_content": null,
            "justify_items": null,
            "left": null,
            "margin": null,
            "max_height": null,
            "max_width": null,
            "min_height": null,
            "min_width": null,
            "object_fit": null,
            "object_position": null,
            "order": null,
            "overflow": null,
            "overflow_x": null,
            "overflow_y": null,
            "padding": null,
            "right": null,
            "top": null,
            "visibility": null,
            "width": null
          }
        },
        "faebaa5e1bfa4baf91903b658f69f35b": {
          "model_module": "@jupyter-widgets/controls",
          "model_name": "DescriptionStyleModel",
          "model_module_version": "1.5.0",
          "state": {
            "_model_module": "@jupyter-widgets/controls",
            "_model_module_version": "1.5.0",
            "_model_name": "DescriptionStyleModel",
            "_view_count": null,
            "_view_module": "@jupyter-widgets/base",
            "_view_module_version": "1.2.0",
            "_view_name": "StyleView",
            "description_width": ""
          }
        },
        "a142f74b0ad04369bdf059622d7d3ec5": {
          "model_module": "@jupyter-widgets/base",
          "model_name": "LayoutModel",
          "model_module_version": "1.2.0",
          "state": {
            "_model_module": "@jupyter-widgets/base",
            "_model_module_version": "1.2.0",
            "_model_name": "LayoutModel",
            "_view_count": null,
            "_view_module": "@jupyter-widgets/base",
            "_view_module_version": "1.2.0",
            "_view_name": "LayoutView",
            "align_content": null,
            "align_items": null,
            "align_self": null,
            "border": null,
            "bottom": null,
            "display": null,
            "flex": null,
            "flex_flow": null,
            "grid_area": null,
            "grid_auto_columns": null,
            "grid_auto_flow": null,
            "grid_auto_rows": null,
            "grid_column": null,
            "grid_gap": null,
            "grid_row": null,
            "grid_template_areas": null,
            "grid_template_columns": null,
            "grid_template_rows": null,
            "height": null,
            "justify_content": null,
            "justify_items": null,
            "left": null,
            "margin": null,
            "max_height": null,
            "max_width": null,
            "min_height": null,
            "min_width": null,
            "object_fit": null,
            "object_position": null,
            "order": null,
            "overflow": null,
            "overflow_x": null,
            "overflow_y": null,
            "padding": null,
            "right": null,
            "top": null,
            "visibility": null,
            "width": null
          }
        },
        "ba6c990cc5e54ecca52387c553ec4d09": {
          "model_module": "@jupyter-widgets/controls",
          "model_name": "VBoxModel",
          "model_module_version": "1.5.0",
          "state": {
            "_dom_classes": [
              "widget-interact"
            ],
            "_model_module": "@jupyter-widgets/controls",
            "_model_module_version": "1.5.0",
            "_model_name": "VBoxModel",
            "_view_count": null,
            "_view_module": "@jupyter-widgets/controls",
            "_view_module_version": "1.5.0",
            "_view_name": "VBoxView",
            "box_style": "",
            "children": [
              "IPY_MODEL_f9e38ddbbafa4e0fb428bf0ae42594cb",
              "IPY_MODEL_d5448a30536e4d1bbfb04abd7770808d"
            ],
            "layout": "IPY_MODEL_de9ab53f0a7e4521bcd65171c0ccefac"
          }
        },
        "f9e38ddbbafa4e0fb428bf0ae42594cb": {
          "model_module": "@jupyter-widgets/controls",
          "model_name": "DropdownModel",
          "model_module_version": "1.5.0",
          "state": {
            "_dom_classes": [],
            "_model_module": "@jupyter-widgets/controls",
            "_model_module_version": "1.5.0",
            "_model_name": "DropdownModel",
            "_options_labels": [
              "0.jpg",
              "1.jpg"
            ],
            "_view_count": null,
            "_view_module": "@jupyter-widgets/controls",
            "_view_module_version": "1.5.0",
            "_view_name": "DropdownView",
            "description": "image_files",
            "description_tooltip": null,
            "disabled": false,
            "index": 0,
            "layout": "IPY_MODEL_38d82386dbfa49908a433d6814494f98",
            "style": "IPY_MODEL_5cf6876a55c645dba705f26e24d00d82"
          }
        },
        "d5448a30536e4d1bbfb04abd7770808d": {
          "model_module": "@jupyter-widgets/output",
          "model_name": "OutputModel",
          "model_module_version": "1.0.0",
          "state": {
            "_dom_classes": [],
            "_model_module": "@jupyter-widgets/output",
            "_model_module_version": "1.0.0",
            "_model_name": "OutputModel",
            "_view_count": null,
            "_view_module": "@jupyter-widgets/output",
            "_view_module_version": "1.0.0",
            "_view_name": "OutputView",
            "layout": "IPY_MODEL_925d88aac102405dbd72f4bbcd51c325",
            "msg_id": "",
            "outputs": [
              {
                "output_type": "display_data",
                "data": {
                  "text/plain": "'0.jpg'",
                  "application/vnd.google.colaboratory.intrinsic+json": {
                    "type": "string"
                  }
                },
                "metadata": {}
              }
            ]
          }
        },
        "de9ab53f0a7e4521bcd65171c0ccefac": {
          "model_module": "@jupyter-widgets/base",
          "model_name": "LayoutModel",
          "model_module_version": "1.2.0",
          "state": {
            "_model_module": "@jupyter-widgets/base",
            "_model_module_version": "1.2.0",
            "_model_name": "LayoutModel",
            "_view_count": null,
            "_view_module": "@jupyter-widgets/base",
            "_view_module_version": "1.2.0",
            "_view_name": "LayoutView",
            "align_content": null,
            "align_items": null,
            "align_self": null,
            "border": null,
            "bottom": null,
            "display": null,
            "flex": null,
            "flex_flow": null,
            "grid_area": null,
            "grid_auto_columns": null,
            "grid_auto_flow": null,
            "grid_auto_rows": null,
            "grid_column": null,
            "grid_gap": null,
            "grid_row": null,
            "grid_template_areas": null,
            "grid_template_columns": null,
            "grid_template_rows": null,
            "height": null,
            "justify_content": null,
            "justify_items": null,
            "left": null,
            "margin": null,
            "max_height": null,
            "max_width": null,
            "min_height": null,
            "min_width": null,
            "object_fit": null,
            "object_position": null,
            "order": null,
            "overflow": null,
            "overflow_x": null,
            "overflow_y": null,
            "padding": null,
            "right": null,
            "top": null,
            "visibility": null,
            "width": null
          }
        },
        "38d82386dbfa49908a433d6814494f98": {
          "model_module": "@jupyter-widgets/base",
          "model_name": "LayoutModel",
          "model_module_version": "1.2.0",
          "state": {
            "_model_module": "@jupyter-widgets/base",
            "_model_module_version": "1.2.0",
            "_model_name": "LayoutModel",
            "_view_count": null,
            "_view_module": "@jupyter-widgets/base",
            "_view_module_version": "1.2.0",
            "_view_name": "LayoutView",
            "align_content": null,
            "align_items": null,
            "align_self": null,
            "border": null,
            "bottom": null,
            "display": null,
            "flex": null,
            "flex_flow": null,
            "grid_area": null,
            "grid_auto_columns": null,
            "grid_auto_flow": null,
            "grid_auto_rows": null,
            "grid_column": null,
            "grid_gap": null,
            "grid_row": null,
            "grid_template_areas": null,
            "grid_template_columns": null,
            "grid_template_rows": null,
            "height": null,
            "justify_content": null,
            "justify_items": null,
            "left": null,
            "margin": null,
            "max_height": null,
            "max_width": null,
            "min_height": null,
            "min_width": null,
            "object_fit": null,
            "object_position": null,
            "order": null,
            "overflow": null,
            "overflow_x": null,
            "overflow_y": null,
            "padding": null,
            "right": null,
            "top": null,
            "visibility": null,
            "width": null
          }
        },
        "5cf6876a55c645dba705f26e24d00d82": {
          "model_module": "@jupyter-widgets/controls",
          "model_name": "DescriptionStyleModel",
          "model_module_version": "1.5.0",
          "state": {
            "_model_module": "@jupyter-widgets/controls",
            "_model_module_version": "1.5.0",
            "_model_name": "DescriptionStyleModel",
            "_view_count": null,
            "_view_module": "@jupyter-widgets/base",
            "_view_module_version": "1.2.0",
            "_view_name": "StyleView",
            "description_width": ""
          }
        },
        "925d88aac102405dbd72f4bbcd51c325": {
          "model_module": "@jupyter-widgets/base",
          "model_name": "LayoutModel",
          "model_module_version": "1.2.0",
          "state": {
            "_model_module": "@jupyter-widgets/base",
            "_model_module_version": "1.2.0",
            "_model_name": "LayoutModel",
            "_view_count": null,
            "_view_module": "@jupyter-widgets/base",
            "_view_module_version": "1.2.0",
            "_view_name": "LayoutView",
            "align_content": null,
            "align_items": null,
            "align_self": null,
            "border": null,
            "bottom": null,
            "display": null,
            "flex": null,
            "flex_flow": null,
            "grid_area": null,
            "grid_auto_columns": null,
            "grid_auto_flow": null,
            "grid_auto_rows": null,
            "grid_column": null,
            "grid_gap": null,
            "grid_row": null,
            "grid_template_areas": null,
            "grid_template_columns": null,
            "grid_template_rows": null,
            "height": null,
            "justify_content": null,
            "justify_items": null,
            "left": null,
            "margin": null,
            "max_height": null,
            "max_width": null,
            "min_height": null,
            "min_width": null,
            "object_fit": null,
            "object_position": null,
            "order": null,
            "overflow": null,
            "overflow_x": null,
            "overflow_y": null,
            "padding": null,
            "right": null,
            "top": null,
            "visibility": null,
            "width": null
          }
        },
        "4a209973766640ce97e1baa89009c59d": {
          "model_module": "@jupyter-widgets/controls",
          "model_name": "VBoxModel",
          "model_module_version": "1.5.0",
          "state": {
            "_dom_classes": [
              "widget-interact"
            ],
            "_model_module": "@jupyter-widgets/controls",
            "_model_module_version": "1.5.0",
            "_model_name": "VBoxModel",
            "_view_count": null,
            "_view_module": "@jupyter-widgets/controls",
            "_view_module_version": "1.5.0",
            "_view_name": "VBoxView",
            "box_style": "",
            "children": [
              "IPY_MODEL_fd68121e282642729b9562a0db514bf3",
              "IPY_MODEL_c3ee98a9d98a49be9e85fa6d4bdb4d66"
            ],
            "layout": "IPY_MODEL_57b7e4b0fcb6417a9cfa1d342c43a179"
          }
        },
        "fd68121e282642729b9562a0db514bf3": {
          "model_module": "@jupyter-widgets/controls",
          "model_name": "DropdownModel",
          "model_module_version": "1.5.0",
          "state": {
            "_dom_classes": [],
            "_model_module": "@jupyter-widgets/controls",
            "_model_module_version": "1.5.0",
            "_model_name": "DropdownModel",
            "_options_labels": [
              "0.jpg",
              "1.jpg"
            ],
            "_view_count": null,
            "_view_module": "@jupyter-widgets/controls",
            "_view_module_version": "1.5.0",
            "_view_name": "DropdownView",
            "description": "image_files",
            "description_tooltip": null,
            "disabled": false,
            "index": 1,
            "layout": "IPY_MODEL_8a7ca386d76d47d5a15268049c4f0a33",
            "style": "IPY_MODEL_605c4c17374d470298e41a428e7129c7"
          }
        },
        "c3ee98a9d98a49be9e85fa6d4bdb4d66": {
          "model_module": "@jupyter-widgets/output",
          "model_name": "OutputModel",
          "model_module_version": "1.0.0",
          "state": {
            "_dom_classes": [],
            "_model_module": "@jupyter-widgets/output",
            "_model_module_version": "1.0.0",
            "_model_name": "OutputModel",
            "_view_count": null,
            "_view_module": "@jupyter-widgets/output",
            "_view_module_version": "1.0.0",
            "_view_name": "OutputView",
            "layout": "IPY_MODEL_2d73bd93b0ef4a348f58ac8b2f24af9e",
            "msg_id": "",
            "outputs": [
              {
                "output_type": "display_data",
                "data": {
                  "text/plain": "'1.jpg'",
                  "application/vnd.google.colaboratory.intrinsic+json": {
                    "type": "string"
                  }
                },
                "metadata": {}
              }
            ]
          }
        },
        "57b7e4b0fcb6417a9cfa1d342c43a179": {
          "model_module": "@jupyter-widgets/base",
          "model_name": "LayoutModel",
          "model_module_version": "1.2.0",
          "state": {
            "_model_module": "@jupyter-widgets/base",
            "_model_module_version": "1.2.0",
            "_model_name": "LayoutModel",
            "_view_count": null,
            "_view_module": "@jupyter-widgets/base",
            "_view_module_version": "1.2.0",
            "_view_name": "LayoutView",
            "align_content": null,
            "align_items": null,
            "align_self": null,
            "border": null,
            "bottom": null,
            "display": null,
            "flex": null,
            "flex_flow": null,
            "grid_area": null,
            "grid_auto_columns": null,
            "grid_auto_flow": null,
            "grid_auto_rows": null,
            "grid_column": null,
            "grid_gap": null,
            "grid_row": null,
            "grid_template_areas": null,
            "grid_template_columns": null,
            "grid_template_rows": null,
            "height": null,
            "justify_content": null,
            "justify_items": null,
            "left": null,
            "margin": null,
            "max_height": null,
            "max_width": null,
            "min_height": null,
            "min_width": null,
            "object_fit": null,
            "object_position": null,
            "order": null,
            "overflow": null,
            "overflow_x": null,
            "overflow_y": null,
            "padding": null,
            "right": null,
            "top": null,
            "visibility": null,
            "width": null
          }
        },
        "8a7ca386d76d47d5a15268049c4f0a33": {
          "model_module": "@jupyter-widgets/base",
          "model_name": "LayoutModel",
          "model_module_version": "1.2.0",
          "state": {
            "_model_module": "@jupyter-widgets/base",
            "_model_module_version": "1.2.0",
            "_model_name": "LayoutModel",
            "_view_count": null,
            "_view_module": "@jupyter-widgets/base",
            "_view_module_version": "1.2.0",
            "_view_name": "LayoutView",
            "align_content": null,
            "align_items": null,
            "align_self": null,
            "border": null,
            "bottom": null,
            "display": null,
            "flex": null,
            "flex_flow": null,
            "grid_area": null,
            "grid_auto_columns": null,
            "grid_auto_flow": null,
            "grid_auto_rows": null,
            "grid_column": null,
            "grid_gap": null,
            "grid_row": null,
            "grid_template_areas": null,
            "grid_template_columns": null,
            "grid_template_rows": null,
            "height": null,
            "justify_content": null,
            "justify_items": null,
            "left": null,
            "margin": null,
            "max_height": null,
            "max_width": null,
            "min_height": null,
            "min_width": null,
            "object_fit": null,
            "object_position": null,
            "order": null,
            "overflow": null,
            "overflow_x": null,
            "overflow_y": null,
            "padding": null,
            "right": null,
            "top": null,
            "visibility": null,
            "width": null
          }
        },
        "605c4c17374d470298e41a428e7129c7": {
          "model_module": "@jupyter-widgets/controls",
          "model_name": "DescriptionStyleModel",
          "model_module_version": "1.5.0",
          "state": {
            "_model_module": "@jupyter-widgets/controls",
            "_model_module_version": "1.5.0",
            "_model_name": "DescriptionStyleModel",
            "_view_count": null,
            "_view_module": "@jupyter-widgets/base",
            "_view_module_version": "1.2.0",
            "_view_name": "StyleView",
            "description_width": ""
          }
        },
        "2d73bd93b0ef4a348f58ac8b2f24af9e": {
          "model_module": "@jupyter-widgets/base",
          "model_name": "LayoutModel",
          "model_module_version": "1.2.0",
          "state": {
            "_model_module": "@jupyter-widgets/base",
            "_model_module_version": "1.2.0",
            "_model_name": "LayoutModel",
            "_view_count": null,
            "_view_module": "@jupyter-widgets/base",
            "_view_module_version": "1.2.0",
            "_view_name": "LayoutView",
            "align_content": null,
            "align_items": null,
            "align_self": null,
            "border": null,
            "bottom": null,
            "display": null,
            "flex": null,
            "flex_flow": null,
            "grid_area": null,
            "grid_auto_columns": null,
            "grid_auto_flow": null,
            "grid_auto_rows": null,
            "grid_column": null,
            "grid_gap": null,
            "grid_row": null,
            "grid_template_areas": null,
            "grid_template_columns": null,
            "grid_template_rows": null,
            "height": null,
            "justify_content": null,
            "justify_items": null,
            "left": null,
            "margin": null,
            "max_height": null,
            "max_width": null,
            "min_height": null,
            "min_width": null,
            "object_fit": null,
            "object_position": null,
            "order": null,
            "overflow": null,
            "overflow_x": null,
            "overflow_y": null,
            "padding": null,
            "right": null,
            "top": null,
            "visibility": null,
            "width": null
          }
        }
      }
    }
  },
  "cells": [
    {
      "cell_type": "markdown",
      "metadata": {
        "id": "view-in-github",
        "colab_type": "text"
      },
      "source": [
        "<a href=\"https://colab.research.google.com/github/oeberle/BiLRP_explain_similarity/blob/master/BiLRP.ipynb\" target=\"_parent\"><img src=\"https://colab.research.google.com/assets/colab-badge.svg\" alt=\"Open In Colab\"/></a>"
      ]
    },
    {
      "cell_type": "code",
      "execution_count": 3,
      "metadata": {
        "colab": {
          "base_uri": "https://localhost:8080/"
        },
        "id": "5Bnoj7SpcwKw",
        "outputId": "59e6277f-bcbd-4816-d442-707e38436ca8"
      },
      "outputs": [
        {
          "output_type": "stream",
          "name": "stdout",
          "text": [
            "Cloning into 'BiLRP_explain_similarity'...\n",
            "remote: Enumerating objects: 26, done.\u001b[K\n",
            "remote: Counting objects: 100% (26/26), done.\u001b[K\n",
            "remote: Compressing objects: 100% (23/23), done.\u001b[K\n",
            "remote: Total 26 (delta 4), reused 17 (delta 1), pack-reused 0\u001b[K\n",
            "Unpacking objects: 100% (26/26), done.\n"
          ]
        }
      ],
      "source": [
        "!git clone https://github.com/oeberle/BiLRP_explain_similarity.git"
      ]
    },
    {
      "cell_type": "code",
      "source": [
        "cd BiLRP_explain_similarity"
      ],
      "metadata": {
        "colab": {
          "base_uri": "https://localhost:8080/"
        },
        "id": "-PEkGGG5dvwD",
        "outputId": "e268f9b2-417d-4f69-ab56-37b685e90c9e"
      },
      "execution_count": 4,
      "outputs": [
        {
          "output_type": "stream",
          "name": "stdout",
          "text": [
            "/content/BiLRP_explain_similarity\n"
          ]
        }
      ]
    },
    {
      "cell_type": "code",
      "source": [
        "import numpy as np\n",
        "from model.bilrp import VggLayers, vgg_gamma\n",
        "from utils import load_image, proc_image\n",
        "from visualization.plotting import plot_relevances, clip, get_alpha"
      ],
      "metadata": {
        "id": "zAws-vbrd0Ae"
      },
      "execution_count": 5,
      "outputs": []
    },
    {
      "cell_type": "code",
      "source": [
        "# Loading image pairs\n",
        "file1, file2 = 'data/0.jpg', 'data/1.jpg'\n",
        "img1, img2 = load_image(file1), load_image(file2)\n",
        "\n",
        "# Loading BiLRP-VGG-16 similarity model using feature from layer 31\n",
        "feature_layer = '31' \n",
        "h,w = img1.shape[:2]\n",
        "model = VggLayers(feature_layer=feature_layer, h=h,  w= w, embedding_size = 100, proj_case='random', seed=5)\n",
        "#model.cuda()\n",
        "model.eval()\n"
      ],
      "metadata": {
        "colab": {
          "base_uri": "https://localhost:8080/"
        },
        "id": "xs9qoZ9Bd5aC",
        "outputId": "b88218fc-6b80-4a1c-eee0-75677f8e3011"
      },
      "execution_count": null,
      "outputs": [
        {
          "metadata": {
            "tags": null
          },
          "name": "stderr",
          "output_type": "stream",
          "text": [
            "/usr/local/lib/python3.7/dist-packages/torchvision/models/_utils.py:209: UserWarning: The parameter 'pretrained' is deprecated since 0.13 and will be removed in 0.15, please use 'weights' instead.\n",
            "  f\"The parameter '{pretrained_param}' is deprecated since 0.13 and will be removed in 0.15, \"\n",
            "/usr/local/lib/python3.7/dist-packages/torchvision/models/_utils.py:223: UserWarning: Arguments other than a weight enum or `None` for 'weights' are deprecated since 0.13 and will be removed in 0.15. The current behavior is equivalent to passing `weights=VGG16_Weights.IMAGENET1K_V1`. You can also use `weights=VGG16_Weights.DEFAULT` to get the most up-to-date weights.\n",
            "  warnings.warn(msg)\n"
          ]
        }
      ]
    },
    {
      "cell_type": "code",
      "source": [
        "poolsize = [8]\n",
        "X1, X2 = proc_image(file1), proc_image(file2)\n",
        "print(X1.shape, X2.shape)\n",
        "R = model.bilrp(X1.cuda(),X2.cuda(), poolsize=poolsize, gamma_func=vgg_gamma)"
      ],
      "metadata": {
        "colab": {
          "base_uri": "https://localhost:8080/"
        },
        "id": "4e_2d8hKd8qt",
        "outputId": "2b1c44ee-dd0b-478d-a2ce-53d78d9d1466"
      },
      "execution_count": 19,
      "outputs": [
        {
          "output_type": "stream",
          "name": "stdout",
          "text": [
            "torch.Size([1, 3, 128, 128]) torch.Size([1, 3, 128, 128])\n"
          ]
        }
      ]
    },
    {
      "cell_type": "code",
      "source": [
        "poolsize = [8]\n",
        "X1, X2 = proc_image(file1), proc_image(file2)\n",
        "print(X1.shape, X2.shape)\n",
        "R = model.bilrp(X1.cuda(),X2.cuda(), poolsize=poolsize, gamma_func=vgg_gamma)\n",
        "\n",
        "fname = None\n",
        "clip_func = lambda x: get_alpha(clip(x,clim1=[-0.25,0.25], clim2= [-13,13]), p=2)\n",
        "\n",
        "indices = np.indices(R.shape)\n",
        "inds_all = [(i, R[i[0], i[1], i[2], i[3]]) for i in indices.reshape((4, np.prod(indices.shape[1:]))).T]  \n",
        "\n",
        "plot_relevances(inds_all,img1, img2 ,clip_func, poolsize, fname=fname, curvefac=1.7)\n"
      ],
      "metadata": {
        "colab": {
          "base_uri": "https://localhost:8080/",
          "height": 484
        },
        "id": "ZueKYvfReQJt",
        "outputId": "2f8e9a5d-f4e2-44d1-cdcb-13acf1d8b1fe"
      },
      "execution_count": 20,
      "outputs": [
        {
          "output_type": "stream",
          "name": "stdout",
          "text": [
            "torch.Size([1, 3, 128, 128]) torch.Size([1, 3, 128, 128])\n"
          ]
        },
        {
          "output_type": "display_data",
          "data": {
            "text/plain": [
              "<Figure size 720x576 with 1 Axes>"
            ],
            "image/png": "[encoded data removed]"
          },
          "metadata": {
            "needs_background": "light"
          }
        }
      ]
    },
    {
      "cell_type": "code",
      "source": [
        "import os\n",
        "from IPython.display import Image\n",
        "\n",
        "from ipywidgets import interact, interactive, fixed, interact_manual\n",
        "import ipywidgets as widgets\n",
        "\n",
        "fdir = '/content/BiLRP_explain_similarity/data/'\n",
        "\n",
        "\n",
        "img_file1 = ''\n",
        "\n",
        "def select_image1(ref_image):\n",
        "    global img_file1\n",
        "    img_file1 = ref_image\n",
        "    display(Image(fdir+img_file1))\n",
        "    return ref_image\n",
        "\n",
        "interact(select_image1, ref_image=os.listdir(fdir))\n",
        "\n",
        "\n",
        "@interact\n",
        "def show_images2(file=os.listdir(fdir)):\n",
        "  #  print(fdir+file)\n",
        "    file1 = fdir+img_file1\n",
        "    file2=fdir+file\n",
        "    #return img2\n",
        "    display(Image(file2))\n",
        "\n",
        "    img1, img2 = load_image(file1), load_image(file2)\n",
        "\n",
        "    poolsize = [8]\n",
        "    X1, X2 = proc_image(file1), proc_image(file2)\n",
        "  #  print(X1.shape, X2.shape)\n",
        "    R = model.bilrp(X1.cuda(),X2.cuda(), poolsize=poolsize, gamma_func=vgg_gamma)\n",
        "\n",
        "    fname = None\n",
        "    clip_func = lambda x: get_alpha(clip(x,clim1=[-0.25,0.25], clim2= [-13,13]), p=2)\n",
        "\n",
        "    indices = np.indices(R.shape)\n",
        "    inds_all = [(i, R[i[0], i[1], i[2], i[3]]) for i in indices.reshape((4, np.prod(indices.shape[1:]))).T]  \n",
        "    plot_relevances(inds_all,img1, img2 ,clip_func, poolsize, fname=fname, curvefac=1.7)\n",
        "\n",
        "#report_output = widgets.Output()\n",
        "#display(report_output)"
      ],
      "metadata": {
        "colab": {
          "base_uri": "https://localhost:8080/",
          "height": 804,
          "referenced_widgets": [
            "b1434887e916480ea2b5a7f20f7dbafe",
            "7d6bee15e4514260ab77c102b2b8e069",
            "d6d4113de02a4bda895dcdde2ab99a2c",
            "91dc64047da84547a337fed86c5f15e2",
            "b93894eb7aea41608eecb7024f006997",
            "11e27bef501640d4890ce33fa04164d4",
            "5438e1fc9a094fe6bde3c77e337cab71",
            "74f4a17549c845ad8b540aab3e57c397",
            "e4a1b7e70a3e4439bcd10af3de821d36",
            "ed191fd39b7a4e0c989677e37934e13b",
            "90d3894cff674305bd5990deb9e976ee",
            "cbefdbc725be4bc19b6a184f13a9434c",
            "03c67b0b93434fb9be15a03272731d1d",
            "1ea4cf42e8974ec09b7636f958e388e2"
          ]
        },
        "id": "jU53FxwHRGB6",
        "outputId": "515e1231-a989-4c1e-ffe1-fc77db72f990"
      },
      "execution_count": 135,
      "outputs": [
        {
          "output_type": "display_data",
          "data": {
            "text/plain": [
              "interactive(children=(Dropdown(description='ref_image', options=('0.jpg', '1.jpg'), value='0.jpg'), Output()),…"
            ],
            "application/vnd.jupyter.widget-view+json": {
              "version_major": 2,
              "version_minor": 0,
              "model_id": "b1434887e916480ea2b5a7f20f7dbafe"
            }
          },
          "metadata": {}
        },
        {
          "output_type": "display_data",
          "data": {
            "text/plain": [
              "interactive(children=(Dropdown(description='file', options=('0.jpg', '1.jpg'), value='0.jpg'), Output()), _dom…"
            ],
            "application/vnd.jupyter.widget-view+json": {
              "version_major": 2,
              "version_minor": 0,
              "model_id": "74f4a17549c845ad8b540aab3e57c397"
            }
          },
          "metadata": {}
        }
      ]
    },
    {
      "cell_type": "code",
      "source": [
        "model."
      ],
      "metadata": {
        "colab": {
          "base_uri": "https://localhost:8080/"
        },
        "id": "lStnmDJwaWEv",
        "outputId": "d6f6afc7-34d7-45f6-9397-3d334c03f262"
      },
      "execution_count": 137,
      "outputs": [
        {
          "output_type": "execute_result",
          "data": {
            "text/plain": [
              "128"
            ]
          },
          "metadata": {},
          "execution_count": 137
        }
      ]
    },
    {
      "cell_type": "code",
      "source": [
        "import ipywidgets as widgets\n",
        "from IPython.display import display\n",
        "\n",
        "\n",
        "\n",
        "\n",
        "\n",
        "\n",
        "a = widgets.IntSlider(value=5, min=0, max=10)\n",
        "\n",
        "def f1(a):\n",
        "    display(a)\n",
        "    \n",
        "def f2(a):\n",
        "    display(a * 2)\n",
        "    \n",
        "out1 = widgets.interactive_output(f1, {'a': a})\n",
        "out2 = widgets.interactive_output(f2, {'a': a})\n",
        "\n",
        "display(a)\n",
        "display(out1)\n",
        "display(out2)"
      ],
      "metadata": {
        "colab": {
          "base_uri": "https://localhost:8080/",
          "height": 85,
          "referenced_widgets": [
            "2a663eb76c80496fb15f580c7de95464",
            "1508ecafbc6545ecb36dcaae6db05575",
            "c0636da86d974533b3f0050f69cd1f07",
            "576a1245bf184ddf85877430c8b3d708",
            "99448010232d4c40b806f8f72644fe45",
            "1f48baac6f5741a0a75cafd21f7d2403",
            "6ef0c5b1a1fb4de7bb5468750f4d72cb"
          ]
        },
        "id": "9kVjrvXUbV7P",
        "outputId": "b8a6e363-5db9-44c2-c320-5f392cf524e3"
      },
      "execution_count": 91,
      "outputs": [
        {
          "output_type": "display_data",
          "data": {
            "text/plain": [
              "IntSlider(value=5, max=10)"
            ],
            "application/vnd.jupyter.widget-view+json": {
              "version_major": 2,
              "version_minor": 0,
              "model_id": "2a663eb76c80496fb15f580c7de95464"
            }
          },
          "metadata": {}
        },
        {
          "output_type": "display_data",
          "data": {
            "text/plain": [
              "Output()"
            ],
            "application/vnd.jupyter.widget-view+json": {
              "version_major": 2,
              "version_minor": 0,
              "model_id": "576a1245bf184ddf85877430c8b3d708"
            }
          },
          "metadata": {}
        },
        {
          "output_type": "display_data",
          "data": {
            "text/plain": [
              "Output()"
            ],
            "application/vnd.jupyter.widget-view+json": {
              "version_major": 2,
              "version_minor": 0,
              "model_id": "1f48baac6f5741a0a75cafd21f7d2403"
            }
          },
          "metadata": {}
        }
      ]
    },
    {
      "cell_type": "code",
      "source": [
        "from ipywidgets import interact, interactive, fixed, interact_manual \n",
        "import ipywidgets as widgets\n",
        "\n",
        "myvar = ''\n",
        "\n",
        "def f(Books):\n",
        "    global myvar\n",
        "    myvar = Books\n",
        "    return Books\n",
        "\n",
        "K = interact(f, Books=['a','b','c','d']);"
      ],
      "metadata": {
        "colab": {
          "base_uri": "https://localhost:8080/",
          "height": 67,
          "referenced_widgets": [
            "2f1ca7491c2341eea5fc87a859345d05",
            "1d8533bc35d84e44a4ca4530e474dfad",
            "3a97c79d36dc4a3c9ffab16ca6abde87",
            "df8bdcdc842f4c2f91b30be57efd3752",
            "7ee4d761680a4e0da7a7ac209359adb2",
            "9be047c7f1424d239695aa829137f802",
            "3ccbb2a6fcda4a2e8781ddcf842981d3"
          ]
        },
        "id": "HrabMDBgcot9",
        "outputId": "7b3e1526-b110-45bd-f68a-7c84f001adb1"
      },
      "execution_count": 73,
      "outputs": [
        {
          "output_type": "display_data",
          "data": {
            "text/plain": [
              "interactive(children=(Dropdown(description='Books', options=('a', 'b', 'c', 'd'), value='a'), Output()), _dom_…"
            ],
            "application/vnd.jupyter.widget-view+json": {
              "version_major": 2,
              "version_minor": 0,
              "model_id": "2f1ca7491c2341eea5fc87a859345d05"
            }
          },
          "metadata": {}
        }
      ]
    },
    {
      "cell_type": "code",
      "source": [
        "f.get_interact_value()"
      ],
      "metadata": {
        "colab": {
          "base_uri": "https://localhost:8080/",
          "height": 171
        },
        "id": "8GezFqswd-rj",
        "outputId": "8fd8e4e9-5107-4ba3-ddd7-495ca9b35a85"
      },
      "execution_count": 75,
      "outputs": [
        {
          "output_type": "error",
          "ename": "AttributeError",
          "evalue": "ignored",
          "traceback": [
            "\u001b[0;31m---------------------------------------------------------------------------\u001b[0m",
            "\u001b[0;31mAttributeError\u001b[0m                            Traceback (most recent call last)",
            "\u001b[0;32m<ipython-input-75-cf1f67b758dc>\u001b[0m in \u001b[0;36m<module>\u001b[0;34m()\u001b[0m\n\u001b[0;32m----> 1\u001b[0;31m \u001b[0mf\u001b[0m\u001b[0;34m.\u001b[0m\u001b[0mget_interact_value\u001b[0m\u001b[0;34m(\u001b[0m\u001b[0;34m)\u001b[0m\u001b[0;34m\u001b[0m\u001b[0;34m\u001b[0m\u001b[0m\n\u001b[0m",
            "\u001b[0;31mAttributeError\u001b[0m: 'function' object has no attribute 'get_interact_value'"
          ]
        }
      ]
    },
    {
      "cell_type": "code",
      "source": [
        "import ipywidgets as widgets\n",
        "from IPython.display import display\n",
        "\n",
        "geo={'USA':['CHI','NYC'],'Russia':['MOW','LED']}\n",
        "geoWs = {key: widgets.Select(options=geo[key]) for key in geo}\n",
        "\n",
        "def get_current_state():\n",
        "    return {'country': i.children[0].value,\n",
        "            'city': i.children[1].value}\n",
        "\n",
        "def print_city(**func_kwargs):\n",
        "    print('func_kwargs', func_kwargs)\n",
        "    print('i.kwargs', i.kwargs)\n",
        "    print('get_current_state', get_current_state())\n",
        "\n",
        "def select_country(country):\n",
        "    new_i = widgets.interactive(print_city, country=countryW, city=geoWs[country['new']])\n",
        "    i.children = new_i.children\n",
        "\n",
        "countryW = widgets.Select(options=list(geo.keys()))\n",
        "init = countryW.value\n",
        "cityW = geoWs[init]\n",
        "\n",
        "countryW.observe(select_country, 'value')\n",
        "\n",
        "i = widgets.interactive(print_city, country=countryW, city=cityW)\n",
        "\n",
        "display(i)"
      ],
      "metadata": {
        "colab": {
          "base_uri": "https://localhost:8080/",
          "height": 17,
          "referenced_widgets": [
            "bd78e50ce8b94488be9d1f1915b9ee06",
            "fb0412dd75b945169fe19c168fb13349",
            "5e8311b739504caa96db81a55244798d",
            "ffb40a1f21ba44e1b00efdb036fa306a",
            "1bc394142d77452aa125c6682acc279f",
            "86ac71daab9c40cca549d90af9a0336c",
            "338c66399d364325a521708034ee1725",
            "3cd1a110c36741ffaafc094da92c5a5f",
            "21663d4e59cd427f8dac44a42c438570",
            "c74d2ced97134c488cf0bc419a051180",
            "3db2bf48498f47d181e2045056394c07",
            "31b934973e9c4ed89aa0e4354fe3a244",
            "cfa4267f21ee4c968599088559b1dad3",
            "36dfd64e34a44ad2857af8b5fbda2b67",
            "288f77f9a9cb4f12a96a353ca017ca5c",
            "1ce837bef933437f9b2a589b4f939543",
            "13c1a5e957ed42c4915816a0f0e9b318",
            "cafd9515897643469e467d04aced6383",
            "01a7e98eb329483dbdcabc2aba222273",
            "ca7f47eba9e441978354558469fcf0a8",
            "94acb097e4d74f34be124aab87503184"
          ]
        },
        "id": "GUUkxDeZepwR",
        "outputId": "7829d63a-6703-47c0-f90b-c0f28c51740a"
      },
      "execution_count": 64,
      "outputs": [
        {
          "output_type": "display_data",
          "data": {
            "text/plain": [
              "interactive(children=(Select(description='country', options=('USA', 'Russia'), value='USA'), Select(descriptio…"
            ],
            "application/vnd.jupyter.widget-view+json": {
              "version_major": 2,
              "version_minor": 0,
              "model_id": "bd78e50ce8b94488be9d1f1915b9ee06"
            }
          },
          "metadata": {}
        }
      ]
    },
    {
      "cell_type": "code",
      "source": [
        "display(i)"
      ],
      "metadata": {
        "colab": {
          "base_uri": "https://localhost:8080/",
          "height": 17,
          "referenced_widgets": [
            "bd78e50ce8b94488be9d1f1915b9ee06",
            "fb0412dd75b945169fe19c168fb13349",
            "3db2bf48498f47d181e2045056394c07",
            "31b934973e9c4ed89aa0e4354fe3a244",
            "1bc394142d77452aa125c6682acc279f",
            "86ac71daab9c40cca549d90af9a0336c",
            "338c66399d364325a521708034ee1725",
            "cfa4267f21ee4c968599088559b1dad3",
            "36dfd64e34a44ad2857af8b5fbda2b67",
            "288f77f9a9cb4f12a96a353ca017ca5c",
            "1ce837bef933437f9b2a589b4f939543",
            "13c1a5e957ed42c4915816a0f0e9b318",
            "cafd9515897643469e467d04aced6383",
            "01a7e98eb329483dbdcabc2aba222273",
            "ca7f47eba9e441978354558469fcf0a8",
            "94acb097e4d74f34be124aab87503184"
          ]
        },
        "id": "PjA4bREGe7Oe",
        "outputId": "101e4f1e-3b68-4ff8-9ae1-ee7c0f9ad866"
      },
      "execution_count": 66,
      "outputs": [
        {
          "output_type": "display_data",
          "data": {
            "text/plain": [
              "interactive(children=(Select(description='country', index=1, options=('USA', 'Russia'), value='Russia'), Selec…"
            ],
            "application/vnd.jupyter.widget-view+json": {
              "version_major": 2,
              "version_minor": 0,
              "model_id": "bd78e50ce8b94488be9d1f1915b9ee06"
            }
          },
          "metadata": {}
        }
      ]
    },
    {
      "cell_type": "code",
      "source": [
        "caption = widgets.Label(value='The values of range1 and range2 are synchronized')\n",
        "slider = widgets.IntSlider(min=-5, max=5, value=1, description='Slider')\n",
        "\n",
        "def handle_slider_change(change):\n",
        "    caption.value = 'The slider value is ' + (\n",
        "        'negative' if change.new < 0 else 'nonnegative'\n",
        "    )\n",
        "\n",
        "slider.observe(handle_slider_change, names='value')\n",
        "\n",
        "display(caption, slider)\n"
      ],
      "metadata": {
        "colab": {
          "base_uri": "https://localhost:8080/",
          "height": 79,
          "referenced_widgets": [
            "fbfcdefcfde84ec5b0ccfb5e9c78c0f2",
            "555dddce1961499abd730902b310d887",
            "e760261d3c9448fda8831238344dd23c",
            "6d0260543b574831bfcee7cdf1316fad",
            "89a59f15eeb0448997fb6a6c50fc22b5",
            "9e004b387fd74951bdb1336053c5f35c"
          ]
        },
        "id": "n7SBSZgdgD5U",
        "outputId": "a31efc16-e634-4f81-80ed-d31c2b9ed243"
      },
      "execution_count": 67,
      "outputs": [
        {
          "output_type": "display_data",
          "data": {
            "text/plain": [
              "Label(value='The values of range1 and range2 are synchronized')"
            ],
            "application/vnd.jupyter.widget-view+json": {
              "version_major": 2,
              "version_minor": 0,
              "model_id": "fbfcdefcfde84ec5b0ccfb5e9c78c0f2"
            }
          },
          "metadata": {}
        },
        {
          "output_type": "display_data",
          "data": {
            "text/plain": [
              "IntSlider(value=1, description='Slider', max=5, min=-5)"
            ],
            "application/vnd.jupyter.widget-view+json": {
              "version_major": 2,
              "version_minor": 0,
              "model_id": "6d0260543b574831bfcee7cdf1316fad"
            }
          },
          "metadata": {}
        }
      ]
    },
    {
      "cell_type": "code",
      "source": [
        "slider.get_interact_value()"
      ],
      "metadata": {
        "colab": {
          "base_uri": "https://localhost:8080/"
        },
        "id": "zAFwt5sGgdLG",
        "outputId": "40fd387d-e10c-416e-e660-8d4077c02ea1"
      },
      "execution_count": 72,
      "outputs": [
        {
          "output_type": "execute_result",
          "data": {
            "text/plain": [
              "0"
            ]
          },
          "metadata": {},
          "execution_count": 72
        }
      ]
    },
    {
      "cell_type": "code",
      "source": [
        "image1 = widgets.Image()\n",
        "\n",
        "@interact\n",
        "def image1_(file=os.listdir(fdir)):\n",
        "    print(fdir+file)\n",
        "    img1 = fdir+file\n",
        "    return  display(Image(img1))"
      ],
      "metadata": {
        "colab": {
          "base_uri": "https://localhost:8080/",
          "height": 382,
          "referenced_widgets": [
            "aa67d7d9e2f14a15a602273f88e8a59a",
            "193f7e536e26439ebdbc40bae7bd844c",
            "192373d3b3354ea1a770a37fabdafcfd",
            "5f870c23022d4477b9b85d8cfb24b54f",
            "64d982b18a1b4955b444ad24ee50b27a",
            "793e8e8bac2b4c92828957cc04ea2f4a",
            "f9d0d50d96b94da88cca35a9bbeac247"
          ]
        },
        "id": "v13fcPCrggNH",
        "outputId": "ce636bf6-9af5-4470-cf9a-a7853c24f0c8"
      },
      "execution_count": 90,
      "outputs": [
        {
          "output_type": "display_data",
          "data": {
            "text/plain": [
              "interactive(children=(Dropdown(description='file', options=('0.jpg', '1.jpg'), value='0.jpg'), Output()), _dom…"
            ],
            "application/vnd.jupyter.widget-view+json": {
              "version_major": 2,
              "version_minor": 0,
              "model_id": "aa67d7d9e2f14a15a602273f88e8a59a"
            }
          },
          "metadata": {}
        }
      ]
    },
    {
      "cell_type": "code",
      "source": [
        "%matplotlib inline\n",
        "from ipywidgets import interact, interactive, fixed, interact_manual\n",
        "import ipywidgets as widgets\n",
        "\n",
        "from PIL import Image\n",
        "img = Image.open('/content/BiLRP_explain_similarity/data/1.jpg').convert('L')\n",
        "\n",
        "@interact\n",
        "def binarize(th: (0, 255, 1)):\n",
        "    return img.point(lambda p: 255 if p > th else 0)"
      ],
      "metadata": {
        "colab": {
          "base_uri": "https://localhost:8080/",
          "height": 177,
          "referenced_widgets": [
            "eef5346407e14afd8048df795107c6ef",
            "e45317b9f5b3474fa36930b33b0aa1bc",
            "772a50dfe2ec4c938597b8f22c52be4b",
            "eb4e0241bcb94b888be6eb7befb67de3",
            "a0bacd06def64201a17fc8f9f69885c3",
            "b3003e3a6e8b4ac7a108275916c0eb1f",
            "e4d7eb85cc664539938c85d6ba982ef9"
          ]
        },
        "id": "C83zrDoLhCSS",
        "outputId": "aa195246-bd20-4bd9-cc90-42f43012d690"
      },
      "execution_count": 84,
      "outputs": [
        {
          "output_type": "display_data",
          "data": {
            "text/plain": [
              "interactive(children=(IntSlider(value=127, description='th', max=255), Output()), _dom_classes=('widget-intera…"
            ],
            "application/vnd.jupyter.widget-view+json": {
              "version_major": 2,
              "version_minor": 0,
              "model_id": "eef5346407e14afd8048df795107c6ef"
            }
          },
          "metadata": {}
        }
      ]
    },
    {
      "cell_type": "code",
      "source": [
        "from IPython.display import display\n",
        "ipw = widgets\n",
        "output = ipw.Output()\n",
        "\n",
        "@output.capture()\n",
        "def f(x):\n",
        "    print(x**2)\n",
        "    return x**2\n",
        "\n",
        "a=ipw.IntSlider(min=-10,max=20,step=1,value=10)\n",
        "b=ipw.IntText(min=-10,max=20,step=1,value=10)\n",
        "\n",
        "ipw.jslink((a,'value'),(b,'value'))\n",
        "\n",
        "wid=ipw.interactive(f, x=a)\n",
        "display(wid,b)\n",
        "display(output)"
      ],
      "metadata": {
        "colab": {
          "base_uri": "https://localhost:8080/",
          "height": 278,
          "referenced_widgets": [
            "be3c5fcf47e14579ae8d8dcf62c0474f",
            "b90d9a27e1a5497dae64d56e5f30d643",
            "ff262d327e2c4a619e5bf3b7c0819046",
            "bd8ec1375c314a89981200a78827cec4",
            "d0779c5423f54440a65d17ea4216a09a",
            "2ffd79bf98d64622bc3d5fbbed908461",
            "16c92614db0449ff961ba587420500c6",
            "1ccb0e95b42247b1bfc156126894c80d",
            "6b387457e35c4f53b8a6e19c70452253",
            "f406720f03834657b2bdd20a042cb6b6",
            "d9c0fd4714e24d0e8b555611384313c7",
            "6145501b93b649cda72ceb44c421d4fb"
          ]
        },
        "id": "a_PhzidoiKgS",
        "outputId": "dcb0e607-f012-4509-e657-f3233b54a5d1"
      },
      "execution_count": 100,
      "outputs": [
        {
          "output_type": "display_data",
          "data": {
            "text/plain": [
              "interactive(children=(IntSlider(value=10, description='x', max=20, min=-10), Output()), _dom_classes=('widget-…"
            ],
            "application/vnd.jupyter.widget-view+json": {
              "version_major": 2,
              "version_minor": 0,
              "model_id": "be3c5fcf47e14579ae8d8dcf62c0474f"
            }
          },
          "metadata": {}
        },
        {
          "output_type": "display_data",
          "data": {
            "text/plain": [
              "IntText(value=10)"
            ],
            "application/vnd.jupyter.widget-view+json": {
              "version_major": 2,
              "version_minor": 0,
              "model_id": "1ccb0e95b42247b1bfc156126894c80d"
            }
          },
          "metadata": {}
        },
        {
          "output_type": "display_data",
          "data": {
            "text/plain": [
              "Output()"
            ],
            "application/vnd.jupyter.widget-view+json": {
              "version_major": 2,
              "version_minor": 0,
              "model_id": "d9c0fd4714e24d0e8b555611384313c7"
            }
          },
          "metadata": {}
        }
      ]
    },
    {
      "cell_type": "code",
      "source": [
        "i1 = widgets.Image(file=os.listdir(fdir))\n",
        "i2 = widgets.Image(file=os.listdir(fdir))\n",
        "\n",
        "\n",
        "Image(i1)"
      ],
      "metadata": {
        "colab": {
          "base_uri": "https://localhost:8080/",
          "height": 91
        },
        "id": "QTxX9NNroGd_",
        "outputId": "837e7d04-3643-4efb-d7c3-4c8b88a0bc2d"
      },
      "execution_count": 103,
      "outputs": [
        {
          "output_type": "stream",
          "name": "stderr",
          "text": [
            "/usr/local/lib/python3.7/dist-packages/IPython/core/formatters.py:364: FormatterWarning: image/png formatter returned invalid type <class 'ipywidgets.widgets.widget_media.Image'> (expected (<class 'bytes'>, <class 'str'>)) for object: <IPython.core.display.Image object>\n",
            "  FormatterWarning\n"
          ]
        },
        {
          "output_type": "execute_result",
          "data": {
            "text/plain": [
              "<IPython.core.display.Image object>"
            ]
          },
          "metadata": {},
          "execution_count": 103
        }
      ]
    },
    {
      "cell_type": "code",
      "source": [
        "\n",
        "\n",
        "img_file1 = ''\n",
        "img_file2 = ''\n",
        "\n",
        "def select_image1(image_files):\n",
        "    global img_file1\n",
        "    img_file1 = image_files\n",
        "    return image_files\n",
        "\n",
        "def select_image2(image_files):\n",
        "    global img_file2\n",
        "    img_file2 = image_files\n",
        "    return image_files\n",
        "\n",
        "\n",
        "def proc():\n",
        "\n",
        "  interact(select_image1, image_files=os.listdir(fdir))\n",
        "  interact(select_image2, image_files=os.listdir(fdir))\n",
        "\n",
        "  file1 = fdir+img_file1\n",
        "  file2= fdir+img_file2\n",
        "  #return img2\n",
        "\n",
        "  print('A', file1, file2)\n",
        "  display(Image(file1))\n",
        "  display(Image(file2))\n",
        "\n",
        "  img1, img2 = load_image(file1), load_image(file2)\n",
        "\n",
        "  poolsize = [8]\n",
        "  X1, X2 = proc_image(file1), proc_image(file2)\n",
        "  print(X1.shape, X2.shape)\n",
        "  R = model.bilrp(X1.cuda(),X2.cuda(), poolsize=poolsize, gamma_func=vgg_gamma)\n",
        "\n",
        "  fname = None\n",
        "  clip_func = lambda x: get_alpha(clip(x,clim1=[-0.25,0.25], clim2= [-13,13]), p=2)\n",
        "\n",
        "  indices = np.indices(R.shape)\n",
        "  inds_all = [(i, R[i[0], i[1], i[2], i[3]]) for i in indices.reshape((4, np.prod(indices.shape[1:]))).T]  \n",
        "\n",
        "  plot_relevances(inds_all,img1, img2 ,clip_func, poolsize, fname=fname, curvefac=1.7)\n",
        "\n",
        "\n",
        "proc()\n",
        "\n",
        "\n",
        "print(myvar)"
      ],
      "metadata": {
        "colab": {
          "base_uri": "https://localhost:8080/",
          "height": 1000,
          "referenced_widgets": [
            "168c8fc51528416ab2c2ec923313f675",
            "35ccd5a2e29d4a898a4ebcb9bc471463",
            "f74258743cec489ba36a1a7634365b27",
            "07b5b41106004c319de9293196cc772d",
            "8da21b943430428482885c7ffe78d7d7",
            "40ec88812614431c8ae1d3ba5bc18e3a",
            "03c0996dc1f04d01bc5c80f55f215ea0",
            "5559aa1fdcd24a0fb770937e7835d213",
            "686d9c01c0ed4eb2ab0ecfb86a72a4e1",
            "4d78e8666643443eb8eb1f4344c720b4",
            "84e347b7e0e942229d19d373df4de827",
            "9b16ab2e033d449e9212f4981dafdb07",
            "9a132ca4ab0c45ee9dfc3636725c4aac",
            "fab9149220034330931462990dfb004d",
            "f8c684f09be34758aa23359f59485a45",
            "b3fe643159e546e9b917151e6073d868",
            "faebaa5e1bfa4baf91903b658f69f35b",
            "a142f74b0ad04369bdf059622d7d3ec5",
            "ba6c990cc5e54ecca52387c553ec4d09",
            "f9e38ddbbafa4e0fb428bf0ae42594cb",
            "d5448a30536e4d1bbfb04abd7770808d",
            "de9ab53f0a7e4521bcd65171c0ccefac",
            "38d82386dbfa49908a433d6814494f98",
            "5cf6876a55c645dba705f26e24d00d82",
            "925d88aac102405dbd72f4bbcd51c325",
            "4a209973766640ce97e1baa89009c59d",
            "fd68121e282642729b9562a0db514bf3",
            "c3ee98a9d98a49be9e85fa6d4bdb4d66",
            "57b7e4b0fcb6417a9cfa1d342c43a179",
            "8a7ca386d76d47d5a15268049c4f0a33",
            "605c4c17374d470298e41a428e7129c7",
            "2d73bd93b0ef4a348f58ac8b2f24af9e"
          ]
        },
        "id": "tVYZ62ROojEt",
        "outputId": "9316b014-e34b-4a80-bee0-e8c60be5bff8"
      },
      "execution_count": 120,
      "outputs": [
        {
          "output_type": "display_data",
          "data": {
            "text/plain": [
              "interactive(children=(Output(),), _dom_classes=('widget-interact',))"
            ],
            "application/vnd.jupyter.widget-view+json": {
              "version_major": 2,
              "version_minor": 0,
              "model_id": "168c8fc51528416ab2c2ec923313f675"
            }
          },
          "metadata": {}
        },
        {
          "output_type": "display_data",
          "data": {
            "text/plain": [
              "interactive(children=(Dropdown(description='image_files', options=('0.jpg', '1.jpg'), value='0.jpg'), Output()…"
            ],
            "application/vnd.jupyter.widget-view+json": {
              "version_major": 2,
              "version_minor": 0,
              "model_id": "ba6c990cc5e54ecca52387c553ec4d09"
            }
          },
          "metadata": {}
        },
        {
          "output_type": "display_data",
          "data": {
            "text/plain": [
              "interactive(children=(Dropdown(description='image_files', options=('0.jpg', '1.jpg'), value='0.jpg'), Output()…"
            ],
            "application/vnd.jupyter.widget-view+json": {
              "version_major": 2,
              "version_minor": 0,
              "model_id": "4a209973766640ce97e1baa89009c59d"
            }
          },
          "metadata": {}
        },
        {
          "output_type": "stream",
          "name": "stdout",
          "text": [
            "A /content/BiLRP_explain_similarity/data/0.jpg /content/BiLRP_explain_similarity/data/0.jpg\n"
          ]
        },
        {
          "output_type": "display_data",
          "data": {
            "text/plain": [
              "<IPython.core.display.Image object>"
            ],
            "image/jpeg": "[encoded data removed]"
          },
          "metadata": {}
        },
        {
          "output_type": "display_data",
          "data": {
            "text/plain": [
              "<IPython.core.display.Image object>"
            ],
            "image/jpeg": "[encoded data removed]"
          },
          "metadata": {}
        },
        {
          "output_type": "stream",
          "name": "stdout",
          "text": [
            "torch.Size([1, 3, 128, 128]) torch.Size([1, 3, 128, 128])\n"
          ]
        },
        {
          "output_type": "display_data",
          "data": {
            "text/plain": [
              "<Figure size 720x576 with 1 Axes>"
            ],
            "image/png": "[encoded data removed]"
          },
          "metadata": {
            "needs_background": "light"
          }
        },
        {
          "output_type": "stream",
          "name": "stdout",
          "text": [
            "0.jpg\n"
          ]
        }
      ]
    },
    {
      "cell_type": "code",
      "source": [
        "\n",
        "import os\n",
        "from IPython.display import Image\n",
        "\n",
        "from ipywidgets import interact, interactive, fixed, interact_manual\n",
        "import ipywidgets as widgets\n",
        "\n",
        "fdir = '/content/BiLRP_explain_similarity/data/'\n",
        "\n",
        "\n",
        "img_file1 = ''\n",
        "\n",
        "def select_image1(image_files):\n",
        "    global img_file1\n",
        "    img_file1 = image_files\n",
        "    return image_files\n",
        "\n",
        "\n",
        "@interact\n",
        "def show_images2(file=os.listdir(fdir)):\n",
        "    print(fdir+file)\n",
        "\n",
        "    interact(select_image1, image_files=os.listdir(fdir))\n",
        "\n",
        "    file1 = fdir+ img_file1\n",
        "    file2= fdir+file\n",
        "    #return img2\n",
        "  #  print(file1,file2)\n",
        "    display(Image(file1))\n",
        "\n",
        "    img1, img2 = load_image(file1), load_image(file2)\n",
        "\n",
        "    poolsize = [8]\n",
        "    X1, X2 = proc_image(file1), proc_image(file2)\n",
        "    print(X1.shape, X2.shape)\n",
        "    R = model.bilrp(X1.cuda(),X2.cuda(), poolsize=poolsize, gamma_func=vgg_gamma)\n",
        "\n",
        "    fname = None\n",
        "    clip_func = lambda x: get_alpha(clip(x,clim1=[-0.25,0.25], clim2= [-13,13]), p=2)\n",
        "\n",
        "    indices = np.indices(R.shape)\n",
        "    inds_all = [(i, R[i[0], i[1], i[2], i[3]]) for i in indices.reshape((4, np.prod(indices.shape[1:]))).T]  \n",
        "\n",
        "    plot_relevances(inds_all,img1, img2 ,clip_func, poolsize, fname=fname, curvefac=1.7)\n",
        "\n",
        "\n",
        "report_output = widgets.Output()\n",
        "display(report_output)"
      ],
      "metadata": {
        "colab": {
          "base_uri": "https://localhost:8080/",
          "height": 243
        },
        "id": "oRLSmcoerd1N",
        "outputId": "9e6e3430-5e20-48a1-d2fd-597a3597acd8"
      },
      "execution_count": 2,
      "outputs": [
        {
          "output_type": "error",
          "ename": "FileNotFoundError",
          "evalue": "ignored",
          "traceback": [
            "\u001b[0;31m---------------------------------------------------------------------------\u001b[0m",
            "\u001b[0;31mFileNotFoundError\u001b[0m                         Traceback (most recent call last)",
            "\u001b[0;32m<ipython-input-2-72deb05d49ec>\u001b[0m in \u001b[0;36m<module>\u001b[0;34m()\u001b[0m\n\u001b[1;32m     18\u001b[0m \u001b[0;34m\u001b[0m\u001b[0m\n\u001b[1;32m     19\u001b[0m \u001b[0;34m@\u001b[0m\u001b[0minteract\u001b[0m\u001b[0;34m\u001b[0m\u001b[0;34m\u001b[0m\u001b[0m\n\u001b[0;32m---> 20\u001b[0;31m \u001b[0;32mdef\u001b[0m \u001b[0mshow_images2\u001b[0m\u001b[0;34m(\u001b[0m\u001b[0mfile\u001b[0m\u001b[0;34m=\u001b[0m\u001b[0mos\u001b[0m\u001b[0;34m.\u001b[0m\u001b[0mlistdir\u001b[0m\u001b[0;34m(\u001b[0m\u001b[0mfdir\u001b[0m\u001b[0;34m)\u001b[0m\u001b[0;34m)\u001b[0m\u001b[0;34m:\u001b[0m\u001b[0;34m\u001b[0m\u001b[0;34m\u001b[0m\u001b[0m\n\u001b[0m\u001b[1;32m     21\u001b[0m     \u001b[0mprint\u001b[0m\u001b[0;34m(\u001b[0m\u001b[0mfdir\u001b[0m\u001b[0;34m+\u001b[0m\u001b[0mfile\u001b[0m\u001b[0;34m)\u001b[0m\u001b[0;34m\u001b[0m\u001b[0;34m\u001b[0m\u001b[0m\n\u001b[1;32m     22\u001b[0m \u001b[0;34m\u001b[0m\u001b[0m\n",
            "\u001b[0;31mFileNotFoundError\u001b[0m: [Errno 2] No such file or directory: '/content/BiLRP_explain_similarity/data/'"
          ]
        }
      ]
    },
    {
      "cell_type": "code",
      "source": [
        ""
      ],
      "metadata": {
        "id": "-lnvBtbrrvI2"
      },
      "execution_count": null,
      "outputs": []
    }
  ]
}